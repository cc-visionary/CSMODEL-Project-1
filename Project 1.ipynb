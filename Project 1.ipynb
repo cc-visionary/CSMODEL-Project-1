{
 "cells": [
  {
   "cell_type": "code",
   "execution_count": 3,
   "source": [
    "import pandas as pd\r\n",
    "import numpy as np\r\n",
    "import matplotlib.pyplot as plt\r\n",
    "import seaborn as sns\r\n",
    "import re\r\n",
    "import requests\r\n",
    "\r\n",
    "from datetime import date, datetime"
   ],
   "outputs": [],
   "metadata": {
    "ExecuteTime": {
     "end_time": "2021-08-03T10:58:55.218003Z",
     "start_time": "2021-08-03T10:58:53.010138Z"
    }
   }
  },
  {
   "cell_type": "markdown",
   "source": [
    "## Dataset Representation\n",
    "### CSMODELT3AY2021\n",
    "In this section of the notebook, you must fulfill the following:\n",
    "- State a brief description of the dataset.\n",
    "- Provide  a  description  of  the  collection  process  executed  to  build  the  dataset. Discuss  the  implications  of  the  data  collection  method  on  the  generated conclusions and insights. Note that you may need to look at the relevant sources related to the dataset to be able to provide the necessary information for this part of the project.\n",
    "- Describe the structure of the dataset file. In the dataset file, what does each row and  column  represent?  How many observations  are  there  in  the  dataset? How many variables are there in the dataset? If thedataset is composed of different files  that  you  will  combine  in  the  succeeding  steps,  you  need  to  describe  the structure and the contents of each file.\n",
    "- Discuss the variables in each dataset file. What does each variable represent? In this section, all variables, even those which are not used for the study, should be described to the reader. The purpose of each variable in the dataset should be clear to the reader of the notebook without having to go through an external link."
   ],
   "metadata": {}
  },
  {
   "cell_type": "markdown",
   "source": [
    "### Brief Description of the Dataset\n",
    "The dataset contains 30 years (1990-2020) worth of data collected by the World Food Programme (WFP) from 99 different countries which contains the Global Commodity Prices. The data includes information on country, city, market, price of good in local currency, quantity of good, and month and year recorded."
   ],
   "metadata": {}
  },
  {
   "cell_type": "markdown",
   "source": [
    "### Collection Process\n",
    "** insert here **"
   ],
   "metadata": {}
  },
  {
   "cell_type": "markdown",
   "source": [
    "Source: https://www.kaggle.com/salehahmedrony/global-food-prices"
   ],
   "metadata": {}
  },
  {
   "cell_type": "code",
   "execution_count": 4,
   "source": [
    "df = pd.read_csv('wfp_commodity_prices_database.csv', low_memory=False)"
   ],
   "outputs": [],
   "metadata": {
    "ExecuteTime": {
     "end_time": "2021-08-03T10:58:59.257774Z",
     "start_time": "2021-08-03T10:58:55.220992Z"
    }
   }
  },
  {
   "cell_type": "code",
   "execution_count": 5,
   "source": [
    "df.head()"
   ],
   "outputs": [
    {
     "output_type": "execute_result",
     "data": {
      "text/plain": [
       "   adm0_id    adm0_name  adm1_id   adm1_name  mkt_id  mkt_name  cm_id  \\\n",
       "0      1.0  Afghanistan      272  Badakhshan     266  Fayzabad     55   \n",
       "1      1.0  Afghanistan      272  Badakhshan     266  Fayzabad     55   \n",
       "2      1.0  Afghanistan      272  Badakhshan     266  Fayzabad     55   \n",
       "3      1.0  Afghanistan      272  Badakhshan     266  Fayzabad     55   \n",
       "4      1.0  Afghanistan      272  Badakhshan     266  Fayzabad     55   \n",
       "\n",
       "          cm_name  cur_id cur_name  pt_id pt_name  um_id um_name  mp_month  \\\n",
       "0  Bread - Retail     0.0      AFN     15  Retail      5      KG         1   \n",
       "1  Bread - Retail     0.0      AFN     15  Retail      5      KG         2   \n",
       "2  Bread - Retail     0.0      AFN     15  Retail      5      KG         3   \n",
       "3  Bread - Retail     0.0      AFN     15  Retail      5      KG         4   \n",
       "4  Bread - Retail     0.0      AFN     15  Retail      5      KG         5   \n",
       "\n",
       "   mp_year  mp_price  mp_commoditysource  \n",
       "0     2014      50.0                 NaN  \n",
       "1     2014      50.0                 NaN  \n",
       "2     2014      50.0                 NaN  \n",
       "3     2014      50.0                 NaN  \n",
       "4     2014      50.0                 NaN  "
      ],
      "text/html": [
       "<div>\n",
       "<style scoped>\n",
       "    .dataframe tbody tr th:only-of-type {\n",
       "        vertical-align: middle;\n",
       "    }\n",
       "\n",
       "    .dataframe tbody tr th {\n",
       "        vertical-align: top;\n",
       "    }\n",
       "\n",
       "    .dataframe thead th {\n",
       "        text-align: right;\n",
       "    }\n",
       "</style>\n",
       "<table border=\"1\" class=\"dataframe\">\n",
       "  <thead>\n",
       "    <tr style=\"text-align: right;\">\n",
       "      <th></th>\n",
       "      <th>adm0_id</th>\n",
       "      <th>adm0_name</th>\n",
       "      <th>adm1_id</th>\n",
       "      <th>adm1_name</th>\n",
       "      <th>mkt_id</th>\n",
       "      <th>mkt_name</th>\n",
       "      <th>cm_id</th>\n",
       "      <th>cm_name</th>\n",
       "      <th>cur_id</th>\n",
       "      <th>cur_name</th>\n",
       "      <th>pt_id</th>\n",
       "      <th>pt_name</th>\n",
       "      <th>um_id</th>\n",
       "      <th>um_name</th>\n",
       "      <th>mp_month</th>\n",
       "      <th>mp_year</th>\n",
       "      <th>mp_price</th>\n",
       "      <th>mp_commoditysource</th>\n",
       "    </tr>\n",
       "  </thead>\n",
       "  <tbody>\n",
       "    <tr>\n",
       "      <th>0</th>\n",
       "      <td>1.0</td>\n",
       "      <td>Afghanistan</td>\n",
       "      <td>272</td>\n",
       "      <td>Badakhshan</td>\n",
       "      <td>266</td>\n",
       "      <td>Fayzabad</td>\n",
       "      <td>55</td>\n",
       "      <td>Bread - Retail</td>\n",
       "      <td>0.0</td>\n",
       "      <td>AFN</td>\n",
       "      <td>15</td>\n",
       "      <td>Retail</td>\n",
       "      <td>5</td>\n",
       "      <td>KG</td>\n",
       "      <td>1</td>\n",
       "      <td>2014</td>\n",
       "      <td>50.0</td>\n",
       "      <td>NaN</td>\n",
       "    </tr>\n",
       "    <tr>\n",
       "      <th>1</th>\n",
       "      <td>1.0</td>\n",
       "      <td>Afghanistan</td>\n",
       "      <td>272</td>\n",
       "      <td>Badakhshan</td>\n",
       "      <td>266</td>\n",
       "      <td>Fayzabad</td>\n",
       "      <td>55</td>\n",
       "      <td>Bread - Retail</td>\n",
       "      <td>0.0</td>\n",
       "      <td>AFN</td>\n",
       "      <td>15</td>\n",
       "      <td>Retail</td>\n",
       "      <td>5</td>\n",
       "      <td>KG</td>\n",
       "      <td>2</td>\n",
       "      <td>2014</td>\n",
       "      <td>50.0</td>\n",
       "      <td>NaN</td>\n",
       "    </tr>\n",
       "    <tr>\n",
       "      <th>2</th>\n",
       "      <td>1.0</td>\n",
       "      <td>Afghanistan</td>\n",
       "      <td>272</td>\n",
       "      <td>Badakhshan</td>\n",
       "      <td>266</td>\n",
       "      <td>Fayzabad</td>\n",
       "      <td>55</td>\n",
       "      <td>Bread - Retail</td>\n",
       "      <td>0.0</td>\n",
       "      <td>AFN</td>\n",
       "      <td>15</td>\n",
       "      <td>Retail</td>\n",
       "      <td>5</td>\n",
       "      <td>KG</td>\n",
       "      <td>3</td>\n",
       "      <td>2014</td>\n",
       "      <td>50.0</td>\n",
       "      <td>NaN</td>\n",
       "    </tr>\n",
       "    <tr>\n",
       "      <th>3</th>\n",
       "      <td>1.0</td>\n",
       "      <td>Afghanistan</td>\n",
       "      <td>272</td>\n",
       "      <td>Badakhshan</td>\n",
       "      <td>266</td>\n",
       "      <td>Fayzabad</td>\n",
       "      <td>55</td>\n",
       "      <td>Bread - Retail</td>\n",
       "      <td>0.0</td>\n",
       "      <td>AFN</td>\n",
       "      <td>15</td>\n",
       "      <td>Retail</td>\n",
       "      <td>5</td>\n",
       "      <td>KG</td>\n",
       "      <td>4</td>\n",
       "      <td>2014</td>\n",
       "      <td>50.0</td>\n",
       "      <td>NaN</td>\n",
       "    </tr>\n",
       "    <tr>\n",
       "      <th>4</th>\n",
       "      <td>1.0</td>\n",
       "      <td>Afghanistan</td>\n",
       "      <td>272</td>\n",
       "      <td>Badakhshan</td>\n",
       "      <td>266</td>\n",
       "      <td>Fayzabad</td>\n",
       "      <td>55</td>\n",
       "      <td>Bread - Retail</td>\n",
       "      <td>0.0</td>\n",
       "      <td>AFN</td>\n",
       "      <td>15</td>\n",
       "      <td>Retail</td>\n",
       "      <td>5</td>\n",
       "      <td>KG</td>\n",
       "      <td>5</td>\n",
       "      <td>2014</td>\n",
       "      <td>50.0</td>\n",
       "      <td>NaN</td>\n",
       "    </tr>\n",
       "  </tbody>\n",
       "</table>\n",
       "</div>"
      ]
     },
     "metadata": {},
     "execution_count": 5
    }
   ],
   "metadata": {
    "ExecuteTime": {
     "end_time": "2021-08-03T10:58:59.303650Z",
     "start_time": "2021-08-03T10:58:59.260765Z"
    }
   }
  },
  {
   "cell_type": "markdown",
   "source": [
    "### Structure of the Dataset\n",
    "The dataset contains one spreadsheet detailing the history of commodity prices in different countries that dates as far back as 1992 (for some contries) up until 2020. Every column in the dataset pertains to the different variables in each record which contains but is not limited to: the name of the commodity being purchased, the year in which was it purchased, the amount that was purchased, the year that it was purchased, etc. Every row contains a record of a purchase in a specific country and on a specific year."
   ],
   "metadata": {}
  },
  {
   "cell_type": "code",
   "execution_count": 6,
   "source": [
    "df.columns"
   ],
   "outputs": [
    {
     "output_type": "execute_result",
     "data": {
      "text/plain": [
       "Index(['adm0_id', 'adm0_name', 'adm1_id', 'adm1_name', 'mkt_id', 'mkt_name',\n",
       "       'cm_id', 'cm_name', 'cur_id', 'cur_name', 'pt_id', 'pt_name', 'um_id',\n",
       "       'um_name', 'mp_month', 'mp_year', 'mp_price', 'mp_commoditysource'],\n",
       "      dtype='object')"
      ]
     },
     "metadata": {},
     "execution_count": 6
    }
   ],
   "metadata": {
    "ExecuteTime": {
     "end_time": "2021-08-03T10:58:59.319609Z",
     "start_time": "2021-08-03T10:58:59.305647Z"
    }
   }
  },
  {
   "cell_type": "code",
   "execution_count": 7,
   "source": [
    "df.info()"
   ],
   "outputs": [
    {
     "output_type": "stream",
     "name": "stdout",
     "text": [
      "<class 'pandas.core.frame.DataFrame'>\n",
      "RangeIndex: 1560551 entries, 0 to 1560550\n",
      "Data columns (total 18 columns):\n",
      " #   Column              Non-Null Count    Dtype  \n",
      "---  ------              --------------    -----  \n",
      " 0   adm0_id             1560551 non-null  float64\n",
      " 1   adm0_name           1560551 non-null  object \n",
      " 2   adm1_id             1560551 non-null  int64  \n",
      " 3   adm1_name           1089223 non-null  object \n",
      " 4   mkt_id              1560551 non-null  int64  \n",
      " 5   mkt_name            1560551 non-null  object \n",
      " 6   cm_id               1560551 non-null  int64  \n",
      " 7   cm_name             1560551 non-null  object \n",
      " 8   cur_id              1560551 non-null  float64\n",
      " 9   cur_name            1560551 non-null  object \n",
      " 10  pt_id               1560551 non-null  int64  \n",
      " 11  pt_name             1560551 non-null  object \n",
      " 12  um_id               1560551 non-null  int64  \n",
      " 13  um_name             1560551 non-null  object \n",
      " 14  mp_month            1560551 non-null  int64  \n",
      " 15  mp_year             1560551 non-null  int64  \n",
      " 16  mp_price            1560551 non-null  float64\n",
      " 17  mp_commoditysource  0 non-null        float64\n",
      "dtypes: float64(4), int64(7), object(7)\n",
      "memory usage: 214.3+ MB\n"
     ]
    }
   ],
   "metadata": {
    "ExecuteTime": {
     "end_time": "2021-08-03T10:58:59.850215Z",
     "start_time": "2021-08-03T10:58:59.324596Z"
    }
   }
  },
  {
   "cell_type": "markdown",
   "source": [
    "### Variables of the Dataset\n",
    "There are 18 unique variables in the dataset with 1560551 entries.\n",
    "The variables in the dataset are as follows:\n",
    "\n",
    "| Column Name        | Full Name                          | Definition        |\n",
    "| ------------------ | ---------                          | ----------------- |\n",
    "| adm0_id            | country id                         | The numerical ID that pertains to the country. |\n",
    "| adm0_name          | country name                       | The name of the country. |\n",
    "| adm1_id            | locality id                        | A numeric code that identifies an area in a country. |\n",
    "| adm1_name          | locality name                      | A name of a town/city of a certain area ina  country. |\n",
    "| mkt_id             | market id                          | A numerical code that corresponds to the market name. |\n",
    "| mkt_name           | market name                        | The area/name of the market that the commodity was purchased in. |\n",
    "| cm_id              | commodity purchase id              | A numeric code that pertains to the purchased commodity. |\n",
    "| cm_name            | commodity purchased                | The name pertaining to the purchased commodity.  |\n",
    "| cur_id             | currency  id                       | A numeric code that pertains to the currency of the country. |\n",
    "| cur_name           | name of the currency               | The name of the currency used to purchase the commodity. |\n",
    "| pt_id              | market type id                     | The numerical code that pertains to the type of market the product was bought in. |\n",
    "| pt_name            | market type                        | The type of market the commodity was bought in. Can be one of these four market types: Retail, Wholesale, Producer or Farm Gate. |\n",
    "| um_id              | measurement id                     | The number of goods that was purhca |\n",
    "| um_name            | unit of goods measurement          | The unit of measurement used to measure the commodity. |\n",
    "| mp_month           | month recorded                     | A number pertaining to the month the commodity was bought. |\n",
    "| mp_year            | year recorded                      | The year in which the record was taken. |\n",
    "| mp_price           | price paid                         | The price (in the country's currency) paid for the commodity. |\n",
    "| mp_commoditysource | source supplying price information | The source of the commodity price. |"
   ],
   "metadata": {}
  },
  {
   "cell_type": "markdown",
   "source": [
    "## Data Cleaning\n",
    "For each used variable, check for the following and, if needed, perform data cleaning:\n",
    "- There are multiple representations of the same categorical value\n",
    "- The datatype of the variable is incorrect.\n",
    "- Some values are set to default values of the variable.\n",
    "- There are missing data.\n",
    "- There are duplicate data.\n",
    "- The formatting of the values is inconsistent.  \n",
    "\n",
    "**Note**: No need to clean all variables. Clean only the variables utilized in the study."
   ],
   "metadata": {}
  },
  {
   "cell_type": "markdown",
   "source": [
    "### Filter the country to only Philippines"
   ],
   "metadata": {}
  },
  {
   "cell_type": "code",
   "execution_count": 8,
   "source": [
    "ph_df = df[df['adm0_name'] == 'Philippines'].reset_index()\r\n",
    "ph_df.head()"
   ],
   "outputs": [
    {
     "output_type": "execute_result",
     "data": {
      "text/plain": [
       "     index  adm0_id    adm0_name  adm1_id  \\\n",
       "0  1042823    196.0  Philippines     2354   \n",
       "1  1042824    196.0  Philippines     2354   \n",
       "2  1042825    196.0  Philippines     2354   \n",
       "3  1042826    196.0  Philippines     2354   \n",
       "4  1042827    196.0  Philippines     2354   \n",
       "\n",
       "                                adm1_name  mkt_id     mkt_name  cm_id  \\\n",
       "0  Cordillera Administrative region (CAR)     168  La Trinidad     80   \n",
       "1  Cordillera Administrative region (CAR)     168  La Trinidad     80   \n",
       "2  Cordillera Administrative region (CAR)     168  La Trinidad     80   \n",
       "3  Cordillera Administrative region (CAR)     168  La Trinidad     80   \n",
       "4  Cordillera Administrative region (CAR)     168  La Trinidad     80   \n",
       "\n",
       "                              cm_name  cur_id cur_name  pt_id    pt_name  \\\n",
       "0  Rice (regular, milled) - Wholesale     0.0      PHP     14  Wholesale   \n",
       "1     Rice (regular, milled) - Retail     0.0      PHP     15     Retail   \n",
       "2     Rice (regular, milled) - Retail     0.0      PHP     15     Retail   \n",
       "3     Rice (regular, milled) - Retail     0.0      PHP     15     Retail   \n",
       "4     Rice (regular, milled) - Retail     0.0      PHP     15     Retail   \n",
       "\n",
       "   um_id um_name  mp_month  mp_year  mp_price  mp_commoditysource  \n",
       "0      5      KG         4     2019     34.12                 NaN  \n",
       "1      5      KG         1     2010     29.20                 NaN  \n",
       "2      5      KG         2     2010     30.00                 NaN  \n",
       "3      5      KG         3     2010     30.00                 NaN  \n",
       "4      5      KG         4     2010     30.00                 NaN  "
      ],
      "text/html": [
       "<div>\n",
       "<style scoped>\n",
       "    .dataframe tbody tr th:only-of-type {\n",
       "        vertical-align: middle;\n",
       "    }\n",
       "\n",
       "    .dataframe tbody tr th {\n",
       "        vertical-align: top;\n",
       "    }\n",
       "\n",
       "    .dataframe thead th {\n",
       "        text-align: right;\n",
       "    }\n",
       "</style>\n",
       "<table border=\"1\" class=\"dataframe\">\n",
       "  <thead>\n",
       "    <tr style=\"text-align: right;\">\n",
       "      <th></th>\n",
       "      <th>index</th>\n",
       "      <th>adm0_id</th>\n",
       "      <th>adm0_name</th>\n",
       "      <th>adm1_id</th>\n",
       "      <th>adm1_name</th>\n",
       "      <th>mkt_id</th>\n",
       "      <th>mkt_name</th>\n",
       "      <th>cm_id</th>\n",
       "      <th>cm_name</th>\n",
       "      <th>cur_id</th>\n",
       "      <th>cur_name</th>\n",
       "      <th>pt_id</th>\n",
       "      <th>pt_name</th>\n",
       "      <th>um_id</th>\n",
       "      <th>um_name</th>\n",
       "      <th>mp_month</th>\n",
       "      <th>mp_year</th>\n",
       "      <th>mp_price</th>\n",
       "      <th>mp_commoditysource</th>\n",
       "    </tr>\n",
       "  </thead>\n",
       "  <tbody>\n",
       "    <tr>\n",
       "      <th>0</th>\n",
       "      <td>1042823</td>\n",
       "      <td>196.0</td>\n",
       "      <td>Philippines</td>\n",
       "      <td>2354</td>\n",
       "      <td>Cordillera Administrative region (CAR)</td>\n",
       "      <td>168</td>\n",
       "      <td>La Trinidad</td>\n",
       "      <td>80</td>\n",
       "      <td>Rice (regular, milled) - Wholesale</td>\n",
       "      <td>0.0</td>\n",
       "      <td>PHP</td>\n",
       "      <td>14</td>\n",
       "      <td>Wholesale</td>\n",
       "      <td>5</td>\n",
       "      <td>KG</td>\n",
       "      <td>4</td>\n",
       "      <td>2019</td>\n",
       "      <td>34.12</td>\n",
       "      <td>NaN</td>\n",
       "    </tr>\n",
       "    <tr>\n",
       "      <th>1</th>\n",
       "      <td>1042824</td>\n",
       "      <td>196.0</td>\n",
       "      <td>Philippines</td>\n",
       "      <td>2354</td>\n",
       "      <td>Cordillera Administrative region (CAR)</td>\n",
       "      <td>168</td>\n",
       "      <td>La Trinidad</td>\n",
       "      <td>80</td>\n",
       "      <td>Rice (regular, milled) - Retail</td>\n",
       "      <td>0.0</td>\n",
       "      <td>PHP</td>\n",
       "      <td>15</td>\n",
       "      <td>Retail</td>\n",
       "      <td>5</td>\n",
       "      <td>KG</td>\n",
       "      <td>1</td>\n",
       "      <td>2010</td>\n",
       "      <td>29.20</td>\n",
       "      <td>NaN</td>\n",
       "    </tr>\n",
       "    <tr>\n",
       "      <th>2</th>\n",
       "      <td>1042825</td>\n",
       "      <td>196.0</td>\n",
       "      <td>Philippines</td>\n",
       "      <td>2354</td>\n",
       "      <td>Cordillera Administrative region (CAR)</td>\n",
       "      <td>168</td>\n",
       "      <td>La Trinidad</td>\n",
       "      <td>80</td>\n",
       "      <td>Rice (regular, milled) - Retail</td>\n",
       "      <td>0.0</td>\n",
       "      <td>PHP</td>\n",
       "      <td>15</td>\n",
       "      <td>Retail</td>\n",
       "      <td>5</td>\n",
       "      <td>KG</td>\n",
       "      <td>2</td>\n",
       "      <td>2010</td>\n",
       "      <td>30.00</td>\n",
       "      <td>NaN</td>\n",
       "    </tr>\n",
       "    <tr>\n",
       "      <th>3</th>\n",
       "      <td>1042826</td>\n",
       "      <td>196.0</td>\n",
       "      <td>Philippines</td>\n",
       "      <td>2354</td>\n",
       "      <td>Cordillera Administrative region (CAR)</td>\n",
       "      <td>168</td>\n",
       "      <td>La Trinidad</td>\n",
       "      <td>80</td>\n",
       "      <td>Rice (regular, milled) - Retail</td>\n",
       "      <td>0.0</td>\n",
       "      <td>PHP</td>\n",
       "      <td>15</td>\n",
       "      <td>Retail</td>\n",
       "      <td>5</td>\n",
       "      <td>KG</td>\n",
       "      <td>3</td>\n",
       "      <td>2010</td>\n",
       "      <td>30.00</td>\n",
       "      <td>NaN</td>\n",
       "    </tr>\n",
       "    <tr>\n",
       "      <th>4</th>\n",
       "      <td>1042827</td>\n",
       "      <td>196.0</td>\n",
       "      <td>Philippines</td>\n",
       "      <td>2354</td>\n",
       "      <td>Cordillera Administrative region (CAR)</td>\n",
       "      <td>168</td>\n",
       "      <td>La Trinidad</td>\n",
       "      <td>80</td>\n",
       "      <td>Rice (regular, milled) - Retail</td>\n",
       "      <td>0.0</td>\n",
       "      <td>PHP</td>\n",
       "      <td>15</td>\n",
       "      <td>Retail</td>\n",
       "      <td>5</td>\n",
       "      <td>KG</td>\n",
       "      <td>4</td>\n",
       "      <td>2010</td>\n",
       "      <td>30.00</td>\n",
       "      <td>NaN</td>\n",
       "    </tr>\n",
       "  </tbody>\n",
       "</table>\n",
       "</div>"
      ]
     },
     "metadata": {},
     "execution_count": 8
    }
   ],
   "metadata": {
    "ExecuteTime": {
     "end_time": "2021-08-03T10:58:59.985870Z",
     "start_time": "2021-08-03T10:58:59.855179Z"
    },
    "scrolled": true
   }
  },
  {
   "cell_type": "markdown",
   "source": [
    "### Dropping id columns which will not be used in the dataset"
   ],
   "metadata": {}
  },
  {
   "cell_type": "code",
   "execution_count": 9,
   "source": [
    "id_columns = ['index', 'adm0_id', 'adm1_id', 'mkt_id', 'cm_id', 'cur_id', 'pt_id', 'um_id']\r\n",
    "ph_df = ph_df.drop(id_columns, axis=1)"
   ],
   "outputs": [],
   "metadata": {
    "ExecuteTime": {
     "end_time": "2021-08-03T10:59:00.016746Z",
     "start_time": "2021-08-03T10:58:59.989816Z"
    },
    "scrolled": true
   }
  },
  {
   "cell_type": "markdown",
   "source": [
    "### Check each column if their values are valid"
   ],
   "metadata": {}
  },
  {
   "cell_type": "code",
   "execution_count": 10,
   "source": [
    "ph_df['adm0_name'].unique()"
   ],
   "outputs": [
    {
     "output_type": "execute_result",
     "data": {
      "text/plain": [
       "array(['Philippines'], dtype=object)"
      ]
     },
     "metadata": {},
     "execution_count": 10
    }
   ],
   "metadata": {
    "ExecuteTime": {
     "end_time": "2021-08-03T10:59:00.048660Z",
     "start_time": "2021-08-03T10:59:00.021732Z"
    },
    "scrolled": true
   }
  },
  {
   "cell_type": "code",
   "execution_count": 11,
   "source": [
    "ph_df['adm1_name'].unique()"
   ],
   "outputs": [
    {
     "output_type": "execute_result",
     "data": {
      "text/plain": [
       "array(['Cordillera Administrative region (CAR)',\n",
       "       'National Capital region (NCR)', 'Region I (Ilocos region)',\n",
       "       'Region II (Cagayan Valley)', 'Region V (Bicol region)',\n",
       "       'Region VI (Western Visayas)', 'Region VII (Central Visayas)',\n",
       "       'Region VIII (Eastern Visayas)', 'Region XIII (Caraga)',\n",
       "       'Autonomous region in Muslim Mindanao (ARMM)',\n",
       "       'Region IX (Zamboanga Peninsula)', 'Region X (Northern Mindanao)',\n",
       "       'Region XI (Davao Region)', 'Region XII (Soccsksargen)',\n",
       "       'Region III (Central Luzon)', 'Region IV-A (Calabarzon)',\n",
       "       'Region IV (Southern Tagalog)'], dtype=object)"
      ]
     },
     "metadata": {},
     "execution_count": 11
    }
   ],
   "metadata": {
    "ExecuteTime": {
     "end_time": "2021-08-03T10:59:00.078581Z",
     "start_time": "2021-08-03T10:59:00.056638Z"
    },
    "scrolled": true
   }
  },
  {
   "cell_type": "code",
   "execution_count": 12,
   "source": [
    "ph_df['mkt_name'].unique()"
   ],
   "outputs": [
    {
     "output_type": "execute_result",
     "data": {
      "text/plain": [
       "array(['La Trinidad', 'Manila', 'Lingayen', 'Tuguegarao', 'Legazpi',\n",
       "       'Iloilo City', 'Cebu City', 'Catarman', 'Tandag', 'Shariff Aguak',\n",
       "       'Zamboanga City', 'Tubod', 'Davao City', 'Koronadal', 'Palayan',\n",
       "       'Santa Cruz', 'Puerto Princesa'], dtype=object)"
      ]
     },
     "metadata": {},
     "execution_count": 12
    }
   ],
   "metadata": {
    "ExecuteTime": {
     "end_time": "2021-08-03T10:59:00.094537Z",
     "start_time": "2021-08-03T10:59:00.081573Z"
    }
   }
  },
  {
   "cell_type": "code",
   "execution_count": 13,
   "source": [
    "ph_df['pt_name'].unique()"
   ],
   "outputs": [
    {
     "output_type": "execute_result",
     "data": {
      "text/plain": [
       "array(['Wholesale', 'Retail', 'Farm Gate'], dtype=object)"
      ]
     },
     "metadata": {},
     "execution_count": 13
    }
   ],
   "metadata": {
    "ExecuteTime": {
     "end_time": "2021-08-03T10:59:00.109496Z",
     "start_time": "2021-08-03T10:59:00.097530Z"
    }
   }
  },
  {
   "cell_type": "code",
   "execution_count": 14,
   "source": [
    "ph_df['mp_month'].unique()"
   ],
   "outputs": [
    {
     "output_type": "execute_result",
     "data": {
      "text/plain": [
       "array([ 4,  1,  2,  3,  5,  6,  7,  8,  9, 10, 11, 12], dtype=int64)"
      ]
     },
     "metadata": {},
     "execution_count": 14
    }
   ],
   "metadata": {
    "ExecuteTime": {
     "end_time": "2021-08-03T10:59:00.125454Z",
     "start_time": "2021-08-03T10:59:00.112489Z"
    }
   }
  },
  {
   "cell_type": "code",
   "execution_count": 15,
   "source": [
    "ph_df['mp_year'].unique()"
   ],
   "outputs": [
    {
     "output_type": "execute_result",
     "data": {
      "text/plain": [
       "array([2019, 2010, 2012, 2013, 2014, 2015, 2016, 2017, 2018, 2008, 2009,\n",
       "       2011, 2000, 2001, 2002, 2003, 2004, 2005, 2006, 2007, 2020],\n",
       "      dtype=int64)"
      ]
     },
     "metadata": {},
     "execution_count": 15
    }
   ],
   "metadata": {
    "ExecuteTime": {
     "end_time": "2021-08-03T10:59:00.141410Z",
     "start_time": "2021-08-03T10:59:00.128445Z"
    }
   }
  },
  {
   "cell_type": "code",
   "execution_count": 16,
   "source": [
    "ph_df['cur_name'].unique()"
   ],
   "outputs": [
    {
     "output_type": "execute_result",
     "data": {
      "text/plain": [
       "array(['PHP'], dtype=object)"
      ]
     },
     "metadata": {},
     "execution_count": 16
    }
   ],
   "metadata": {
    "ExecuteTime": {
     "end_time": "2021-08-03T10:59:00.171331Z",
     "start_time": "2021-08-03T10:59:00.144405Z"
    }
   }
  },
  {
   "cell_type": "code",
   "execution_count": 17,
   "source": [
    "ph_df['cm_name'].unique()"
   ],
   "outputs": [
    {
     "output_type": "execute_result",
     "data": {
      "text/plain": [
       "array(['Rice (regular, milled) - Wholesale',\n",
       "       'Rice (regular, milled) - Retail', 'Sweet potatoes - Retail',\n",
       "       'Eggs - Retail', 'Garlic - Retail', 'Onions (red) - Retail',\n",
       "       'Onions (white) - Retail', 'Tomatoes - Wholesale',\n",
       "       'Tomatoes - Retail', 'Groundnuts (unshelled) - Retail',\n",
       "       'Meat (beef, chops with bones) - Retail',\n",
       "       'Meat (chicken, whole) - Retail', 'Meat (pork) - Retail',\n",
       "       'Potatoes (Irish) - Retail', 'Carrots - Wholesale',\n",
       "       'Carrots - Retail', 'Cabbage - Wholesale', 'Cabbage - Retail',\n",
       "       'Beans (mung) - Retail', 'Fish (fresh) - Retail',\n",
       "       'Sweet potatoes - Wholesale', 'Eggs - Wholesale',\n",
       "       'Fish (fresh) - Wholesale', 'Maize flour (yellow) - Retail',\n",
       "       'Rice (milled, superior) - Wholesale',\n",
       "       'Rice (milled, superior) - Retail', 'Rice (paddy) - Farm Gate',\n",
       "       'Maize flour (white) - Wholesale', 'Maize flour (white) - Retail',\n",
       "       'Maize flour (yellow) - Wholesale', 'Maize (white) - Wholesale',\n",
       "       'Maize (yellow) - Wholesale'], dtype=object)"
      ]
     },
     "metadata": {},
     "execution_count": 17
    }
   ],
   "metadata": {
    "ExecuteTime": {
     "end_time": "2021-08-03T10:59:00.187291Z",
     "start_time": "2021-08-03T10:59:00.174327Z"
    },
    "scrolled": true
   }
  },
  {
   "cell_type": "markdown",
   "source": [
    "after seeing that the format is `Commodity Name (Characteristics) - Market Type`, we can seperate the characteristics into a seperate column and remove the Market Type value (in the cm_name column) since it already exists in another column"
   ],
   "metadata": {
    "ExecuteTime": {
     "end_time": "2021-07-22T03:55:46.532331Z",
     "start_time": "2021-07-22T03:55:46.515377Z"
    }
   }
  },
  {
   "cell_type": "code",
   "execution_count": 18,
   "source": [
    "def clean_cm_name(val):\r\n",
    "    return val.split(' - ')[0].split('(')[0].strip()\r\n",
    "    \r\n",
    "def get_characteristics(val):\r\n",
    "    try:\r\n",
    "        return re.search(r'\\((.*?)\\)', val.split(' - ')[0]).group(1)\r\n",
    "    except:\r\n",
    "        return None\r\n",
    "ph_df['characteristics'] = ph_df['cm_name'].apply(lambda x: get_characteristics(x))\r\n",
    "ph_df['cm_name'] = ph_df['cm_name'].apply(lambda x : clean_cm_name(x))"
   ],
   "outputs": [],
   "metadata": {
    "ExecuteTime": {
     "end_time": "2021-08-03T10:59:11.723572Z",
     "start_time": "2021-08-03T10:59:11.645548Z"
    }
   }
  },
  {
   "cell_type": "code",
   "execution_count": 19,
   "source": [
    "ph_df['characteristics'].unique()"
   ],
   "outputs": [
    {
     "output_type": "execute_result",
     "data": {
      "text/plain": [
       "array(['regular, milled', None, 'red', 'white', 'unshelled',\n",
       "       'beef, chops with bones', 'chicken, whole', 'pork', 'Irish',\n",
       "       'mung', 'fresh', 'yellow', 'milled, superior', 'paddy'],\n",
       "      dtype=object)"
      ]
     },
     "metadata": {},
     "execution_count": 19
    }
   ],
   "metadata": {
    "ExecuteTime": {
     "end_time": "2021-08-03T10:59:11.926474Z",
     "start_time": "2021-08-03T10:59:11.912490Z"
    },
    "scrolled": true
   }
  },
  {
   "cell_type": "code",
   "execution_count": 20,
   "source": [
    "ph_df['cm_name'].unique()"
   ],
   "outputs": [
    {
     "output_type": "execute_result",
     "data": {
      "text/plain": [
       "array(['Rice', 'Sweet potatoes', 'Eggs', 'Garlic', 'Onions', 'Tomatoes',\n",
       "       'Groundnuts', 'Meat', 'Potatoes', 'Carrots', 'Cabbage', 'Beans',\n",
       "       'Fish', 'Maize flour', 'Maize'], dtype=object)"
      ]
     },
     "metadata": {},
     "execution_count": 20
    }
   ],
   "metadata": {
    "ExecuteTime": {
     "end_time": "2021-08-03T10:59:20.632814Z",
     "start_time": "2021-08-03T10:59:20.618820Z"
    }
   }
  },
  {
   "cell_type": "code",
   "execution_count": 21,
   "source": [
    "ph_df['um_name'].unique()"
   ],
   "outputs": [
    {
     "output_type": "execute_result",
     "data": {
      "text/plain": [
       "array(['KG', 'Unit'], dtype=object)"
      ]
     },
     "metadata": {},
     "execution_count": 21
    }
   ],
   "metadata": {
    "ExecuteTime": {
     "end_time": "2021-08-03T10:59:21.530225Z",
     "start_time": "2021-08-03T10:59:21.508283Z"
    }
   }
  },
  {
   "cell_type": "markdown",
   "source": [
    "### Handle columns with missing values"
   ],
   "metadata": {}
  },
  {
   "cell_type": "code",
   "execution_count": 22,
   "source": [
    "missingVars = ph_df.columns[ph_df.isnull().any()].tolist()\r\n",
    "missingVars"
   ],
   "outputs": [
    {
     "output_type": "execute_result",
     "data": {
      "text/plain": [
       "['mp_commoditysource', 'characteristics']"
      ]
     },
     "metadata": {},
     "execution_count": 22
    }
   ],
   "metadata": {
    "ExecuteTime": {
     "end_time": "2021-08-03T10:59:23.203175Z",
     "start_time": "2021-08-03T10:59:23.183197Z"
    }
   }
  },
  {
   "cell_type": "code",
   "execution_count": 23,
   "source": [
    "ph_df.isnull().sum()"
   ],
   "outputs": [
    {
     "output_type": "execute_result",
     "data": {
      "text/plain": [
       "adm0_name                 0\n",
       "adm1_name                 0\n",
       "mkt_name                  0\n",
       "cm_name                   0\n",
       "cur_name                  0\n",
       "pt_name                   0\n",
       "um_name                   0\n",
       "mp_month                  0\n",
       "mp_year                   0\n",
       "mp_price                  0\n",
       "mp_commoditysource    33183\n",
       "characteristics       10243\n",
       "dtype: int64"
      ]
     },
     "metadata": {},
     "execution_count": 23
    }
   ],
   "metadata": {
    "ExecuteTime": {
     "end_time": "2021-08-03T10:59:23.391287Z",
     "start_time": "2021-08-03T10:59:23.367407Z"
    }
   }
  },
  {
   "cell_type": "markdown",
   "source": [
    "It can be seen that all values in mp_commoditysource is null so it will be dropped"
   ],
   "metadata": {}
  },
  {
   "cell_type": "code",
   "execution_count": 24,
   "source": [
    "ph_df = ph_df.drop('mp_commoditysource', axis=1)"
   ],
   "outputs": [],
   "metadata": {
    "ExecuteTime": {
     "end_time": "2021-08-03T10:59:31.443958Z",
     "start_time": "2021-08-03T10:59:31.423025Z"
    }
   }
  },
  {
   "cell_type": "markdown",
   "source": [
    "### Set the correct datatype per column"
   ],
   "metadata": {}
  },
  {
   "cell_type": "code",
   "execution_count": 25,
   "source": [
    "ph_df.dtypes"
   ],
   "outputs": [
    {
     "output_type": "execute_result",
     "data": {
      "text/plain": [
       "adm0_name           object\n",
       "adm1_name           object\n",
       "mkt_name            object\n",
       "cm_name             object\n",
       "cur_name            object\n",
       "pt_name             object\n",
       "um_name             object\n",
       "mp_month             int64\n",
       "mp_year              int64\n",
       "mp_price           float64\n",
       "characteristics     object\n",
       "dtype: object"
      ]
     },
     "metadata": {},
     "execution_count": 25
    }
   ],
   "metadata": {
    "ExecuteTime": {
     "end_time": "2021-08-03T11:41:24.570168Z",
     "start_time": "2021-08-03T11:41:24.558202Z"
    }
   }
  },
  {
   "cell_type": "code",
   "execution_count": 26,
   "source": [
    "ph_df['cm_name'] = ph_df['cm_name'].astype('category')"
   ],
   "outputs": [],
   "metadata": {
    "ExecuteTime": {
     "end_time": "2021-08-03T11:41:22.246669Z",
     "start_time": "2021-08-03T11:41:22.236666Z"
    }
   }
  },
  {
   "cell_type": "markdown",
   "source": [
    "## Exploratory Data Analysis\n",
    "In this section of the notebook, you must fulfill the following:\n",
    "- Identify 3 interesting exploratory data analysis questions.Properly state the questions in the notebook.\n",
    "- Answer the EDA questionsusing both:\n",
    "    - Numerical Summaries – measures of central tendency, measures of dispersion, and correlation\n",
    "    - Visualization – Appropriate  visualization should be used. Each visualization should be accompanied by a brief explanation.\n",
    "- To emphasize, both numerical summary and visualization should be present to answer each question. The whole process should be supported withverbose textual descriptions of your proceduresand findings."
   ],
   "metadata": {}
  },
  {
   "cell_type": "markdown",
   "source": [
    "### 1) What is the measure of central tendency?"
   ],
   "metadata": {}
  },
  {
   "cell_type": "code",
   "execution_count": 27,
   "source": [
    "ph_df_mean_median_mode = ph_df['mp_price'].agg(['mean', 'median'])\r\n",
    "ph_df_mean_median_mode"
   ],
   "outputs": [
    {
     "output_type": "execute_result",
     "data": {
      "text/plain": [
       "mean      71.334089\n",
       "median    47.080000\n",
       "Name: mp_price, dtype: float64"
      ]
     },
     "metadata": {},
     "execution_count": 27
    }
   ],
   "metadata": {
    "ExecuteTime": {
     "end_time": "2021-08-03T11:12:52.814172Z",
     "start_time": "2021-08-03T11:12:52.796186Z"
    }
   }
  },
  {
   "cell_type": "markdown",
   "source": [
    "It can be seen that the price has a population mean of **71.33** while the population median is **47.08**"
   ],
   "metadata": {
    "ExecuteTime": {
     "end_time": "2021-08-03T11:14:49.439669Z",
     "start_time": "2021-08-03T11:14:49.397106Z"
    }
   }
  },
  {
   "cell_type": "markdown",
   "source": [
    "### 2) What is the measure of dispersion?"
   ],
   "metadata": {}
  },
  {
   "cell_type": "code",
   "execution_count": 28,
   "source": [
    "max_price, min_price = (ph_df['mp_price'].max(), ph_df['mp_price'].min())\r\n",
    "q3, q1 = np.percentile(ph_df['mp_price'], [75, 25])\r\n",
    "ph_df_var_std = ph_df['mp_price'].agg({'var', 'std'})\r\n",
    "print('Range: %.2f' % (max_price - min_price))\r\n",
    "print('Interquartile Range: %.2f' % (q3 - q1))\r\n",
    "ph_df_var_std"
   ],
   "outputs": [
    {
     "output_type": "stream",
     "name": "stdout",
     "text": [
      "Range: 592.84\n",
      "Interquartile Range: 73.75\n"
     ]
    },
    {
     "output_type": "execute_result",
     "data": {
      "text/plain": [
       "var    3595.179441\n",
       "std      59.959815\n",
       "Name: mp_price, dtype: float64"
      ]
     },
     "metadata": {},
     "execution_count": 28
    }
   ],
   "metadata": {
    "ExecuteTime": {
     "end_time": "2021-08-03T11:13:53.508054Z",
     "start_time": "2021-08-03T11:13:53.453168Z"
    }
   }
  },
  {
   "cell_type": "markdown",
   "source": [
    "It can be seen that the range is **592.84** which is significantly bigger than the interquartile range **73.75**. Then the variance is **3595.18** while the std is **59.96**"
   ],
   "metadata": {}
  },
  {
   "cell_type": "markdown",
   "source": [
    "### 3) What does the distribution look like?"
   ],
   "metadata": {}
  },
  {
   "cell_type": "code",
   "execution_count": 29,
   "source": [
    "plt.figure(figsize=(8, 4))\r\n",
    "sns.histplot(data=ph_df, x='mp_price', bins=50)"
   ],
   "outputs": [
    {
     "output_type": "execute_result",
     "data": {
      "text/plain": [
       "<AxesSubplot:xlabel='mp_price', ylabel='Count'>"
      ]
     },
     "metadata": {},
     "execution_count": 29
    },
    {
     "output_type": "display_data",
     "data": {
      "text/plain": [
       "<Figure size 576x288 with 1 Axes>"
      ],
      "image/png": "[encoded data removed]"
     },
     "metadata": {
      "needs_background": "light"
     }
    }
   ],
   "metadata": {
    "ExecuteTime": {
     "end_time": "2021-08-03T11:51:33.211555Z",
     "start_time": "2021-08-03T11:51:32.995134Z"
    }
   }
  },
  {
   "cell_type": "markdown",
   "source": [
    "It can be seen in the histogram, the distribution is positively-skewed"
   ],
   "metadata": {}
  },
  {
   "cell_type": "code",
   "execution_count": 30,
   "source": [
    "plt.figure(figsize=(12, 8))\r\n",
    "sns.boxplot(data=ph_df, x='cm_name', y='mp_price')\r\n",
    "plt.xticks(rotation=45)"
   ],
   "outputs": [
    {
     "output_type": "execute_result",
     "data": {
      "text/plain": [
       "(array([ 0,  1,  2,  3,  4,  5,  6,  7,  8,  9, 10, 11, 12, 13, 14]),\n",
       " [Text(0, 0, 'Beans'),\n",
       "  Text(1, 0, 'Cabbage'),\n",
       "  Text(2, 0, 'Carrots'),\n",
       "  Text(3, 0, 'Eggs'),\n",
       "  Text(4, 0, 'Fish'),\n",
       "  Text(5, 0, 'Garlic'),\n",
       "  Text(6, 0, 'Groundnuts'),\n",
       "  Text(7, 0, 'Maize'),\n",
       "  Text(8, 0, 'Maize flour'),\n",
       "  Text(9, 0, 'Meat'),\n",
       "  Text(10, 0, 'Onions'),\n",
       "  Text(11, 0, 'Potatoes'),\n",
       "  Text(12, 0, 'Rice'),\n",
       "  Text(13, 0, 'Sweet potatoes'),\n",
       "  Text(14, 0, 'Tomatoes')])"
      ]
     },
     "metadata": {},
     "execution_count": 30
    },
    {
     "output_type": "display_data",
     "data": {
      "text/plain": [
       "<Figure size 864x576 with 1 Axes>"
      ],
      "image/png": "[encoded data removed]"
     },
     "metadata": {
      "needs_background": "light"
     }
    }
   ],
   "metadata": {
    "ExecuteTime": {
     "end_time": "2021-08-03T11:51:44.509550Z",
     "start_time": "2021-08-03T11:51:44.181053Z"
    }
   }
  },
  {
   "cell_type": "markdown",
   "source": [
    "It can be seen in the boxplot the there are ..."
   ],
   "metadata": {}
  },
  {
   "cell_type": "markdown",
   "source": [
    "## Research Question\n",
    "Come up with research questions to answer using the dataset.The research questions should arise from the exploratory data analysis.\n",
    "- The first research question should be answerable by performing statistical inference on means.\n",
    "- The second research question should be answerable by performing statistical inference on categorical data.\n",
    "- The research questions should be within the scope of the dataset.\n",
    "- For each research question, you must indicate its importance and significance to the community."
   ],
   "metadata": {}
  },
  {
   "cell_type": "markdown",
   "source": [
    "Null Hypothesis: `The prices increased overtime`  \r\n",
    "Alternative Hypothesis: `The prices is the same`"
   ],
   "metadata": {}
  },
  {
   "cell_type": "markdown",
   "source": [
    "## 1.) Is there a significant difference between the food prices of rural and urban areas? \r\n",
    "\r\n",
    "Pricing is one of the most important factors people look at before buying food. This is much more important in areas where the average amount of money buyers have to budget for food is lower than more developed cities/areas. With this research question, we want to see which areas in the rural and urban areas have higher/lower prices in every type of food in the records available. To do this, we need to condense every city that is considered as a rural or an urban city and combine their means to represent the urban or rural side.\r\n",
    "\r\n",
    "We will be binning these areas based on their city type. In order to group them together we researched the population density and the category of all the barangays of every area under the mkt_name field and checked if any source considered them to be urban or rural.\r\n",
    "\r\n",
    "\r\n",
    "The following data for these cities will be classified as \"Urban\": Manila, Davao City, Cebu City, La Trinidad, Puerto Princesa, Santa Cruz, Tuguegarao, Legazpi, Iloilo City and Zamboanga City.\r\n",
    "\r\n",
    "The following data for these cities will be under \"Rural\": Lingayen, Catarman, Shariff Aguak, Tubod, Koronadal, Palayan and Tandag.\r\n"
   ],
   "metadata": {}
  },
  {
   "cell_type": "markdown",
   "source": [],
   "metadata": {}
  },
  {
   "cell_type": "markdown",
   "source": [
    "## Statistical Inference\n",
    "In this section of the notebook, please take note of the following:\n",
    "- If needed, you may perform preprocessing techniques to transform the data to the appropriate representation before performing statistical inference to answer the research question. This may include binning, log transformations, conversion to one-hot encoding, normalization, standardization, interpolation, truncation, and feature engineering. You may also need to check and prove if the data is from a normal distribution to perform some statistical inference techniques.\n",
    "- The techniques used to answer the research questionare limited to statistical inference methods discussed in class. \n",
    "- The technique that you will apply should be appropriate to answer the research question."
   ],
   "metadata": {}
  },
  {
   "cell_type": "markdown",
   "source": [
    "## 1.) Is there a significant difference between the food prices of rural and urban areas? "
   ],
   "metadata": {}
  },
  {
   "cell_type": "code",
   "execution_count": 55,
   "source": [
    "urban_cities = {'Manila', 'Davao City', 'Cebu City', 'La Trinidad', 'Puerto Princesa', 'Santa Cruz', 'Tuguegarao', 'Legazpi', 'Iloilo City', 'Zamboanga City'}\r\n",
    "rural_cities = {'Lingayen', 'Catarman', 'Shariff Aguak', 'Tubod', 'Koronadal', 'Palayan', 'Tandag'}\r\n",
    "\r\n",
    "urban_df = pd.DataFrame()\r\n",
    "rural_df = pd.DataFrame()\r\n",
    "\r\n",
    "for city in urban_cities:\r\n",
    "    df_holder = ph_df[ph_df['mkt_name']==city]\r\n",
    "    urban_df = urban_df.append(df_holder)\r\n",
    "\r\n",
    "for city in rural_cities:\r\n",
    "    df_holder = ph_df[ph_df['mkt_name']==city]\r\n",
    "    rural_df = rural_df.append(df_holder)\r\n",
    "\r\n",
    "urban_df_mean = urban_df.agg({\"mp_price\": [\"mean\", \"std\"]})\r\n",
    "rural_df_mean = rural_df.agg ({\"mp_price\": [\"mean\", \"std\"]})\r\n",
    "\r\n",
    "print(urban_df[\"cm_name\"].unique().tolist() )\r\n",
    "print(rural_df[\"cm_name\"].unique().tolist() )\r\n",
    "print (urban_df.size)\r\n",
    "print(rural_df.size)\r\n",
    "print(ph_df.size)"
   ],
   "outputs": [
    {
     "output_type": "stream",
     "name": "stdout",
     "text": [
      "['Rice', 'Sweet potatoes', 'Eggs', 'Garlic', 'Onions', 'Tomatoes', 'Meat', 'Potatoes', 'Carrots', 'Cabbage', 'Beans', 'Fish', 'Groundnuts', 'Maize flour']\n",
      "['Rice', 'Sweet potatoes', 'Eggs', 'Garlic', 'Onions', 'Tomatoes', 'Groundnuts', 'Meat', 'Potatoes', 'Carrots', 'Cabbage', 'Beans', 'Fish', 'Maize']\n",
      "228239\n",
      "136774\n",
      "365013\n"
     ]
    }
   ],
   "metadata": {}
  },
  {
   "cell_type": "markdown",
   "source": [
    "Null Hypothesis: `There is no difference between the average prices in urban areas and the average prices in rural areas.`  \r\n",
    "Alternative Hypothesis: `There is a difference between the average prices in urban areas and the average prices in rural areas.`\r\n",
    "\r\n",
    "To find our results, we need to perform a two tailed T-test on the unpaired observations because the number of samples for food prices in urban cities and rural cities are not equal.\r\n",
    "\r\n",
    "|   |Urban Cities   | Rural Cities  |  \r\n",
    "|---|---|---|\r\n",
    "|  Mean | 71.301756  | 71.388046  |  \r\n",
    "| Standard Deviation  |  60.593852 | 58.888960  |   \r\n",
    "|  Sample Size | 228239  | 136774  |  \r\n",
    "\r\n",
    "Hypothesis Testing\r\n",
    "\r\n",
    "$H_{0}$ : 𝜇 = 0\r\n",
    "\r\n",
    "$H_{A}$ : 𝜇 ≠ 0\r\n",
    "\r\n",
    "$$T-score = \\frac{(71.388-71.302)-0}{\\sqrt{\\frac{(60.594)^{2}}{228239}+\\frac{(58.889)^{2}}{136774}}}$$\r\n",
    "\r\n",
    "$$T-score = 0.422$$\r\n",
    "\r\n",
    "After computing for the p-value using the t-score of 0.422 and degrees of freedom at 365011, we calculated that the p value is 0.673025.\r\n",
    "\r\n",
    "This means that the p-value is not significant at all significance levels (0.01, 0.05, 0.1) which entails that we fail to reject the null hypothesis at all significance levels. Our conlucion for this T-test is that there is in fact no difference between the price in Urban cities and Rural cities."
   ],
   "metadata": {}
  },
  {
   "cell_type": "markdown",
   "source": [
    "## 2.) Is there a difference in prices on the same products with different characteristics?"
   ],
   "metadata": {}
  },
  {
   "cell_type": "code",
   "execution_count": 64,
   "source": [
    "\r\n",
    "\r\n",
    "ph_df.loc[ph_df[\"cm_name\"]==\"Rice\"][\"characteristics\"].unique()"
   ],
   "outputs": [
    {
     "output_type": "execute_result",
     "data": {
      "text/plain": [
       "array(['regular, milled', 'milled, superior', 'paddy'], dtype=object)"
      ]
     },
     "metadata": {},
     "execution_count": 64
    }
   ],
   "metadata": {}
  },
  {
   "cell_type": "markdown",
   "source": [
    "## Insights and Conclusions\n",
    "Clearly  state  your  insights  and  conclusions  from  the  data  to  answer  each  research question you have defined. Make sure that all conclusions are backed up with statistical evidence."
   ],
   "metadata": {}
  },
  {
   "cell_type": "markdown",
   "source": [
    "Sources:\r\n",
    "\r\n",
    "1.) https://puertoprincesa.ph/?q=about-our-city/location-and-land-area\r\n",
    "\r\n",
    "2.) http://latrinidad.gov.ph/wp-content/uploads/2015/09/La-Trinidad-Socio-Economic-Profile-2015.pdf\r\n",
    "\r\n",
    "3.) https://www.philatlas.com/luzon/mimaropa/puerto-princesa.html\r\n"
   ],
   "metadata": {}
  }
 ],
 "metadata": {
  "interpreter": {
   "hash": "3e425f57de0e56b24665ad0a5d21ea0b5bd11c4dfd6c4687c51beadbc39e62ec"
  },
  "kernelspec": {
   "name": "python3",
   "display_name": "Python 3.8.8 64-bit ('base': conda)"
  },
  "language_info": {
   "codemirror_mode": {
    "name": "ipython",
    "version": 3
   },
   "file_extension": ".py",
   "mimetype": "text/x-python",
   "name": "python",
   "nbconvert_exporter": "python",
   "pygments_lexer": "ipython3",
   "version": "3.8.8"
  },
  "toc": {
   "base_numbering": 1,
   "nav_menu": {},
   "number_sections": true,
   "sideBar": true,
   "skip_h1_title": false,
   "title_cell": "Table of Contents",
   "title_sidebar": "Contents",
   "toc_cell": false,
   "toc_position": {
    "height": "calc(100% - 180px)",
    "left": "10px",
    "top": "150px",
    "width": "320px"
   },
   "toc_section_display": true,
   "toc_window_display": true
  }
 },
 "nbformat": 4,
 "nbformat_minor": 5
}