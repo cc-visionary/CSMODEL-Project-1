{
 "cells": [
  {
   "cell_type": "code",
   "execution_count": 37,
   "source": [
    "import pandas as pd\r\n",
    "import numpy as np\r\n",
    "import matplotlib.pyplot as plt\r\n",
    "import seaborn as sns\r\n",
    "import re\r\n",
    "import requests\r\n",
    "import scipy\r\n",
    "\r\n",
    "from datetime import date, datetime"
   ],
   "outputs": [],
   "metadata": {
    "ExecuteTime": {
     "end_time": "2021-08-03T10:58:55.218003Z",
     "start_time": "2021-08-03T10:58:53.010138Z"
    }
   }
  },
  {
   "cell_type": "markdown",
   "source": [
    "## Dataset Representation\n",
    "### CSMODELT3AY2021\n",
    "In this section of the notebook, you must fulfill the following:\n",
    "- State a brief description of the dataset.\n",
    "- Provide  a  description  of  the  collection  process  executed  to  build  the  dataset. Discuss  the  implications  of  the  data  collection  method  on  the  generated conclusions and insights. Note that you may need to look at the relevant sources related to the dataset to be able to provide the necessary information for this part of the project.\n",
    "- Describe the structure of the dataset file. In the dataset file, what does each row and  column  represent?  How many observations  are  there  in  the  dataset? How many variables are there in the dataset? If thedataset is composed of different files  that  you  will  combine  in  the  succeeding  steps,  you  need  to  describe  the structure and the contents of each file.\n",
    "- Discuss the variables in each dataset file. What does each variable represent? In this section, all variables, even those which are not used for the study, should be described to the reader. The purpose of each variable in the dataset should be clear to the reader of the notebook without having to go through an external link."
   ],
   "metadata": {}
  },
  {
   "cell_type": "markdown",
   "source": [
    "### Brief Description of the Dataset\n",
    "The dataset contains 30 years (1990-2020) worth of data collected by the World Food Programme (WFP) from 99 different countries which contains the Global Commodity Prices. The data includes information on country, city, market, price of good in local currency, quantity of good, and month and year recorded."
   ],
   "metadata": {}
  },
  {
   "cell_type": "markdown",
   "source": [
    "### Collection Process\n",
    "** insert here **"
   ],
   "metadata": {}
  },
  {
   "cell_type": "markdown",
   "source": [
    "Source: https://www.kaggle.com/salehahmedrony/global-food-prices"
   ],
   "metadata": {}
  },
  {
   "cell_type": "code",
   "execution_count": 3,
   "source": [
    "df = pd.read_csv('wfp_commodity_prices_database.csv', low_memory=False)"
   ],
   "outputs": [],
   "metadata": {
    "ExecuteTime": {
     "end_time": "2021-08-03T10:58:59.257774Z",
     "start_time": "2021-08-03T10:58:55.220992Z"
    }
   }
  },
  {
   "cell_type": "code",
   "execution_count": 4,
   "source": [
    "df.head()"
   ],
   "outputs": [
    {
     "output_type": "execute_result",
     "data": {
      "text/plain": [
       "   adm0_id    adm0_name  adm1_id   adm1_name  mkt_id  mkt_name  cm_id  \\\n",
       "0      1.0  Afghanistan      272  Badakhshan     266  Fayzabad     55   \n",
       "1      1.0  Afghanistan      272  Badakhshan     266  Fayzabad     55   \n",
       "2      1.0  Afghanistan      272  Badakhshan     266  Fayzabad     55   \n",
       "3      1.0  Afghanistan      272  Badakhshan     266  Fayzabad     55   \n",
       "4      1.0  Afghanistan      272  Badakhshan     266  Fayzabad     55   \n",
       "\n",
       "          cm_name  cur_id cur_name  pt_id pt_name  um_id um_name  mp_month  \\\n",
       "0  Bread - Retail     0.0      AFN     15  Retail      5      KG         1   \n",
       "1  Bread - Retail     0.0      AFN     15  Retail      5      KG         2   \n",
       "2  Bread - Retail     0.0      AFN     15  Retail      5      KG         3   \n",
       "3  Bread - Retail     0.0      AFN     15  Retail      5      KG         4   \n",
       "4  Bread - Retail     0.0      AFN     15  Retail      5      KG         5   \n",
       "\n",
       "   mp_year  mp_price  mp_commoditysource  \n",
       "0     2014      50.0                 NaN  \n",
       "1     2014      50.0                 NaN  \n",
       "2     2014      50.0                 NaN  \n",
       "3     2014      50.0                 NaN  \n",
       "4     2014      50.0                 NaN  "
      ],
      "text/html": [
       "<div>\n",
       "<style scoped>\n",
       "    .dataframe tbody tr th:only-of-type {\n",
       "        vertical-align: middle;\n",
       "    }\n",
       "\n",
       "    .dataframe tbody tr th {\n",
       "        vertical-align: top;\n",
       "    }\n",
       "\n",
       "    .dataframe thead th {\n",
       "        text-align: right;\n",
       "    }\n",
       "</style>\n",
       "<table border=\"1\" class=\"dataframe\">\n",
       "  <thead>\n",
       "    <tr style=\"text-align: right;\">\n",
       "      <th></th>\n",
       "      <th>adm0_id</th>\n",
       "      <th>adm0_name</th>\n",
       "      <th>adm1_id</th>\n",
       "      <th>adm1_name</th>\n",
       "      <th>mkt_id</th>\n",
       "      <th>mkt_name</th>\n",
       "      <th>cm_id</th>\n",
       "      <th>cm_name</th>\n",
       "      <th>cur_id</th>\n",
       "      <th>cur_name</th>\n",
       "      <th>pt_id</th>\n",
       "      <th>pt_name</th>\n",
       "      <th>um_id</th>\n",
       "      <th>um_name</th>\n",
       "      <th>mp_month</th>\n",
       "      <th>mp_year</th>\n",
       "      <th>mp_price</th>\n",
       "      <th>mp_commoditysource</th>\n",
       "    </tr>\n",
       "  </thead>\n",
       "  <tbody>\n",
       "    <tr>\n",
       "      <th>0</th>\n",
       "      <td>1.0</td>\n",
       "      <td>Afghanistan</td>\n",
       "      <td>272</td>\n",
       "      <td>Badakhshan</td>\n",
       "      <td>266</td>\n",
       "      <td>Fayzabad</td>\n",
       "      <td>55</td>\n",
       "      <td>Bread - Retail</td>\n",
       "      <td>0.0</td>\n",
       "      <td>AFN</td>\n",
       "      <td>15</td>\n",
       "      <td>Retail</td>\n",
       "      <td>5</td>\n",
       "      <td>KG</td>\n",
       "      <td>1</td>\n",
       "      <td>2014</td>\n",
       "      <td>50.0</td>\n",
       "      <td>NaN</td>\n",
       "    </tr>\n",
       "    <tr>\n",
       "      <th>1</th>\n",
       "      <td>1.0</td>\n",
       "      <td>Afghanistan</td>\n",
       "      <td>272</td>\n",
       "      <td>Badakhshan</td>\n",
       "      <td>266</td>\n",
       "      <td>Fayzabad</td>\n",
       "      <td>55</td>\n",
       "      <td>Bread - Retail</td>\n",
       "      <td>0.0</td>\n",
       "      <td>AFN</td>\n",
       "      <td>15</td>\n",
       "      <td>Retail</td>\n",
       "      <td>5</td>\n",
       "      <td>KG</td>\n",
       "      <td>2</td>\n",
       "      <td>2014</td>\n",
       "      <td>50.0</td>\n",
       "      <td>NaN</td>\n",
       "    </tr>\n",
       "    <tr>\n",
       "      <th>2</th>\n",
       "      <td>1.0</td>\n",
       "      <td>Afghanistan</td>\n",
       "      <td>272</td>\n",
       "      <td>Badakhshan</td>\n",
       "      <td>266</td>\n",
       "      <td>Fayzabad</td>\n",
       "      <td>55</td>\n",
       "      <td>Bread - Retail</td>\n",
       "      <td>0.0</td>\n",
       "      <td>AFN</td>\n",
       "      <td>15</td>\n",
       "      <td>Retail</td>\n",
       "      <td>5</td>\n",
       "      <td>KG</td>\n",
       "      <td>3</td>\n",
       "      <td>2014</td>\n",
       "      <td>50.0</td>\n",
       "      <td>NaN</td>\n",
       "    </tr>\n",
       "    <tr>\n",
       "      <th>3</th>\n",
       "      <td>1.0</td>\n",
       "      <td>Afghanistan</td>\n",
       "      <td>272</td>\n",
       "      <td>Badakhshan</td>\n",
       "      <td>266</td>\n",
       "      <td>Fayzabad</td>\n",
       "      <td>55</td>\n",
       "      <td>Bread - Retail</td>\n",
       "      <td>0.0</td>\n",
       "      <td>AFN</td>\n",
       "      <td>15</td>\n",
       "      <td>Retail</td>\n",
       "      <td>5</td>\n",
       "      <td>KG</td>\n",
       "      <td>4</td>\n",
       "      <td>2014</td>\n",
       "      <td>50.0</td>\n",
       "      <td>NaN</td>\n",
       "    </tr>\n",
       "    <tr>\n",
       "      <th>4</th>\n",
       "      <td>1.0</td>\n",
       "      <td>Afghanistan</td>\n",
       "      <td>272</td>\n",
       "      <td>Badakhshan</td>\n",
       "      <td>266</td>\n",
       "      <td>Fayzabad</td>\n",
       "      <td>55</td>\n",
       "      <td>Bread - Retail</td>\n",
       "      <td>0.0</td>\n",
       "      <td>AFN</td>\n",
       "      <td>15</td>\n",
       "      <td>Retail</td>\n",
       "      <td>5</td>\n",
       "      <td>KG</td>\n",
       "      <td>5</td>\n",
       "      <td>2014</td>\n",
       "      <td>50.0</td>\n",
       "      <td>NaN</td>\n",
       "    </tr>\n",
       "  </tbody>\n",
       "</table>\n",
       "</div>"
      ]
     },
     "metadata": {},
     "execution_count": 4
    }
   ],
   "metadata": {
    "ExecuteTime": {
     "end_time": "2021-08-03T10:58:59.303650Z",
     "start_time": "2021-08-03T10:58:59.260765Z"
    }
   }
  },
  {
   "cell_type": "markdown",
   "source": [
    "### Structure of the Dataset\n",
    "The dataset contains one spreadsheet detailing the history of commodity prices in different countries that dates as far back as 1992 (for some contries) up until 2020. Every column in the dataset pertains to the different variables in each record which contains but is not limited to: the name of the commodity being purchased, the year in which was it purchased, the amount that was purchased, the year that it was purchased, etc. Every row contains a record of a purchase in a specific country and on a specific year."
   ],
   "metadata": {}
  },
  {
   "cell_type": "code",
   "execution_count": 5,
   "source": [
    "df.columns"
   ],
   "outputs": [
    {
     "output_type": "execute_result",
     "data": {
      "text/plain": [
       "Index(['adm0_id', 'adm0_name', 'adm1_id', 'adm1_name', 'mkt_id', 'mkt_name',\n",
       "       'cm_id', 'cm_name', 'cur_id', 'cur_name', 'pt_id', 'pt_name', 'um_id',\n",
       "       'um_name', 'mp_month', 'mp_year', 'mp_price', 'mp_commoditysource'],\n",
       "      dtype='object')"
      ]
     },
     "metadata": {},
     "execution_count": 5
    }
   ],
   "metadata": {
    "ExecuteTime": {
     "end_time": "2021-08-03T10:58:59.319609Z",
     "start_time": "2021-08-03T10:58:59.305647Z"
    }
   }
  },
  {
   "cell_type": "code",
   "execution_count": 6,
   "source": [
    "df.info()"
   ],
   "outputs": [
    {
     "output_type": "stream",
     "name": "stdout",
     "text": [
      "<class 'pandas.core.frame.DataFrame'>\n",
      "RangeIndex: 1560551 entries, 0 to 1560550\n",
      "Data columns (total 18 columns):\n",
      " #   Column              Non-Null Count    Dtype  \n",
      "---  ------              --------------    -----  \n",
      " 0   adm0_id             1560551 non-null  float64\n",
      " 1   adm0_name           1560551 non-null  object \n",
      " 2   adm1_id             1560551 non-null  int64  \n",
      " 3   adm1_name           1089223 non-null  object \n",
      " 4   mkt_id              1560551 non-null  int64  \n",
      " 5   mkt_name            1560551 non-null  object \n",
      " 6   cm_id               1560551 non-null  int64  \n",
      " 7   cm_name             1560551 non-null  object \n",
      " 8   cur_id              1560551 non-null  float64\n",
      " 9   cur_name            1560551 non-null  object \n",
      " 10  pt_id               1560551 non-null  int64  \n",
      " 11  pt_name             1560551 non-null  object \n",
      " 12  um_id               1560551 non-null  int64  \n",
      " 13  um_name             1560551 non-null  object \n",
      " 14  mp_month            1560551 non-null  int64  \n",
      " 15  mp_year             1560551 non-null  int64  \n",
      " 16  mp_price            1560551 non-null  float64\n",
      " 17  mp_commoditysource  0 non-null        float64\n",
      "dtypes: float64(4), int64(7), object(7)\n",
      "memory usage: 214.3+ MB\n"
     ]
    }
   ],
   "metadata": {
    "ExecuteTime": {
     "end_time": "2021-08-03T10:58:59.850215Z",
     "start_time": "2021-08-03T10:58:59.324596Z"
    }
   }
  },
  {
   "cell_type": "markdown",
   "source": [
    "### Variables of the Dataset\n",
    "There are 18 unique variables in the dataset with 1560551 entries.\n",
    "The variables in the dataset are as follows:\n",
    "\n",
    "| Column Name        | Full Name                          | Definition        |\n",
    "| ------------------ | ---------                          | ----------------- |\n",
    "| adm0_id            | country id                         | The numerical ID that pertains to the country. |\n",
    "| adm0_name          | country name                       | The name of the country. |\n",
    "| adm1_id            | locality id                        | A numeric code that identifies an area in a country. |\n",
    "| adm1_name          | locality name                      | A name of a town/city of a certain area ina  country. |\n",
    "| mkt_id             | market id                          | A numerical code that corresponds to the market name. |\n",
    "| mkt_name           | market name                        | The area/name of the market that the commodity was purchased in. |\n",
    "| cm_id              | commodity purchase id              | A numeric code that pertains to the purchased commodity. |\n",
    "| cm_name            | commodity purchased                | The name pertaining to the purchased commodity.  |\n",
    "| cur_id             | currency  id                       | A numeric code that pertains to the currency of the country. |\n",
    "| cur_name           | name of the currency               | The name of the currency used to purchase the commodity. |\n",
    "| pt_id              | market type id                     | The numerical code that pertains to the type of market the product was bought in. |\n",
    "| pt_name            | market type                        | The type of market the commodity was bought in. Can be one of these four market types: Retail, Wholesale, Producer or Farm Gate. |\n",
    "| um_id              | measurement id                     | The number of goods that was purhca |\n",
    "| um_name            | unit of goods measurement          | The unit of measurement used to measure the commodity. |\n",
    "| mp_month           | month recorded                     | A number pertaining to the month the commodity was bought. |\n",
    "| mp_year            | year recorded                      | The year in which the record was taken. |\n",
    "| mp_price           | price paid                         | The price (in the country's currency) paid for the commodity. |\n",
    "| mp_commoditysource | source supplying price information | The source of the commodity price. |"
   ],
   "metadata": {}
  },
  {
   "cell_type": "markdown",
   "source": [
    "## Data Cleaning\n",
    "For each used variable, check for the following and, if needed, perform data cleaning:\n",
    "- There are multiple representations of the same categorical value\n",
    "- The datatype of the variable is incorrect.\n",
    "- Some values are set to default values of the variable.\n",
    "- There are missing data.\n",
    "- There are duplicate data.\n",
    "- The formatting of the values is inconsistent.  \n",
    "\n",
    "**Note**: No need to clean all variables. Clean only the variables utilized in the study."
   ],
   "metadata": {}
  },
  {
   "cell_type": "markdown",
   "source": [
    "### Filter the country to only Philippines"
   ],
   "metadata": {}
  },
  {
   "cell_type": "code",
   "execution_count": 7,
   "source": [
    "ph_df = df[df['adm0_name'] == 'Philippines'].reset_index()\r\n",
    "ph_df.head()"
   ],
   "outputs": [
    {
     "output_type": "execute_result",
     "data": {
      "text/plain": [
       "     index  adm0_id    adm0_name  adm1_id  \\\n",
       "0  1042823    196.0  Philippines     2354   \n",
       "1  1042824    196.0  Philippines     2354   \n",
       "2  1042825    196.0  Philippines     2354   \n",
       "3  1042826    196.0  Philippines     2354   \n",
       "4  1042827    196.0  Philippines     2354   \n",
       "\n",
       "                                adm1_name  mkt_id     mkt_name  cm_id  \\\n",
       "0  Cordillera Administrative region (CAR)     168  La Trinidad     80   \n",
       "1  Cordillera Administrative region (CAR)     168  La Trinidad     80   \n",
       "2  Cordillera Administrative region (CAR)     168  La Trinidad     80   \n",
       "3  Cordillera Administrative region (CAR)     168  La Trinidad     80   \n",
       "4  Cordillera Administrative region (CAR)     168  La Trinidad     80   \n",
       "\n",
       "                              cm_name  cur_id cur_name  pt_id    pt_name  \\\n",
       "0  Rice (regular, milled) - Wholesale     0.0      PHP     14  Wholesale   \n",
       "1     Rice (regular, milled) - Retail     0.0      PHP     15     Retail   \n",
       "2     Rice (regular, milled) - Retail     0.0      PHP     15     Retail   \n",
       "3     Rice (regular, milled) - Retail     0.0      PHP     15     Retail   \n",
       "4     Rice (regular, milled) - Retail     0.0      PHP     15     Retail   \n",
       "\n",
       "   um_id um_name  mp_month  mp_year  mp_price  mp_commoditysource  \n",
       "0      5      KG         4     2019     34.12                 NaN  \n",
       "1      5      KG         1     2010     29.20                 NaN  \n",
       "2      5      KG         2     2010     30.00                 NaN  \n",
       "3      5      KG         3     2010     30.00                 NaN  \n",
       "4      5      KG         4     2010     30.00                 NaN  "
      ],
      "text/html": [
       "<div>\n",
       "<style scoped>\n",
       "    .dataframe tbody tr th:only-of-type {\n",
       "        vertical-align: middle;\n",
       "    }\n",
       "\n",
       "    .dataframe tbody tr th {\n",
       "        vertical-align: top;\n",
       "    }\n",
       "\n",
       "    .dataframe thead th {\n",
       "        text-align: right;\n",
       "    }\n",
       "</style>\n",
       "<table border=\"1\" class=\"dataframe\">\n",
       "  <thead>\n",
       "    <tr style=\"text-align: right;\">\n",
       "      <th></th>\n",
       "      <th>index</th>\n",
       "      <th>adm0_id</th>\n",
       "      <th>adm0_name</th>\n",
       "      <th>adm1_id</th>\n",
       "      <th>adm1_name</th>\n",
       "      <th>mkt_id</th>\n",
       "      <th>mkt_name</th>\n",
       "      <th>cm_id</th>\n",
       "      <th>cm_name</th>\n",
       "      <th>cur_id</th>\n",
       "      <th>cur_name</th>\n",
       "      <th>pt_id</th>\n",
       "      <th>pt_name</th>\n",
       "      <th>um_id</th>\n",
       "      <th>um_name</th>\n",
       "      <th>mp_month</th>\n",
       "      <th>mp_year</th>\n",
       "      <th>mp_price</th>\n",
       "      <th>mp_commoditysource</th>\n",
       "    </tr>\n",
       "  </thead>\n",
       "  <tbody>\n",
       "    <tr>\n",
       "      <th>0</th>\n",
       "      <td>1042823</td>\n",
       "      <td>196.0</td>\n",
       "      <td>Philippines</td>\n",
       "      <td>2354</td>\n",
       "      <td>Cordillera Administrative region (CAR)</td>\n",
       "      <td>168</td>\n",
       "      <td>La Trinidad</td>\n",
       "      <td>80</td>\n",
       "      <td>Rice (regular, milled) - Wholesale</td>\n",
       "      <td>0.0</td>\n",
       "      <td>PHP</td>\n",
       "      <td>14</td>\n",
       "      <td>Wholesale</td>\n",
       "      <td>5</td>\n",
       "      <td>KG</td>\n",
       "      <td>4</td>\n",
       "      <td>2019</td>\n",
       "      <td>34.12</td>\n",
       "      <td>NaN</td>\n",
       "    </tr>\n",
       "    <tr>\n",
       "      <th>1</th>\n",
       "      <td>1042824</td>\n",
       "      <td>196.0</td>\n",
       "      <td>Philippines</td>\n",
       "      <td>2354</td>\n",
       "      <td>Cordillera Administrative region (CAR)</td>\n",
       "      <td>168</td>\n",
       "      <td>La Trinidad</td>\n",
       "      <td>80</td>\n",
       "      <td>Rice (regular, milled) - Retail</td>\n",
       "      <td>0.0</td>\n",
       "      <td>PHP</td>\n",
       "      <td>15</td>\n",
       "      <td>Retail</td>\n",
       "      <td>5</td>\n",
       "      <td>KG</td>\n",
       "      <td>1</td>\n",
       "      <td>2010</td>\n",
       "      <td>29.20</td>\n",
       "      <td>NaN</td>\n",
       "    </tr>\n",
       "    <tr>\n",
       "      <th>2</th>\n",
       "      <td>1042825</td>\n",
       "      <td>196.0</td>\n",
       "      <td>Philippines</td>\n",
       "      <td>2354</td>\n",
       "      <td>Cordillera Administrative region (CAR)</td>\n",
       "      <td>168</td>\n",
       "      <td>La Trinidad</td>\n",
       "      <td>80</td>\n",
       "      <td>Rice (regular, milled) - Retail</td>\n",
       "      <td>0.0</td>\n",
       "      <td>PHP</td>\n",
       "      <td>15</td>\n",
       "      <td>Retail</td>\n",
       "      <td>5</td>\n",
       "      <td>KG</td>\n",
       "      <td>2</td>\n",
       "      <td>2010</td>\n",
       "      <td>30.00</td>\n",
       "      <td>NaN</td>\n",
       "    </tr>\n",
       "    <tr>\n",
       "      <th>3</th>\n",
       "      <td>1042826</td>\n",
       "      <td>196.0</td>\n",
       "      <td>Philippines</td>\n",
       "      <td>2354</td>\n",
       "      <td>Cordillera Administrative region (CAR)</td>\n",
       "      <td>168</td>\n",
       "      <td>La Trinidad</td>\n",
       "      <td>80</td>\n",
       "      <td>Rice (regular, milled) - Retail</td>\n",
       "      <td>0.0</td>\n",
       "      <td>PHP</td>\n",
       "      <td>15</td>\n",
       "      <td>Retail</td>\n",
       "      <td>5</td>\n",
       "      <td>KG</td>\n",
       "      <td>3</td>\n",
       "      <td>2010</td>\n",
       "      <td>30.00</td>\n",
       "      <td>NaN</td>\n",
       "    </tr>\n",
       "    <tr>\n",
       "      <th>4</th>\n",
       "      <td>1042827</td>\n",
       "      <td>196.0</td>\n",
       "      <td>Philippines</td>\n",
       "      <td>2354</td>\n",
       "      <td>Cordillera Administrative region (CAR)</td>\n",
       "      <td>168</td>\n",
       "      <td>La Trinidad</td>\n",
       "      <td>80</td>\n",
       "      <td>Rice (regular, milled) - Retail</td>\n",
       "      <td>0.0</td>\n",
       "      <td>PHP</td>\n",
       "      <td>15</td>\n",
       "      <td>Retail</td>\n",
       "      <td>5</td>\n",
       "      <td>KG</td>\n",
       "      <td>4</td>\n",
       "      <td>2010</td>\n",
       "      <td>30.00</td>\n",
       "      <td>NaN</td>\n",
       "    </tr>\n",
       "  </tbody>\n",
       "</table>\n",
       "</div>"
      ]
     },
     "metadata": {},
     "execution_count": 7
    }
   ],
   "metadata": {
    "ExecuteTime": {
     "end_time": "2021-08-03T10:58:59.985870Z",
     "start_time": "2021-08-03T10:58:59.855179Z"
    },
    "scrolled": true
   }
  },
  {
   "cell_type": "markdown",
   "source": [
    "### Dropping id columns which will not be used in the dataset"
   ],
   "metadata": {}
  },
  {
   "cell_type": "code",
   "execution_count": 8,
   "source": [
    "id_columns = ['index', 'adm0_id', 'adm1_id', 'mkt_id', 'cm_id', 'cur_id', 'pt_id', 'um_id']\r\n",
    "ph_df = ph_df.drop(id_columns, axis=1)"
   ],
   "outputs": [],
   "metadata": {
    "ExecuteTime": {
     "end_time": "2021-08-03T10:59:00.016746Z",
     "start_time": "2021-08-03T10:58:59.989816Z"
    },
    "scrolled": true
   }
  },
  {
   "cell_type": "markdown",
   "source": [
    "### Check each column if their values are valid"
   ],
   "metadata": {}
  },
  {
   "cell_type": "code",
   "execution_count": 9,
   "source": [
    "ph_df['adm0_name'].unique()"
   ],
   "outputs": [
    {
     "output_type": "execute_result",
     "data": {
      "text/plain": [
       "array(['Philippines'], dtype=object)"
      ]
     },
     "metadata": {},
     "execution_count": 9
    }
   ],
   "metadata": {
    "ExecuteTime": {
     "end_time": "2021-08-03T10:59:00.048660Z",
     "start_time": "2021-08-03T10:59:00.021732Z"
    },
    "scrolled": true
   }
  },
  {
   "cell_type": "code",
   "execution_count": 10,
   "source": [
    "ph_df['adm1_name'].unique()"
   ],
   "outputs": [
    {
     "output_type": "execute_result",
     "data": {
      "text/plain": [
       "array(['Cordillera Administrative region (CAR)',\n",
       "       'National Capital region (NCR)', 'Region I (Ilocos region)',\n",
       "       'Region II (Cagayan Valley)', 'Region V (Bicol region)',\n",
       "       'Region VI (Western Visayas)', 'Region VII (Central Visayas)',\n",
       "       'Region VIII (Eastern Visayas)', 'Region XIII (Caraga)',\n",
       "       'Autonomous region in Muslim Mindanao (ARMM)',\n",
       "       'Region IX (Zamboanga Peninsula)', 'Region X (Northern Mindanao)',\n",
       "       'Region XI (Davao Region)', 'Region XII (Soccsksargen)',\n",
       "       'Region III (Central Luzon)', 'Region IV-A (Calabarzon)',\n",
       "       'Region IV (Southern Tagalog)'], dtype=object)"
      ]
     },
     "metadata": {},
     "execution_count": 10
    }
   ],
   "metadata": {
    "ExecuteTime": {
     "end_time": "2021-08-03T10:59:00.078581Z",
     "start_time": "2021-08-03T10:59:00.056638Z"
    },
    "scrolled": true
   }
  },
  {
   "cell_type": "code",
   "execution_count": 11,
   "source": [
    "ph_df['mkt_name'].unique()"
   ],
   "outputs": [
    {
     "output_type": "execute_result",
     "data": {
      "text/plain": [
       "array(['La Trinidad', 'Manila', 'Lingayen', 'Tuguegarao', 'Legazpi',\n",
       "       'Iloilo City', 'Cebu City', 'Catarman', 'Tandag', 'Shariff Aguak',\n",
       "       'Zamboanga City', 'Tubod', 'Davao City', 'Koronadal', 'Palayan',\n",
       "       'Santa Cruz', 'Puerto Princesa'], dtype=object)"
      ]
     },
     "metadata": {},
     "execution_count": 11
    }
   ],
   "metadata": {
    "ExecuteTime": {
     "end_time": "2021-08-03T10:59:00.094537Z",
     "start_time": "2021-08-03T10:59:00.081573Z"
    }
   }
  },
  {
   "cell_type": "code",
   "execution_count": 12,
   "source": [
    "ph_df['pt_name'].unique()"
   ],
   "outputs": [
    {
     "output_type": "execute_result",
     "data": {
      "text/plain": [
       "array(['Wholesale', 'Retail', 'Farm Gate'], dtype=object)"
      ]
     },
     "metadata": {},
     "execution_count": 12
    }
   ],
   "metadata": {
    "ExecuteTime": {
     "end_time": "2021-08-03T10:59:00.109496Z",
     "start_time": "2021-08-03T10:59:00.097530Z"
    }
   }
  },
  {
   "cell_type": "code",
   "execution_count": 13,
   "source": [
    "ph_df['mp_month'].unique()"
   ],
   "outputs": [
    {
     "output_type": "execute_result",
     "data": {
      "text/plain": [
       "array([ 4,  1,  2,  3,  5,  6,  7,  8,  9, 10, 11, 12], dtype=int64)"
      ]
     },
     "metadata": {},
     "execution_count": 13
    }
   ],
   "metadata": {
    "ExecuteTime": {
     "end_time": "2021-08-03T10:59:00.125454Z",
     "start_time": "2021-08-03T10:59:00.112489Z"
    }
   }
  },
  {
   "cell_type": "code",
   "execution_count": 14,
   "source": [
    "ph_df['mp_year'].unique()"
   ],
   "outputs": [
    {
     "output_type": "execute_result",
     "data": {
      "text/plain": [
       "array([2019, 2010, 2012, 2013, 2014, 2015, 2016, 2017, 2018, 2008, 2009,\n",
       "       2011, 2000, 2001, 2002, 2003, 2004, 2005, 2006, 2007, 2020],\n",
       "      dtype=int64)"
      ]
     },
     "metadata": {},
     "execution_count": 14
    }
   ],
   "metadata": {
    "ExecuteTime": {
     "end_time": "2021-08-03T10:59:00.141410Z",
     "start_time": "2021-08-03T10:59:00.128445Z"
    }
   }
  },
  {
   "cell_type": "code",
   "execution_count": 15,
   "source": [
    "ph_df['cur_name'].unique()"
   ],
   "outputs": [
    {
     "output_type": "execute_result",
     "data": {
      "text/plain": [
       "array(['PHP'], dtype=object)"
      ]
     },
     "metadata": {},
     "execution_count": 15
    }
   ],
   "metadata": {
    "ExecuteTime": {
     "end_time": "2021-08-03T10:59:00.171331Z",
     "start_time": "2021-08-03T10:59:00.144405Z"
    }
   }
  },
  {
   "cell_type": "code",
   "execution_count": 16,
   "source": [
    "ph_df['cm_name'].unique()"
   ],
   "outputs": [
    {
     "output_type": "execute_result",
     "data": {
      "text/plain": [
       "array(['Rice (regular, milled) - Wholesale',\n",
       "       'Rice (regular, milled) - Retail', 'Sweet potatoes - Retail',\n",
       "       'Eggs - Retail', 'Garlic - Retail', 'Onions (red) - Retail',\n",
       "       'Onions (white) - Retail', 'Tomatoes - Wholesale',\n",
       "       'Tomatoes - Retail', 'Groundnuts (unshelled) - Retail',\n",
       "       'Meat (beef, chops with bones) - Retail',\n",
       "       'Meat (chicken, whole) - Retail', 'Meat (pork) - Retail',\n",
       "       'Potatoes (Irish) - Retail', 'Carrots - Wholesale',\n",
       "       'Carrots - Retail', 'Cabbage - Wholesale', 'Cabbage - Retail',\n",
       "       'Beans (mung) - Retail', 'Fish (fresh) - Retail',\n",
       "       'Sweet potatoes - Wholesale', 'Eggs - Wholesale',\n",
       "       'Fish (fresh) - Wholesale', 'Maize flour (yellow) - Retail',\n",
       "       'Rice (milled, superior) - Wholesale',\n",
       "       'Rice (milled, superior) - Retail', 'Rice (paddy) - Farm Gate',\n",
       "       'Maize flour (white) - Wholesale', 'Maize flour (white) - Retail',\n",
       "       'Maize flour (yellow) - Wholesale', 'Maize (white) - Wholesale',\n",
       "       'Maize (yellow) - Wholesale'], dtype=object)"
      ]
     },
     "metadata": {},
     "execution_count": 16
    }
   ],
   "metadata": {
    "ExecuteTime": {
     "end_time": "2021-08-03T10:59:00.187291Z",
     "start_time": "2021-08-03T10:59:00.174327Z"
    },
    "scrolled": true
   }
  },
  {
   "cell_type": "markdown",
   "source": [
    "after seeing that the format is `Commodity Name (Characteristics) - Market Type`, we can seperate the characteristics into a seperate column and remove the Market Type value (in the cm_name column) since it already exists in another column"
   ],
   "metadata": {
    "ExecuteTime": {
     "end_time": "2021-07-22T03:55:46.532331Z",
     "start_time": "2021-07-22T03:55:46.515377Z"
    }
   }
  },
  {
   "cell_type": "code",
   "execution_count": 17,
   "source": [
    "def clean_cm_name(val):\r\n",
    "    return val.split(' - ')[0].split('(')[0].strip()\r\n",
    "    \r\n",
    "def get_characteristics(val):\r\n",
    "    try:\r\n",
    "        return re.search(r'\\((.*?)\\)', val.split(' - ')[0]).group(1)\r\n",
    "    except:\r\n",
    "        return None\r\n",
    "ph_df['characteristics'] = ph_df['cm_name'].apply(lambda x: get_characteristics(x))\r\n",
    "ph_df['cm_name'] = ph_df['cm_name'].apply(lambda x : clean_cm_name(x))"
   ],
   "outputs": [],
   "metadata": {
    "ExecuteTime": {
     "end_time": "2021-08-03T10:59:11.723572Z",
     "start_time": "2021-08-03T10:59:11.645548Z"
    }
   }
  },
  {
   "cell_type": "code",
   "execution_count": 18,
   "source": [
    "ph_df['characteristics'].unique()"
   ],
   "outputs": [
    {
     "output_type": "execute_result",
     "data": {
      "text/plain": [
       "array(['regular, milled', None, 'red', 'white', 'unshelled',\n",
       "       'beef, chops with bones', 'chicken, whole', 'pork', 'Irish',\n",
       "       'mung', 'fresh', 'yellow', 'milled, superior', 'paddy'],\n",
       "      dtype=object)"
      ]
     },
     "metadata": {},
     "execution_count": 18
    }
   ],
   "metadata": {
    "ExecuteTime": {
     "end_time": "2021-08-03T10:59:11.926474Z",
     "start_time": "2021-08-03T10:59:11.912490Z"
    },
    "scrolled": true
   }
  },
  {
   "cell_type": "code",
   "execution_count": 19,
   "source": [
    "ph_df['cm_name'].unique()"
   ],
   "outputs": [
    {
     "output_type": "execute_result",
     "data": {
      "text/plain": [
       "array(['Rice', 'Sweet potatoes', 'Eggs', 'Garlic', 'Onions', 'Tomatoes',\n",
       "       'Groundnuts', 'Meat', 'Potatoes', 'Carrots', 'Cabbage', 'Beans',\n",
       "       'Fish', 'Maize flour', 'Maize'], dtype=object)"
      ]
     },
     "metadata": {},
     "execution_count": 19
    }
   ],
   "metadata": {
    "ExecuteTime": {
     "end_time": "2021-08-03T10:59:20.632814Z",
     "start_time": "2021-08-03T10:59:20.618820Z"
    }
   }
  },
  {
   "cell_type": "code",
   "execution_count": 20,
   "source": [
    "ph_df['um_name'].unique()"
   ],
   "outputs": [
    {
     "output_type": "execute_result",
     "data": {
      "text/plain": [
       "array(['KG', 'Unit'], dtype=object)"
      ]
     },
     "metadata": {},
     "execution_count": 20
    }
   ],
   "metadata": {
    "ExecuteTime": {
     "end_time": "2021-08-03T10:59:21.530225Z",
     "start_time": "2021-08-03T10:59:21.508283Z"
    }
   }
  },
  {
   "cell_type": "markdown",
   "source": [
    "### Handle columns with missing values"
   ],
   "metadata": {}
  },
  {
   "cell_type": "code",
   "execution_count": 21,
   "source": [
    "missingVars = ph_df.columns[ph_df.isnull().any()].tolist()\r\n",
    "missingVars"
   ],
   "outputs": [
    {
     "output_type": "execute_result",
     "data": {
      "text/plain": [
       "['mp_commoditysource', 'characteristics']"
      ]
     },
     "metadata": {},
     "execution_count": 21
    }
   ],
   "metadata": {
    "ExecuteTime": {
     "end_time": "2021-08-03T10:59:23.203175Z",
     "start_time": "2021-08-03T10:59:23.183197Z"
    }
   }
  },
  {
   "cell_type": "code",
   "execution_count": 22,
   "source": [
    "ph_df.isnull().sum()"
   ],
   "outputs": [
    {
     "output_type": "execute_result",
     "data": {
      "text/plain": [
       "adm0_name                 0\n",
       "adm1_name                 0\n",
       "mkt_name                  0\n",
       "cm_name                   0\n",
       "cur_name                  0\n",
       "pt_name                   0\n",
       "um_name                   0\n",
       "mp_month                  0\n",
       "mp_year                   0\n",
       "mp_price                  0\n",
       "mp_commoditysource    33183\n",
       "characteristics       10243\n",
       "dtype: int64"
      ]
     },
     "metadata": {},
     "execution_count": 22
    }
   ],
   "metadata": {
    "ExecuteTime": {
     "end_time": "2021-08-03T10:59:23.391287Z",
     "start_time": "2021-08-03T10:59:23.367407Z"
    }
   }
  },
  {
   "cell_type": "markdown",
   "source": [
    "It can be seen that all values in mp_commoditysource is null so it will be dropped"
   ],
   "metadata": {}
  },
  {
   "cell_type": "code",
   "execution_count": 23,
   "source": [
    "ph_df = ph_df.drop('mp_commoditysource', axis=1)"
   ],
   "outputs": [],
   "metadata": {
    "ExecuteTime": {
     "end_time": "2021-08-03T10:59:31.443958Z",
     "start_time": "2021-08-03T10:59:31.423025Z"
    }
   }
  },
  {
   "cell_type": "markdown",
   "source": [
    "### Set the correct datatype per column"
   ],
   "metadata": {}
  },
  {
   "cell_type": "code",
   "execution_count": 24,
   "source": [
    "ph_df.dtypes"
   ],
   "outputs": [
    {
     "output_type": "execute_result",
     "data": {
      "text/plain": [
       "adm0_name           object\n",
       "adm1_name           object\n",
       "mkt_name            object\n",
       "cm_name             object\n",
       "cur_name            object\n",
       "pt_name             object\n",
       "um_name             object\n",
       "mp_month             int64\n",
       "mp_year              int64\n",
       "mp_price           float64\n",
       "characteristics     object\n",
       "dtype: object"
      ]
     },
     "metadata": {},
     "execution_count": 24
    }
   ],
   "metadata": {
    "ExecuteTime": {
     "end_time": "2021-08-03T11:41:24.570168Z",
     "start_time": "2021-08-03T11:41:24.558202Z"
    }
   }
  },
  {
   "cell_type": "code",
   "execution_count": 25,
   "source": [
    "ph_df['cm_name'] = ph_df['cm_name'].astype('category')"
   ],
   "outputs": [],
   "metadata": {
    "ExecuteTime": {
     "end_time": "2021-08-03T11:41:22.246669Z",
     "start_time": "2021-08-03T11:41:22.236666Z"
    }
   }
  },
  {
   "cell_type": "markdown",
   "source": [
    "## Exploratory Data Analysis\n",
    "In this section of the notebook, you must fulfill the following:\n",
    "- Identify 3 interesting exploratory data analysis questions.Properly state the questions in the notebook.\n",
    "- Answer the EDA questionsusing both:\n",
    "    - Numerical Summaries – measures of central tendency, measures of dispersion, and correlation\n",
    "    - Visualization – Appropriate  visualization should be used. Each visualization should be accompanied by a brief explanation.\n",
    "- To emphasize, both numerical summary and visualization should be present to answer each question. The whole process should be supported withverbose textual descriptions of your proceduresand findings."
   ],
   "metadata": {}
  },
  {
   "cell_type": "markdown",
   "source": [
    "### 1) What is the measure of central tendency?"
   ],
   "metadata": {}
  },
  {
   "cell_type": "code",
   "execution_count": 26,
   "source": [
    "ph_df_mean_median_mode = ph_df['mp_price'].agg(['mean', 'median'])\r\n",
    "ph_df_mean_median_mode"
   ],
   "outputs": [
    {
     "output_type": "execute_result",
     "data": {
      "text/plain": [
       "mean      71.334089\n",
       "median    47.080000\n",
       "Name: mp_price, dtype: float64"
      ]
     },
     "metadata": {},
     "execution_count": 26
    }
   ],
   "metadata": {
    "ExecuteTime": {
     "end_time": "2021-08-03T11:12:52.814172Z",
     "start_time": "2021-08-03T11:12:52.796186Z"
    }
   }
  },
  {
   "cell_type": "markdown",
   "source": [
    "It can be seen that the price has a population mean of **71.33** while the population median is **47.08**"
   ],
   "metadata": {
    "ExecuteTime": {
     "end_time": "2021-08-03T11:14:49.439669Z",
     "start_time": "2021-08-03T11:14:49.397106Z"
    }
   }
  },
  {
   "cell_type": "markdown",
   "source": [
    "### 2) What is the measure of dispersion?"
   ],
   "metadata": {}
  },
  {
   "cell_type": "code",
   "execution_count": 27,
   "source": [
    "max_price, min_price = (ph_df['mp_price'].max(), ph_df['mp_price'].min())\r\n",
    "q3, q1 = np.percentile(ph_df['mp_price'], [75, 25])\r\n",
    "ph_df_var_std = ph_df['mp_price'].agg({'var', 'std'})\r\n",
    "print('Range: %.2f' % (max_price - min_price))\r\n",
    "print('Interquartile Range: %.2f' % (q3 - q1))\r\n",
    "ph_df_var_std"
   ],
   "outputs": [
    {
     "output_type": "stream",
     "name": "stdout",
     "text": [
      "Range: 592.84\n",
      "Interquartile Range: 73.75\n"
     ]
    },
    {
     "output_type": "execute_result",
     "data": {
      "text/plain": [
       "var    3595.179441\n",
       "std      59.959815\n",
       "Name: mp_price, dtype: float64"
      ]
     },
     "metadata": {},
     "execution_count": 27
    }
   ],
   "metadata": {
    "ExecuteTime": {
     "end_time": "2021-08-03T11:13:53.508054Z",
     "start_time": "2021-08-03T11:13:53.453168Z"
    }
   }
  },
  {
   "cell_type": "markdown",
   "source": [
    "It can be seen that the range is **592.84** which is significantly bigger than the interquartile range **73.75**. Then the variance is **3595.18** while the std is **59.96**"
   ],
   "metadata": {}
  },
  {
   "cell_type": "markdown",
   "source": [
    "### 3) What does the distribution look like?"
   ],
   "metadata": {}
  },
  {
   "cell_type": "code",
   "execution_count": 28,
   "source": [
    "plt.figure(figsize=(8, 4))\r\n",
    "sns.histplot(data=ph_df, x='mp_price', bins=50)"
   ],
   "outputs": [
    {
     "output_type": "execute_result",
     "data": {
      "text/plain": [
       "<AxesSubplot:xlabel='mp_price', ylabel='Count'>"
      ]
     },
     "metadata": {},
     "execution_count": 28
    },
    {
     "output_type": "display_data",
     "data": {
      "text/plain": [
       "<Figure size 576x288 with 1 Axes>"
      ],
      "image/svg+xml": "<?xml version=\"1.0\" encoding=\"utf-8\" standalone=\"no\"?>\r\n<!DOCTYPE svg PUBLIC \"-//W3C//DTD SVG 1.1//EN\"\r\n  \"http://www.w3.org/Graphics/SVG/1.1/DTD/svg11.dtd\">\r\n<!-- Created with matplotlib (https://matplotlib.org/) -->\r\n<svg height=\"262.474375pt\" version=\"1.1\" viewBox=\"0 0 506.928125 262.474375\" width=\"506.928125pt\" xmlns=\"http://www.w3.org/2000/svg\" xmlns:xlink=\"http://www.w3.org/1999/xlink\">\r\n <metadata>\r\n  <rdf:RDF xmlns:cc=\"http://creativecommons.org/ns#\" xmlns:dc=\"http://purl.org/dc/elements/1.1/\" xmlns:rdf=\"http://www.w3.org/1999/02/22-rdf-syntax-ns#\">\r\n   <cc:Work>\r\n    <dc:type rdf:resource=\"http://purl.org/dc/dcmitype/StillImage\"/>\r\n    <dc:date>2021-08-07T13:43:26.019562</dc:date>\r\n    <dc:format>image/svg+xml</dc:format>\r\n    <dc:creator>\r\n     <cc:Agent>\r\n      <dc:title>Matplotlib v3.3.4, https://matplotlib.org/</dc:title>\r\n     </cc:Agent>\r\n    </dc:creator>\r\n   </cc:Work>\r\n  </rdf:RDF>\r\n </metadata>\r\n <defs>\r\n  <style type=\"text/css\">*{stroke-linecap:butt;stroke-linejoin:round;}</style>\r\n </defs>\r\n <g id=\"figure_1\">\r\n  <g id=\"patch_1\">\r\n   <path d=\"M 0 262.474375 \r\nL 506.928125 262.474375 \r\nL 506.928125 0 \r\nL 0 0 \r\nz\r\n\" style=\"fill:none;\"/>\r\n  </g>\r\n  <g id=\"axes_1\">\r\n   <g id=\"patch_2\">\r\n    <path d=\"M 53.328125 224.64 \r\nL 499.728125 224.64 \r\nL 499.728125 7.2 \r\nL 53.328125 7.2 \r\nz\r\n\" style=\"fill:#ffffff;\"/>\r\n   </g>\r\n   <g id=\"patch_3\">\r\n    <path clip-path=\"url(#p3d7b06dc7c)\" d=\"M 73.619034 224.64 \r\nL 81.735398 224.64 \r\nL 81.735398 138.54986 \r\nL 73.619034 138.54986 \r\nz\r\n\" style=\"fill:#1f77b4;fill-opacity:0.75;stroke:#000000;stroke-linejoin:miter;stroke-width:0.811636;\"/>\r\n   </g>\r\n   <g id=\"patch_4\">\r\n    <path clip-path=\"url(#p3d7b06dc7c)\" d=\"M 81.735398 224.64 \r\nL 89.851761 224.64 \r\nL 89.851761 32.455219 \r\nL 81.735398 32.455219 \r\nz\r\n\" style=\"fill:#1f77b4;fill-opacity:0.75;stroke:#000000;stroke-linejoin:miter;stroke-width:0.811636;\"/>\r\n   </g>\r\n   <g id=\"patch_5\">\r\n    <path clip-path=\"url(#p3d7b06dc7c)\" d=\"M 89.851761 224.64 \r\nL 97.968125 224.64 \r\nL 97.968125 17.554286 \r\nL 89.851761 17.554286 \r\nz\r\n\" style=\"fill:#1f77b4;fill-opacity:0.75;stroke:#000000;stroke-linejoin:miter;stroke-width:0.811636;\"/>\r\n   </g>\r\n   <g id=\"patch_6\">\r\n    <path clip-path=\"url(#p3d7b06dc7c)\" d=\"M 97.968125 224.64 \r\nL 106.084489 224.64 \r\nL 106.084489 77.567793 \r\nL 97.968125 77.567793 \r\nz\r\n\" style=\"fill:#1f77b4;fill-opacity:0.75;stroke:#000000;stroke-linejoin:miter;stroke-width:0.811636;\"/>\r\n   </g>\r\n   <g id=\"patch_7\">\r\n    <path clip-path=\"url(#p3d7b06dc7c)\" d=\"M 106.084489 224.64 \r\nL 114.200852 224.64 \r\nL 114.200852 141.045767 \r\nL 106.084489 141.045767 \r\nz\r\n\" style=\"fill:#1f77b4;fill-opacity:0.75;stroke:#000000;stroke-linejoin:miter;stroke-width:0.811636;\"/>\r\n   </g>\r\n   <g id=\"patch_8\">\r\n    <path clip-path=\"url(#p3d7b06dc7c)\" d=\"M 114.200852 224.64 \r\nL 122.317216 224.64 \r\nL 122.317216 152.668494 \r\nL 114.200852 152.668494 \r\nz\r\n\" style=\"fill:#1f77b4;fill-opacity:0.75;stroke:#000000;stroke-linejoin:miter;stroke-width:0.811636;\"/>\r\n   </g>\r\n   <g id=\"patch_9\">\r\n    <path clip-path=\"url(#p3d7b06dc7c)\" d=\"M 122.317216 224.64 \r\nL 130.43358 224.64 \r\nL 130.43358 153.115522 \r\nL 122.317216 153.115522 \r\nz\r\n\" style=\"fill:#1f77b4;fill-opacity:0.75;stroke:#000000;stroke-linejoin:miter;stroke-width:0.811636;\"/>\r\n   </g>\r\n   <g id=\"patch_10\">\r\n    <path clip-path=\"url(#p3d7b06dc7c)\" d=\"M 130.43358 224.64 \r\nL 138.549943 224.64 \r\nL 138.549943 174.125838 \r\nL 130.43358 174.125838 \r\nz\r\n\" style=\"fill:#1f77b4;fill-opacity:0.75;stroke:#000000;stroke-linejoin:miter;stroke-width:0.811636;\"/>\r\n   </g>\r\n   <g id=\"patch_11\">\r\n    <path clip-path=\"url(#p3d7b06dc7c)\" d=\"M 138.549943 224.64 \r\nL 146.666307 224.64 \r\nL 146.666307 190.516864 \r\nL 138.549943 190.516864 \r\nz\r\n\" style=\"fill:#1f77b4;fill-opacity:0.75;stroke:#000000;stroke-linejoin:miter;stroke-width:0.811636;\"/>\r\n   </g>\r\n   <g id=\"patch_12\">\r\n    <path clip-path=\"url(#p3d7b06dc7c)\" d=\"M 146.666307 224.64 \r\nL 154.78267 224.64 \r\nL 154.78267 188.244472 \r\nL 146.666307 188.244472 \r\nz\r\n\" style=\"fill:#1f77b4;fill-opacity:0.75;stroke:#000000;stroke-linejoin:miter;stroke-width:0.811636;\"/>\r\n   </g>\r\n   <g id=\"patch_13\">\r\n    <path clip-path=\"url(#p3d7b06dc7c)\" d=\"M 154.78267 224.64 \r\nL 162.899034 224.64 \r\nL 162.899034 190.218845 \r\nL 154.78267 190.218845 \r\nz\r\n\" style=\"fill:#1f77b4;fill-opacity:0.75;stroke:#000000;stroke-linejoin:miter;stroke-width:0.811636;\"/>\r\n   </g>\r\n   <g id=\"patch_14\">\r\n    <path clip-path=\"url(#p3d7b06dc7c)\" d=\"M 162.899034 224.64 \r\nL 171.015398 224.64 \r\nL 171.015398 183.774192 \r\nL 162.899034 183.774192 \r\nz\r\n\" style=\"fill:#1f77b4;fill-opacity:0.75;stroke:#000000;stroke-linejoin:miter;stroke-width:0.811636;\"/>\r\n   </g>\r\n   <g id=\"patch_15\">\r\n    <path clip-path=\"url(#p3d7b06dc7c)\" d=\"M 171.015398 224.64 \r\nL 179.131761 224.64 \r\nL 179.131761 194.502863 \r\nL 171.015398 194.502863 \r\nz\r\n\" style=\"fill:#1f77b4;fill-opacity:0.75;stroke:#000000;stroke-linejoin:miter;stroke-width:0.811636;\"/>\r\n   </g>\r\n   <g id=\"patch_16\">\r\n    <path clip-path=\"url(#p3d7b06dc7c)\" d=\"M 179.131761 224.64 \r\nL 187.248125 224.64 \r\nL 187.248125 200.463236 \r\nL 179.131761 200.463236 \r\nz\r\n\" style=\"fill:#1f77b4;fill-opacity:0.75;stroke:#000000;stroke-linejoin:miter;stroke-width:0.811636;\"/>\r\n   </g>\r\n   <g id=\"patch_17\">\r\n    <path clip-path=\"url(#p3d7b06dc7c)\" d=\"M 187.248125 224.64 \r\nL 195.364489 224.64 \r\nL 195.364489 197.445798 \r\nL 187.248125 197.445798 \r\nz\r\n\" style=\"fill:#1f77b4;fill-opacity:0.75;stroke:#000000;stroke-linejoin:miter;stroke-width:0.811636;\"/>\r\n   </g>\r\n   <g id=\"patch_18\">\r\n    <path clip-path=\"url(#p3d7b06dc7c)\" d=\"M 195.364489 224.64 \r\nL 203.480852 224.64 \r\nL 203.480852 192.193219 \r\nL 195.364489 192.193219 \r\nz\r\n\" style=\"fill:#1f77b4;fill-opacity:0.75;stroke:#000000;stroke-linejoin:miter;stroke-width:0.811636;\"/>\r\n   </g>\r\n   <g id=\"patch_19\">\r\n    <path clip-path=\"url(#p3d7b06dc7c)\" d=\"M 203.480852 224.64 \r\nL 211.597216 224.64 \r\nL 211.597216 198.11634 \r\nL 203.480852 198.11634 \r\nz\r\n\" style=\"fill:#1f77b4;fill-opacity:0.75;stroke:#000000;stroke-linejoin:miter;stroke-width:0.811636;\"/>\r\n   </g>\r\n   <g id=\"patch_20\">\r\n    <path clip-path=\"url(#p3d7b06dc7c)\" d=\"M 211.597216 224.64 \r\nL 219.71358 224.64 \r\nL 219.71358 214.656375 \r\nL 211.597216 214.656375 \r\nz\r\n\" style=\"fill:#1f77b4;fill-opacity:0.75;stroke:#000000;stroke-linejoin:miter;stroke-width:0.811636;\"/>\r\n   </g>\r\n   <g id=\"patch_21\">\r\n    <path clip-path=\"url(#p3d7b06dc7c)\" d=\"M 219.71358 224.64 \r\nL 227.829943 224.64 \r\nL 227.829943 214.246599 \r\nL 219.71358 214.246599 \r\nz\r\n\" style=\"fill:#1f77b4;fill-opacity:0.75;stroke:#000000;stroke-linejoin:miter;stroke-width:0.811636;\"/>\r\n   </g>\r\n   <g id=\"patch_22\">\r\n    <path clip-path=\"url(#p3d7b06dc7c)\" d=\"M 227.829943 224.64 \r\nL 235.946307 224.64 \r\nL 235.946307 216.705253 \r\nL 227.829943 216.705253 \r\nz\r\n\" style=\"fill:#1f77b4;fill-opacity:0.75;stroke:#000000;stroke-linejoin:miter;stroke-width:0.811636;\"/>\r\n   </g>\r\n   <g id=\"patch_23\">\r\n    <path clip-path=\"url(#p3d7b06dc7c)\" d=\"M 235.946307 224.64 \r\nL 244.06267 224.64 \r\nL 244.06267 221.473552 \r\nL 235.946307 221.473552 \r\nz\r\n\" style=\"fill:#1f77b4;fill-opacity:0.75;stroke:#000000;stroke-linejoin:miter;stroke-width:0.811636;\"/>\r\n   </g>\r\n   <g id=\"patch_24\">\r\n    <path clip-path=\"url(#p3d7b06dc7c)\" d=\"M 244.06267 224.64 \r\nL 252.179034 224.64 \r\nL 252.179034 223.261664 \r\nL 244.06267 223.261664 \r\nz\r\n\" style=\"fill:#1f77b4;fill-opacity:0.75;stroke:#000000;stroke-linejoin:miter;stroke-width:0.811636;\"/>\r\n   </g>\r\n   <g id=\"patch_25\">\r\n    <path clip-path=\"url(#p3d7b06dc7c)\" d=\"M 252.179034 224.64 \r\nL 260.295398 224.64 \r\nL 260.295398 221.957832 \r\nL 252.179034 221.957832 \r\nz\r\n\" style=\"fill:#1f77b4;fill-opacity:0.75;stroke:#000000;stroke-linejoin:miter;stroke-width:0.811636;\"/>\r\n   </g>\r\n   <g id=\"patch_26\">\r\n    <path clip-path=\"url(#p3d7b06dc7c)\" d=\"M 260.295398 224.64 \r\nL 268.411761 224.64 \r\nL 268.411761 223.708692 \r\nL 260.295398 223.708692 \r\nz\r\n\" style=\"fill:#1f77b4;fill-opacity:0.75;stroke:#000000;stroke-linejoin:miter;stroke-width:0.811636;\"/>\r\n   </g>\r\n   <g id=\"patch_27\">\r\n    <path clip-path=\"url(#p3d7b06dc7c)\" d=\"M 268.411761 224.64 \r\nL 276.528125 224.64 \r\nL 276.528125 223.708692 \r\nL 268.411761 223.708692 \r\nz\r\n\" style=\"fill:#1f77b4;fill-opacity:0.75;stroke:#000000;stroke-linejoin:miter;stroke-width:0.811636;\"/>\r\n   </g>\r\n   <g id=\"patch_28\">\r\n    <path clip-path=\"url(#p3d7b06dc7c)\" d=\"M 276.528125 224.64 \r\nL 284.644489 224.64 \r\nL 284.644489 223.671439 \r\nL 276.528125 223.671439 \r\nz\r\n\" style=\"fill:#1f77b4;fill-opacity:0.75;stroke:#000000;stroke-linejoin:miter;stroke-width:0.811636;\"/>\r\n   </g>\r\n   <g id=\"patch_29\">\r\n    <path clip-path=\"url(#p3d7b06dc7c)\" d=\"M 284.644489 224.64 \r\nL 292.760852 224.64 \r\nL 292.760852 224.341981 \r\nL 284.644489 224.341981 \r\nz\r\n\" style=\"fill:#1f77b4;fill-opacity:0.75;stroke:#000000;stroke-linejoin:miter;stroke-width:0.811636;\"/>\r\n   </g>\r\n   <g id=\"patch_30\">\r\n    <path clip-path=\"url(#p3d7b06dc7c)\" d=\"M 292.760852 224.64 \r\nL 300.877216 224.64 \r\nL 300.877216 224.602748 \r\nL 292.760852 224.602748 \r\nz\r\n\" style=\"fill:#1f77b4;fill-opacity:0.75;stroke:#000000;stroke-linejoin:miter;stroke-width:0.811636;\"/>\r\n   </g>\r\n   <g id=\"patch_31\">\r\n    <path clip-path=\"url(#p3d7b06dc7c)\" d=\"M 300.877216 224.64 \r\nL 308.99358 224.64 \r\nL 308.99358 224.602748 \r\nL 300.877216 224.602748 \r\nz\r\n\" style=\"fill:#1f77b4;fill-opacity:0.75;stroke:#000000;stroke-linejoin:miter;stroke-width:0.811636;\"/>\r\n   </g>\r\n   <g id=\"patch_32\">\r\n    <path clip-path=\"url(#p3d7b06dc7c)\" d=\"M 308.99358 224.64 \r\nL 317.109943 224.64 \r\nL 317.109943 224.565495 \r\nL 308.99358 224.565495 \r\nz\r\n\" style=\"fill:#1f77b4;fill-opacity:0.75;stroke:#000000;stroke-linejoin:miter;stroke-width:0.811636;\"/>\r\n   </g>\r\n   <g id=\"patch_33\">\r\n    <path clip-path=\"url(#p3d7b06dc7c)\" d=\"M 317.109943 224.64 \r\nL 325.226307 224.64 \r\nL 325.226307 224.490991 \r\nL 317.109943 224.490991 \r\nz\r\n\" style=\"fill:#1f77b4;fill-opacity:0.75;stroke:#000000;stroke-linejoin:miter;stroke-width:0.811636;\"/>\r\n   </g>\r\n   <g id=\"patch_34\">\r\n    <path clip-path=\"url(#p3d7b06dc7c)\" d=\"M 325.226307 224.64 \r\nL 333.34267 224.64 \r\nL 333.34267 224.453738 \r\nL 325.226307 224.453738 \r\nz\r\n\" style=\"fill:#1f77b4;fill-opacity:0.75;stroke:#000000;stroke-linejoin:miter;stroke-width:0.811636;\"/>\r\n   </g>\r\n   <g id=\"patch_35\">\r\n    <path clip-path=\"url(#p3d7b06dc7c)\" d=\"M 333.34267 224.64 \r\nL 341.459034 224.64 \r\nL 341.459034 224.64 \r\nL 333.34267 224.64 \r\nz\r\n\" style=\"fill:#1f77b4;fill-opacity:0.75;stroke:#000000;stroke-linejoin:miter;stroke-width:0.811636;\"/>\r\n   </g>\r\n   <g id=\"patch_36\">\r\n    <path clip-path=\"url(#p3d7b06dc7c)\" d=\"M 341.459034 224.64 \r\nL 349.575398 224.64 \r\nL 349.575398 224.304729 \r\nL 341.459034 224.304729 \r\nz\r\n\" style=\"fill:#1f77b4;fill-opacity:0.75;stroke:#000000;stroke-linejoin:miter;stroke-width:0.811636;\"/>\r\n   </g>\r\n   <g id=\"patch_37\">\r\n    <path clip-path=\"url(#p3d7b06dc7c)\" d=\"M 349.575398 224.64 \r\nL 357.691761 224.64 \r\nL 357.691761 224.64 \r\nL 349.575398 224.64 \r\nz\r\n\" style=\"fill:#1f77b4;fill-opacity:0.75;stroke:#000000;stroke-linejoin:miter;stroke-width:0.811636;\"/>\r\n   </g>\r\n   <g id=\"patch_38\">\r\n    <path clip-path=\"url(#p3d7b06dc7c)\" d=\"M 357.691761 224.64 \r\nL 365.808125 224.64 \r\nL 365.808125 224.64 \r\nL 357.691761 224.64 \r\nz\r\n\" style=\"fill:#1f77b4;fill-opacity:0.75;stroke:#000000;stroke-linejoin:miter;stroke-width:0.811636;\"/>\r\n   </g>\r\n   <g id=\"patch_39\">\r\n    <path clip-path=\"url(#p3d7b06dc7c)\" d=\"M 365.808125 224.64 \r\nL 373.924489 224.64 \r\nL 373.924489 224.64 \r\nL 365.808125 224.64 \r\nz\r\n\" style=\"fill:#1f77b4;fill-opacity:0.75;stroke:#000000;stroke-linejoin:miter;stroke-width:0.811636;\"/>\r\n   </g>\r\n   <g id=\"patch_40\">\r\n    <path clip-path=\"url(#p3d7b06dc7c)\" d=\"M 373.924489 224.64 \r\nL 382.040852 224.64 \r\nL 382.040852 224.490991 \r\nL 373.924489 224.490991 \r\nz\r\n\" style=\"fill:#1f77b4;fill-opacity:0.75;stroke:#000000;stroke-linejoin:miter;stroke-width:0.811636;\"/>\r\n   </g>\r\n   <g id=\"patch_41\">\r\n    <path clip-path=\"url(#p3d7b06dc7c)\" d=\"M 382.040852 224.64 \r\nL 390.157216 224.64 \r\nL 390.157216 224.64 \r\nL 382.040852 224.64 \r\nz\r\n\" style=\"fill:#1f77b4;fill-opacity:0.75;stroke:#000000;stroke-linejoin:miter;stroke-width:0.811636;\"/>\r\n   </g>\r\n   <g id=\"patch_42\">\r\n    <path clip-path=\"url(#p3d7b06dc7c)\" d=\"M 390.157216 224.64 \r\nL 398.27358 224.64 \r\nL 398.27358 224.64 \r\nL 390.157216 224.64 \r\nz\r\n\" style=\"fill:#1f77b4;fill-opacity:0.75;stroke:#000000;stroke-linejoin:miter;stroke-width:0.811636;\"/>\r\n   </g>\r\n   <g id=\"patch_43\">\r\n    <path clip-path=\"url(#p3d7b06dc7c)\" d=\"M 398.27358 224.64 \r\nL 406.389943 224.64 \r\nL 406.389943 224.64 \r\nL 398.27358 224.64 \r\nz\r\n\" style=\"fill:#1f77b4;fill-opacity:0.75;stroke:#000000;stroke-linejoin:miter;stroke-width:0.811636;\"/>\r\n   </g>\r\n   <g id=\"patch_44\">\r\n    <path clip-path=\"url(#p3d7b06dc7c)\" d=\"M 406.389943 224.64 \r\nL 414.506307 224.64 \r\nL 414.506307 224.64 \r\nL 406.389943 224.64 \r\nz\r\n\" style=\"fill:#1f77b4;fill-opacity:0.75;stroke:#000000;stroke-linejoin:miter;stroke-width:0.811636;\"/>\r\n   </g>\r\n   <g id=\"patch_45\">\r\n    <path clip-path=\"url(#p3d7b06dc7c)\" d=\"M 414.506307 224.64 \r\nL 422.62267 224.64 \r\nL 422.62267 224.602748 \r\nL 414.506307 224.602748 \r\nz\r\n\" style=\"fill:#1f77b4;fill-opacity:0.75;stroke:#000000;stroke-linejoin:miter;stroke-width:0.811636;\"/>\r\n   </g>\r\n   <g id=\"patch_46\">\r\n    <path clip-path=\"url(#p3d7b06dc7c)\" d=\"M 422.62267 224.64 \r\nL 430.739034 224.64 \r\nL 430.739034 224.64 \r\nL 422.62267 224.64 \r\nz\r\n\" style=\"fill:#1f77b4;fill-opacity:0.75;stroke:#000000;stroke-linejoin:miter;stroke-width:0.811636;\"/>\r\n   </g>\r\n   <g id=\"patch_47\">\r\n    <path clip-path=\"url(#p3d7b06dc7c)\" d=\"M 430.739034 224.64 \r\nL 438.855398 224.64 \r\nL 438.855398 224.602748 \r\nL 430.739034 224.602748 \r\nz\r\n\" style=\"fill:#1f77b4;fill-opacity:0.75;stroke:#000000;stroke-linejoin:miter;stroke-width:0.811636;\"/>\r\n   </g>\r\n   <g id=\"patch_48\">\r\n    <path clip-path=\"url(#p3d7b06dc7c)\" d=\"M 438.855398 224.64 \r\nL 446.971761 224.64 \r\nL 446.971761 224.602748 \r\nL 438.855398 224.602748 \r\nz\r\n\" style=\"fill:#1f77b4;fill-opacity:0.75;stroke:#000000;stroke-linejoin:miter;stroke-width:0.811636;\"/>\r\n   </g>\r\n   <g id=\"patch_49\">\r\n    <path clip-path=\"url(#p3d7b06dc7c)\" d=\"M 446.971761 224.64 \r\nL 455.088125 224.64 \r\nL 455.088125 224.64 \r\nL 446.971761 224.64 \r\nz\r\n\" style=\"fill:#1f77b4;fill-opacity:0.75;stroke:#000000;stroke-linejoin:miter;stroke-width:0.811636;\"/>\r\n   </g>\r\n   <g id=\"patch_50\">\r\n    <path clip-path=\"url(#p3d7b06dc7c)\" d=\"M 455.088125 224.64 \r\nL 463.204489 224.64 \r\nL 463.204489 224.602748 \r\nL 455.088125 224.602748 \r\nz\r\n\" style=\"fill:#1f77b4;fill-opacity:0.75;stroke:#000000;stroke-linejoin:miter;stroke-width:0.811636;\"/>\r\n   </g>\r\n   <g id=\"patch_51\">\r\n    <path clip-path=\"url(#p3d7b06dc7c)\" d=\"M 463.204489 224.64 \r\nL 471.320852 224.64 \r\nL 471.320852 224.64 \r\nL 463.204489 224.64 \r\nz\r\n\" style=\"fill:#1f77b4;fill-opacity:0.75;stroke:#000000;stroke-linejoin:miter;stroke-width:0.811636;\"/>\r\n   </g>\r\n   <g id=\"patch_52\">\r\n    <path clip-path=\"url(#p3d7b06dc7c)\" d=\"M 471.320852 224.64 \r\nL 479.437216 224.64 \r\nL 479.437216 224.602748 \r\nL 471.320852 224.602748 \r\nz\r\n\" style=\"fill:#1f77b4;fill-opacity:0.75;stroke:#000000;stroke-linejoin:miter;stroke-width:0.811636;\"/>\r\n   </g>\r\n   <g id=\"matplotlib.axis_1\">\r\n    <g id=\"xtick_1\">\r\n     <g id=\"line2d_1\">\r\n      <defs>\r\n       <path d=\"M 0 0 \r\nL 0 3.5 \r\n\" id=\"m83e9052be3\" style=\"stroke:#000000;stroke-width:0.8;\"/>\r\n      </defs>\r\n      <g>\r\n       <use style=\"stroke:#000000;stroke-width:0.8;\" x=\"72.523782\" xlink:href=\"#m83e9052be3\" y=\"224.64\"/>\r\n      </g>\r\n     </g>\r\n     <g id=\"text_1\">\r\n      <!-- 0 -->\r\n      <g transform=\"translate(69.342532 239.238438)scale(0.1 -0.1)\">\r\n       <defs>\r\n        <path d=\"M 31.78125 66.40625 \r\nQ 24.171875 66.40625 20.328125 58.90625 \r\nQ 16.5 51.421875 16.5 36.375 \r\nQ 16.5 21.390625 20.328125 13.890625 \r\nQ 24.171875 6.390625 31.78125 6.390625 \r\nQ 39.453125 6.390625 43.28125 13.890625 \r\nQ 47.125 21.390625 47.125 36.375 \r\nQ 47.125 51.421875 43.28125 58.90625 \r\nQ 39.453125 66.40625 31.78125 66.40625 \r\nz\r\nM 31.78125 74.21875 \r\nQ 44.046875 74.21875 50.515625 64.515625 \r\nQ 56.984375 54.828125 56.984375 36.375 \r\nQ 56.984375 17.96875 50.515625 8.265625 \r\nQ 44.046875 -1.421875 31.78125 -1.421875 \r\nQ 19.53125 -1.421875 13.0625 8.265625 \r\nQ 6.59375 17.96875 6.59375 36.375 \r\nQ 6.59375 54.828125 13.0625 64.515625 \r\nQ 19.53125 74.21875 31.78125 74.21875 \r\nz\r\n\" id=\"DejaVuSans-48\"/>\r\n       </defs>\r\n       <use xlink:href=\"#DejaVuSans-48\"/>\r\n      </g>\r\n     </g>\r\n    </g>\r\n    <g id=\"xtick_2\">\r\n     <g id=\"line2d_2\">\r\n      <g>\r\n       <use style=\"stroke:#000000;stroke-width:0.8;\" x=\"140.977021\" xlink:href=\"#m83e9052be3\" y=\"224.64\"/>\r\n      </g>\r\n     </g>\r\n     <g id=\"text_2\">\r\n      <!-- 100 -->\r\n      <g transform=\"translate(131.433271 239.238438)scale(0.1 -0.1)\">\r\n       <defs>\r\n        <path d=\"M 12.40625 8.296875 \r\nL 28.515625 8.296875 \r\nL 28.515625 63.921875 \r\nL 10.984375 60.40625 \r\nL 10.984375 69.390625 \r\nL 28.421875 72.90625 \r\nL 38.28125 72.90625 \r\nL 38.28125 8.296875 \r\nL 54.390625 8.296875 \r\nL 54.390625 0 \r\nL 12.40625 0 \r\nz\r\n\" id=\"DejaVuSans-49\"/>\r\n       </defs>\r\n       <use xlink:href=\"#DejaVuSans-49\"/>\r\n       <use x=\"63.623047\" xlink:href=\"#DejaVuSans-48\"/>\r\n       <use x=\"127.246094\" xlink:href=\"#DejaVuSans-48\"/>\r\n      </g>\r\n     </g>\r\n    </g>\r\n    <g id=\"xtick_3\">\r\n     <g id=\"line2d_3\">\r\n      <g>\r\n       <use style=\"stroke:#000000;stroke-width:0.8;\" x=\"209.43026\" xlink:href=\"#m83e9052be3\" y=\"224.64\"/>\r\n      </g>\r\n     </g>\r\n     <g id=\"text_3\">\r\n      <!-- 200 -->\r\n      <g transform=\"translate(199.88651 239.238438)scale(0.1 -0.1)\">\r\n       <defs>\r\n        <path d=\"M 19.1875 8.296875 \r\nL 53.609375 8.296875 \r\nL 53.609375 0 \r\nL 7.328125 0 \r\nL 7.328125 8.296875 \r\nQ 12.9375 14.109375 22.625 23.890625 \r\nQ 32.328125 33.6875 34.8125 36.53125 \r\nQ 39.546875 41.84375 41.421875 45.53125 \r\nQ 43.3125 49.21875 43.3125 52.78125 \r\nQ 43.3125 58.59375 39.234375 62.25 \r\nQ 35.15625 65.921875 28.609375 65.921875 \r\nQ 23.96875 65.921875 18.8125 64.3125 \r\nQ 13.671875 62.703125 7.8125 59.421875 \r\nL 7.8125 69.390625 \r\nQ 13.765625 71.78125 18.9375 73 \r\nQ 24.125 74.21875 28.421875 74.21875 \r\nQ 39.75 74.21875 46.484375 68.546875 \r\nQ 53.21875 62.890625 53.21875 53.421875 \r\nQ 53.21875 48.921875 51.53125 44.890625 \r\nQ 49.859375 40.875 45.40625 35.40625 \r\nQ 44.1875 33.984375 37.640625 27.21875 \r\nQ 31.109375 20.453125 19.1875 8.296875 \r\nz\r\n\" id=\"DejaVuSans-50\"/>\r\n       </defs>\r\n       <use xlink:href=\"#DejaVuSans-50\"/>\r\n       <use x=\"63.623047\" xlink:href=\"#DejaVuSans-48\"/>\r\n       <use x=\"127.246094\" xlink:href=\"#DejaVuSans-48\"/>\r\n      </g>\r\n     </g>\r\n    </g>\r\n    <g id=\"xtick_4\">\r\n     <g id=\"line2d_4\">\r\n      <g>\r\n       <use style=\"stroke:#000000;stroke-width:0.8;\" x=\"277.883499\" xlink:href=\"#m83e9052be3\" y=\"224.64\"/>\r\n      </g>\r\n     </g>\r\n     <g id=\"text_4\">\r\n      <!-- 300 -->\r\n      <g transform=\"translate(268.339749 239.238438)scale(0.1 -0.1)\">\r\n       <defs>\r\n        <path d=\"M 40.578125 39.3125 \r\nQ 47.65625 37.796875 51.625 33 \r\nQ 55.609375 28.21875 55.609375 21.1875 \r\nQ 55.609375 10.40625 48.1875 4.484375 \r\nQ 40.765625 -1.421875 27.09375 -1.421875 \r\nQ 22.515625 -1.421875 17.65625 -0.515625 \r\nQ 12.796875 0.390625 7.625 2.203125 \r\nL 7.625 11.71875 \r\nQ 11.71875 9.328125 16.59375 8.109375 \r\nQ 21.484375 6.890625 26.8125 6.890625 \r\nQ 36.078125 6.890625 40.9375 10.546875 \r\nQ 45.796875 14.203125 45.796875 21.1875 \r\nQ 45.796875 27.640625 41.28125 31.265625 \r\nQ 36.765625 34.90625 28.71875 34.90625 \r\nL 20.21875 34.90625 \r\nL 20.21875 43.015625 \r\nL 29.109375 43.015625 \r\nQ 36.375 43.015625 40.234375 45.921875 \r\nQ 44.09375 48.828125 44.09375 54.296875 \r\nQ 44.09375 59.90625 40.109375 62.90625 \r\nQ 36.140625 65.921875 28.71875 65.921875 \r\nQ 24.65625 65.921875 20.015625 65.03125 \r\nQ 15.375 64.15625 9.8125 62.3125 \r\nL 9.8125 71.09375 \r\nQ 15.4375 72.65625 20.34375 73.4375 \r\nQ 25.25 74.21875 29.59375 74.21875 \r\nQ 40.828125 74.21875 47.359375 69.109375 \r\nQ 53.90625 64.015625 53.90625 55.328125 \r\nQ 53.90625 49.265625 50.4375 45.09375 \r\nQ 46.96875 40.921875 40.578125 39.3125 \r\nz\r\n\" id=\"DejaVuSans-51\"/>\r\n       </defs>\r\n       <use xlink:href=\"#DejaVuSans-51\"/>\r\n       <use x=\"63.623047\" xlink:href=\"#DejaVuSans-48\"/>\r\n       <use x=\"127.246094\" xlink:href=\"#DejaVuSans-48\"/>\r\n      </g>\r\n     </g>\r\n    </g>\r\n    <g id=\"xtick_5\">\r\n     <g id=\"line2d_5\">\r\n      <g>\r\n       <use style=\"stroke:#000000;stroke-width:0.8;\" x=\"346.336738\" xlink:href=\"#m83e9052be3\" y=\"224.64\"/>\r\n      </g>\r\n     </g>\r\n     <g id=\"text_5\">\r\n      <!-- 400 -->\r\n      <g transform=\"translate(336.792988 239.238438)scale(0.1 -0.1)\">\r\n       <defs>\r\n        <path d=\"M 37.796875 64.3125 \r\nL 12.890625 25.390625 \r\nL 37.796875 25.390625 \r\nz\r\nM 35.203125 72.90625 \r\nL 47.609375 72.90625 \r\nL 47.609375 25.390625 \r\nL 58.015625 25.390625 \r\nL 58.015625 17.1875 \r\nL 47.609375 17.1875 \r\nL 47.609375 0 \r\nL 37.796875 0 \r\nL 37.796875 17.1875 \r\nL 4.890625 17.1875 \r\nL 4.890625 26.703125 \r\nz\r\n\" id=\"DejaVuSans-52\"/>\r\n       </defs>\r\n       <use xlink:href=\"#DejaVuSans-52\"/>\r\n       <use x=\"63.623047\" xlink:href=\"#DejaVuSans-48\"/>\r\n       <use x=\"127.246094\" xlink:href=\"#DejaVuSans-48\"/>\r\n      </g>\r\n     </g>\r\n    </g>\r\n    <g id=\"xtick_6\">\r\n     <g id=\"line2d_6\">\r\n      <g>\r\n       <use style=\"stroke:#000000;stroke-width:0.8;\" x=\"414.789977\" xlink:href=\"#m83e9052be3\" y=\"224.64\"/>\r\n      </g>\r\n     </g>\r\n     <g id=\"text_6\">\r\n      <!-- 500 -->\r\n      <g transform=\"translate(405.246227 239.238438)scale(0.1 -0.1)\">\r\n       <defs>\r\n        <path d=\"M 10.796875 72.90625 \r\nL 49.515625 72.90625 \r\nL 49.515625 64.59375 \r\nL 19.828125 64.59375 \r\nL 19.828125 46.734375 \r\nQ 21.96875 47.46875 24.109375 47.828125 \r\nQ 26.265625 48.1875 28.421875 48.1875 \r\nQ 40.625 48.1875 47.75 41.5 \r\nQ 54.890625 34.8125 54.890625 23.390625 \r\nQ 54.890625 11.625 47.5625 5.09375 \r\nQ 40.234375 -1.421875 26.90625 -1.421875 \r\nQ 22.3125 -1.421875 17.546875 -0.640625 \r\nQ 12.796875 0.140625 7.71875 1.703125 \r\nL 7.71875 11.625 \r\nQ 12.109375 9.234375 16.796875 8.0625 \r\nQ 21.484375 6.890625 26.703125 6.890625 \r\nQ 35.15625 6.890625 40.078125 11.328125 \r\nQ 45.015625 15.765625 45.015625 23.390625 \r\nQ 45.015625 31 40.078125 35.4375 \r\nQ 35.15625 39.890625 26.703125 39.890625 \r\nQ 22.75 39.890625 18.8125 39.015625 \r\nQ 14.890625 38.140625 10.796875 36.28125 \r\nz\r\n\" id=\"DejaVuSans-53\"/>\r\n       </defs>\r\n       <use xlink:href=\"#DejaVuSans-53\"/>\r\n       <use x=\"63.623047\" xlink:href=\"#DejaVuSans-48\"/>\r\n       <use x=\"127.246094\" xlink:href=\"#DejaVuSans-48\"/>\r\n      </g>\r\n     </g>\r\n    </g>\r\n    <g id=\"xtick_7\">\r\n     <g id=\"line2d_7\">\r\n      <g>\r\n       <use style=\"stroke:#000000;stroke-width:0.8;\" x=\"483.243216\" xlink:href=\"#m83e9052be3\" y=\"224.64\"/>\r\n      </g>\r\n     </g>\r\n     <g id=\"text_7\">\r\n      <!-- 600 -->\r\n      <g transform=\"translate(473.699466 239.238438)scale(0.1 -0.1)\">\r\n       <defs>\r\n        <path d=\"M 33.015625 40.375 \r\nQ 26.375 40.375 22.484375 35.828125 \r\nQ 18.609375 31.296875 18.609375 23.390625 \r\nQ 18.609375 15.53125 22.484375 10.953125 \r\nQ 26.375 6.390625 33.015625 6.390625 \r\nQ 39.65625 6.390625 43.53125 10.953125 \r\nQ 47.40625 15.53125 47.40625 23.390625 \r\nQ 47.40625 31.296875 43.53125 35.828125 \r\nQ 39.65625 40.375 33.015625 40.375 \r\nz\r\nM 52.59375 71.296875 \r\nL 52.59375 62.3125 \r\nQ 48.875 64.0625 45.09375 64.984375 \r\nQ 41.3125 65.921875 37.59375 65.921875 \r\nQ 27.828125 65.921875 22.671875 59.328125 \r\nQ 17.53125 52.734375 16.796875 39.40625 \r\nQ 19.671875 43.65625 24.015625 45.921875 \r\nQ 28.375 48.1875 33.59375 48.1875 \r\nQ 44.578125 48.1875 50.953125 41.515625 \r\nQ 57.328125 34.859375 57.328125 23.390625 \r\nQ 57.328125 12.15625 50.6875 5.359375 \r\nQ 44.046875 -1.421875 33.015625 -1.421875 \r\nQ 20.359375 -1.421875 13.671875 8.265625 \r\nQ 6.984375 17.96875 6.984375 36.375 \r\nQ 6.984375 53.65625 15.1875 63.9375 \r\nQ 23.390625 74.21875 37.203125 74.21875 \r\nQ 40.921875 74.21875 44.703125 73.484375 \r\nQ 48.484375 72.75 52.59375 71.296875 \r\nz\r\n\" id=\"DejaVuSans-54\"/>\r\n       </defs>\r\n       <use xlink:href=\"#DejaVuSans-54\"/>\r\n       <use x=\"63.623047\" xlink:href=\"#DejaVuSans-48\"/>\r\n       <use x=\"127.246094\" xlink:href=\"#DejaVuSans-48\"/>\r\n      </g>\r\n     </g>\r\n    </g>\r\n    <g id=\"text_8\">\r\n     <!-- mp_price -->\r\n     <g transform=\"translate(253.539062 252.916562)scale(0.1 -0.1)\">\r\n      <defs>\r\n       <path d=\"M 52 44.1875 \r\nQ 55.375 50.25 60.0625 53.125 \r\nQ 64.75 56 71.09375 56 \r\nQ 79.640625 56 84.28125 50.015625 \r\nQ 88.921875 44.046875 88.921875 33.015625 \r\nL 88.921875 0 \r\nL 79.890625 0 \r\nL 79.890625 32.71875 \r\nQ 79.890625 40.578125 77.09375 44.375 \r\nQ 74.3125 48.1875 68.609375 48.1875 \r\nQ 61.625 48.1875 57.5625 43.546875 \r\nQ 53.515625 38.921875 53.515625 30.90625 \r\nL 53.515625 0 \r\nL 44.484375 0 \r\nL 44.484375 32.71875 \r\nQ 44.484375 40.625 41.703125 44.40625 \r\nQ 38.921875 48.1875 33.109375 48.1875 \r\nQ 26.21875 48.1875 22.15625 43.53125 \r\nQ 18.109375 38.875 18.109375 30.90625 \r\nL 18.109375 0 \r\nL 9.078125 0 \r\nL 9.078125 54.6875 \r\nL 18.109375 54.6875 \r\nL 18.109375 46.1875 \r\nQ 21.1875 51.21875 25.484375 53.609375 \r\nQ 29.78125 56 35.6875 56 \r\nQ 41.65625 56 45.828125 52.96875 \r\nQ 50 49.953125 52 44.1875 \r\nz\r\n\" id=\"DejaVuSans-109\"/>\r\n       <path d=\"M 18.109375 8.203125 \r\nL 18.109375 -20.796875 \r\nL 9.078125 -20.796875 \r\nL 9.078125 54.6875 \r\nL 18.109375 54.6875 \r\nL 18.109375 46.390625 \r\nQ 20.953125 51.265625 25.265625 53.625 \r\nQ 29.59375 56 35.59375 56 \r\nQ 45.5625 56 51.78125 48.09375 \r\nQ 58.015625 40.1875 58.015625 27.296875 \r\nQ 58.015625 14.40625 51.78125 6.484375 \r\nQ 45.5625 -1.421875 35.59375 -1.421875 \r\nQ 29.59375 -1.421875 25.265625 0.953125 \r\nQ 20.953125 3.328125 18.109375 8.203125 \r\nz\r\nM 48.6875 27.296875 \r\nQ 48.6875 37.203125 44.609375 42.84375 \r\nQ 40.53125 48.484375 33.40625 48.484375 \r\nQ 26.265625 48.484375 22.1875 42.84375 \r\nQ 18.109375 37.203125 18.109375 27.296875 \r\nQ 18.109375 17.390625 22.1875 11.75 \r\nQ 26.265625 6.109375 33.40625 6.109375 \r\nQ 40.53125 6.109375 44.609375 11.75 \r\nQ 48.6875 17.390625 48.6875 27.296875 \r\nz\r\n\" id=\"DejaVuSans-112\"/>\r\n       <path d=\"M 50.984375 -16.609375 \r\nL 50.984375 -23.578125 \r\nL -0.984375 -23.578125 \r\nL -0.984375 -16.609375 \r\nz\r\n\" id=\"DejaVuSans-95\"/>\r\n       <path d=\"M 41.109375 46.296875 \r\nQ 39.59375 47.171875 37.8125 47.578125 \r\nQ 36.03125 48 33.890625 48 \r\nQ 26.265625 48 22.1875 43.046875 \r\nQ 18.109375 38.09375 18.109375 28.8125 \r\nL 18.109375 0 \r\nL 9.078125 0 \r\nL 9.078125 54.6875 \r\nL 18.109375 54.6875 \r\nL 18.109375 46.1875 \r\nQ 20.953125 51.171875 25.484375 53.578125 \r\nQ 30.03125 56 36.53125 56 \r\nQ 37.453125 56 38.578125 55.875 \r\nQ 39.703125 55.765625 41.0625 55.515625 \r\nz\r\n\" id=\"DejaVuSans-114\"/>\r\n       <path d=\"M 9.421875 54.6875 \r\nL 18.40625 54.6875 \r\nL 18.40625 0 \r\nL 9.421875 0 \r\nz\r\nM 9.421875 75.984375 \r\nL 18.40625 75.984375 \r\nL 18.40625 64.59375 \r\nL 9.421875 64.59375 \r\nz\r\n\" id=\"DejaVuSans-105\"/>\r\n       <path d=\"M 48.78125 52.59375 \r\nL 48.78125 44.1875 \r\nQ 44.96875 46.296875 41.140625 47.34375 \r\nQ 37.3125 48.390625 33.40625 48.390625 \r\nQ 24.65625 48.390625 19.8125 42.84375 \r\nQ 14.984375 37.3125 14.984375 27.296875 \r\nQ 14.984375 17.28125 19.8125 11.734375 \r\nQ 24.65625 6.203125 33.40625 6.203125 \r\nQ 37.3125 6.203125 41.140625 7.25 \r\nQ 44.96875 8.296875 48.78125 10.40625 \r\nL 48.78125 2.09375 \r\nQ 45.015625 0.34375 40.984375 -0.53125 \r\nQ 36.96875 -1.421875 32.421875 -1.421875 \r\nQ 20.0625 -1.421875 12.78125 6.34375 \r\nQ 5.515625 14.109375 5.515625 27.296875 \r\nQ 5.515625 40.671875 12.859375 48.328125 \r\nQ 20.21875 56 33.015625 56 \r\nQ 37.15625 56 41.109375 55.140625 \r\nQ 45.0625 54.296875 48.78125 52.59375 \r\nz\r\n\" id=\"DejaVuSans-99\"/>\r\n       <path d=\"M 56.203125 29.59375 \r\nL 56.203125 25.203125 \r\nL 14.890625 25.203125 \r\nQ 15.484375 15.921875 20.484375 11.0625 \r\nQ 25.484375 6.203125 34.421875 6.203125 \r\nQ 39.59375 6.203125 44.453125 7.46875 \r\nQ 49.3125 8.734375 54.109375 11.28125 \r\nL 54.109375 2.78125 \r\nQ 49.265625 0.734375 44.1875 -0.34375 \r\nQ 39.109375 -1.421875 33.890625 -1.421875 \r\nQ 20.796875 -1.421875 13.15625 6.1875 \r\nQ 5.515625 13.8125 5.515625 26.8125 \r\nQ 5.515625 40.234375 12.765625 48.109375 \r\nQ 20.015625 56 32.328125 56 \r\nQ 43.359375 56 49.78125 48.890625 \r\nQ 56.203125 41.796875 56.203125 29.59375 \r\nz\r\nM 47.21875 32.234375 \r\nQ 47.125 39.59375 43.09375 43.984375 \r\nQ 39.0625 48.390625 32.421875 48.390625 \r\nQ 24.90625 48.390625 20.390625 44.140625 \r\nQ 15.875 39.890625 15.1875 32.171875 \r\nz\r\n\" id=\"DejaVuSans-101\"/>\r\n      </defs>\r\n      <use xlink:href=\"#DejaVuSans-109\"/>\r\n      <use x=\"97.412109\" xlink:href=\"#DejaVuSans-112\"/>\r\n      <use x=\"160.888672\" xlink:href=\"#DejaVuSans-95\"/>\r\n      <use x=\"210.888672\" xlink:href=\"#DejaVuSans-112\"/>\r\n      <use x=\"274.365234\" xlink:href=\"#DejaVuSans-114\"/>\r\n      <use x=\"315.478516\" xlink:href=\"#DejaVuSans-105\"/>\r\n      <use x=\"343.261719\" xlink:href=\"#DejaVuSans-99\"/>\r\n      <use x=\"398.242188\" xlink:href=\"#DejaVuSans-101\"/>\r\n     </g>\r\n    </g>\r\n   </g>\r\n   <g id=\"matplotlib.axis_2\">\r\n    <g id=\"ytick_1\">\r\n     <g id=\"line2d_8\">\r\n      <defs>\r\n       <path d=\"M 0 0 \r\nL -3.5 0 \r\n\" id=\"m6b88f9556b\" style=\"stroke:#000000;stroke-width:0.8;\"/>\r\n      </defs>\r\n      <g>\r\n       <use style=\"stroke:#000000;stroke-width:0.8;\" x=\"53.328125\" xlink:href=\"#m6b88f9556b\" y=\"224.64\"/>\r\n      </g>\r\n     </g>\r\n     <g id=\"text_9\">\r\n      <!-- 0 -->\r\n      <g transform=\"translate(39.965625 228.439219)scale(0.1 -0.1)\">\r\n       <use xlink:href=\"#DejaVuSans-48\"/>\r\n      </g>\r\n     </g>\r\n    </g>\r\n    <g id=\"ytick_2\">\r\n     <g id=\"line2d_9\">\r\n      <g>\r\n       <use style=\"stroke:#000000;stroke-width:0.8;\" x=\"53.328125\" xlink:href=\"#m6b88f9556b\" y=\"187.387668\"/>\r\n      </g>\r\n     </g>\r\n     <g id=\"text_10\">\r\n      <!-- 1000 -->\r\n      <g transform=\"translate(20.878125 191.186887)scale(0.1 -0.1)\">\r\n       <use xlink:href=\"#DejaVuSans-49\"/>\r\n       <use x=\"63.623047\" xlink:href=\"#DejaVuSans-48\"/>\r\n       <use x=\"127.246094\" xlink:href=\"#DejaVuSans-48\"/>\r\n       <use x=\"190.869141\" xlink:href=\"#DejaVuSans-48\"/>\r\n      </g>\r\n     </g>\r\n    </g>\r\n    <g id=\"ytick_3\">\r\n     <g id=\"line2d_10\">\r\n      <g>\r\n       <use style=\"stroke:#000000;stroke-width:0.8;\" x=\"53.328125\" xlink:href=\"#m6b88f9556b\" y=\"150.135336\"/>\r\n      </g>\r\n     </g>\r\n     <g id=\"text_11\">\r\n      <!-- 2000 -->\r\n      <g transform=\"translate(20.878125 153.934554)scale(0.1 -0.1)\">\r\n       <use xlink:href=\"#DejaVuSans-50\"/>\r\n       <use x=\"63.623047\" xlink:href=\"#DejaVuSans-48\"/>\r\n       <use x=\"127.246094\" xlink:href=\"#DejaVuSans-48\"/>\r\n       <use x=\"190.869141\" xlink:href=\"#DejaVuSans-48\"/>\r\n      </g>\r\n     </g>\r\n    </g>\r\n    <g id=\"ytick_4\">\r\n     <g id=\"line2d_11\">\r\n      <g>\r\n       <use style=\"stroke:#000000;stroke-width:0.8;\" x=\"53.328125\" xlink:href=\"#m6b88f9556b\" y=\"112.883004\"/>\r\n      </g>\r\n     </g>\r\n     <g id=\"text_12\">\r\n      <!-- 3000 -->\r\n      <g transform=\"translate(20.878125 116.682222)scale(0.1 -0.1)\">\r\n       <use xlink:href=\"#DejaVuSans-51\"/>\r\n       <use x=\"63.623047\" xlink:href=\"#DejaVuSans-48\"/>\r\n       <use x=\"127.246094\" xlink:href=\"#DejaVuSans-48\"/>\r\n       <use x=\"190.869141\" xlink:href=\"#DejaVuSans-48\"/>\r\n      </g>\r\n     </g>\r\n    </g>\r\n    <g id=\"ytick_5\">\r\n     <g id=\"line2d_12\">\r\n      <g>\r\n       <use style=\"stroke:#000000;stroke-width:0.8;\" x=\"53.328125\" xlink:href=\"#m6b88f9556b\" y=\"75.630671\"/>\r\n      </g>\r\n     </g>\r\n     <g id=\"text_13\">\r\n      <!-- 4000 -->\r\n      <g transform=\"translate(20.878125 79.42989)scale(0.1 -0.1)\">\r\n       <use xlink:href=\"#DejaVuSans-52\"/>\r\n       <use x=\"63.623047\" xlink:href=\"#DejaVuSans-48\"/>\r\n       <use x=\"127.246094\" xlink:href=\"#DejaVuSans-48\"/>\r\n       <use x=\"190.869141\" xlink:href=\"#DejaVuSans-48\"/>\r\n      </g>\r\n     </g>\r\n    </g>\r\n    <g id=\"ytick_6\">\r\n     <g id=\"line2d_13\">\r\n      <g>\r\n       <use style=\"stroke:#000000;stroke-width:0.8;\" x=\"53.328125\" xlink:href=\"#m6b88f9556b\" y=\"38.378339\"/>\r\n      </g>\r\n     </g>\r\n     <g id=\"text_14\">\r\n      <!-- 5000 -->\r\n      <g transform=\"translate(20.878125 42.177558)scale(0.1 -0.1)\">\r\n       <use xlink:href=\"#DejaVuSans-53\"/>\r\n       <use x=\"63.623047\" xlink:href=\"#DejaVuSans-48\"/>\r\n       <use x=\"127.246094\" xlink:href=\"#DejaVuSans-48\"/>\r\n       <use x=\"190.869141\" xlink:href=\"#DejaVuSans-48\"/>\r\n      </g>\r\n     </g>\r\n    </g>\r\n    <g id=\"text_15\">\r\n     <!-- Count -->\r\n     <g transform=\"translate(14.798438 130.768438)rotate(-90)scale(0.1 -0.1)\">\r\n      <defs>\r\n       <path d=\"M 64.40625 67.28125 \r\nL 64.40625 56.890625 \r\nQ 59.421875 61.53125 53.78125 63.8125 \r\nQ 48.140625 66.109375 41.796875 66.109375 \r\nQ 29.296875 66.109375 22.65625 58.46875 \r\nQ 16.015625 50.828125 16.015625 36.375 \r\nQ 16.015625 21.96875 22.65625 14.328125 \r\nQ 29.296875 6.6875 41.796875 6.6875 \r\nQ 48.140625 6.6875 53.78125 8.984375 \r\nQ 59.421875 11.28125 64.40625 15.921875 \r\nL 64.40625 5.609375 \r\nQ 59.234375 2.09375 53.4375 0.328125 \r\nQ 47.65625 -1.421875 41.21875 -1.421875 \r\nQ 24.65625 -1.421875 15.125 8.703125 \r\nQ 5.609375 18.84375 5.609375 36.375 \r\nQ 5.609375 53.953125 15.125 64.078125 \r\nQ 24.65625 74.21875 41.21875 74.21875 \r\nQ 47.75 74.21875 53.53125 72.484375 \r\nQ 59.328125 70.75 64.40625 67.28125 \r\nz\r\n\" id=\"DejaVuSans-67\"/>\r\n       <path d=\"M 30.609375 48.390625 \r\nQ 23.390625 48.390625 19.1875 42.75 \r\nQ 14.984375 37.109375 14.984375 27.296875 \r\nQ 14.984375 17.484375 19.15625 11.84375 \r\nQ 23.34375 6.203125 30.609375 6.203125 \r\nQ 37.796875 6.203125 41.984375 11.859375 \r\nQ 46.1875 17.53125 46.1875 27.296875 \r\nQ 46.1875 37.015625 41.984375 42.703125 \r\nQ 37.796875 48.390625 30.609375 48.390625 \r\nz\r\nM 30.609375 56 \r\nQ 42.328125 56 49.015625 48.375 \r\nQ 55.71875 40.765625 55.71875 27.296875 \r\nQ 55.71875 13.875 49.015625 6.21875 \r\nQ 42.328125 -1.421875 30.609375 -1.421875 \r\nQ 18.84375 -1.421875 12.171875 6.21875 \r\nQ 5.515625 13.875 5.515625 27.296875 \r\nQ 5.515625 40.765625 12.171875 48.375 \r\nQ 18.84375 56 30.609375 56 \r\nz\r\n\" id=\"DejaVuSans-111\"/>\r\n       <path d=\"M 8.5 21.578125 \r\nL 8.5 54.6875 \r\nL 17.484375 54.6875 \r\nL 17.484375 21.921875 \r\nQ 17.484375 14.15625 20.5 10.265625 \r\nQ 23.53125 6.390625 29.59375 6.390625 \r\nQ 36.859375 6.390625 41.078125 11.03125 \r\nQ 45.3125 15.671875 45.3125 23.6875 \r\nL 45.3125 54.6875 \r\nL 54.296875 54.6875 \r\nL 54.296875 0 \r\nL 45.3125 0 \r\nL 45.3125 8.40625 \r\nQ 42.046875 3.421875 37.71875 1 \r\nQ 33.40625 -1.421875 27.6875 -1.421875 \r\nQ 18.265625 -1.421875 13.375 4.4375 \r\nQ 8.5 10.296875 8.5 21.578125 \r\nz\r\nM 31.109375 56 \r\nz\r\n\" id=\"DejaVuSans-117\"/>\r\n       <path d=\"M 54.890625 33.015625 \r\nL 54.890625 0 \r\nL 45.90625 0 \r\nL 45.90625 32.71875 \r\nQ 45.90625 40.484375 42.875 44.328125 \r\nQ 39.84375 48.1875 33.796875 48.1875 \r\nQ 26.515625 48.1875 22.3125 43.546875 \r\nQ 18.109375 38.921875 18.109375 30.90625 \r\nL 18.109375 0 \r\nL 9.078125 0 \r\nL 9.078125 54.6875 \r\nL 18.109375 54.6875 \r\nL 18.109375 46.1875 \r\nQ 21.34375 51.125 25.703125 53.5625 \r\nQ 30.078125 56 35.796875 56 \r\nQ 45.21875 56 50.046875 50.171875 \r\nQ 54.890625 44.34375 54.890625 33.015625 \r\nz\r\n\" id=\"DejaVuSans-110\"/>\r\n       <path d=\"M 18.3125 70.21875 \r\nL 18.3125 54.6875 \r\nL 36.8125 54.6875 \r\nL 36.8125 47.703125 \r\nL 18.3125 47.703125 \r\nL 18.3125 18.015625 \r\nQ 18.3125 11.328125 20.140625 9.421875 \r\nQ 21.96875 7.515625 27.59375 7.515625 \r\nL 36.8125 7.515625 \r\nL 36.8125 0 \r\nL 27.59375 0 \r\nQ 17.1875 0 13.234375 3.875 \r\nQ 9.28125 7.765625 9.28125 18.015625 \r\nL 9.28125 47.703125 \r\nL 2.6875 47.703125 \r\nL 2.6875 54.6875 \r\nL 9.28125 54.6875 \r\nL 9.28125 70.21875 \r\nz\r\n\" id=\"DejaVuSans-116\"/>\r\n      </defs>\r\n      <use xlink:href=\"#DejaVuSans-67\"/>\r\n      <use x=\"69.824219\" xlink:href=\"#DejaVuSans-111\"/>\r\n      <use x=\"131.005859\" xlink:href=\"#DejaVuSans-117\"/>\r\n      <use x=\"194.384766\" xlink:href=\"#DejaVuSans-110\"/>\r\n      <use x=\"257.763672\" xlink:href=\"#DejaVuSans-116\"/>\r\n     </g>\r\n    </g>\r\n   </g>\r\n   <g id=\"patch_53\">\r\n    <path d=\"M 53.328125 224.64 \r\nL 53.328125 7.2 \r\n\" style=\"fill:none;stroke:#000000;stroke-linecap:square;stroke-linejoin:miter;stroke-width:0.8;\"/>\r\n   </g>\r\n   <g id=\"patch_54\">\r\n    <path d=\"M 499.728125 224.64 \r\nL 499.728125 7.2 \r\n\" style=\"fill:none;stroke:#000000;stroke-linecap:square;stroke-linejoin:miter;stroke-width:0.8;\"/>\r\n   </g>\r\n   <g id=\"patch_55\">\r\n    <path d=\"M 53.328125 224.64 \r\nL 499.728125 224.64 \r\n\" style=\"fill:none;stroke:#000000;stroke-linecap:square;stroke-linejoin:miter;stroke-width:0.8;\"/>\r\n   </g>\r\n   <g id=\"patch_56\">\r\n    <path d=\"M 53.328125 7.2 \r\nL 499.728125 7.2 \r\n\" style=\"fill:none;stroke:#000000;stroke-linecap:square;stroke-linejoin:miter;stroke-width:0.8;\"/>\r\n   </g>\r\n  </g>\r\n </g>\r\n <defs>\r\n  <clipPath id=\"p3d7b06dc7c\">\r\n   <rect height=\"217.44\" width=\"446.4\" x=\"53.328125\" y=\"7.2\"/>\r\n  </clipPath>\r\n </defs>\r\n</svg>\r\n",
      "image/png": "[encoded data removed]"
     },
     "metadata": {
      "needs_background": "light"
     }
    }
   ],
   "metadata": {
    "ExecuteTime": {
     "end_time": "2021-08-03T11:51:33.211555Z",
     "start_time": "2021-08-03T11:51:32.995134Z"
    }
   }
  },
  {
   "cell_type": "markdown",
   "source": [
    "It can be seen in the histogram, the distribution is positively-skewed"
   ],
   "metadata": {}
  },
  {
   "cell_type": "code",
   "execution_count": 29,
   "source": [
    "plt.figure(figsize=(12, 8))\r\n",
    "sns.boxplot(data=ph_df, x='cm_name', y='mp_price')\r\n",
    "plt.xticks(rotation=45)"
   ],
   "outputs": [
    {
     "output_type": "execute_result",
     "data": {
      "text/plain": [
       "(array([ 0,  1,  2,  3,  4,  5,  6,  7,  8,  9, 10, 11, 12, 13, 14]),\n",
       " [Text(0, 0, 'Beans'),\n",
       "  Text(1, 0, 'Cabbage'),\n",
       "  Text(2, 0, 'Carrots'),\n",
       "  Text(3, 0, 'Eggs'),\n",
       "  Text(4, 0, 'Fish'),\n",
       "  Text(5, 0, 'Garlic'),\n",
       "  Text(6, 0, 'Groundnuts'),\n",
       "  Text(7, 0, 'Maize'),\n",
       "  Text(8, 0, 'Maize flour'),\n",
       "  Text(9, 0, 'Meat'),\n",
       "  Text(10, 0, 'Onions'),\n",
       "  Text(11, 0, 'Potatoes'),\n",
       "  Text(12, 0, 'Rice'),\n",
       "  Text(13, 0, 'Sweet potatoes'),\n",
       "  Text(14, 0, 'Tomatoes')])"
      ]
     },
     "metadata": {},
     "execution_count": 29
    },
    {
     "output_type": "display_data",
     "data": {
      "text/plain": [
       "<Figure size 864x576 with 1 Axes>"
      ],
      "image/svg+xml": "<?xml version=\"1.0\" encoding=\"utf-8\" standalone=\"no\"?>\r\n<!DOCTYPE svg PUBLIC \"-//W3C//DTD SVG 1.1//EN\"\r\n  \"http://www.w3.org/Graphics/SVG/1.1/DTD/svg11.dtd\">\r\n<!-- Created with matplotlib (https://matplotlib.org/) -->\r\n<svg height=\"531.848751pt\" version=\"1.1\" viewBox=\"0 0 724.04375 531.848751\" width=\"724.04375pt\" xmlns=\"http://www.w3.org/2000/svg\" xmlns:xlink=\"http://www.w3.org/1999/xlink\">\r\n <metadata>\r\n  <rdf:RDF xmlns:cc=\"http://creativecommons.org/ns#\" xmlns:dc=\"http://purl.org/dc/elements/1.1/\" xmlns:rdf=\"http://www.w3.org/1999/02/22-rdf-syntax-ns#\">\r\n   <cc:Work>\r\n    <dc:type rdf:resource=\"http://purl.org/dc/dcmitype/StillImage\"/>\r\n    <dc:date>2021-08-07T13:43:26.683793</dc:date>\r\n    <dc:format>image/svg+xml</dc:format>\r\n    <dc:creator>\r\n     <cc:Agent>\r\n      <dc:title>Matplotlib v3.3.4, https://matplotlib.org/</dc:title>\r\n     </cc:Agent>\r\n    </dc:creator>\r\n   </cc:Work>\r\n  </rdf:RDF>\r\n </metadata>\r\n <defs>\r\n  <style type=\"text/css\">*{stroke-linecap:butt;stroke-linejoin:round;}</style>\r\n </defs>\r\n <g id=\"figure_1\">\r\n  <g id=\"patch_1\">\r\n   <path d=\"M 0 531.848751 \r\nL 724.04375 531.848751 \r\nL 724.04375 0 \r\nL 0 0 \r\nz\r\n\" style=\"fill:none;\"/>\r\n  </g>\r\n  <g id=\"axes_1\">\r\n   <g id=\"patch_2\">\r\n    <path d=\"M 47.24375 442.08 \r\nL 716.84375 442.08 \r\nL 716.84375 7.2 \r\nL 47.24375 7.2 \r\nz\r\n\" style=\"fill:#ffffff;\"/>\r\n   </g>\r\n   <g id=\"patch_3\">\r\n    <path clip-path=\"url(#p0550144f5c)\" d=\"M 51.70775 373.623098 \r\nL 87.41975 373.623098 \r\nL 87.41975 366.029149 \r\nL 51.70775 366.029149 \r\nL 51.70775 373.623098 \r\nz\r\n\" style=\"fill:#ea96a3;stroke:#464646;stroke-linejoin:miter;stroke-width:1.5;\"/>\r\n   </g>\r\n   <g id=\"patch_4\">\r\n    <path clip-path=\"url(#p0550144f5c)\" d=\"M 96.34775 402.011627 \r\nL 132.05975 402.011627 \r\nL 132.05975 384.916491 \r\nL 96.34775 384.916491 \r\nL 96.34775 402.011627 \r\nz\r\n\" style=\"fill:#e59471;stroke:#464646;stroke-linejoin:miter;stroke-width:1.5;\"/>\r\n   </g>\r\n   <g id=\"patch_5\">\r\n    <path clip-path=\"url(#p0550144f5c)\" d=\"M 140.98775 394.769451 \r\nL 176.69975 394.769451 \r\nL 176.69975 375.520334 \r\nL 140.98775 375.520334 \r\nL 140.98775 394.769451 \r\nz\r\n\" style=\"fill:#c6994b;stroke:#464646;stroke-linejoin:miter;stroke-width:1.5;\"/>\r\n   </g>\r\n   <g id=\"patch_6\">\r\n    <path clip-path=\"url(#p0550144f5c)\" d=\"M 185.62775 420.298789 \r\nL 221.33975 420.298789 \r\nL 221.33975 419.611916 \r\nL 185.62775 419.611916 \r\nL 185.62775 420.298789 \r\nz\r\n\" style=\"fill:#ab9e47;stroke:#464646;stroke-linejoin:miter;stroke-width:1.5;\"/>\r\n   </g>\r\n   <g id=\"patch_7\">\r\n    <path clip-path=\"url(#p0550144f5c)\" d=\"M 230.26775 358.46521 \r\nL 265.97975 358.46521 \r\nL 265.97975 332.700802 \r\nL 230.26775 332.700802 \r\nL 230.26775 358.46521 \r\nz\r\n\" style=\"fill:#91a446;stroke:#464646;stroke-linejoin:miter;stroke-width:1.5;\"/>\r\n   </g>\r\n   <g id=\"patch_8\">\r\n    <path clip-path=\"url(#p0550144f5c)\" d=\"M 274.90775 331.840543 \r\nL 310.61975 331.840543 \r\nL 310.61975 282.003903 \r\nL 274.90775 282.003903 \r\nL 274.90775 331.840543 \r\nz\r\n\" style=\"fill:#60ae47;stroke:#464646;stroke-linejoin:miter;stroke-width:1.5;\"/>\r\n   </g>\r\n   <g id=\"patch_9\">\r\n    <path clip-path=\"url(#p0550144f5c)\" d=\"M 319.54775 368.574914 \r\nL 355.25975 368.574914 \r\nL 355.25975 355.514323 \r\nL 319.54775 355.514323 \r\nL 319.54775 368.574914 \r\nz\r\n\" style=\"fill:#49ae83;stroke:#464646;stroke-linejoin:miter;stroke-width:1.5;\"/>\r\n   </g>\r\n   <g id=\"patch_10\">\r\n    <path clip-path=\"url(#p0550144f5c)\" d=\"M 364.18775 417.146175 \r\nL 399.89975 417.146175 \r\nL 399.89975 414.028571 \r\nL 364.18775 414.028571 \r\nL 364.18775 417.146175 \r\nz\r\n\" style=\"fill:#4aac9b;stroke:#464646;stroke-linejoin:miter;stroke-width:1.5;\"/>\r\n   </g>\r\n   <g id=\"patch_11\">\r\n    <path clip-path=\"url(#p0550144f5c)\" d=\"M 408.82775 412.509782 \r\nL 444.53975 412.509782 \r\nL 444.53975 404.874154 \r\nL 408.82775 404.874154 \r\nL 408.82775 412.509782 \r\nz\r\n\" style=\"fill:#4cabad;stroke:#464646;stroke-linejoin:miter;stroke-width:1.5;\"/>\r\n   </g>\r\n   <g id=\"patch_12\">\r\n    <path clip-path=\"url(#p0550144f5c)\" d=\"M 453.46775 332.197317 \r\nL 489.17975 332.197317 \r\nL 489.17975 296.166491 \r\nL 453.46775 296.166491 \r\nL 453.46775 332.197317 \r\nz\r\n\" style=\"fill:#50acc3;stroke:#464646;stroke-linejoin:miter;stroke-width:1.5;\"/>\r\n   </g>\r\n   <g id=\"patch_13\">\r\n    <path clip-path=\"url(#p0550144f5c)\" d=\"M 498.10775 383.561084 \r\nL 533.81975 383.561084 \r\nL 533.81975 365.555674 \r\nL 498.10775 365.555674 \r\nL 498.10775 383.561084 \r\nz\r\n\" style=\"fill:#6daee2;stroke:#464646;stroke-linejoin:miter;stroke-width:1.5;\"/>\r\n   </g>\r\n   <g id=\"patch_14\">\r\n    <path clip-path=\"url(#p0550144f5c)\" d=\"M 542.74775 389.369496 \r\nL 578.45975 389.369496 \r\nL 578.45975 373.528069 \r\nL 542.74775 373.528069 \r\nL 542.74775 389.369496 \r\nz\r\n\" style=\"fill:#adabeb;stroke:#464646;stroke-linejoin:miter;stroke-width:1.5;\"/>\r\n   </g>\r\n   <g id=\"patch_15\">\r\n    <path clip-path=\"url(#p0550144f5c)\" d=\"M 587.38775 410.302452 \r\nL 623.09975 410.302452 \r\nL 623.09975 398.965712 \r\nL 587.38775 398.965712 \r\nL 587.38775 410.302452 \r\nz\r\n\" style=\"fill:#ce9be9;stroke:#464646;stroke-linejoin:miter;stroke-width:1.5;\"/>\r\n   </g>\r\n   <g id=\"patch_16\">\r\n    <path clip-path=\"url(#p0550144f5c)\" d=\"M 632.02775 409.698937 \r\nL 667.73975 409.698937 \r\nL 667.73975 400.139398 \r\nL 632.02775 400.139398 \r\nL 632.02775 409.698937 \r\nz\r\n\" style=\"fill:#e78bdb;stroke:#464646;stroke-linejoin:miter;stroke-width:1.5;\"/>\r\n   </g>\r\n   <g id=\"patch_17\">\r\n    <path clip-path=\"url(#p0550144f5c)\" d=\"M 676.66775 404.654088 \r\nL 712.37975 404.654088 \r\nL 712.37975 391.983614 \r\nL 676.66775 391.983614 \r\nL 676.66775 404.654088 \r\nz\r\n\" style=\"fill:#e891bf;stroke:#464646;stroke-linejoin:miter;stroke-width:1.5;\"/>\r\n   </g>\r\n   <g id=\"matplotlib.axis_1\">\r\n    <g id=\"xtick_1\">\r\n     <g id=\"line2d_1\">\r\n      <defs>\r\n       <path d=\"M 0 0 \r\nL 0 3.5 \r\n\" id=\"m437a33c188\" style=\"stroke:#000000;stroke-width:0.8;\"/>\r\n      </defs>\r\n      <g>\r\n       <use style=\"stroke:#000000;stroke-width:0.8;\" x=\"69.56375\" xlink:href=\"#m437a33c188\" y=\"442.08\"/>\r\n      </g>\r\n     </g>\r\n     <g id=\"text_1\">\r\n      <!-- Beans -->\r\n      <g transform=\"translate(60.664701 476.153351)rotate(-45)scale(0.1 -0.1)\">\r\n       <defs>\r\n        <path d=\"M 19.671875 34.8125 \r\nL 19.671875 8.109375 \r\nL 35.5 8.109375 \r\nQ 43.453125 8.109375 47.28125 11.40625 \r\nQ 51.125 14.703125 51.125 21.484375 \r\nQ 51.125 28.328125 47.28125 31.5625 \r\nQ 43.453125 34.8125 35.5 34.8125 \r\nz\r\nM 19.671875 64.796875 \r\nL 19.671875 42.828125 \r\nL 34.28125 42.828125 \r\nQ 41.5 42.828125 45.03125 45.53125 \r\nQ 48.578125 48.25 48.578125 53.8125 \r\nQ 48.578125 59.328125 45.03125 62.0625 \r\nQ 41.5 64.796875 34.28125 64.796875 \r\nz\r\nM 9.8125 72.90625 \r\nL 35.015625 72.90625 \r\nQ 46.296875 72.90625 52.390625 68.21875 \r\nQ 58.5 63.53125 58.5 54.890625 \r\nQ 58.5 48.1875 55.375 44.234375 \r\nQ 52.25 40.28125 46.1875 39.3125 \r\nQ 53.46875 37.75 57.5 32.78125 \r\nQ 61.53125 27.828125 61.53125 20.40625 \r\nQ 61.53125 10.640625 54.890625 5.3125 \r\nQ 48.25 0 35.984375 0 \r\nL 9.8125 0 \r\nz\r\n\" id=\"DejaVuSans-66\"/>\r\n        <path d=\"M 56.203125 29.59375 \r\nL 56.203125 25.203125 \r\nL 14.890625 25.203125 \r\nQ 15.484375 15.921875 20.484375 11.0625 \r\nQ 25.484375 6.203125 34.421875 6.203125 \r\nQ 39.59375 6.203125 44.453125 7.46875 \r\nQ 49.3125 8.734375 54.109375 11.28125 \r\nL 54.109375 2.78125 \r\nQ 49.265625 0.734375 44.1875 -0.34375 \r\nQ 39.109375 -1.421875 33.890625 -1.421875 \r\nQ 20.796875 -1.421875 13.15625 6.1875 \r\nQ 5.515625 13.8125 5.515625 26.8125 \r\nQ 5.515625 40.234375 12.765625 48.109375 \r\nQ 20.015625 56 32.328125 56 \r\nQ 43.359375 56 49.78125 48.890625 \r\nQ 56.203125 41.796875 56.203125 29.59375 \r\nz\r\nM 47.21875 32.234375 \r\nQ 47.125 39.59375 43.09375 43.984375 \r\nQ 39.0625 48.390625 32.421875 48.390625 \r\nQ 24.90625 48.390625 20.390625 44.140625 \r\nQ 15.875 39.890625 15.1875 32.171875 \r\nz\r\n\" id=\"DejaVuSans-101\"/>\r\n        <path d=\"M 34.28125 27.484375 \r\nQ 23.390625 27.484375 19.1875 25 \r\nQ 14.984375 22.515625 14.984375 16.5 \r\nQ 14.984375 11.71875 18.140625 8.90625 \r\nQ 21.296875 6.109375 26.703125 6.109375 \r\nQ 34.1875 6.109375 38.703125 11.40625 \r\nQ 43.21875 16.703125 43.21875 25.484375 \r\nL 43.21875 27.484375 \r\nz\r\nM 52.203125 31.203125 \r\nL 52.203125 0 \r\nL 43.21875 0 \r\nL 43.21875 8.296875 \r\nQ 40.140625 3.328125 35.546875 0.953125 \r\nQ 30.953125 -1.421875 24.3125 -1.421875 \r\nQ 15.921875 -1.421875 10.953125 3.296875 \r\nQ 6 8.015625 6 15.921875 \r\nQ 6 25.140625 12.171875 29.828125 \r\nQ 18.359375 34.515625 30.609375 34.515625 \r\nL 43.21875 34.515625 \r\nL 43.21875 35.40625 \r\nQ 43.21875 41.609375 39.140625 45 \r\nQ 35.0625 48.390625 27.6875 48.390625 \r\nQ 23 48.390625 18.546875 47.265625 \r\nQ 14.109375 46.140625 10.015625 43.890625 \r\nL 10.015625 52.203125 \r\nQ 14.9375 54.109375 19.578125 55.046875 \r\nQ 24.21875 56 28.609375 56 \r\nQ 40.484375 56 46.34375 49.84375 \r\nQ 52.203125 43.703125 52.203125 31.203125 \r\nz\r\n\" id=\"DejaVuSans-97\"/>\r\n        <path d=\"M 54.890625 33.015625 \r\nL 54.890625 0 \r\nL 45.90625 0 \r\nL 45.90625 32.71875 \r\nQ 45.90625 40.484375 42.875 44.328125 \r\nQ 39.84375 48.1875 33.796875 48.1875 \r\nQ 26.515625 48.1875 22.3125 43.546875 \r\nQ 18.109375 38.921875 18.109375 30.90625 \r\nL 18.109375 0 \r\nL 9.078125 0 \r\nL 9.078125 54.6875 \r\nL 18.109375 54.6875 \r\nL 18.109375 46.1875 \r\nQ 21.34375 51.125 25.703125 53.5625 \r\nQ 30.078125 56 35.796875 56 \r\nQ 45.21875 56 50.046875 50.171875 \r\nQ 54.890625 44.34375 54.890625 33.015625 \r\nz\r\n\" id=\"DejaVuSans-110\"/>\r\n        <path d=\"M 44.28125 53.078125 \r\nL 44.28125 44.578125 \r\nQ 40.484375 46.53125 36.375 47.5 \r\nQ 32.28125 48.484375 27.875 48.484375 \r\nQ 21.1875 48.484375 17.84375 46.4375 \r\nQ 14.5 44.390625 14.5 40.28125 \r\nQ 14.5 37.15625 16.890625 35.375 \r\nQ 19.28125 33.59375 26.515625 31.984375 \r\nL 29.59375 31.296875 \r\nQ 39.15625 29.25 43.1875 25.515625 \r\nQ 47.21875 21.78125 47.21875 15.09375 \r\nQ 47.21875 7.46875 41.1875 3.015625 \r\nQ 35.15625 -1.421875 24.609375 -1.421875 \r\nQ 20.21875 -1.421875 15.453125 -0.5625 \r\nQ 10.6875 0.296875 5.421875 2 \r\nL 5.421875 11.28125 \r\nQ 10.40625 8.6875 15.234375 7.390625 \r\nQ 20.0625 6.109375 24.8125 6.109375 \r\nQ 31.15625 6.109375 34.5625 8.28125 \r\nQ 37.984375 10.453125 37.984375 14.40625 \r\nQ 37.984375 18.0625 35.515625 20.015625 \r\nQ 33.0625 21.96875 24.703125 23.78125 \r\nL 21.578125 24.515625 \r\nQ 13.234375 26.265625 9.515625 29.90625 \r\nQ 5.8125 33.546875 5.8125 39.890625 \r\nQ 5.8125 47.609375 11.28125 51.796875 \r\nQ 16.75 56 26.8125 56 \r\nQ 31.78125 56 36.171875 55.265625 \r\nQ 40.578125 54.546875 44.28125 53.078125 \r\nz\r\n\" id=\"DejaVuSans-115\"/>\r\n       </defs>\r\n       <use xlink:href=\"#DejaVuSans-66\"/>\r\n       <use x=\"68.603516\" xlink:href=\"#DejaVuSans-101\"/>\r\n       <use x=\"130.126953\" xlink:href=\"#DejaVuSans-97\"/>\r\n       <use x=\"191.40625\" xlink:href=\"#DejaVuSans-110\"/>\r\n       <use x=\"254.785156\" xlink:href=\"#DejaVuSans-115\"/>\r\n      </g>\r\n     </g>\r\n    </g>\r\n    <g id=\"xtick_2\">\r\n     <g id=\"line2d_2\">\r\n      <g>\r\n       <use style=\"stroke:#000000;stroke-width:0.8;\" x=\"114.20375\" xlink:href=\"#m437a33c188\" y=\"442.08\"/>\r\n      </g>\r\n     </g>\r\n     <g id=\"text_2\">\r\n      <!-- Cabbage -->\r\n      <g transform=\"translate(100.443894 485.874964)rotate(-45)scale(0.1 -0.1)\">\r\n       <defs>\r\n        <path d=\"M 64.40625 67.28125 \r\nL 64.40625 56.890625 \r\nQ 59.421875 61.53125 53.78125 63.8125 \r\nQ 48.140625 66.109375 41.796875 66.109375 \r\nQ 29.296875 66.109375 22.65625 58.46875 \r\nQ 16.015625 50.828125 16.015625 36.375 \r\nQ 16.015625 21.96875 22.65625 14.328125 \r\nQ 29.296875 6.6875 41.796875 6.6875 \r\nQ 48.140625 6.6875 53.78125 8.984375 \r\nQ 59.421875 11.28125 64.40625 15.921875 \r\nL 64.40625 5.609375 \r\nQ 59.234375 2.09375 53.4375 0.328125 \r\nQ 47.65625 -1.421875 41.21875 -1.421875 \r\nQ 24.65625 -1.421875 15.125 8.703125 \r\nQ 5.609375 18.84375 5.609375 36.375 \r\nQ 5.609375 53.953125 15.125 64.078125 \r\nQ 24.65625 74.21875 41.21875 74.21875 \r\nQ 47.75 74.21875 53.53125 72.484375 \r\nQ 59.328125 70.75 64.40625 67.28125 \r\nz\r\n\" id=\"DejaVuSans-67\"/>\r\n        <path d=\"M 48.6875 27.296875 \r\nQ 48.6875 37.203125 44.609375 42.84375 \r\nQ 40.53125 48.484375 33.40625 48.484375 \r\nQ 26.265625 48.484375 22.1875 42.84375 \r\nQ 18.109375 37.203125 18.109375 27.296875 \r\nQ 18.109375 17.390625 22.1875 11.75 \r\nQ 26.265625 6.109375 33.40625 6.109375 \r\nQ 40.53125 6.109375 44.609375 11.75 \r\nQ 48.6875 17.390625 48.6875 27.296875 \r\nz\r\nM 18.109375 46.390625 \r\nQ 20.953125 51.265625 25.265625 53.625 \r\nQ 29.59375 56 35.59375 56 \r\nQ 45.5625 56 51.78125 48.09375 \r\nQ 58.015625 40.1875 58.015625 27.296875 \r\nQ 58.015625 14.40625 51.78125 6.484375 \r\nQ 45.5625 -1.421875 35.59375 -1.421875 \r\nQ 29.59375 -1.421875 25.265625 0.953125 \r\nQ 20.953125 3.328125 18.109375 8.203125 \r\nL 18.109375 0 \r\nL 9.078125 0 \r\nL 9.078125 75.984375 \r\nL 18.109375 75.984375 \r\nz\r\n\" id=\"DejaVuSans-98\"/>\r\n        <path d=\"M 45.40625 27.984375 \r\nQ 45.40625 37.75 41.375 43.109375 \r\nQ 37.359375 48.484375 30.078125 48.484375 \r\nQ 22.859375 48.484375 18.828125 43.109375 \r\nQ 14.796875 37.75 14.796875 27.984375 \r\nQ 14.796875 18.265625 18.828125 12.890625 \r\nQ 22.859375 7.515625 30.078125 7.515625 \r\nQ 37.359375 7.515625 41.375 12.890625 \r\nQ 45.40625 18.265625 45.40625 27.984375 \r\nz\r\nM 54.390625 6.78125 \r\nQ 54.390625 -7.171875 48.1875 -13.984375 \r\nQ 42 -20.796875 29.203125 -20.796875 \r\nQ 24.46875 -20.796875 20.265625 -20.09375 \r\nQ 16.0625 -19.390625 12.109375 -17.921875 \r\nL 12.109375 -9.1875 \r\nQ 16.0625 -11.328125 19.921875 -12.34375 \r\nQ 23.78125 -13.375 27.78125 -13.375 \r\nQ 36.625 -13.375 41.015625 -8.765625 \r\nQ 45.40625 -4.15625 45.40625 5.171875 \r\nL 45.40625 9.625 \r\nQ 42.625 4.78125 38.28125 2.390625 \r\nQ 33.9375 0 27.875 0 \r\nQ 17.828125 0 11.671875 7.65625 \r\nQ 5.515625 15.328125 5.515625 27.984375 \r\nQ 5.515625 40.671875 11.671875 48.328125 \r\nQ 17.828125 56 27.875 56 \r\nQ 33.9375 56 38.28125 53.609375 \r\nQ 42.625 51.21875 45.40625 46.390625 \r\nL 45.40625 54.6875 \r\nL 54.390625 54.6875 \r\nz\r\n\" id=\"DejaVuSans-103\"/>\r\n       </defs>\r\n       <use xlink:href=\"#DejaVuSans-67\"/>\r\n       <use x=\"69.824219\" xlink:href=\"#DejaVuSans-97\"/>\r\n       <use x=\"131.103516\" xlink:href=\"#DejaVuSans-98\"/>\r\n       <use x=\"194.580078\" xlink:href=\"#DejaVuSans-98\"/>\r\n       <use x=\"258.056641\" xlink:href=\"#DejaVuSans-97\"/>\r\n       <use x=\"319.335938\" xlink:href=\"#DejaVuSans-103\"/>\r\n       <use x=\"382.8125\" xlink:href=\"#DejaVuSans-101\"/>\r\n      </g>\r\n     </g>\r\n    </g>\r\n    <g id=\"xtick_3\">\r\n     <g id=\"line2d_3\">\r\n      <g>\r\n       <use style=\"stroke:#000000;stroke-width:0.8;\" x=\"158.84375\" xlink:href=\"#m437a33c188\" y=\"442.08\"/>\r\n      </g>\r\n     </g>\r\n     <g id=\"text_3\">\r\n      <!-- Carrots -->\r\n      <g transform=\"translate(148.002919 480.036914)rotate(-45)scale(0.1 -0.1)\">\r\n       <defs>\r\n        <path d=\"M 41.109375 46.296875 \r\nQ 39.59375 47.171875 37.8125 47.578125 \r\nQ 36.03125 48 33.890625 48 \r\nQ 26.265625 48 22.1875 43.046875 \r\nQ 18.109375 38.09375 18.109375 28.8125 \r\nL 18.109375 0 \r\nL 9.078125 0 \r\nL 9.078125 54.6875 \r\nL 18.109375 54.6875 \r\nL 18.109375 46.1875 \r\nQ 20.953125 51.171875 25.484375 53.578125 \r\nQ 30.03125 56 36.53125 56 \r\nQ 37.453125 56 38.578125 55.875 \r\nQ 39.703125 55.765625 41.0625 55.515625 \r\nz\r\n\" id=\"DejaVuSans-114\"/>\r\n        <path d=\"M 30.609375 48.390625 \r\nQ 23.390625 48.390625 19.1875 42.75 \r\nQ 14.984375 37.109375 14.984375 27.296875 \r\nQ 14.984375 17.484375 19.15625 11.84375 \r\nQ 23.34375 6.203125 30.609375 6.203125 \r\nQ 37.796875 6.203125 41.984375 11.859375 \r\nQ 46.1875 17.53125 46.1875 27.296875 \r\nQ 46.1875 37.015625 41.984375 42.703125 \r\nQ 37.796875 48.390625 30.609375 48.390625 \r\nz\r\nM 30.609375 56 \r\nQ 42.328125 56 49.015625 48.375 \r\nQ 55.71875 40.765625 55.71875 27.296875 \r\nQ 55.71875 13.875 49.015625 6.21875 \r\nQ 42.328125 -1.421875 30.609375 -1.421875 \r\nQ 18.84375 -1.421875 12.171875 6.21875 \r\nQ 5.515625 13.875 5.515625 27.296875 \r\nQ 5.515625 40.765625 12.171875 48.375 \r\nQ 18.84375 56 30.609375 56 \r\nz\r\n\" id=\"DejaVuSans-111\"/>\r\n        <path d=\"M 18.3125 70.21875 \r\nL 18.3125 54.6875 \r\nL 36.8125 54.6875 \r\nL 36.8125 47.703125 \r\nL 18.3125 47.703125 \r\nL 18.3125 18.015625 \r\nQ 18.3125 11.328125 20.140625 9.421875 \r\nQ 21.96875 7.515625 27.59375 7.515625 \r\nL 36.8125 7.515625 \r\nL 36.8125 0 \r\nL 27.59375 0 \r\nQ 17.1875 0 13.234375 3.875 \r\nQ 9.28125 7.765625 9.28125 18.015625 \r\nL 9.28125 47.703125 \r\nL 2.6875 47.703125 \r\nL 2.6875 54.6875 \r\nL 9.28125 54.6875 \r\nL 9.28125 70.21875 \r\nz\r\n\" id=\"DejaVuSans-116\"/>\r\n       </defs>\r\n       <use xlink:href=\"#DejaVuSans-67\"/>\r\n       <use x=\"69.824219\" xlink:href=\"#DejaVuSans-97\"/>\r\n       <use x=\"131.103516\" xlink:href=\"#DejaVuSans-114\"/>\r\n       <use x=\"170.466797\" xlink:href=\"#DejaVuSans-114\"/>\r\n       <use x=\"209.330078\" xlink:href=\"#DejaVuSans-111\"/>\r\n       <use x=\"270.511719\" xlink:href=\"#DejaVuSans-116\"/>\r\n       <use x=\"309.720703\" xlink:href=\"#DejaVuSans-115\"/>\r\n      </g>\r\n     </g>\r\n    </g>\r\n    <g id=\"xtick_4\">\r\n     <g id=\"line2d_4\">\r\n      <g>\r\n       <use style=\"stroke:#000000;stroke-width:0.8;\" x=\"203.48375\" xlink:href=\"#m437a33c188\" y=\"442.08\"/>\r\n      </g>\r\n     </g>\r\n     <g id=\"text_4\">\r\n      <!-- Eggs -->\r\n      <g transform=\"translate(196.870092 471.582568)rotate(-45)scale(0.1 -0.1)\">\r\n       <defs>\r\n        <path d=\"M 9.8125 72.90625 \r\nL 55.90625 72.90625 \r\nL 55.90625 64.59375 \r\nL 19.671875 64.59375 \r\nL 19.671875 43.015625 \r\nL 54.390625 43.015625 \r\nL 54.390625 34.71875 \r\nL 19.671875 34.71875 \r\nL 19.671875 8.296875 \r\nL 56.78125 8.296875 \r\nL 56.78125 0 \r\nL 9.8125 0 \r\nz\r\n\" id=\"DejaVuSans-69\"/>\r\n       </defs>\r\n       <use xlink:href=\"#DejaVuSans-69\"/>\r\n       <use x=\"63.183594\" xlink:href=\"#DejaVuSans-103\"/>\r\n       <use x=\"126.660156\" xlink:href=\"#DejaVuSans-103\"/>\r\n       <use x=\"190.136719\" xlink:href=\"#DejaVuSans-115\"/>\r\n      </g>\r\n     </g>\r\n    </g>\r\n    <g id=\"xtick_5\">\r\n     <g id=\"line2d_5\">\r\n      <g>\r\n       <use style=\"stroke:#000000;stroke-width:0.8;\" x=\"248.12375\" xlink:href=\"#m437a33c188\" y=\"442.08\"/>\r\n      </g>\r\n     </g>\r\n     <g id=\"text_5\">\r\n      <!-- Fish -->\r\n      <g transform=\"translate(243.233112 468.136528)rotate(-45)scale(0.1 -0.1)\">\r\n       <defs>\r\n        <path d=\"M 9.8125 72.90625 \r\nL 51.703125 72.90625 \r\nL 51.703125 64.59375 \r\nL 19.671875 64.59375 \r\nL 19.671875 43.109375 \r\nL 48.578125 43.109375 \r\nL 48.578125 34.8125 \r\nL 19.671875 34.8125 \r\nL 19.671875 0 \r\nL 9.8125 0 \r\nz\r\n\" id=\"DejaVuSans-70\"/>\r\n        <path d=\"M 9.421875 54.6875 \r\nL 18.40625 54.6875 \r\nL 18.40625 0 \r\nL 9.421875 0 \r\nz\r\nM 9.421875 75.984375 \r\nL 18.40625 75.984375 \r\nL 18.40625 64.59375 \r\nL 9.421875 64.59375 \r\nz\r\n\" id=\"DejaVuSans-105\"/>\r\n        <path d=\"M 54.890625 33.015625 \r\nL 54.890625 0 \r\nL 45.90625 0 \r\nL 45.90625 32.71875 \r\nQ 45.90625 40.484375 42.875 44.328125 \r\nQ 39.84375 48.1875 33.796875 48.1875 \r\nQ 26.515625 48.1875 22.3125 43.546875 \r\nQ 18.109375 38.921875 18.109375 30.90625 \r\nL 18.109375 0 \r\nL 9.078125 0 \r\nL 9.078125 75.984375 \r\nL 18.109375 75.984375 \r\nL 18.109375 46.1875 \r\nQ 21.34375 51.125 25.703125 53.5625 \r\nQ 30.078125 56 35.796875 56 \r\nQ 45.21875 56 50.046875 50.171875 \r\nQ 54.890625 44.34375 54.890625 33.015625 \r\nz\r\n\" id=\"DejaVuSans-104\"/>\r\n       </defs>\r\n       <use xlink:href=\"#DejaVuSans-70\"/>\r\n       <use x=\"50.269531\" xlink:href=\"#DejaVuSans-105\"/>\r\n       <use x=\"78.052734\" xlink:href=\"#DejaVuSans-115\"/>\r\n       <use x=\"130.152344\" xlink:href=\"#DejaVuSans-104\"/>\r\n      </g>\r\n     </g>\r\n    </g>\r\n    <g id=\"xtick_6\">\r\n     <g id=\"line2d_6\">\r\n      <g>\r\n       <use style=\"stroke:#000000;stroke-width:0.8;\" x=\"292.76375\" xlink:href=\"#m437a33c188\" y=\"442.08\"/>\r\n      </g>\r\n     </g>\r\n     <g id=\"text_6\">\r\n      <!-- Garlic -->\r\n      <g transform=\"translate(284.446959 474.988834)rotate(-45)scale(0.1 -0.1)\">\r\n       <defs>\r\n        <path d=\"M 59.515625 10.40625 \r\nL 59.515625 29.984375 \r\nL 43.40625 29.984375 \r\nL 43.40625 38.09375 \r\nL 69.28125 38.09375 \r\nL 69.28125 6.78125 \r\nQ 63.578125 2.734375 56.6875 0.65625 \r\nQ 49.8125 -1.421875 42 -1.421875 \r\nQ 24.90625 -1.421875 15.25 8.5625 \r\nQ 5.609375 18.5625 5.609375 36.375 \r\nQ 5.609375 54.25 15.25 64.234375 \r\nQ 24.90625 74.21875 42 74.21875 \r\nQ 49.125 74.21875 55.546875 72.453125 \r\nQ 61.96875 70.703125 67.390625 67.28125 \r\nL 67.390625 56.78125 \r\nQ 61.921875 61.421875 55.765625 63.765625 \r\nQ 49.609375 66.109375 42.828125 66.109375 \r\nQ 29.4375 66.109375 22.71875 58.640625 \r\nQ 16.015625 51.171875 16.015625 36.375 \r\nQ 16.015625 21.625 22.71875 14.15625 \r\nQ 29.4375 6.6875 42.828125 6.6875 \r\nQ 48.046875 6.6875 52.140625 7.59375 \r\nQ 56.25 8.5 59.515625 10.40625 \r\nz\r\n\" id=\"DejaVuSans-71\"/>\r\n        <path d=\"M 9.421875 75.984375 \r\nL 18.40625 75.984375 \r\nL 18.40625 0 \r\nL 9.421875 0 \r\nz\r\n\" id=\"DejaVuSans-108\"/>\r\n        <path d=\"M 48.78125 52.59375 \r\nL 48.78125 44.1875 \r\nQ 44.96875 46.296875 41.140625 47.34375 \r\nQ 37.3125 48.390625 33.40625 48.390625 \r\nQ 24.65625 48.390625 19.8125 42.84375 \r\nQ 14.984375 37.3125 14.984375 27.296875 \r\nQ 14.984375 17.28125 19.8125 11.734375 \r\nQ 24.65625 6.203125 33.40625 6.203125 \r\nQ 37.3125 6.203125 41.140625 7.25 \r\nQ 44.96875 8.296875 48.78125 10.40625 \r\nL 48.78125 2.09375 \r\nQ 45.015625 0.34375 40.984375 -0.53125 \r\nQ 36.96875 -1.421875 32.421875 -1.421875 \r\nQ 20.0625 -1.421875 12.78125 6.34375 \r\nQ 5.515625 14.109375 5.515625 27.296875 \r\nQ 5.515625 40.671875 12.859375 48.328125 \r\nQ 20.21875 56 33.015625 56 \r\nQ 37.15625 56 41.109375 55.140625 \r\nQ 45.0625 54.296875 48.78125 52.59375 \r\nz\r\n\" id=\"DejaVuSans-99\"/>\r\n       </defs>\r\n       <use xlink:href=\"#DejaVuSans-71\"/>\r\n       <use x=\"77.490234\" xlink:href=\"#DejaVuSans-97\"/>\r\n       <use x=\"138.769531\" xlink:href=\"#DejaVuSans-114\"/>\r\n       <use x=\"179.882812\" xlink:href=\"#DejaVuSans-108\"/>\r\n       <use x=\"207.666016\" xlink:href=\"#DejaVuSans-105\"/>\r\n       <use x=\"235.449219\" xlink:href=\"#DejaVuSans-99\"/>\r\n      </g>\r\n     </g>\r\n    </g>\r\n    <g id=\"xtick_7\">\r\n     <g id=\"line2d_7\">\r\n      <g>\r\n       <use style=\"stroke:#000000;stroke-width:0.8;\" x=\"337.40375\" xlink:href=\"#m437a33c188\" y=\"442.08\"/>\r\n      </g>\r\n     </g>\r\n     <g id=\"text_7\">\r\n      <!-- Groundnuts -->\r\n      <g transform=\"translate(318.643323 495.876106)rotate(-45)scale(0.1 -0.1)\">\r\n       <defs>\r\n        <path d=\"M 8.5 21.578125 \r\nL 8.5 54.6875 \r\nL 17.484375 54.6875 \r\nL 17.484375 21.921875 \r\nQ 17.484375 14.15625 20.5 10.265625 \r\nQ 23.53125 6.390625 29.59375 6.390625 \r\nQ 36.859375 6.390625 41.078125 11.03125 \r\nQ 45.3125 15.671875 45.3125 23.6875 \r\nL 45.3125 54.6875 \r\nL 54.296875 54.6875 \r\nL 54.296875 0 \r\nL 45.3125 0 \r\nL 45.3125 8.40625 \r\nQ 42.046875 3.421875 37.71875 1 \r\nQ 33.40625 -1.421875 27.6875 -1.421875 \r\nQ 18.265625 -1.421875 13.375 4.4375 \r\nQ 8.5 10.296875 8.5 21.578125 \r\nz\r\nM 31.109375 56 \r\nz\r\n\" id=\"DejaVuSans-117\"/>\r\n        <path d=\"M 45.40625 46.390625 \r\nL 45.40625 75.984375 \r\nL 54.390625 75.984375 \r\nL 54.390625 0 \r\nL 45.40625 0 \r\nL 45.40625 8.203125 \r\nQ 42.578125 3.328125 38.25 0.953125 \r\nQ 33.9375 -1.421875 27.875 -1.421875 \r\nQ 17.96875 -1.421875 11.734375 6.484375 \r\nQ 5.515625 14.40625 5.515625 27.296875 \r\nQ 5.515625 40.1875 11.734375 48.09375 \r\nQ 17.96875 56 27.875 56 \r\nQ 33.9375 56 38.25 53.625 \r\nQ 42.578125 51.265625 45.40625 46.390625 \r\nz\r\nM 14.796875 27.296875 \r\nQ 14.796875 17.390625 18.875 11.75 \r\nQ 22.953125 6.109375 30.078125 6.109375 \r\nQ 37.203125 6.109375 41.296875 11.75 \r\nQ 45.40625 17.390625 45.40625 27.296875 \r\nQ 45.40625 37.203125 41.296875 42.84375 \r\nQ 37.203125 48.484375 30.078125 48.484375 \r\nQ 22.953125 48.484375 18.875 42.84375 \r\nQ 14.796875 37.203125 14.796875 27.296875 \r\nz\r\n\" id=\"DejaVuSans-100\"/>\r\n       </defs>\r\n       <use xlink:href=\"#DejaVuSans-71\"/>\r\n       <use x=\"77.490234\" xlink:href=\"#DejaVuSans-114\"/>\r\n       <use x=\"116.353516\" xlink:href=\"#DejaVuSans-111\"/>\r\n       <use x=\"177.535156\" xlink:href=\"#DejaVuSans-117\"/>\r\n       <use x=\"240.914062\" xlink:href=\"#DejaVuSans-110\"/>\r\n       <use x=\"304.292969\" xlink:href=\"#DejaVuSans-100\"/>\r\n       <use x=\"367.769531\" xlink:href=\"#DejaVuSans-110\"/>\r\n       <use x=\"431.148438\" xlink:href=\"#DejaVuSans-117\"/>\r\n       <use x=\"494.527344\" xlink:href=\"#DejaVuSans-116\"/>\r\n       <use x=\"533.736328\" xlink:href=\"#DejaVuSans-115\"/>\r\n      </g>\r\n     </g>\r\n    </g>\r\n    <g id=\"xtick_8\">\r\n     <g id=\"line2d_8\">\r\n      <g>\r\n       <use style=\"stroke:#000000;stroke-width:0.8;\" x=\"382.04375\" xlink:href=\"#m437a33c188\" y=\"442.08\"/>\r\n      </g>\r\n     </g>\r\n     <g id=\"text_8\">\r\n      <!-- Maize -->\r\n      <g transform=\"translate(373.764524 474.913704)rotate(-45)scale(0.1 -0.1)\">\r\n       <defs>\r\n        <path d=\"M 9.8125 72.90625 \r\nL 24.515625 72.90625 \r\nL 43.109375 23.296875 \r\nL 61.8125 72.90625 \r\nL 76.515625 72.90625 \r\nL 76.515625 0 \r\nL 66.890625 0 \r\nL 66.890625 64.015625 \r\nL 48.09375 14.015625 \r\nL 38.1875 14.015625 \r\nL 19.390625 64.015625 \r\nL 19.390625 0 \r\nL 9.8125 0 \r\nz\r\n\" id=\"DejaVuSans-77\"/>\r\n        <path d=\"M 5.515625 54.6875 \r\nL 48.1875 54.6875 \r\nL 48.1875 46.484375 \r\nL 14.40625 7.171875 \r\nL 48.1875 7.171875 \r\nL 48.1875 0 \r\nL 4.296875 0 \r\nL 4.296875 8.203125 \r\nL 38.09375 47.515625 \r\nL 5.515625 47.515625 \r\nz\r\n\" id=\"DejaVuSans-122\"/>\r\n       </defs>\r\n       <use xlink:href=\"#DejaVuSans-77\"/>\r\n       <use x=\"86.279297\" xlink:href=\"#DejaVuSans-97\"/>\r\n       <use x=\"147.558594\" xlink:href=\"#DejaVuSans-105\"/>\r\n       <use x=\"175.341797\" xlink:href=\"#DejaVuSans-122\"/>\r\n       <use x=\"227.832031\" xlink:href=\"#DejaVuSans-101\"/>\r\n      </g>\r\n     </g>\r\n    </g>\r\n    <g id=\"xtick_9\">\r\n     <g id=\"line2d_9\">\r\n      <g>\r\n       <use style=\"stroke:#000000;stroke-width:0.8;\" x=\"426.68375\" xlink:href=\"#m437a33c188\" y=\"442.08\"/>\r\n      </g>\r\n     </g>\r\n     <g id=\"text_9\">\r\n      <!-- Maize flour -->\r\n      <g transform=\"translate(409.196668 493.329417)rotate(-45)scale(0.1 -0.1)\">\r\n       <defs>\r\n        <path id=\"DejaVuSans-32\"/>\r\n        <path d=\"M 37.109375 75.984375 \r\nL 37.109375 68.5 \r\nL 28.515625 68.5 \r\nQ 23.6875 68.5 21.796875 66.546875 \r\nQ 19.921875 64.59375 19.921875 59.515625 \r\nL 19.921875 54.6875 \r\nL 34.71875 54.6875 \r\nL 34.71875 47.703125 \r\nL 19.921875 47.703125 \r\nL 19.921875 0 \r\nL 10.890625 0 \r\nL 10.890625 47.703125 \r\nL 2.296875 47.703125 \r\nL 2.296875 54.6875 \r\nL 10.890625 54.6875 \r\nL 10.890625 58.5 \r\nQ 10.890625 67.625 15.140625 71.796875 \r\nQ 19.390625 75.984375 28.609375 75.984375 \r\nz\r\n\" id=\"DejaVuSans-102\"/>\r\n       </defs>\r\n       <use xlink:href=\"#DejaVuSans-77\"/>\r\n       <use x=\"86.279297\" xlink:href=\"#DejaVuSans-97\"/>\r\n       <use x=\"147.558594\" xlink:href=\"#DejaVuSans-105\"/>\r\n       <use x=\"175.341797\" xlink:href=\"#DejaVuSans-122\"/>\r\n       <use x=\"227.832031\" xlink:href=\"#DejaVuSans-101\"/>\r\n       <use x=\"289.355469\" xlink:href=\"#DejaVuSans-32\"/>\r\n       <use x=\"321.142578\" xlink:href=\"#DejaVuSans-102\"/>\r\n       <use x=\"356.347656\" xlink:href=\"#DejaVuSans-108\"/>\r\n       <use x=\"384.130859\" xlink:href=\"#DejaVuSans-111\"/>\r\n       <use x=\"445.3125\" xlink:href=\"#DejaVuSans-117\"/>\r\n       <use x=\"508.691406\" xlink:href=\"#DejaVuSans-114\"/>\r\n      </g>\r\n     </g>\r\n    </g>\r\n    <g id=\"xtick_10\">\r\n     <g id=\"line2d_10\">\r\n      <g>\r\n       <use style=\"stroke:#000000;stroke-width:0.8;\" x=\"471.32375\" xlink:href=\"#m437a33c188\" y=\"442.08\"/>\r\n      </g>\r\n     </g>\r\n     <g id=\"text_10\">\r\n      <!-- Meat -->\r\n      <g transform=\"translate(464.496303 472.010147)rotate(-45)scale(0.1 -0.1)\">\r\n       <use xlink:href=\"#DejaVuSans-77\"/>\r\n       <use x=\"86.279297\" xlink:href=\"#DejaVuSans-101\"/>\r\n       <use x=\"147.802734\" xlink:href=\"#DejaVuSans-97\"/>\r\n       <use x=\"209.082031\" xlink:href=\"#DejaVuSans-116\"/>\r\n      </g>\r\n     </g>\r\n    </g>\r\n    <g id=\"xtick_11\">\r\n     <g id=\"line2d_11\">\r\n      <g>\r\n       <use style=\"stroke:#000000;stroke-width:0.8;\" x=\"515.96375\" xlink:href=\"#m437a33c188\" y=\"442.08\"/>\r\n      </g>\r\n     </g>\r\n     <g id=\"text_11\">\r\n      <!-- Onions -->\r\n      <g transform=\"translate(505.663193 478.956366)rotate(-45)scale(0.1 -0.1)\">\r\n       <defs>\r\n        <path d=\"M 39.40625 66.21875 \r\nQ 28.65625 66.21875 22.328125 58.203125 \r\nQ 16.015625 50.203125 16.015625 36.375 \r\nQ 16.015625 22.609375 22.328125 14.59375 \r\nQ 28.65625 6.59375 39.40625 6.59375 \r\nQ 50.140625 6.59375 56.421875 14.59375 \r\nQ 62.703125 22.609375 62.703125 36.375 \r\nQ 62.703125 50.203125 56.421875 58.203125 \r\nQ 50.140625 66.21875 39.40625 66.21875 \r\nz\r\nM 39.40625 74.21875 \r\nQ 54.734375 74.21875 63.90625 63.9375 \r\nQ 73.09375 53.65625 73.09375 36.375 \r\nQ 73.09375 19.140625 63.90625 8.859375 \r\nQ 54.734375 -1.421875 39.40625 -1.421875 \r\nQ 24.03125 -1.421875 14.8125 8.828125 \r\nQ 5.609375 19.09375 5.609375 36.375 \r\nQ 5.609375 53.65625 14.8125 63.9375 \r\nQ 24.03125 74.21875 39.40625 74.21875 \r\nz\r\n\" id=\"DejaVuSans-79\"/>\r\n       </defs>\r\n       <use xlink:href=\"#DejaVuSans-79\"/>\r\n       <use x=\"78.710938\" xlink:href=\"#DejaVuSans-110\"/>\r\n       <use x=\"142.089844\" xlink:href=\"#DejaVuSans-105\"/>\r\n       <use x=\"169.873047\" xlink:href=\"#DejaVuSans-111\"/>\r\n       <use x=\"231.054688\" xlink:href=\"#DejaVuSans-110\"/>\r\n       <use x=\"294.433594\" xlink:href=\"#DejaVuSans-115\"/>\r\n      </g>\r\n     </g>\r\n    </g>\r\n    <g id=\"xtick_12\">\r\n     <g id=\"line2d_12\">\r\n      <g>\r\n       <use style=\"stroke:#000000;stroke-width:0.8;\" x=\"560.60375\" xlink:href=\"#m437a33c188\" y=\"442.08\"/>\r\n      </g>\r\n     </g>\r\n     <g id=\"text_12\">\r\n      <!-- Potatoes -->\r\n      <g transform=\"translate(547.26871 485.025331)rotate(-45)scale(0.1 -0.1)\">\r\n       <defs>\r\n        <path d=\"M 19.671875 64.796875 \r\nL 19.671875 37.40625 \r\nL 32.078125 37.40625 \r\nQ 38.96875 37.40625 42.71875 40.96875 \r\nQ 46.484375 44.53125 46.484375 51.125 \r\nQ 46.484375 57.671875 42.71875 61.234375 \r\nQ 38.96875 64.796875 32.078125 64.796875 \r\nz\r\nM 9.8125 72.90625 \r\nL 32.078125 72.90625 \r\nQ 44.34375 72.90625 50.609375 67.359375 \r\nQ 56.890625 61.8125 56.890625 51.125 \r\nQ 56.890625 40.328125 50.609375 34.8125 \r\nQ 44.34375 29.296875 32.078125 29.296875 \r\nL 19.671875 29.296875 \r\nL 19.671875 0 \r\nL 9.8125 0 \r\nz\r\n\" id=\"DejaVuSans-80\"/>\r\n       </defs>\r\n       <use xlink:href=\"#DejaVuSans-80\"/>\r\n       <use x=\"56.677734\" xlink:href=\"#DejaVuSans-111\"/>\r\n       <use x=\"117.859375\" xlink:href=\"#DejaVuSans-116\"/>\r\n       <use x=\"157.068359\" xlink:href=\"#DejaVuSans-97\"/>\r\n       <use x=\"218.347656\" xlink:href=\"#DejaVuSans-116\"/>\r\n       <use x=\"257.556641\" xlink:href=\"#DejaVuSans-111\"/>\r\n       <use x=\"318.738281\" xlink:href=\"#DejaVuSans-101\"/>\r\n       <use x=\"380.261719\" xlink:href=\"#DejaVuSans-115\"/>\r\n      </g>\r\n     </g>\r\n    </g>\r\n    <g id=\"xtick_13\">\r\n     <g id=\"line2d_13\">\r\n      <g>\r\n       <use style=\"stroke:#000000;stroke-width:0.8;\" x=\"605.24375\" xlink:href=\"#m437a33c188\" y=\"442.08\"/>\r\n      </g>\r\n     </g>\r\n     <g id=\"text_13\">\r\n      <!-- Rice -->\r\n      <g transform=\"translate(599.636614 469.569524)rotate(-45)scale(0.1 -0.1)\">\r\n       <defs>\r\n        <path d=\"M 44.390625 34.1875 \r\nQ 47.5625 33.109375 50.5625 29.59375 \r\nQ 53.5625 26.078125 56.59375 19.921875 \r\nL 66.609375 0 \r\nL 56 0 \r\nL 46.6875 18.703125 \r\nQ 43.0625 26.03125 39.671875 28.421875 \r\nQ 36.28125 30.8125 30.421875 30.8125 \r\nL 19.671875 30.8125 \r\nL 19.671875 0 \r\nL 9.8125 0 \r\nL 9.8125 72.90625 \r\nL 32.078125 72.90625 \r\nQ 44.578125 72.90625 50.734375 67.671875 \r\nQ 56.890625 62.453125 56.890625 51.90625 \r\nQ 56.890625 45.015625 53.6875 40.46875 \r\nQ 50.484375 35.9375 44.390625 34.1875 \r\nz\r\nM 19.671875 64.796875 \r\nL 19.671875 38.921875 \r\nL 32.078125 38.921875 \r\nQ 39.203125 38.921875 42.84375 42.21875 \r\nQ 46.484375 45.515625 46.484375 51.90625 \r\nQ 46.484375 58.296875 42.84375 61.546875 \r\nQ 39.203125 64.796875 32.078125 64.796875 \r\nz\r\n\" id=\"DejaVuSans-82\"/>\r\n       </defs>\r\n       <use xlink:href=\"#DejaVuSans-82\"/>\r\n       <use x=\"69.482422\" xlink:href=\"#DejaVuSans-105\"/>\r\n       <use x=\"97.265625\" xlink:href=\"#DejaVuSans-99\"/>\r\n       <use x=\"152.246094\" xlink:href=\"#DejaVuSans-101\"/>\r\n      </g>\r\n     </g>\r\n    </g>\r\n    <g id=\"xtick_14\">\r\n     <g id=\"line2d_14\">\r\n      <g>\r\n       <use style=\"stroke:#000000;stroke-width:0.8;\" x=\"649.88375\" xlink:href=\"#m437a33c188\" y=\"442.08\"/>\r\n      </g>\r\n     </g>\r\n     <g id=\"text_14\">\r\n      <!-- Sweet potatoes -->\r\n      <g transform=\"translate(624.311344 509.500065)rotate(-45)scale(0.1 -0.1)\">\r\n       <defs>\r\n        <path d=\"M 53.515625 70.515625 \r\nL 53.515625 60.890625 \r\nQ 47.90625 63.578125 42.921875 64.890625 \r\nQ 37.9375 66.21875 33.296875 66.21875 \r\nQ 25.25 66.21875 20.875 63.09375 \r\nQ 16.5 59.96875 16.5 54.203125 \r\nQ 16.5 49.359375 19.40625 46.890625 \r\nQ 22.3125 44.4375 30.421875 42.921875 \r\nL 36.375 41.703125 \r\nQ 47.40625 39.59375 52.65625 34.296875 \r\nQ 57.90625 29 57.90625 20.125 \r\nQ 57.90625 9.515625 50.796875 4.046875 \r\nQ 43.703125 -1.421875 29.984375 -1.421875 \r\nQ 24.8125 -1.421875 18.96875 -0.25 \r\nQ 13.140625 0.921875 6.890625 3.21875 \r\nL 6.890625 13.375 \r\nQ 12.890625 10.015625 18.65625 8.296875 \r\nQ 24.421875 6.59375 29.984375 6.59375 \r\nQ 38.421875 6.59375 43.015625 9.90625 \r\nQ 47.609375 13.234375 47.609375 19.390625 \r\nQ 47.609375 24.75 44.3125 27.78125 \r\nQ 41.015625 30.8125 33.5 32.328125 \r\nL 27.484375 33.5 \r\nQ 16.453125 35.6875 11.515625 40.375 \r\nQ 6.59375 45.0625 6.59375 53.421875 \r\nQ 6.59375 63.09375 13.40625 68.65625 \r\nQ 20.21875 74.21875 32.171875 74.21875 \r\nQ 37.3125 74.21875 42.625 73.28125 \r\nQ 47.953125 72.359375 53.515625 70.515625 \r\nz\r\n\" id=\"DejaVuSans-83\"/>\r\n        <path d=\"M 4.203125 54.6875 \r\nL 13.1875 54.6875 \r\nL 24.421875 12.015625 \r\nL 35.59375 54.6875 \r\nL 46.1875 54.6875 \r\nL 57.421875 12.015625 \r\nL 68.609375 54.6875 \r\nL 77.59375 54.6875 \r\nL 63.28125 0 \r\nL 52.6875 0 \r\nL 40.921875 44.828125 \r\nL 29.109375 0 \r\nL 18.5 0 \r\nz\r\n\" id=\"DejaVuSans-119\"/>\r\n        <path d=\"M 18.109375 8.203125 \r\nL 18.109375 -20.796875 \r\nL 9.078125 -20.796875 \r\nL 9.078125 54.6875 \r\nL 18.109375 54.6875 \r\nL 18.109375 46.390625 \r\nQ 20.953125 51.265625 25.265625 53.625 \r\nQ 29.59375 56 35.59375 56 \r\nQ 45.5625 56 51.78125 48.09375 \r\nQ 58.015625 40.1875 58.015625 27.296875 \r\nQ 58.015625 14.40625 51.78125 6.484375 \r\nQ 45.5625 -1.421875 35.59375 -1.421875 \r\nQ 29.59375 -1.421875 25.265625 0.953125 \r\nQ 20.953125 3.328125 18.109375 8.203125 \r\nz\r\nM 48.6875 27.296875 \r\nQ 48.6875 37.203125 44.609375 42.84375 \r\nQ 40.53125 48.484375 33.40625 48.484375 \r\nQ 26.265625 48.484375 22.1875 42.84375 \r\nQ 18.109375 37.203125 18.109375 27.296875 \r\nQ 18.109375 17.390625 22.1875 11.75 \r\nQ 26.265625 6.109375 33.40625 6.109375 \r\nQ 40.53125 6.109375 44.609375 11.75 \r\nQ 48.6875 17.390625 48.6875 27.296875 \r\nz\r\n\" id=\"DejaVuSans-112\"/>\r\n       </defs>\r\n       <use xlink:href=\"#DejaVuSans-83\"/>\r\n       <use x=\"63.476562\" xlink:href=\"#DejaVuSans-119\"/>\r\n       <use x=\"145.263672\" xlink:href=\"#DejaVuSans-101\"/>\r\n       <use x=\"206.787109\" xlink:href=\"#DejaVuSans-101\"/>\r\n       <use x=\"268.310547\" xlink:href=\"#DejaVuSans-116\"/>\r\n       <use x=\"307.519531\" xlink:href=\"#DejaVuSans-32\"/>\r\n       <use x=\"339.306641\" xlink:href=\"#DejaVuSans-112\"/>\r\n       <use x=\"402.783203\" xlink:href=\"#DejaVuSans-111\"/>\r\n       <use x=\"463.964844\" xlink:href=\"#DejaVuSans-116\"/>\r\n       <use x=\"503.173828\" xlink:href=\"#DejaVuSans-97\"/>\r\n       <use x=\"564.453125\" xlink:href=\"#DejaVuSans-116\"/>\r\n       <use x=\"603.662109\" xlink:href=\"#DejaVuSans-111\"/>\r\n       <use x=\"664.84375\" xlink:href=\"#DejaVuSans-101\"/>\r\n       <use x=\"726.367188\" xlink:href=\"#DejaVuSans-115\"/>\r\n      </g>\r\n     </g>\r\n    </g>\r\n    <g id=\"xtick_15\">\r\n     <g id=\"line2d_15\">\r\n      <g>\r\n       <use style=\"stroke:#000000;stroke-width:0.8;\" x=\"694.52375\" xlink:href=\"#m437a33c188\" y=\"442.08\"/>\r\n      </g>\r\n     </g>\r\n     <g id=\"text_15\">\r\n      <!-- Tomatoes -->\r\n      <g transform=\"translate(679.576176 488.250401)rotate(-45)scale(0.1 -0.1)\">\r\n       <defs>\r\n        <path d=\"M -0.296875 72.90625 \r\nL 61.375 72.90625 \r\nL 61.375 64.59375 \r\nL 35.5 64.59375 \r\nL 35.5 0 \r\nL 25.59375 0 \r\nL 25.59375 64.59375 \r\nL -0.296875 64.59375 \r\nz\r\n\" id=\"DejaVuSans-84\"/>\r\n        <path d=\"M 52 44.1875 \r\nQ 55.375 50.25 60.0625 53.125 \r\nQ 64.75 56 71.09375 56 \r\nQ 79.640625 56 84.28125 50.015625 \r\nQ 88.921875 44.046875 88.921875 33.015625 \r\nL 88.921875 0 \r\nL 79.890625 0 \r\nL 79.890625 32.71875 \r\nQ 79.890625 40.578125 77.09375 44.375 \r\nQ 74.3125 48.1875 68.609375 48.1875 \r\nQ 61.625 48.1875 57.5625 43.546875 \r\nQ 53.515625 38.921875 53.515625 30.90625 \r\nL 53.515625 0 \r\nL 44.484375 0 \r\nL 44.484375 32.71875 \r\nQ 44.484375 40.625 41.703125 44.40625 \r\nQ 38.921875 48.1875 33.109375 48.1875 \r\nQ 26.21875 48.1875 22.15625 43.53125 \r\nQ 18.109375 38.875 18.109375 30.90625 \r\nL 18.109375 0 \r\nL 9.078125 0 \r\nL 9.078125 54.6875 \r\nL 18.109375 54.6875 \r\nL 18.109375 46.1875 \r\nQ 21.1875 51.21875 25.484375 53.609375 \r\nQ 29.78125 56 35.6875 56 \r\nQ 41.65625 56 45.828125 52.96875 \r\nQ 50 49.953125 52 44.1875 \r\nz\r\n\" id=\"DejaVuSans-109\"/>\r\n       </defs>\r\n       <use xlink:href=\"#DejaVuSans-84\"/>\r\n       <use x=\"44.083984\" xlink:href=\"#DejaVuSans-111\"/>\r\n       <use x=\"105.265625\" xlink:href=\"#DejaVuSans-109\"/>\r\n       <use x=\"202.677734\" xlink:href=\"#DejaVuSans-97\"/>\r\n       <use x=\"263.957031\" xlink:href=\"#DejaVuSans-116\"/>\r\n       <use x=\"303.166016\" xlink:href=\"#DejaVuSans-111\"/>\r\n       <use x=\"364.347656\" xlink:href=\"#DejaVuSans-101\"/>\r\n       <use x=\"425.871094\" xlink:href=\"#DejaVuSans-115\"/>\r\n      </g>\r\n     </g>\r\n    </g>\r\n    <g id=\"text_16\">\r\n     <!-- cm_name -->\r\n     <g transform=\"translate(357.744531 522.290938)scale(0.1 -0.1)\">\r\n      <defs>\r\n       <path d=\"M 50.984375 -16.609375 \r\nL 50.984375 -23.578125 \r\nL -0.984375 -23.578125 \r\nL -0.984375 -16.609375 \r\nz\r\n\" id=\"DejaVuSans-95\"/>\r\n      </defs>\r\n      <use xlink:href=\"#DejaVuSans-99\"/>\r\n      <use x=\"54.980469\" xlink:href=\"#DejaVuSans-109\"/>\r\n      <use x=\"152.392578\" xlink:href=\"#DejaVuSans-95\"/>\r\n      <use x=\"202.392578\" xlink:href=\"#DejaVuSans-110\"/>\r\n      <use x=\"265.771484\" xlink:href=\"#DejaVuSans-97\"/>\r\n      <use x=\"327.050781\" xlink:href=\"#DejaVuSans-109\"/>\r\n      <use x=\"424.462891\" xlink:href=\"#DejaVuSans-101\"/>\r\n     </g>\r\n    </g>\r\n   </g>\r\n   <g id=\"matplotlib.axis_2\">\r\n    <g id=\"ytick_1\">\r\n     <g id=\"line2d_16\">\r\n      <defs>\r\n       <path d=\"M 0 0 \r\nL -3.5 0 \r\n\" id=\"m2f984ae081\" style=\"stroke:#000000;stroke-width:0.8;\"/>\r\n      </defs>\r\n      <g>\r\n       <use style=\"stroke:#000000;stroke-width:0.8;\" x=\"47.24375\" xlink:href=\"#m2f984ae081\" y=\"423.379715\"/>\r\n      </g>\r\n     </g>\r\n     <g id=\"text_17\">\r\n      <!-- 0 -->\r\n      <g transform=\"translate(33.88125 427.178933)scale(0.1 -0.1)\">\r\n       <defs>\r\n        <path d=\"M 31.78125 66.40625 \r\nQ 24.171875 66.40625 20.328125 58.90625 \r\nQ 16.5 51.421875 16.5 36.375 \r\nQ 16.5 21.390625 20.328125 13.890625 \r\nQ 24.171875 6.390625 31.78125 6.390625 \r\nQ 39.453125 6.390625 43.28125 13.890625 \r\nQ 47.125 21.390625 47.125 36.375 \r\nQ 47.125 51.421875 43.28125 58.90625 \r\nQ 39.453125 66.40625 31.78125 66.40625 \r\nz\r\nM 31.78125 74.21875 \r\nQ 44.046875 74.21875 50.515625 64.515625 \r\nQ 56.984375 54.828125 56.984375 36.375 \r\nQ 56.984375 17.96875 50.515625 8.265625 \r\nQ 44.046875 -1.421875 31.78125 -1.421875 \r\nQ 19.53125 -1.421875 13.0625 8.265625 \r\nQ 6.59375 17.96875 6.59375 36.375 \r\nQ 6.59375 54.828125 13.0625 64.515625 \r\nQ 19.53125 74.21875 31.78125 74.21875 \r\nz\r\n\" id=\"DejaVuSans-48\"/>\r\n       </defs>\r\n       <use xlink:href=\"#DejaVuSans-48\"/>\r\n      </g>\r\n     </g>\r\n    </g>\r\n    <g id=\"ytick_2\">\r\n     <g id=\"line2d_17\">\r\n      <g>\r\n       <use style=\"stroke:#000000;stroke-width:0.8;\" x=\"47.24375\" xlink:href=\"#m2f984ae081\" y=\"356.693011\"/>\r\n      </g>\r\n     </g>\r\n     <g id=\"text_18\">\r\n      <!-- 100 -->\r\n      <g transform=\"translate(21.15625 360.49223)scale(0.1 -0.1)\">\r\n       <defs>\r\n        <path d=\"M 12.40625 8.296875 \r\nL 28.515625 8.296875 \r\nL 28.515625 63.921875 \r\nL 10.984375 60.40625 \r\nL 10.984375 69.390625 \r\nL 28.421875 72.90625 \r\nL 38.28125 72.90625 \r\nL 38.28125 8.296875 \r\nL 54.390625 8.296875 \r\nL 54.390625 0 \r\nL 12.40625 0 \r\nz\r\n\" id=\"DejaVuSans-49\"/>\r\n       </defs>\r\n       <use xlink:href=\"#DejaVuSans-49\"/>\r\n       <use x=\"63.623047\" xlink:href=\"#DejaVuSans-48\"/>\r\n       <use x=\"127.246094\" xlink:href=\"#DejaVuSans-48\"/>\r\n      </g>\r\n     </g>\r\n    </g>\r\n    <g id=\"ytick_3\">\r\n     <g id=\"line2d_18\">\r\n      <g>\r\n       <use style=\"stroke:#000000;stroke-width:0.8;\" x=\"47.24375\" xlink:href=\"#m2f984ae081\" y=\"290.006307\"/>\r\n      </g>\r\n     </g>\r\n     <g id=\"text_19\">\r\n      <!-- 200 -->\r\n      <g transform=\"translate(21.15625 293.805526)scale(0.1 -0.1)\">\r\n       <defs>\r\n        <path d=\"M 19.1875 8.296875 \r\nL 53.609375 8.296875 \r\nL 53.609375 0 \r\nL 7.328125 0 \r\nL 7.328125 8.296875 \r\nQ 12.9375 14.109375 22.625 23.890625 \r\nQ 32.328125 33.6875 34.8125 36.53125 \r\nQ 39.546875 41.84375 41.421875 45.53125 \r\nQ 43.3125 49.21875 43.3125 52.78125 \r\nQ 43.3125 58.59375 39.234375 62.25 \r\nQ 35.15625 65.921875 28.609375 65.921875 \r\nQ 23.96875 65.921875 18.8125 64.3125 \r\nQ 13.671875 62.703125 7.8125 59.421875 \r\nL 7.8125 69.390625 \r\nQ 13.765625 71.78125 18.9375 73 \r\nQ 24.125 74.21875 28.421875 74.21875 \r\nQ 39.75 74.21875 46.484375 68.546875 \r\nQ 53.21875 62.890625 53.21875 53.421875 \r\nQ 53.21875 48.921875 51.53125 44.890625 \r\nQ 49.859375 40.875 45.40625 35.40625 \r\nQ 44.1875 33.984375 37.640625 27.21875 \r\nQ 31.109375 20.453125 19.1875 8.296875 \r\nz\r\n\" id=\"DejaVuSans-50\"/>\r\n       </defs>\r\n       <use xlink:href=\"#DejaVuSans-50\"/>\r\n       <use x=\"63.623047\" xlink:href=\"#DejaVuSans-48\"/>\r\n       <use x=\"127.246094\" xlink:href=\"#DejaVuSans-48\"/>\r\n      </g>\r\n     </g>\r\n    </g>\r\n    <g id=\"ytick_4\">\r\n     <g id=\"line2d_19\">\r\n      <g>\r\n       <use style=\"stroke:#000000;stroke-width:0.8;\" x=\"47.24375\" xlink:href=\"#m2f984ae081\" y=\"223.319603\"/>\r\n      </g>\r\n     </g>\r\n     <g id=\"text_20\">\r\n      <!-- 300 -->\r\n      <g transform=\"translate(21.15625 227.118822)scale(0.1 -0.1)\">\r\n       <defs>\r\n        <path d=\"M 40.578125 39.3125 \r\nQ 47.65625 37.796875 51.625 33 \r\nQ 55.609375 28.21875 55.609375 21.1875 \r\nQ 55.609375 10.40625 48.1875 4.484375 \r\nQ 40.765625 -1.421875 27.09375 -1.421875 \r\nQ 22.515625 -1.421875 17.65625 -0.515625 \r\nQ 12.796875 0.390625 7.625 2.203125 \r\nL 7.625 11.71875 \r\nQ 11.71875 9.328125 16.59375 8.109375 \r\nQ 21.484375 6.890625 26.8125 6.890625 \r\nQ 36.078125 6.890625 40.9375 10.546875 \r\nQ 45.796875 14.203125 45.796875 21.1875 \r\nQ 45.796875 27.640625 41.28125 31.265625 \r\nQ 36.765625 34.90625 28.71875 34.90625 \r\nL 20.21875 34.90625 \r\nL 20.21875 43.015625 \r\nL 29.109375 43.015625 \r\nQ 36.375 43.015625 40.234375 45.921875 \r\nQ 44.09375 48.828125 44.09375 54.296875 \r\nQ 44.09375 59.90625 40.109375 62.90625 \r\nQ 36.140625 65.921875 28.71875 65.921875 \r\nQ 24.65625 65.921875 20.015625 65.03125 \r\nQ 15.375 64.15625 9.8125 62.3125 \r\nL 9.8125 71.09375 \r\nQ 15.4375 72.65625 20.34375 73.4375 \r\nQ 25.25 74.21875 29.59375 74.21875 \r\nQ 40.828125 74.21875 47.359375 69.109375 \r\nQ 53.90625 64.015625 53.90625 55.328125 \r\nQ 53.90625 49.265625 50.4375 45.09375 \r\nQ 46.96875 40.921875 40.578125 39.3125 \r\nz\r\n\" id=\"DejaVuSans-51\"/>\r\n       </defs>\r\n       <use xlink:href=\"#DejaVuSans-51\"/>\r\n       <use x=\"63.623047\" xlink:href=\"#DejaVuSans-48\"/>\r\n       <use x=\"127.246094\" xlink:href=\"#DejaVuSans-48\"/>\r\n      </g>\r\n     </g>\r\n    </g>\r\n    <g id=\"ytick_5\">\r\n     <g id=\"line2d_20\">\r\n      <g>\r\n       <use style=\"stroke:#000000;stroke-width:0.8;\" x=\"47.24375\" xlink:href=\"#m2f984ae081\" y=\"156.6329\"/>\r\n      </g>\r\n     </g>\r\n     <g id=\"text_21\">\r\n      <!-- 400 -->\r\n      <g transform=\"translate(21.15625 160.432118)scale(0.1 -0.1)\">\r\n       <defs>\r\n        <path d=\"M 37.796875 64.3125 \r\nL 12.890625 25.390625 \r\nL 37.796875 25.390625 \r\nz\r\nM 35.203125 72.90625 \r\nL 47.609375 72.90625 \r\nL 47.609375 25.390625 \r\nL 58.015625 25.390625 \r\nL 58.015625 17.1875 \r\nL 47.609375 17.1875 \r\nL 47.609375 0 \r\nL 37.796875 0 \r\nL 37.796875 17.1875 \r\nL 4.890625 17.1875 \r\nL 4.890625 26.703125 \r\nz\r\n\" id=\"DejaVuSans-52\"/>\r\n       </defs>\r\n       <use xlink:href=\"#DejaVuSans-52\"/>\r\n       <use x=\"63.623047\" xlink:href=\"#DejaVuSans-48\"/>\r\n       <use x=\"127.246094\" xlink:href=\"#DejaVuSans-48\"/>\r\n      </g>\r\n     </g>\r\n    </g>\r\n    <g id=\"ytick_6\">\r\n     <g id=\"line2d_21\">\r\n      <g>\r\n       <use style=\"stroke:#000000;stroke-width:0.8;\" x=\"47.24375\" xlink:href=\"#m2f984ae081\" y=\"89.946196\"/>\r\n      </g>\r\n     </g>\r\n     <g id=\"text_22\">\r\n      <!-- 500 -->\r\n      <g transform=\"translate(21.15625 93.745415)scale(0.1 -0.1)\">\r\n       <defs>\r\n        <path d=\"M 10.796875 72.90625 \r\nL 49.515625 72.90625 \r\nL 49.515625 64.59375 \r\nL 19.828125 64.59375 \r\nL 19.828125 46.734375 \r\nQ 21.96875 47.46875 24.109375 47.828125 \r\nQ 26.265625 48.1875 28.421875 48.1875 \r\nQ 40.625 48.1875 47.75 41.5 \r\nQ 54.890625 34.8125 54.890625 23.390625 \r\nQ 54.890625 11.625 47.5625 5.09375 \r\nQ 40.234375 -1.421875 26.90625 -1.421875 \r\nQ 22.3125 -1.421875 17.546875 -0.640625 \r\nQ 12.796875 0.140625 7.71875 1.703125 \r\nL 7.71875 11.625 \r\nQ 12.109375 9.234375 16.796875 8.0625 \r\nQ 21.484375 6.890625 26.703125 6.890625 \r\nQ 35.15625 6.890625 40.078125 11.328125 \r\nQ 45.015625 15.765625 45.015625 23.390625 \r\nQ 45.015625 31 40.078125 35.4375 \r\nQ 35.15625 39.890625 26.703125 39.890625 \r\nQ 22.75 39.890625 18.8125 39.015625 \r\nQ 14.890625 38.140625 10.796875 36.28125 \r\nz\r\n\" id=\"DejaVuSans-53\"/>\r\n       </defs>\r\n       <use xlink:href=\"#DejaVuSans-53\"/>\r\n       <use x=\"63.623047\" xlink:href=\"#DejaVuSans-48\"/>\r\n       <use x=\"127.246094\" xlink:href=\"#DejaVuSans-48\"/>\r\n      </g>\r\n     </g>\r\n    </g>\r\n    <g id=\"ytick_7\">\r\n     <g id=\"line2d_22\">\r\n      <g>\r\n       <use style=\"stroke:#000000;stroke-width:0.8;\" x=\"47.24375\" xlink:href=\"#m2f984ae081\" y=\"23.259492\"/>\r\n      </g>\r\n     </g>\r\n     <g id=\"text_23\">\r\n      <!-- 600 -->\r\n      <g transform=\"translate(21.15625 27.058711)scale(0.1 -0.1)\">\r\n       <defs>\r\n        <path d=\"M 33.015625 40.375 \r\nQ 26.375 40.375 22.484375 35.828125 \r\nQ 18.609375 31.296875 18.609375 23.390625 \r\nQ 18.609375 15.53125 22.484375 10.953125 \r\nQ 26.375 6.390625 33.015625 6.390625 \r\nQ 39.65625 6.390625 43.53125 10.953125 \r\nQ 47.40625 15.53125 47.40625 23.390625 \r\nQ 47.40625 31.296875 43.53125 35.828125 \r\nQ 39.65625 40.375 33.015625 40.375 \r\nz\r\nM 52.59375 71.296875 \r\nL 52.59375 62.3125 \r\nQ 48.875 64.0625 45.09375 64.984375 \r\nQ 41.3125 65.921875 37.59375 65.921875 \r\nQ 27.828125 65.921875 22.671875 59.328125 \r\nQ 17.53125 52.734375 16.796875 39.40625 \r\nQ 19.671875 43.65625 24.015625 45.921875 \r\nQ 28.375 48.1875 33.59375 48.1875 \r\nQ 44.578125 48.1875 50.953125 41.515625 \r\nQ 57.328125 34.859375 57.328125 23.390625 \r\nQ 57.328125 12.15625 50.6875 5.359375 \r\nQ 44.046875 -1.421875 33.015625 -1.421875 \r\nQ 20.359375 -1.421875 13.671875 8.265625 \r\nQ 6.984375 17.96875 6.984375 36.375 \r\nQ 6.984375 53.65625 15.1875 63.9375 \r\nQ 23.390625 74.21875 37.203125 74.21875 \r\nQ 40.921875 74.21875 44.703125 73.484375 \r\nQ 48.484375 72.75 52.59375 71.296875 \r\nz\r\n\" id=\"DejaVuSans-54\"/>\r\n       </defs>\r\n       <use xlink:href=\"#DejaVuSans-54\"/>\r\n       <use x=\"63.623047\" xlink:href=\"#DejaVuSans-48\"/>\r\n       <use x=\"127.246094\" xlink:href=\"#DejaVuSans-48\"/>\r\n      </g>\r\n     </g>\r\n    </g>\r\n    <g id=\"text_24\">\r\n     <!-- mp_price -->\r\n     <g transform=\"translate(14.798438 247.629062)rotate(-90)scale(0.1 -0.1)\">\r\n      <use xlink:href=\"#DejaVuSans-109\"/>\r\n      <use x=\"97.412109\" xlink:href=\"#DejaVuSans-112\"/>\r\n      <use x=\"160.888672\" xlink:href=\"#DejaVuSans-95\"/>\r\n      <use x=\"210.888672\" xlink:href=\"#DejaVuSans-112\"/>\r\n      <use x=\"274.365234\" xlink:href=\"#DejaVuSans-114\"/>\r\n      <use x=\"315.478516\" xlink:href=\"#DejaVuSans-105\"/>\r\n      <use x=\"343.261719\" xlink:href=\"#DejaVuSans-99\"/>\r\n      <use x=\"398.242188\" xlink:href=\"#DejaVuSans-101\"/>\r\n     </g>\r\n    </g>\r\n   </g>\r\n   <g id=\"line2d_23\">\r\n    <path clip-path=\"url(#p0550144f5c)\" d=\"M 69.56375 373.623098 \r\nL 69.56375 385.001517 \r\n\" style=\"fill:none;stroke:#464646;stroke-linecap:square;stroke-width:1.5;\"/>\r\n   </g>\r\n   <g id=\"line2d_24\">\r\n    <path clip-path=\"url(#p0550144f5c)\" d=\"M 69.56375 366.029149 \r\nL 69.56375 355.926114 \r\n\" style=\"fill:none;stroke:#464646;stroke-linecap:square;stroke-width:1.5;\"/>\r\n   </g>\r\n   <g id=\"line2d_25\">\r\n    <path clip-path=\"url(#p0550144f5c)\" d=\"M 60.63575 385.001517 \r\nL 78.49175 385.001517 \r\n\" style=\"fill:none;stroke:#464646;stroke-linecap:square;stroke-width:1.5;\"/>\r\n   </g>\r\n   <g id=\"line2d_26\">\r\n    <path clip-path=\"url(#p0550144f5c)\" d=\"M 60.63575 355.926114 \r\nL 78.49175 355.926114 \r\n\" style=\"fill:none;stroke:#464646;stroke-linecap:square;stroke-width:1.5;\"/>\r\n   </g>\r\n   <g id=\"line2d_27\">\r\n    <defs>\r\n     <path d=\"M 0 3.535534 \r\nL 2.12132 0 \r\nL 0 -3.535534 \r\nL -2.12132 0 \r\nz\r\n\" id=\"mb05ddd06bd\" style=\"stroke:#464646;stroke-linejoin:miter;\"/>\r\n    </defs>\r\n    <g clip-path=\"url(#p0550144f5c)\">\r\n     <use style=\"fill:#464646;stroke:#464646;stroke-linejoin:miter;\" x=\"69.56375\" xlink:href=\"#mb05ddd06bd\" y=\"385.081541\"/>\r\n     <use style=\"fill:#464646;stroke:#464646;stroke-linejoin:miter;\" x=\"69.56375\" xlink:href=\"#mb05ddd06bd\" y=\"386.375263\"/>\r\n     <use style=\"fill:#464646;stroke:#464646;stroke-linejoin:miter;\" x=\"69.56375\" xlink:href=\"#mb05ddd06bd\" y=\"386.075172\"/>\r\n     <use style=\"fill:#464646;stroke:#464646;stroke-linejoin:miter;\" x=\"69.56375\" xlink:href=\"#mb05ddd06bd\" y=\"385.63504\"/>\r\n     <use style=\"fill:#464646;stroke:#464646;stroke-linejoin:miter;\" x=\"69.56375\" xlink:href=\"#mb05ddd06bd\" y=\"385.214914\"/>\r\n     <use style=\"fill:#464646;stroke:#464646;stroke-linejoin:miter;\" x=\"69.56375\" xlink:href=\"#mb05ddd06bd\" y=\"385.021523\"/>\r\n     <use style=\"fill:#464646;stroke:#464646;stroke-linejoin:miter;\" x=\"69.56375\" xlink:href=\"#mb05ddd06bd\" y=\"354.452338\"/>\r\n     <use style=\"fill:#464646;stroke:#464646;stroke-linejoin:miter;\" x=\"69.56375\" xlink:href=\"#mb05ddd06bd\" y=\"353.425362\"/>\r\n     <use style=\"fill:#464646;stroke:#464646;stroke-linejoin:miter;\" x=\"69.56375\" xlink:href=\"#mb05ddd06bd\" y=\"346.023138\"/>\r\n     <use style=\"fill:#464646;stroke:#464646;stroke-linejoin:miter;\" x=\"69.56375\" xlink:href=\"#mb05ddd06bd\" y=\"346.023138\"/>\r\n     <use style=\"fill:#464646;stroke:#464646;stroke-linejoin:miter;\" x=\"69.56375\" xlink:href=\"#mb05ddd06bd\" y=\"346.023138\"/>\r\n     <use style=\"fill:#464646;stroke:#464646;stroke-linejoin:miter;\" x=\"69.56375\" xlink:href=\"#mb05ddd06bd\" y=\"346.023138\"/>\r\n     <use style=\"fill:#464646;stroke:#464646;stroke-linejoin:miter;\" x=\"69.56375\" xlink:href=\"#mb05ddd06bd\" y=\"346.023138\"/>\r\n     <use style=\"fill:#464646;stroke:#464646;stroke-linejoin:miter;\" x=\"69.56375\" xlink:href=\"#mb05ddd06bd\" y=\"346.023138\"/>\r\n     <use style=\"fill:#464646;stroke:#464646;stroke-linejoin:miter;\" x=\"69.56375\" xlink:href=\"#mb05ddd06bd\" y=\"352.471742\"/>\r\n     <use style=\"fill:#464646;stroke:#464646;stroke-linejoin:miter;\" x=\"69.56375\" xlink:href=\"#mb05ddd06bd\" y=\"346.023138\"/>\r\n     <use style=\"fill:#464646;stroke:#464646;stroke-linejoin:miter;\" x=\"69.56375\" xlink:href=\"#mb05ddd06bd\" y=\"346.023138\"/>\r\n     <use style=\"fill:#464646;stroke:#464646;stroke-linejoin:miter;\" x=\"69.56375\" xlink:href=\"#mb05ddd06bd\" y=\"346.023138\"/>\r\n     <use style=\"fill:#464646;stroke:#464646;stroke-linejoin:miter;\" x=\"69.56375\" xlink:href=\"#mb05ddd06bd\" y=\"346.023138\"/>\r\n     <use style=\"fill:#464646;stroke:#464646;stroke-linejoin:miter;\" x=\"69.56375\" xlink:href=\"#mb05ddd06bd\" y=\"346.023138\"/>\r\n     <use style=\"fill:#464646;stroke:#464646;stroke-linejoin:miter;\" x=\"69.56375\" xlink:href=\"#mb05ddd06bd\" y=\"346.023138\"/>\r\n     <use style=\"fill:#464646;stroke:#464646;stroke-linejoin:miter;\" x=\"69.56375\" xlink:href=\"#mb05ddd06bd\" y=\"350.12437\"/>\r\n     <use style=\"fill:#464646;stroke:#464646;stroke-linejoin:miter;\" x=\"69.56375\" xlink:href=\"#mb05ddd06bd\" y=\"352.691809\"/>\r\n     <use style=\"fill:#464646;stroke:#464646;stroke-linejoin:miter;\" x=\"69.56375\" xlink:href=\"#mb05ddd06bd\" y=\"352.691809\"/>\r\n     <use style=\"fill:#464646;stroke:#464646;stroke-linejoin:miter;\" x=\"69.56375\" xlink:href=\"#mb05ddd06bd\" y=\"352.691809\"/>\r\n     <use style=\"fill:#464646;stroke:#464646;stroke-linejoin:miter;\" x=\"69.56375\" xlink:href=\"#mb05ddd06bd\" y=\"352.691809\"/>\r\n     <use style=\"fill:#464646;stroke:#464646;stroke-linejoin:miter;\" x=\"69.56375\" xlink:href=\"#mb05ddd06bd\" y=\"347.77033\"/>\r\n     <use style=\"fill:#464646;stroke:#464646;stroke-linejoin:miter;\" x=\"69.56375\" xlink:href=\"#mb05ddd06bd\" y=\"347.356872\"/>\r\n     <use style=\"fill:#464646;stroke:#464646;stroke-linejoin:miter;\" x=\"69.56375\" xlink:href=\"#mb05ddd06bd\" y=\"352.998567\"/>\r\n     <use style=\"fill:#464646;stroke:#464646;stroke-linejoin:miter;\" x=\"69.56375\" xlink:href=\"#mb05ddd06bd\" y=\"354.439\"/>\r\n    </g>\r\n   </g>\r\n   <g id=\"line2d_28\">\r\n    <path clip-path=\"url(#p0550144f5c)\" d=\"M 114.20375 402.011627 \r\nL 114.20375 422.312727 \r\n\" style=\"fill:none;stroke:#464646;stroke-linecap:square;stroke-width:1.5;\"/>\r\n   </g>\r\n   <g id=\"line2d_29\">\r\n    <path clip-path=\"url(#p0550144f5c)\" d=\"M 114.20375 384.916491 \r\nL 114.20375 359.933985 \r\n\" style=\"fill:none;stroke:#464646;stroke-linecap:square;stroke-width:1.5;\"/>\r\n   </g>\r\n   <g id=\"line2d_30\">\r\n    <path clip-path=\"url(#p0550144f5c)\" d=\"M 105.27575 422.312727 \r\nL 123.13175 422.312727 \r\n\" style=\"fill:none;stroke:#464646;stroke-linecap:square;stroke-width:1.5;\"/>\r\n   </g>\r\n   <g id=\"line2d_31\">\r\n    <path clip-path=\"url(#p0550144f5c)\" d=\"M 105.27575 359.933985 \r\nL 123.13175 359.933985 \r\n\" style=\"fill:none;stroke:#464646;stroke-linecap:square;stroke-width:1.5;\"/>\r\n   </g>\r\n   <g id=\"line2d_32\">\r\n    <g clip-path=\"url(#p0550144f5c)\">\r\n     <use style=\"fill:#464646;stroke:#464646;stroke-linejoin:miter;\" x=\"114.20375\" xlink:href=\"#mb05ddd06bd\" y=\"353.63876\"/>\r\n     <use style=\"fill:#464646;stroke:#464646;stroke-linejoin:miter;\" x=\"114.20375\" xlink:href=\"#mb05ddd06bd\" y=\"317.461223\"/>\r\n     <use style=\"fill:#464646;stroke:#464646;stroke-linejoin:miter;\" x=\"114.20375\" xlink:href=\"#mb05ddd06bd\" y=\"352.598447\"/>\r\n     <use style=\"fill:#464646;stroke:#464646;stroke-linejoin:miter;\" x=\"114.20375\" xlink:href=\"#mb05ddd06bd\" y=\"358.440202\"/>\r\n     <use style=\"fill:#464646;stroke:#464646;stroke-linejoin:miter;\" x=\"114.20375\" xlink:href=\"#mb05ddd06bd\" y=\"356.472945\"/>\r\n     <use style=\"fill:#464646;stroke:#464646;stroke-linejoin:miter;\" x=\"114.20375\" xlink:href=\"#mb05ddd06bd\" y=\"310.35242\"/>\r\n     <use style=\"fill:#464646;stroke:#464646;stroke-linejoin:miter;\" x=\"114.20375\" xlink:href=\"#mb05ddd06bd\" y=\"356.592981\"/>\r\n     <use style=\"fill:#464646;stroke:#464646;stroke-linejoin:miter;\" x=\"114.20375\" xlink:href=\"#mb05ddd06bd\" y=\"357.433233\"/>\r\n     <use style=\"fill:#464646;stroke:#464646;stroke-linejoin:miter;\" x=\"114.20375\" xlink:href=\"#mb05ddd06bd\" y=\"329.298113\"/>\r\n     <use style=\"fill:#464646;stroke:#464646;stroke-linejoin:miter;\" x=\"114.20375\" xlink:href=\"#mb05ddd06bd\" y=\"341.908569\"/>\r\n     <use style=\"fill:#464646;stroke:#464646;stroke-linejoin:miter;\" x=\"114.20375\" xlink:href=\"#mb05ddd06bd\" y=\"346.483276\"/>\r\n     <use style=\"fill:#464646;stroke:#464646;stroke-linejoin:miter;\" x=\"114.20375\" xlink:href=\"#mb05ddd06bd\" y=\"358.026745\"/>\r\n     <use style=\"fill:#464646;stroke:#464646;stroke-linejoin:miter;\" x=\"114.20375\" xlink:href=\"#mb05ddd06bd\" y=\"355.025843\"/>\r\n     <use style=\"fill:#464646;stroke:#464646;stroke-linejoin:miter;\" x=\"114.20375\" xlink:href=\"#mb05ddd06bd\" y=\"309.845601\"/>\r\n     <use style=\"fill:#464646;stroke:#464646;stroke-linejoin:miter;\" x=\"114.20375\" xlink:href=\"#mb05ddd06bd\" y=\"344.689404\"/>\r\n     <use style=\"fill:#464646;stroke:#464646;stroke-linejoin:miter;\" x=\"114.20375\" xlink:href=\"#mb05ddd06bd\" y=\"358.193462\"/>\r\n     <use style=\"fill:#464646;stroke:#464646;stroke-linejoin:miter;\" x=\"114.20375\" xlink:href=\"#mb05ddd06bd\" y=\"358.440202\"/>\r\n     <use style=\"fill:#464646;stroke:#464646;stroke-linejoin:miter;\" x=\"114.20375\" xlink:href=\"#mb05ddd06bd\" y=\"357.613287\"/>\r\n     <use style=\"fill:#464646;stroke:#464646;stroke-linejoin:miter;\" x=\"114.20375\" xlink:href=\"#mb05ddd06bd\" y=\"349.357473\"/>\r\n     <use style=\"fill:#464646;stroke:#464646;stroke-linejoin:miter;\" x=\"114.20375\" xlink:href=\"#mb05ddd06bd\" y=\"357.359878\"/>\r\n     <use style=\"fill:#464646;stroke:#464646;stroke-linejoin:miter;\" x=\"114.20375\" xlink:href=\"#mb05ddd06bd\" y=\"359.027045\"/>\r\n     <use style=\"fill:#464646;stroke:#464646;stroke-linejoin:miter;\" x=\"114.20375\" xlink:href=\"#mb05ddd06bd\" y=\"355.872764\"/>\r\n     <use style=\"fill:#464646;stroke:#464646;stroke-linejoin:miter;\" x=\"114.20375\" xlink:href=\"#mb05ddd06bd\" y=\"358.306829\"/>\r\n     <use style=\"fill:#464646;stroke:#464646;stroke-linejoin:miter;\" x=\"114.20375\" xlink:href=\"#mb05ddd06bd\" y=\"350.83125\"/>\r\n     <use style=\"fill:#464646;stroke:#464646;stroke-linejoin:miter;\" x=\"114.20375\" xlink:href=\"#mb05ddd06bd\" y=\"348.390516\"/>\r\n     <use style=\"fill:#464646;stroke:#464646;stroke-linejoin:miter;\" x=\"114.20375\" xlink:href=\"#mb05ddd06bd\" y=\"354.699078\"/>\r\n     <use style=\"fill:#464646;stroke:#464646;stroke-linejoin:miter;\" x=\"114.20375\" xlink:href=\"#mb05ddd06bd\" y=\"349.92431\"/>\r\n     <use style=\"fill:#464646;stroke:#464646;stroke-linejoin:miter;\" x=\"114.20375\" xlink:href=\"#mb05ddd06bd\" y=\"356.786372\"/>\r\n     <use style=\"fill:#464646;stroke:#464646;stroke-linejoin:miter;\" x=\"114.20375\" xlink:href=\"#mb05ddd06bd\" y=\"354.525693\"/>\r\n     <use style=\"fill:#464646;stroke:#464646;stroke-linejoin:miter;\" x=\"114.20375\" xlink:href=\"#mb05ddd06bd\" y=\"355.652698\"/>\r\n     <use style=\"fill:#464646;stroke:#464646;stroke-linejoin:miter;\" x=\"114.20375\" xlink:href=\"#mb05ddd06bd\" y=\"357.479914\"/>\r\n     <use style=\"fill:#464646;stroke:#464646;stroke-linejoin:miter;\" x=\"114.20375\" xlink:href=\"#mb05ddd06bd\" y=\"340.614847\"/>\r\n     <use style=\"fill:#464646;stroke:#464646;stroke-linejoin:miter;\" x=\"114.20375\" xlink:href=\"#mb05ddd06bd\" y=\"314.093544\"/>\r\n     <use style=\"fill:#464646;stroke:#464646;stroke-linejoin:miter;\" x=\"114.20375\" xlink:href=\"#mb05ddd06bd\" y=\"342.908869\"/>\r\n     <use style=\"fill:#464646;stroke:#464646;stroke-linejoin:miter;\" x=\"114.20375\" xlink:href=\"#mb05ddd06bd\" y=\"346.543294\"/>\r\n     <use style=\"fill:#464646;stroke:#464646;stroke-linejoin:miter;\" x=\"114.20375\" xlink:href=\"#mb05ddd06bd\" y=\"339.767925\"/>\r\n     <use style=\"fill:#464646;stroke:#464646;stroke-linejoin:miter;\" x=\"114.20375\" xlink:href=\"#mb05ddd06bd\" y=\"342.021936\"/>\r\n     <use style=\"fill:#464646;stroke:#464646;stroke-linejoin:miter;\" x=\"114.20375\" xlink:href=\"#mb05ddd06bd\" y=\"356.89974\"/>\r\n     <use style=\"fill:#464646;stroke:#464646;stroke-linejoin:miter;\" x=\"114.20375\" xlink:href=\"#mb05ddd06bd\" y=\"349.510853\"/>\r\n     <use style=\"fill:#464646;stroke:#464646;stroke-linejoin:miter;\" x=\"114.20375\" xlink:href=\"#mb05ddd06bd\" y=\"346.436596\"/>\r\n     <use style=\"fill:#464646;stroke:#464646;stroke-linejoin:miter;\" x=\"114.20375\" xlink:href=\"#mb05ddd06bd\" y=\"353.612085\"/>\r\n     <use style=\"fill:#464646;stroke:#464646;stroke-linejoin:miter;\" x=\"114.20375\" xlink:href=\"#mb05ddd06bd\" y=\"343.35567\"/>\r\n     <use style=\"fill:#464646;stroke:#464646;stroke-linejoin:miter;\" x=\"114.20375\" xlink:href=\"#mb05ddd06bd\" y=\"357.266516\"/>\r\n     <use style=\"fill:#464646;stroke:#464646;stroke-linejoin:miter;\" x=\"114.20375\" xlink:href=\"#mb05ddd06bd\" y=\"357.513257\"/>\r\n     <use style=\"fill:#464646;stroke:#464646;stroke-linejoin:miter;\" x=\"114.20375\" xlink:href=\"#mb05ddd06bd\" y=\"349.817612\"/>\r\n     <use style=\"fill:#464646;stroke:#464646;stroke-linejoin:miter;\" x=\"114.20375\" xlink:href=\"#mb05ddd06bd\" y=\"338.94101\"/>\r\n     <use style=\"fill:#464646;stroke:#464646;stroke-linejoin:miter;\" x=\"114.20375\" xlink:href=\"#mb05ddd06bd\" y=\"335.453296\"/>\r\n     <use style=\"fill:#464646;stroke:#464646;stroke-linejoin:miter;\" x=\"114.20375\" xlink:href=\"#mb05ddd06bd\" y=\"335.766723\"/>\r\n     <use style=\"fill:#464646;stroke:#464646;stroke-linejoin:miter;\" x=\"114.20375\" xlink:href=\"#mb05ddd06bd\" y=\"336.173512\"/>\r\n     <use style=\"fill:#464646;stroke:#464646;stroke-linejoin:miter;\" x=\"114.20375\" xlink:href=\"#mb05ddd06bd\" y=\"347.690306\"/>\r\n     <use style=\"fill:#464646;stroke:#464646;stroke-linejoin:miter;\" x=\"114.20375\" xlink:href=\"#mb05ddd06bd\" y=\"355.566005\"/>\r\n     <use style=\"fill:#464646;stroke:#464646;stroke-linejoin:miter;\" x=\"114.20375\" xlink:href=\"#mb05ddd06bd\" y=\"353.412025\"/>\r\n     <use style=\"fill:#464646;stroke:#464646;stroke-linejoin:miter;\" x=\"114.20375\" xlink:href=\"#mb05ddd06bd\" y=\"351.871562\"/>\r\n     <use style=\"fill:#464646;stroke:#464646;stroke-linejoin:miter;\" x=\"114.20375\" xlink:href=\"#mb05ddd06bd\" y=\"346.023138\"/>\r\n     <use style=\"fill:#464646;stroke:#464646;stroke-linejoin:miter;\" x=\"114.20375\" xlink:href=\"#mb05ddd06bd\" y=\"356.139511\"/>\r\n     <use style=\"fill:#464646;stroke:#464646;stroke-linejoin:miter;\" x=\"114.20375\" xlink:href=\"#mb05ddd06bd\" y=\"347.610282\"/>\r\n     <use style=\"fill:#464646;stroke:#464646;stroke-linejoin:miter;\" x=\"114.20375\" xlink:href=\"#mb05ddd06bd\" y=\"326.237193\"/>\r\n     <use style=\"fill:#464646;stroke:#464646;stroke-linejoin:miter;\" x=\"114.20375\" xlink:href=\"#mb05ddd06bd\" y=\"328.891324\"/>\r\n     <use style=\"fill:#464646;stroke:#464646;stroke-linejoin:miter;\" x=\"114.20375\" xlink:href=\"#mb05ddd06bd\" y=\"340.688202\"/>\r\n     <use style=\"fill:#464646;stroke:#464646;stroke-linejoin:miter;\" x=\"114.20375\" xlink:href=\"#mb05ddd06bd\" y=\"354.218934\"/>\r\n    </g>\r\n   </g>\r\n   <g id=\"line2d_33\">\r\n    <path clip-path=\"url(#p0550144f5c)\" d=\"M 158.84375 394.769451 \r\nL 158.84375 413.910203 \r\n\" style=\"fill:none;stroke:#464646;stroke-linecap:square;stroke-width:1.5;\"/>\r\n   </g>\r\n   <g id=\"line2d_34\">\r\n    <path clip-path=\"url(#p0550144f5c)\" d=\"M 158.84375 375.520334 \r\nL 158.84375 346.976758 \r\n\" style=\"fill:none;stroke:#464646;stroke-linecap:square;stroke-width:1.5;\"/>\r\n   </g>\r\n   <g id=\"line2d_35\">\r\n    <path clip-path=\"url(#p0550144f5c)\" d=\"M 149.91575 413.910203 \r\nL 167.77175 413.910203 \r\n\" style=\"fill:none;stroke:#464646;stroke-linecap:square;stroke-width:1.5;\"/>\r\n   </g>\r\n   <g id=\"line2d_36\">\r\n    <path clip-path=\"url(#p0550144f5c)\" d=\"M 149.91575 346.976758 \r\nL 167.77175 346.976758 \r\n\" style=\"fill:none;stroke:#464646;stroke-linecap:square;stroke-width:1.5;\"/>\r\n   </g>\r\n   <g id=\"line2d_37\">\r\n    <g clip-path=\"url(#p0550144f5c)\">\r\n     <use style=\"fill:#464646;stroke:#464646;stroke-linejoin:miter;\" x=\"158.84375\" xlink:href=\"#mb05ddd06bd\" y=\"332.799165\"/>\r\n     <use style=\"fill:#464646;stroke:#464646;stroke-linejoin:miter;\" x=\"158.84375\" xlink:href=\"#mb05ddd06bd\" y=\"346.123168\"/>\r\n     <use style=\"fill:#464646;stroke:#464646;stroke-linejoin:miter;\" x=\"158.84375\" xlink:href=\"#mb05ddd06bd\" y=\"280.003301\"/>\r\n     <use style=\"fill:#464646;stroke:#464646;stroke-linejoin:miter;\" x=\"158.84375\" xlink:href=\"#mb05ddd06bd\" y=\"334.593037\"/>\r\n     <use style=\"fill:#464646;stroke:#464646;stroke-linejoin:miter;\" x=\"158.84375\" xlink:href=\"#mb05ddd06bd\" y=\"343.102261\"/>\r\n     <use style=\"fill:#464646;stroke:#464646;stroke-linejoin:miter;\" x=\"158.84375\" xlink:href=\"#mb05ddd06bd\" y=\"345.182886\"/>\r\n     <use style=\"fill:#464646;stroke:#464646;stroke-linejoin:miter;\" x=\"158.84375\" xlink:href=\"#mb05ddd06bd\" y=\"345.322928\"/>\r\n     <use style=\"fill:#464646;stroke:#464646;stroke-linejoin:miter;\" x=\"158.84375\" xlink:href=\"#mb05ddd06bd\" y=\"309.65221\"/>\r\n     <use style=\"fill:#464646;stroke:#464646;stroke-linejoin:miter;\" x=\"158.84375\" xlink:href=\"#mb05ddd06bd\" y=\"344.355971\"/>\r\n     <use style=\"fill:#464646;stroke:#464646;stroke-linejoin:miter;\" x=\"158.84375\" xlink:href=\"#mb05ddd06bd\" y=\"331.01863\"/>\r\n     <use style=\"fill:#464646;stroke:#464646;stroke-linejoin:miter;\" x=\"158.84375\" xlink:href=\"#mb05ddd06bd\" y=\"340.854919\"/>\r\n     <use style=\"fill:#464646;stroke:#464646;stroke-linejoin:miter;\" x=\"158.84375\" xlink:href=\"#mb05ddd06bd\" y=\"346.31656\"/>\r\n     <use style=\"fill:#464646;stroke:#464646;stroke-linejoin:miter;\" x=\"158.84375\" xlink:href=\"#mb05ddd06bd\" y=\"341.521786\"/>\r\n     <use style=\"fill:#464646;stroke:#464646;stroke-linejoin:miter;\" x=\"158.84375\" xlink:href=\"#mb05ddd06bd\" y=\"335.353266\"/>\r\n     <use style=\"fill:#464646;stroke:#464646;stroke-linejoin:miter;\" x=\"158.84375\" xlink:href=\"#mb05ddd06bd\" y=\"333.352664\"/>\r\n     <use style=\"fill:#464646;stroke:#464646;stroke-linejoin:miter;\" x=\"158.84375\" xlink:href=\"#mb05ddd06bd\" y=\"308.011717\"/>\r\n     <use style=\"fill:#464646;stroke:#464646;stroke-linejoin:miter;\" x=\"158.84375\" xlink:href=\"#mb05ddd06bd\" y=\"334.186248\"/>\r\n     <use style=\"fill:#464646;stroke:#464646;stroke-linejoin:miter;\" x=\"158.84375\" xlink:href=\"#mb05ddd06bd\" y=\"345.176217\"/>\r\n     <use style=\"fill:#464646;stroke:#464646;stroke-linejoin:miter;\" x=\"158.84375\" xlink:href=\"#mb05ddd06bd\" y=\"339.021034\"/>\r\n     <use style=\"fill:#464646;stroke:#464646;stroke-linejoin:miter;\" x=\"158.84375\" xlink:href=\"#mb05ddd06bd\" y=\"345.102862\"/>\r\n     <use style=\"fill:#464646;stroke:#464646;stroke-linejoin:miter;\" x=\"158.84375\" xlink:href=\"#mb05ddd06bd\" y=\"343.562399\"/>\r\n     <use style=\"fill:#464646;stroke:#464646;stroke-linejoin:miter;\" x=\"158.84375\" xlink:href=\"#mb05ddd06bd\" y=\"338.434191\"/>\r\n     <use style=\"fill:#464646;stroke:#464646;stroke-linejoin:miter;\" x=\"158.84375\" xlink:href=\"#mb05ddd06bd\" y=\"330.331757\"/>\r\n     <use style=\"fill:#464646;stroke:#464646;stroke-linejoin:miter;\" x=\"158.84375\" xlink:href=\"#mb05ddd06bd\" y=\"324.583363\"/>\r\n     <use style=\"fill:#464646;stroke:#464646;stroke-linejoin:miter;\" x=\"158.84375\" xlink:href=\"#mb05ddd06bd\" y=\"337.300517\"/>\r\n     <use style=\"fill:#464646;stroke:#464646;stroke-linejoin:miter;\" x=\"158.84375\" xlink:href=\"#mb05ddd06bd\" y=\"346.536626\"/>\r\n     <use style=\"fill:#464646;stroke:#464646;stroke-linejoin:miter;\" x=\"158.84375\" xlink:href=\"#mb05ddd06bd\" y=\"340.781563\"/>\r\n     <use style=\"fill:#464646;stroke:#464646;stroke-linejoin:miter;\" x=\"158.84375\" xlink:href=\"#mb05ddd06bd\" y=\"335.73338\"/>\r\n     <use style=\"fill:#464646;stroke:#464646;stroke-linejoin:miter;\" x=\"158.84375\" xlink:href=\"#mb05ddd06bd\" y=\"337.713975\"/>\r\n     <use style=\"fill:#464646;stroke:#464646;stroke-linejoin:miter;\" x=\"158.84375\" xlink:href=\"#mb05ddd06bd\" y=\"325.823736\"/>\r\n     <use style=\"fill:#464646;stroke:#464646;stroke-linejoin:miter;\" x=\"158.84375\" xlink:href=\"#mb05ddd06bd\" y=\"330.631847\"/>\r\n     <use style=\"fill:#464646;stroke:#464646;stroke-linejoin:miter;\" x=\"158.84375\" xlink:href=\"#mb05ddd06bd\" y=\"337.907366\"/>\r\n     <use style=\"fill:#464646;stroke:#464646;stroke-linejoin:miter;\" x=\"158.84375\" xlink:href=\"#mb05ddd06bd\" y=\"342.782164\"/>\r\n     <use style=\"fill:#464646;stroke:#464646;stroke-linejoin:miter;\" x=\"158.84375\" xlink:href=\"#mb05ddd06bd\" y=\"337.220493\"/>\r\n     <use style=\"fill:#464646;stroke:#464646;stroke-linejoin:miter;\" x=\"158.84375\" xlink:href=\"#mb05ddd06bd\" y=\"340.688202\"/>\r\n     <use style=\"fill:#464646;stroke:#464646;stroke-linejoin:miter;\" x=\"158.84375\" xlink:href=\"#mb05ddd06bd\" y=\"343.35567\"/>\r\n     <use style=\"fill:#464646;stroke:#464646;stroke-linejoin:miter;\" x=\"158.84375\" xlink:href=\"#mb05ddd06bd\" y=\"343.162279\"/>\r\n     <use style=\"fill:#464646;stroke:#464646;stroke-linejoin:miter;\" x=\"158.84375\" xlink:href=\"#mb05ddd06bd\" y=\"324.376634\"/>\r\n     <use style=\"fill:#464646;stroke:#464646;stroke-linejoin:miter;\" x=\"158.84375\" xlink:href=\"#mb05ddd06bd\" y=\"311.039293\"/>\r\n     <use style=\"fill:#464646;stroke:#464646;stroke-linejoin:miter;\" x=\"158.84375\" xlink:href=\"#mb05ddd06bd\" y=\"317.094446\"/>\r\n     <use style=\"fill:#464646;stroke:#464646;stroke-linejoin:miter;\" x=\"158.84375\" xlink:href=\"#mb05ddd06bd\" y=\"339.047709\"/>\r\n     <use style=\"fill:#464646;stroke:#464646;stroke-linejoin:miter;\" x=\"158.84375\" xlink:href=\"#mb05ddd06bd\" y=\"329.804932\"/>\r\n     <use style=\"fill:#464646;stroke:#464646;stroke-linejoin:miter;\" x=\"158.84375\" xlink:href=\"#mb05ddd06bd\" y=\"337.280511\"/>\r\n     <use style=\"fill:#464646;stroke:#464646;stroke-linejoin:miter;\" x=\"158.84375\" xlink:href=\"#mb05ddd06bd\" y=\"339.667895\"/>\r\n     <use style=\"fill:#464646;stroke:#464646;stroke-linejoin:miter;\" x=\"158.84375\" xlink:href=\"#mb05ddd06bd\" y=\"346.543294\"/>\r\n     <use style=\"fill:#464646;stroke:#464646;stroke-linejoin:miter;\" x=\"158.84375\" xlink:href=\"#mb05ddd06bd\" y=\"341.981924\"/>\r\n     <use style=\"fill:#464646;stroke:#464646;stroke-linejoin:miter;\" x=\"158.84375\" xlink:href=\"#mb05ddd06bd\" y=\"341.64849\"/>\r\n     <use style=\"fill:#464646;stroke:#464646;stroke-linejoin:miter;\" x=\"158.84375\" xlink:href=\"#mb05ddd06bd\" y=\"335.946777\"/>\r\n     <use style=\"fill:#464646;stroke:#464646;stroke-linejoin:miter;\" x=\"158.84375\" xlink:href=\"#mb05ddd06bd\" y=\"305.344249\"/>\r\n     <use style=\"fill:#464646;stroke:#464646;stroke-linejoin:miter;\" x=\"158.84375\" xlink:href=\"#mb05ddd06bd\" y=\"337.727312\"/>\r\n     <use style=\"fill:#464646;stroke:#464646;stroke-linejoin:miter;\" x=\"158.84375\" xlink:href=\"#mb05ddd06bd\" y=\"342.842182\"/>\r\n     <use style=\"fill:#464646;stroke:#464646;stroke-linejoin:miter;\" x=\"158.84375\" xlink:href=\"#mb05ddd06bd\" y=\"328.991354\"/>\r\n     <use style=\"fill:#464646;stroke:#464646;stroke-linejoin:miter;\" x=\"158.84375\" xlink:href=\"#mb05ddd06bd\" y=\"303.650407\"/>\r\n     <use style=\"fill:#464646;stroke:#464646;stroke-linejoin:miter;\" x=\"158.84375\" xlink:href=\"#mb05ddd06bd\" y=\"342.635454\"/>\r\n     <use style=\"fill:#464646;stroke:#464646;stroke-linejoin:miter;\" x=\"158.84375\" xlink:href=\"#mb05ddd06bd\" y=\"341.508448\"/>\r\n     <use style=\"fill:#464646;stroke:#464646;stroke-linejoin:miter;\" x=\"158.84375\" xlink:href=\"#mb05ddd06bd\" y=\"333.919501\"/>\r\n     <use style=\"fill:#464646;stroke:#464646;stroke-linejoin:miter;\" x=\"158.84375\" xlink:href=\"#mb05ddd06bd\" y=\"339.867955\"/>\r\n     <use style=\"fill:#464646;stroke:#464646;stroke-linejoin:miter;\" x=\"158.84375\" xlink:href=\"#mb05ddd06bd\" y=\"330.431787\"/>\r\n     <use style=\"fill:#464646;stroke:#464646;stroke-linejoin:miter;\" x=\"158.84375\" xlink:href=\"#mb05ddd06bd\" y=\"336.687\"/>\r\n     <use style=\"fill:#464646;stroke:#464646;stroke-linejoin:miter;\" x=\"158.84375\" xlink:href=\"#mb05ddd06bd\" y=\"343.35567\"/>\r\n     <use style=\"fill:#464646;stroke:#464646;stroke-linejoin:miter;\" x=\"158.84375\" xlink:href=\"#mb05ddd06bd\" y=\"343.35567\"/>\r\n     <use style=\"fill:#464646;stroke:#464646;stroke-linejoin:miter;\" x=\"158.84375\" xlink:href=\"#mb05ddd06bd\" y=\"343.35567\"/>\r\n     <use style=\"fill:#464646;stroke:#464646;stroke-linejoin:miter;\" x=\"158.84375\" xlink:href=\"#mb05ddd06bd\" y=\"305.497628\"/>\r\n     <use style=\"fill:#464646;stroke:#464646;stroke-linejoin:miter;\" x=\"158.84375\" xlink:href=\"#mb05ddd06bd\" y=\"339.454498\"/>\r\n     <use style=\"fill:#464646;stroke:#464646;stroke-linejoin:miter;\" x=\"158.84375\" xlink:href=\"#mb05ddd06bd\" y=\"340.401449\"/>\r\n     <use style=\"fill:#464646;stroke:#464646;stroke-linejoin:miter;\" x=\"158.84375\" xlink:href=\"#mb05ddd06bd\" y=\"346.21653\"/>\r\n     <use style=\"fill:#464646;stroke:#464646;stroke-linejoin:miter;\" x=\"158.84375\" xlink:href=\"#mb05ddd06bd\" y=\"341.508448\"/>\r\n     <use style=\"fill:#464646;stroke:#464646;stroke-linejoin:miter;\" x=\"158.84375\" xlink:href=\"#mb05ddd06bd\" y=\"340.788232\"/>\r\n     <use style=\"fill:#464646;stroke:#464646;stroke-linejoin:miter;\" x=\"158.84375\" xlink:href=\"#mb05ddd06bd\" y=\"339.047709\"/>\r\n     <use style=\"fill:#464646;stroke:#464646;stroke-linejoin:miter;\" x=\"158.84375\" xlink:href=\"#mb05ddd06bd\" y=\"346.436596\"/>\r\n     <use style=\"fill:#464646;stroke:#464646;stroke-linejoin:miter;\" x=\"158.84375\" xlink:href=\"#mb05ddd06bd\" y=\"346.136506\"/>\r\n     <use style=\"fill:#464646;stroke:#464646;stroke-linejoin:miter;\" x=\"158.84375\" xlink:href=\"#mb05ddd06bd\" y=\"321.249028\"/>\r\n     <use style=\"fill:#464646;stroke:#464646;stroke-linejoin:miter;\" x=\"158.84375\" xlink:href=\"#mb05ddd06bd\" y=\"310.219047\"/>\r\n     <use style=\"fill:#464646;stroke:#464646;stroke-linejoin:miter;\" x=\"158.84375\" xlink:href=\"#mb05ddd06bd\" y=\"326.323886\"/>\r\n     <use style=\"fill:#464646;stroke:#464646;stroke-linejoin:miter;\" x=\"158.84375\" xlink:href=\"#mb05ddd06bd\" y=\"345.102862\"/>\r\n     <use style=\"fill:#464646;stroke:#464646;stroke-linejoin:miter;\" x=\"158.84375\" xlink:href=\"#mb05ddd06bd\" y=\"339.661227\"/>\r\n     <use style=\"fill:#464646;stroke:#464646;stroke-linejoin:miter;\" x=\"158.84375\" xlink:href=\"#mb05ddd06bd\" y=\"326.683994\"/>\r\n     <use style=\"fill:#464646;stroke:#464646;stroke-linejoin:miter;\" x=\"158.84375\" xlink:href=\"#mb05ddd06bd\" y=\"326.737343\"/>\r\n     <use style=\"fill:#464646;stroke:#464646;stroke-linejoin:miter;\" x=\"158.84375\" xlink:href=\"#mb05ddd06bd\" y=\"339.134402\"/>\r\n    </g>\r\n   </g>\r\n   <g id=\"line2d_38\">\r\n    <path clip-path=\"url(#p0550144f5c)\" d=\"M 203.48375 420.298789 \r\nL 203.48375 421.059017 \r\n\" style=\"fill:none;stroke:#464646;stroke-linecap:square;stroke-width:1.5;\"/>\r\n   </g>\r\n   <g id=\"line2d_39\">\r\n    <path clip-path=\"url(#p0550144f5c)\" d=\"M 203.48375 419.611916 \r\nL 203.48375 418.758326 \r\n\" style=\"fill:none;stroke:#464646;stroke-linecap:square;stroke-width:1.5;\"/>\r\n   </g>\r\n   <g id=\"line2d_40\">\r\n    <path clip-path=\"url(#p0550144f5c)\" d=\"M 194.55575 421.059017 \r\nL 212.41175 421.059017 \r\n\" style=\"fill:none;stroke:#464646;stroke-linecap:square;stroke-width:1.5;\"/>\r\n   </g>\r\n   <g id=\"line2d_41\">\r\n    <path clip-path=\"url(#p0550144f5c)\" d=\"M 194.55575 418.758326 \r\nL 212.41175 418.758326 \r\n\" style=\"fill:none;stroke:#464646;stroke-linecap:square;stroke-width:1.5;\"/>\r\n   </g>\r\n   <g id=\"line2d_42\">\r\n    <g clip-path=\"url(#p0550144f5c)\">\r\n     <use style=\"fill:#464646;stroke:#464646;stroke-linejoin:miter;\" x=\"203.48375\" xlink:href=\"#mb05ddd06bd\" y=\"416.844418\"/>\r\n     <use style=\"fill:#464646;stroke:#464646;stroke-linejoin:miter;\" x=\"203.48375\" xlink:href=\"#mb05ddd06bd\" y=\"416.844418\"/>\r\n     <use style=\"fill:#464646;stroke:#464646;stroke-linejoin:miter;\" x=\"203.48375\" xlink:href=\"#mb05ddd06bd\" y=\"416.844418\"/>\r\n     <use style=\"fill:#464646;stroke:#464646;stroke-linejoin:miter;\" x=\"203.48375\" xlink:href=\"#mb05ddd06bd\" y=\"416.844418\"/>\r\n     <use style=\"fill:#464646;stroke:#464646;stroke-linejoin:miter;\" x=\"203.48375\" xlink:href=\"#mb05ddd06bd\" y=\"416.724381\"/>\r\n     <use style=\"fill:#464646;stroke:#464646;stroke-linejoin:miter;\" x=\"203.48375\" xlink:href=\"#mb05ddd06bd\" y=\"416.864424\"/>\r\n     <use style=\"fill:#464646;stroke:#464646;stroke-linejoin:miter;\" x=\"203.48375\" xlink:href=\"#mb05ddd06bd\" y=\"417.431261\"/>\r\n     <use style=\"fill:#464646;stroke:#464646;stroke-linejoin:miter;\" x=\"203.48375\" xlink:href=\"#mb05ddd06bd\" y=\"417.617983\"/>\r\n     <use style=\"fill:#464646;stroke:#464646;stroke-linejoin:miter;\" x=\"203.48375\" xlink:href=\"#mb05ddd06bd\" y=\"418.031441\"/>\r\n     <use style=\"fill:#464646;stroke:#464646;stroke-linejoin:miter;\" x=\"203.48375\" xlink:href=\"#mb05ddd06bd\" y=\"418.011435\"/>\r\n     <use style=\"fill:#464646;stroke:#464646;stroke-linejoin:miter;\" x=\"203.48375\" xlink:href=\"#mb05ddd06bd\" y=\"418.011435\"/>\r\n     <use style=\"fill:#464646;stroke:#464646;stroke-linejoin:miter;\" x=\"203.48375\" xlink:href=\"#mb05ddd06bd\" y=\"418.231501\"/>\r\n     <use style=\"fill:#464646;stroke:#464646;stroke-linejoin:miter;\" x=\"203.48375\" xlink:href=\"#mb05ddd06bd\" y=\"418.244838\"/>\r\n     <use style=\"fill:#464646;stroke:#464646;stroke-linejoin:miter;\" x=\"203.48375\" xlink:href=\"#mb05ddd06bd\" y=\"418.198158\"/>\r\n     <use style=\"fill:#464646;stroke:#464646;stroke-linejoin:miter;\" x=\"203.48375\" xlink:href=\"#mb05ddd06bd\" y=\"417.604646\"/>\r\n     <use style=\"fill:#464646;stroke:#464646;stroke-linejoin:miter;\" x=\"203.48375\" xlink:href=\"#mb05ddd06bd\" y=\"417.577971\"/>\r\n     <use style=\"fill:#464646;stroke:#464646;stroke-linejoin:miter;\" x=\"203.48375\" xlink:href=\"#mb05ddd06bd\" y=\"406.708039\"/>\r\n     <use style=\"fill:#464646;stroke:#464646;stroke-linejoin:miter;\" x=\"203.48375\" xlink:href=\"#mb05ddd06bd\" y=\"418.044778\"/>\r\n     <use style=\"fill:#464646;stroke:#464646;stroke-linejoin:miter;\" x=\"203.48375\" xlink:href=\"#mb05ddd06bd\" y=\"416.711044\"/>\r\n     <use style=\"fill:#464646;stroke:#464646;stroke-linejoin:miter;\" x=\"203.48375\" xlink:href=\"#mb05ddd06bd\" y=\"417.044478\"/>\r\n     <use style=\"fill:#464646;stroke:#464646;stroke-linejoin:miter;\" x=\"203.48375\" xlink:href=\"#mb05ddd06bd\" y=\"417.377911\"/>\r\n     <use style=\"fill:#464646;stroke:#464646;stroke-linejoin:miter;\" x=\"203.48375\" xlink:href=\"#mb05ddd06bd\" y=\"417.377911\"/>\r\n     <use style=\"fill:#464646;stroke:#464646;stroke-linejoin:miter;\" x=\"203.48375\" xlink:href=\"#mb05ddd06bd\" y=\"417.111164\"/>\r\n     <use style=\"fill:#464646;stroke:#464646;stroke-linejoin:miter;\" x=\"203.48375\" xlink:href=\"#mb05ddd06bd\" y=\"417.878061\"/>\r\n     <use style=\"fill:#464646;stroke:#464646;stroke-linejoin:miter;\" x=\"203.48375\" xlink:href=\"#mb05ddd06bd\" y=\"417.377911\"/>\r\n     <use style=\"fill:#464646;stroke:#464646;stroke-linejoin:miter;\" x=\"203.48375\" xlink:href=\"#mb05ddd06bd\" y=\"417.377911\"/>\r\n     <use style=\"fill:#464646;stroke:#464646;stroke-linejoin:miter;\" x=\"203.48375\" xlink:href=\"#mb05ddd06bd\" y=\"417.377911\"/>\r\n     <use style=\"fill:#464646;stroke:#464646;stroke-linejoin:miter;\" x=\"203.48375\" xlink:href=\"#mb05ddd06bd\" y=\"417.377911\"/>\r\n     <use style=\"fill:#464646;stroke:#464646;stroke-linejoin:miter;\" x=\"203.48375\" xlink:href=\"#mb05ddd06bd\" y=\"417.898067\"/>\r\n     <use style=\"fill:#464646;stroke:#464646;stroke-linejoin:miter;\" x=\"203.48375\" xlink:href=\"#mb05ddd06bd\" y=\"417.991429\"/>\r\n     <use style=\"fill:#464646;stroke:#464646;stroke-linejoin:miter;\" x=\"203.48375\" xlink:href=\"#mb05ddd06bd\" y=\"417.978092\"/>\r\n     <use style=\"fill:#464646;stroke:#464646;stroke-linejoin:miter;\" x=\"203.48375\" xlink:href=\"#mb05ddd06bd\" y=\"417.978092\"/>\r\n     <use style=\"fill:#464646;stroke:#464646;stroke-linejoin:miter;\" x=\"203.48375\" xlink:href=\"#mb05ddd06bd\" y=\"417.971423\"/>\r\n     <use style=\"fill:#464646;stroke:#464646;stroke-linejoin:miter;\" x=\"203.48375\" xlink:href=\"#mb05ddd06bd\" y=\"417.958086\"/>\r\n     <use style=\"fill:#464646;stroke:#464646;stroke-linejoin:miter;\" x=\"203.48375\" xlink:href=\"#mb05ddd06bd\" y=\"417.944748\"/>\r\n     <use style=\"fill:#464646;stroke:#464646;stroke-linejoin:miter;\" x=\"203.48375\" xlink:href=\"#mb05ddd06bd\" y=\"417.944748\"/>\r\n     <use style=\"fill:#464646;stroke:#464646;stroke-linejoin:miter;\" x=\"203.48375\" xlink:href=\"#mb05ddd06bd\" y=\"417.951417\"/>\r\n     <use style=\"fill:#464646;stroke:#464646;stroke-linejoin:miter;\" x=\"203.48375\" xlink:href=\"#mb05ddd06bd\" y=\"417.978092\"/>\r\n     <use style=\"fill:#464646;stroke:#464646;stroke-linejoin:miter;\" x=\"203.48375\" xlink:href=\"#mb05ddd06bd\" y=\"417.971423\"/>\r\n     <use style=\"fill:#464646;stroke:#464646;stroke-linejoin:miter;\" x=\"203.48375\" xlink:href=\"#mb05ddd06bd\" y=\"417.978092\"/>\r\n     <use style=\"fill:#464646;stroke:#464646;stroke-linejoin:miter;\" x=\"203.48375\" xlink:href=\"#mb05ddd06bd\" y=\"417.978092\"/>\r\n     <use style=\"fill:#464646;stroke:#464646;stroke-linejoin:miter;\" x=\"203.48375\" xlink:href=\"#mb05ddd06bd\" y=\"417.978092\"/>\r\n     <use style=\"fill:#464646;stroke:#464646;stroke-linejoin:miter;\" x=\"203.48375\" xlink:href=\"#mb05ddd06bd\" y=\"417.978092\"/>\r\n     <use style=\"fill:#464646;stroke:#464646;stroke-linejoin:miter;\" x=\"203.48375\" xlink:href=\"#mb05ddd06bd\" y=\"417.944748\"/>\r\n     <use style=\"fill:#464646;stroke:#464646;stroke-linejoin:miter;\" x=\"203.48375\" xlink:href=\"#mb05ddd06bd\" y=\"417.944748\"/>\r\n     <use style=\"fill:#464646;stroke:#464646;stroke-linejoin:miter;\" x=\"203.48375\" xlink:href=\"#mb05ddd06bd\" y=\"417.944748\"/>\r\n     <use style=\"fill:#464646;stroke:#464646;stroke-linejoin:miter;\" x=\"203.48375\" xlink:href=\"#mb05ddd06bd\" y=\"417.944748\"/>\r\n     <use style=\"fill:#464646;stroke:#464646;stroke-linejoin:miter;\" x=\"203.48375\" xlink:href=\"#mb05ddd06bd\" y=\"417.944748\"/>\r\n     <use style=\"fill:#464646;stroke:#464646;stroke-linejoin:miter;\" x=\"203.48375\" xlink:href=\"#mb05ddd06bd\" y=\"417.944748\"/>\r\n     <use style=\"fill:#464646;stroke:#464646;stroke-linejoin:miter;\" x=\"203.48375\" xlink:href=\"#mb05ddd06bd\" y=\"417.958086\"/>\r\n     <use style=\"fill:#464646;stroke:#464646;stroke-linejoin:miter;\" x=\"203.48375\" xlink:href=\"#mb05ddd06bd\" y=\"417.978092\"/>\r\n     <use style=\"fill:#464646;stroke:#464646;stroke-linejoin:miter;\" x=\"203.48375\" xlink:href=\"#mb05ddd06bd\" y=\"417.978092\"/>\r\n     <use style=\"fill:#464646;stroke:#464646;stroke-linejoin:miter;\" x=\"203.48375\" xlink:href=\"#mb05ddd06bd\" y=\"417.978092\"/>\r\n     <use style=\"fill:#464646;stroke:#464646;stroke-linejoin:miter;\" x=\"203.48375\" xlink:href=\"#mb05ddd06bd\" y=\"417.978092\"/>\r\n     <use style=\"fill:#464646;stroke:#464646;stroke-linejoin:miter;\" x=\"203.48375\" xlink:href=\"#mb05ddd06bd\" y=\"417.944748\"/>\r\n     <use style=\"fill:#464646;stroke:#464646;stroke-linejoin:miter;\" x=\"203.48375\" xlink:href=\"#mb05ddd06bd\" y=\"417.944748\"/>\r\n     <use style=\"fill:#464646;stroke:#464646;stroke-linejoin:miter;\" x=\"203.48375\" xlink:href=\"#mb05ddd06bd\" y=\"417.944748\"/>\r\n     <use style=\"fill:#464646;stroke:#464646;stroke-linejoin:miter;\" x=\"203.48375\" xlink:href=\"#mb05ddd06bd\" y=\"417.944748\"/>\r\n     <use style=\"fill:#464646;stroke:#464646;stroke-linejoin:miter;\" x=\"203.48375\" xlink:href=\"#mb05ddd06bd\" y=\"417.978092\"/>\r\n     <use style=\"fill:#464646;stroke:#464646;stroke-linejoin:miter;\" x=\"203.48375\" xlink:href=\"#mb05ddd06bd\" y=\"418.544929\"/>\r\n     <use style=\"fill:#464646;stroke:#464646;stroke-linejoin:miter;\" x=\"203.48375\" xlink:href=\"#mb05ddd06bd\" y=\"418.511585\"/>\r\n     <use style=\"fill:#464646;stroke:#464646;stroke-linejoin:miter;\" x=\"203.48375\" xlink:href=\"#mb05ddd06bd\" y=\"418.471573\"/>\r\n    </g>\r\n   </g>\r\n   <g id=\"line2d_43\">\r\n    <path clip-path=\"url(#p0550144f5c)\" d=\"M 248.12375 358.46521 \r\nL 248.12375 395.224588 \r\n\" style=\"fill:none;stroke:#464646;stroke-linecap:square;stroke-width:1.5;\"/>\r\n   </g>\r\n   <g id=\"line2d_44\">\r\n    <path clip-path=\"url(#p0550144f5c)\" d=\"M 248.12375 332.700802 \r\nL 248.12375 294.300931 \r\n\" style=\"fill:none;stroke:#464646;stroke-linecap:square;stroke-width:1.5;\"/>\r\n   </g>\r\n   <g id=\"line2d_45\">\r\n    <path clip-path=\"url(#p0550144f5c)\" d=\"M 239.19575 395.224588 \r\nL 257.05175 395.224588 \r\n\" style=\"fill:none;stroke:#464646;stroke-linecap:square;stroke-width:1.5;\"/>\r\n   </g>\r\n   <g id=\"line2d_46\">\r\n    <path clip-path=\"url(#p0550144f5c)\" d=\"M 239.19575 294.300931 \r\nL 257.05175 294.300931 \r\n\" style=\"fill:none;stroke:#464646;stroke-linecap:square;stroke-width:1.5;\"/>\r\n   </g>\r\n   <g id=\"line2d_47\">\r\n    <g clip-path=\"url(#p0550144f5c)\">\r\n     <use style=\"fill:#464646;stroke:#464646;stroke-linejoin:miter;\" x=\"248.12375\" xlink:href=\"#mb05ddd06bd\" y=\"399.272471\"/>\r\n     <use style=\"fill:#464646;stroke:#464646;stroke-linejoin:miter;\" x=\"248.12375\" xlink:href=\"#mb05ddd06bd\" y=\"290.673174\"/>\r\n     <use style=\"fill:#464646;stroke:#464646;stroke-linejoin:miter;\" x=\"248.12375\" xlink:href=\"#mb05ddd06bd\" y=\"288.499188\"/>\r\n     <use style=\"fill:#464646;stroke:#464646;stroke-linejoin:miter;\" x=\"248.12375\" xlink:href=\"#mb05ddd06bd\" y=\"291.880203\"/>\r\n     <use style=\"fill:#464646;stroke:#464646;stroke-linejoin:miter;\" x=\"248.12375\" xlink:href=\"#mb05ddd06bd\" y=\"282.003903\"/>\r\n     <use style=\"fill:#464646;stroke:#464646;stroke-linejoin:miter;\" x=\"248.12375\" xlink:href=\"#mb05ddd06bd\" y=\"285.698346\"/>\r\n     <use style=\"fill:#464646;stroke:#464646;stroke-linejoin:miter;\" x=\"248.12375\" xlink:href=\"#mb05ddd06bd\" y=\"292.293661\"/>\r\n     <use style=\"fill:#464646;stroke:#464646;stroke-linejoin:miter;\" x=\"248.12375\" xlink:href=\"#mb05ddd06bd\" y=\"284.671371\"/>\r\n     <use style=\"fill:#464646;stroke:#464646;stroke-linejoin:miter;\" x=\"248.12375\" xlink:href=\"#mb05ddd06bd\" y=\"286.57861\"/>\r\n     <use style=\"fill:#464646;stroke:#464646;stroke-linejoin:miter;\" x=\"248.12375\" xlink:href=\"#mb05ddd06bd\" y=\"293.007209\"/>\r\n     <use style=\"fill:#464646;stroke:#464646;stroke-linejoin:miter;\" x=\"248.12375\" xlink:href=\"#mb05ddd06bd\" y=\"271.227331\"/>\r\n     <use style=\"fill:#464646;stroke:#464646;stroke-linejoin:miter;\" x=\"248.12375\" xlink:href=\"#mb05ddd06bd\" y=\"290.319735\"/>\r\n     <use style=\"fill:#464646;stroke:#464646;stroke-linejoin:miter;\" x=\"248.12375\" xlink:href=\"#mb05ddd06bd\" y=\"293.7541\"/>\r\n     <use style=\"fill:#464646;stroke:#464646;stroke-linejoin:miter;\" x=\"248.12375\" xlink:href=\"#mb05ddd06bd\" y=\"290.006307\"/>\r\n     <use style=\"fill:#464646;stroke:#464646;stroke-linejoin:miter;\" x=\"248.12375\" xlink:href=\"#mb05ddd06bd\" y=\"288.572543\"/>\r\n     <use style=\"fill:#464646;stroke:#464646;stroke-linejoin:miter;\" x=\"248.12375\" xlink:href=\"#mb05ddd06bd\" y=\"248.21375\"/>\r\n     <use style=\"fill:#464646;stroke:#464646;stroke-linejoin:miter;\" x=\"248.12375\" xlink:href=\"#mb05ddd06bd\" y=\"288.772603\"/>\r\n     <use style=\"fill:#464646;stroke:#464646;stroke-linejoin:miter;\" x=\"248.12375\" xlink:href=\"#mb05ddd06bd\" y=\"284.891437\"/>\r\n     <use style=\"fill:#464646;stroke:#464646;stroke-linejoin:miter;\" x=\"248.12375\" xlink:href=\"#mb05ddd06bd\" y=\"282.450703\"/>\r\n     <use style=\"fill:#464646;stroke:#464646;stroke-linejoin:miter;\" x=\"248.12375\" xlink:href=\"#mb05ddd06bd\" y=\"259.523815\"/>\r\n    </g>\r\n   </g>\r\n   <g id=\"line2d_48\">\r\n    <path clip-path=\"url(#p0550144f5c)\" d=\"M 292.76375 331.840543 \r\nL 292.76375 369.423503 \r\n\" style=\"fill:none;stroke:#464646;stroke-linecap:square;stroke-width:1.5;\"/>\r\n   </g>\r\n   <g id=\"line2d_49\">\r\n    <path clip-path=\"url(#p0550144f5c)\" d=\"M 292.76375 282.003903 \r\nL 292.76375 209.982263 \r\n\" style=\"fill:none;stroke:#464646;stroke-linecap:square;stroke-width:1.5;\"/>\r\n   </g>\r\n   <g id=\"line2d_50\">\r\n    <path clip-path=\"url(#p0550144f5c)\" d=\"M 283.83575 369.423503 \r\nL 301.69175 369.423503 \r\n\" style=\"fill:none;stroke:#464646;stroke-linecap:square;stroke-width:1.5;\"/>\r\n   </g>\r\n   <g id=\"line2d_51\">\r\n    <path clip-path=\"url(#p0550144f5c)\" d=\"M 283.83575 209.982263 \r\nL 301.69175 209.982263 \r\n\" style=\"fill:none;stroke:#464646;stroke-linecap:square;stroke-width:1.5;\"/>\r\n   </g>\r\n   <g id=\"line2d_52\">\r\n    <g clip-path=\"url(#p0550144f5c)\">\r\n     <use style=\"fill:#464646;stroke:#464646;stroke-linejoin:miter;\" x=\"292.76375\" xlink:href=\"#mb05ddd06bd\" y=\"203.580339\"/>\r\n     <use style=\"fill:#464646;stroke:#464646;stroke-linejoin:miter;\" x=\"292.76375\" xlink:href=\"#mb05ddd06bd\" y=\"160.567415\"/>\r\n     <use style=\"fill:#464646;stroke:#464646;stroke-linejoin:miter;\" x=\"292.76375\" xlink:href=\"#mb05ddd06bd\" y=\"123.069482\"/>\r\n     <use style=\"fill:#464646;stroke:#464646;stroke-linejoin:miter;\" x=\"292.76375\" xlink:href=\"#mb05ddd06bd\" y=\"178.959608\"/>\r\n     <use style=\"fill:#464646;stroke:#464646;stroke-linejoin:miter;\" x=\"292.76375\" xlink:href=\"#mb05ddd06bd\" y=\"124.596607\"/>\r\n     <use style=\"fill:#464646;stroke:#464646;stroke-linejoin:miter;\" x=\"292.76375\" xlink:href=\"#mb05ddd06bd\" y=\"180.306679\"/>\r\n     <use style=\"fill:#464646;stroke:#464646;stroke-linejoin:miter;\" x=\"292.76375\" xlink:href=\"#mb05ddd06bd\" y=\"169.97024\"/>\r\n     <use style=\"fill:#464646;stroke:#464646;stroke-linejoin:miter;\" x=\"292.76375\" xlink:href=\"#mb05ddd06bd\" y=\"178.179373\"/>\r\n     <use style=\"fill:#464646;stroke:#464646;stroke-linejoin:miter;\" x=\"292.76375\" xlink:href=\"#mb05ddd06bd\" y=\"196.644922\"/>\r\n     <use style=\"fill:#464646;stroke:#464646;stroke-linejoin:miter;\" x=\"292.76375\" xlink:href=\"#mb05ddd06bd\" y=\"89.946196\"/>\r\n     <use style=\"fill:#464646;stroke:#464646;stroke-linejoin:miter;\" x=\"292.76375\" xlink:href=\"#mb05ddd06bd\" y=\"68.886535\"/>\r\n     <use style=\"fill:#464646;stroke:#464646;stroke-linejoin:miter;\" x=\"292.76375\" xlink:href=\"#mb05ddd06bd\" y=\"49.00056\"/>\r\n     <use style=\"fill:#464646;stroke:#464646;stroke-linejoin:miter;\" x=\"292.76375\" xlink:href=\"#mb05ddd06bd\" y=\"26.967273\"/>\r\n     <use style=\"fill:#464646;stroke:#464646;stroke-linejoin:miter;\" x=\"292.76375\" xlink:href=\"#mb05ddd06bd\" y=\"65.838952\"/>\r\n     <use style=\"fill:#464646;stroke:#464646;stroke-linejoin:miter;\" x=\"292.76375\" xlink:href=\"#mb05ddd06bd\" y=\"157.966634\"/>\r\n     <use style=\"fill:#464646;stroke:#464646;stroke-linejoin:miter;\" x=\"292.76375\" xlink:href=\"#mb05ddd06bd\" y=\"156.6329\"/>\r\n     <use style=\"fill:#464646;stroke:#464646;stroke-linejoin:miter;\" x=\"292.76375\" xlink:href=\"#mb05ddd06bd\" y=\"156.6329\"/>\r\n     <use style=\"fill:#464646;stroke:#464646;stroke-linejoin:miter;\" x=\"292.76375\" xlink:href=\"#mb05ddd06bd\" y=\"156.6329\"/>\r\n     <use style=\"fill:#464646;stroke:#464646;stroke-linejoin:miter;\" x=\"292.76375\" xlink:href=\"#mb05ddd06bd\" y=\"156.6329\"/>\r\n     <use style=\"fill:#464646;stroke:#464646;stroke-linejoin:miter;\" x=\"292.76375\" xlink:href=\"#mb05ddd06bd\" y=\"156.6329\"/>\r\n     <use style=\"fill:#464646;stroke:#464646;stroke-linejoin:miter;\" x=\"292.76375\" xlink:href=\"#mb05ddd06bd\" y=\"156.6329\"/>\r\n     <use style=\"fill:#464646;stroke:#464646;stroke-linejoin:miter;\" x=\"292.76375\" xlink:href=\"#mb05ddd06bd\" y=\"123.289548\"/>\r\n     <use style=\"fill:#464646;stroke:#464646;stroke-linejoin:miter;\" x=\"292.76375\" xlink:href=\"#mb05ddd06bd\" y=\"123.289548\"/>\r\n     <use style=\"fill:#464646;stroke:#464646;stroke-linejoin:miter;\" x=\"292.76375\" xlink:href=\"#mb05ddd06bd\" y=\"156.6329\"/>\r\n     <use style=\"fill:#464646;stroke:#464646;stroke-linejoin:miter;\" x=\"292.76375\" xlink:href=\"#mb05ddd06bd\" y=\"184.848044\"/>\r\n     <use style=\"fill:#464646;stroke:#464646;stroke-linejoin:miter;\" x=\"292.76375\" xlink:href=\"#mb05ddd06bd\" y=\"189.976251\"/>\r\n     <use style=\"fill:#464646;stroke:#464646;stroke-linejoin:miter;\" x=\"292.76375\" xlink:href=\"#mb05ddd06bd\" y=\"189.976251\"/>\r\n     <use style=\"fill:#464646;stroke:#464646;stroke-linejoin:miter;\" x=\"292.76375\" xlink:href=\"#mb05ddd06bd\" y=\"171.637408\"/>\r\n     <use style=\"fill:#464646;stroke:#464646;stroke-linejoin:miter;\" x=\"292.76375\" xlink:href=\"#mb05ddd06bd\" y=\"173.304575\"/>\r\n     <use style=\"fill:#464646;stroke:#464646;stroke-linejoin:miter;\" x=\"292.76375\" xlink:href=\"#mb05ddd06bd\" y=\"169.336717\"/>\r\n     <use style=\"fill:#464646;stroke:#464646;stroke-linejoin:miter;\" x=\"292.76375\" xlink:href=\"#mb05ddd06bd\" y=\"169.336717\"/>\r\n    </g>\r\n   </g>\r\n   <g id=\"line2d_53\">\r\n    <path clip-path=\"url(#p0550144f5c)\" d=\"M 337.40375 368.574914 \r\nL 337.40375 381.280398 \r\n\" style=\"fill:none;stroke:#464646;stroke-linecap:square;stroke-width:1.5;\"/>\r\n   </g>\r\n   <g id=\"line2d_54\">\r\n    <path clip-path=\"url(#p0550144f5c)\" d=\"M 337.40375 355.514323 \r\nL 337.40375 337.894029 \r\n\" style=\"fill:none;stroke:#464646;stroke-linecap:square;stroke-width:1.5;\"/>\r\n   </g>\r\n   <g id=\"line2d_55\">\r\n    <path clip-path=\"url(#p0550144f5c)\" d=\"M 328.47575 381.280398 \r\nL 346.33175 381.280398 \r\n\" style=\"fill:none;stroke:#464646;stroke-linecap:square;stroke-width:1.5;\"/>\r\n   </g>\r\n   <g id=\"line2d_56\">\r\n    <path clip-path=\"url(#p0550144f5c)\" d=\"M 328.47575 337.894029 \r\nL 346.33175 337.894029 \r\n\" style=\"fill:none;stroke:#464646;stroke-linecap:square;stroke-width:1.5;\"/>\r\n   </g>\r\n   <g id=\"line2d_57\">\r\n    <g clip-path=\"url(#p0550144f5c)\">\r\n     <use style=\"fill:#464646;stroke:#464646;stroke-linejoin:miter;\" x=\"337.40375\" xlink:href=\"#mb05ddd06bd\" y=\"324.016526\"/>\r\n     <use style=\"fill:#464646;stroke:#464646;stroke-linejoin:miter;\" x=\"337.40375\" xlink:href=\"#mb05ddd06bd\" y=\"324.016526\"/>\r\n     <use style=\"fill:#464646;stroke:#464646;stroke-linejoin:miter;\" x=\"337.40375\" xlink:href=\"#mb05ddd06bd\" y=\"323.863147\"/>\r\n     <use style=\"fill:#464646;stroke:#464646;stroke-linejoin:miter;\" x=\"337.40375\" xlink:href=\"#mb05ddd06bd\" y=\"323.109587\"/>\r\n     <use style=\"fill:#464646;stroke:#464646;stroke-linejoin:miter;\" x=\"337.40375\" xlink:href=\"#mb05ddd06bd\" y=\"323.683092\"/>\r\n     <use style=\"fill:#464646;stroke:#464646;stroke-linejoin:miter;\" x=\"337.40375\" xlink:href=\"#mb05ddd06bd\" y=\"323.062906\"/>\r\n     <use style=\"fill:#464646;stroke:#464646;stroke-linejoin:miter;\" x=\"337.40375\" xlink:href=\"#mb05ddd06bd\" y=\"319.348457\"/>\r\n     <use style=\"fill:#464646;stroke:#464646;stroke-linejoin:miter;\" x=\"337.40375\" xlink:href=\"#mb05ddd06bd\" y=\"319.348457\"/>\r\n     <use style=\"fill:#464646;stroke:#464646;stroke-linejoin:miter;\" x=\"337.40375\" xlink:href=\"#mb05ddd06bd\" y=\"319.775252\"/>\r\n     <use style=\"fill:#464646;stroke:#464646;stroke-linejoin:miter;\" x=\"337.40375\" xlink:href=\"#mb05ddd06bd\" y=\"319.348457\"/>\r\n     <use style=\"fill:#464646;stroke:#464646;stroke-linejoin:miter;\" x=\"337.40375\" xlink:href=\"#mb05ddd06bd\" y=\"319.348457\"/>\r\n     <use style=\"fill:#464646;stroke:#464646;stroke-linejoin:miter;\" x=\"337.40375\" xlink:href=\"#mb05ddd06bd\" y=\"327.044102\"/>\r\n    </g>\r\n   </g>\r\n   <g id=\"line2d_58\">\r\n    <path clip-path=\"url(#p0550144f5c)\" d=\"M 382.04375 417.146175 \r\nL 382.04375 419.678602 \r\n\" style=\"fill:none;stroke:#464646;stroke-linecap:square;stroke-width:1.5;\"/>\r\n   </g>\r\n   <g id=\"line2d_59\">\r\n    <path clip-path=\"url(#p0550144f5c)\" d=\"M 382.04375 414.028571 \r\nL 382.04375 409.428856 \r\n\" style=\"fill:none;stroke:#464646;stroke-linecap:square;stroke-width:1.5;\"/>\r\n   </g>\r\n   <g id=\"line2d_60\">\r\n    <path clip-path=\"url(#p0550144f5c)\" d=\"M 373.11575 419.678602 \r\nL 390.97175 419.678602 \r\n\" style=\"fill:none;stroke:#464646;stroke-linecap:square;stroke-width:1.5;\"/>\r\n   </g>\r\n   <g id=\"line2d_61\">\r\n    <path clip-path=\"url(#p0550144f5c)\" d=\"M 373.11575 409.428856 \r\nL 390.97175 409.428856 \r\n\" style=\"fill:none;stroke:#464646;stroke-linecap:square;stroke-width:1.5;\"/>\r\n   </g>\r\n   <g id=\"line2d_62\"/>\r\n   <g id=\"line2d_63\">\r\n    <path clip-path=\"url(#p0550144f5c)\" d=\"M 426.68375 412.509782 \r\nL 426.68375 416.711044 \r\n\" style=\"fill:none;stroke:#464646;stroke-linecap:square;stroke-width:1.5;\"/>\r\n   </g>\r\n   <g id=\"line2d_64\">\r\n    <path clip-path=\"url(#p0550144f5c)\" d=\"M 426.68375 404.874154 \r\nL 426.68375 396.464961 \r\n\" style=\"fill:none;stroke:#464646;stroke-linecap:square;stroke-width:1.5;\"/>\r\n   </g>\r\n   <g id=\"line2d_65\">\r\n    <path clip-path=\"url(#p0550144f5c)\" d=\"M 417.75575 416.711044 \r\nL 435.61175 416.711044 \r\n\" style=\"fill:none;stroke:#464646;stroke-linecap:square;stroke-width:1.5;\"/>\r\n   </g>\r\n   <g id=\"line2d_66\">\r\n    <path clip-path=\"url(#p0550144f5c)\" d=\"M 417.75575 396.464961 \r\nL 435.61175 396.464961 \r\n\" style=\"fill:none;stroke:#464646;stroke-linecap:square;stroke-width:1.5;\"/>\r\n   </g>\r\n   <g id=\"line2d_67\"/>\r\n   <g id=\"line2d_68\">\r\n    <path clip-path=\"url(#p0550144f5c)\" d=\"M 471.32375 332.197317 \r\nL 471.32375 376.078836 \r\n\" style=\"fill:none;stroke:#464646;stroke-linecap:square;stroke-width:1.5;\"/>\r\n   </g>\r\n   <g id=\"line2d_69\">\r\n    <path clip-path=\"url(#p0550144f5c)\" d=\"M 471.32375 296.166491 \r\nL 471.32375 242.838801 \r\n\" style=\"fill:none;stroke:#464646;stroke-linecap:square;stroke-width:1.5;\"/>\r\n   </g>\r\n   <g id=\"line2d_70\">\r\n    <path clip-path=\"url(#p0550144f5c)\" d=\"M 462.39575 376.078836 \r\nL 480.25175 376.078836 \r\n\" style=\"fill:none;stroke:#464646;stroke-linecap:square;stroke-width:1.5;\"/>\r\n   </g>\r\n   <g id=\"line2d_71\">\r\n    <path clip-path=\"url(#p0550144f5c)\" d=\"M 462.39575 242.838801 \r\nL 480.25175 242.838801 \r\n\" style=\"fill:none;stroke:#464646;stroke-linecap:square;stroke-width:1.5;\"/>\r\n   </g>\r\n   <g id=\"line2d_72\">\r\n    <g clip-path=\"url(#p0550144f5c)\">\r\n     <use style=\"fill:#464646;stroke:#464646;stroke-linejoin:miter;\" x=\"471.32375\" xlink:href=\"#mb05ddd06bd\" y=\"413.016601\"/>\r\n     <use style=\"fill:#464646;stroke:#464646;stroke-linejoin:miter;\" x=\"471.32375\" xlink:href=\"#mb05ddd06bd\" y=\"232.242284\"/>\r\n     <use style=\"fill:#464646;stroke:#464646;stroke-linejoin:miter;\" x=\"471.32375\" xlink:href=\"#mb05ddd06bd\" y=\"223.319603\"/>\r\n     <use style=\"fill:#464646;stroke:#464646;stroke-linejoin:miter;\" x=\"471.32375\" xlink:href=\"#mb05ddd06bd\" y=\"223.319603\"/>\r\n     <use style=\"fill:#464646;stroke:#464646;stroke-linejoin:miter;\" x=\"471.32375\" xlink:href=\"#mb05ddd06bd\" y=\"223.319603\"/>\r\n     <use style=\"fill:#464646;stroke:#464646;stroke-linejoin:miter;\" x=\"471.32375\" xlink:href=\"#mb05ddd06bd\" y=\"223.319603\"/>\r\n     <use style=\"fill:#464646;stroke:#464646;stroke-linejoin:miter;\" x=\"471.32375\" xlink:href=\"#mb05ddd06bd\" y=\"223.319603\"/>\r\n     <use style=\"fill:#464646;stroke:#464646;stroke-linejoin:miter;\" x=\"471.32375\" xlink:href=\"#mb05ddd06bd\" y=\"223.319603\"/>\r\n     <use style=\"fill:#464646;stroke:#464646;stroke-linejoin:miter;\" x=\"471.32375\" xlink:href=\"#mb05ddd06bd\" y=\"223.319603\"/>\r\n     <use style=\"fill:#464646;stroke:#464646;stroke-linejoin:miter;\" x=\"471.32375\" xlink:href=\"#mb05ddd06bd\" y=\"224.346579\"/>\r\n     <use style=\"fill:#464646;stroke:#464646;stroke-linejoin:miter;\" x=\"471.32375\" xlink:href=\"#mb05ddd06bd\" y=\"223.319603\"/>\r\n     <use style=\"fill:#464646;stroke:#464646;stroke-linejoin:miter;\" x=\"471.32375\" xlink:href=\"#mb05ddd06bd\" y=\"223.319603\"/>\r\n     <use style=\"fill:#464646;stroke:#464646;stroke-linejoin:miter;\" x=\"471.32375\" xlink:href=\"#mb05ddd06bd\" y=\"241.958537\"/>\r\n     <use style=\"fill:#464646;stroke:#464646;stroke-linejoin:miter;\" x=\"471.32375\" xlink:href=\"#mb05ddd06bd\" y=\"237.737269\"/>\r\n     <use style=\"fill:#464646;stroke:#464646;stroke-linejoin:miter;\" x=\"471.32375\" xlink:href=\"#mb05ddd06bd\" y=\"236.743637\"/>\r\n     <use style=\"fill:#464646;stroke:#464646;stroke-linejoin:miter;\" x=\"471.32375\" xlink:href=\"#mb05ddd06bd\" y=\"236.203474\"/>\r\n     <use style=\"fill:#464646;stroke:#464646;stroke-linejoin:miter;\" x=\"471.32375\" xlink:href=\"#mb05ddd06bd\" y=\"235.770011\"/>\r\n     <use style=\"fill:#464646;stroke:#464646;stroke-linejoin:miter;\" x=\"471.32375\" xlink:href=\"#mb05ddd06bd\" y=\"234.156193\"/>\r\n     <use style=\"fill:#464646;stroke:#464646;stroke-linejoin:miter;\" x=\"471.32375\" xlink:href=\"#mb05ddd06bd\" y=\"232.048893\"/>\r\n     <use style=\"fill:#464646;stroke:#464646;stroke-linejoin:miter;\" x=\"471.32375\" xlink:href=\"#mb05ddd06bd\" y=\"234.729698\"/>\r\n     <use style=\"fill:#464646;stroke:#464646;stroke-linejoin:miter;\" x=\"471.32375\" xlink:href=\"#mb05ddd06bd\" y=\"234.96977\"/>\r\n     <use style=\"fill:#464646;stroke:#464646;stroke-linejoin:miter;\" x=\"471.32375\" xlink:href=\"#mb05ddd06bd\" y=\"232.642404\"/>\r\n     <use style=\"fill:#464646;stroke:#464646;stroke-linejoin:miter;\" x=\"471.32375\" xlink:href=\"#mb05ddd06bd\" y=\"229.374756\"/>\r\n     <use style=\"fill:#464646;stroke:#464646;stroke-linejoin:miter;\" x=\"471.32375\" xlink:href=\"#mb05ddd06bd\" y=\"226.59392\"/>\r\n     <use style=\"fill:#464646;stroke:#464646;stroke-linejoin:miter;\" x=\"471.32375\" xlink:href=\"#mb05ddd06bd\" y=\"224.973434\"/>\r\n     <use style=\"fill:#464646;stroke:#464646;stroke-linejoin:miter;\" x=\"471.32375\" xlink:href=\"#mb05ddd06bd\" y=\"221.745797\"/>\r\n     <use style=\"fill:#464646;stroke:#464646;stroke-linejoin:miter;\" x=\"471.32375\" xlink:href=\"#mb05ddd06bd\" y=\"220.785509\"/>\r\n     <use style=\"fill:#464646;stroke:#464646;stroke-linejoin:miter;\" x=\"471.32375\" xlink:href=\"#mb05ddd06bd\" y=\"219.465112\"/>\r\n     <use style=\"fill:#464646;stroke:#464646;stroke-linejoin:miter;\" x=\"471.32375\" xlink:href=\"#mb05ddd06bd\" y=\"219.02498\"/>\r\n     <use style=\"fill:#464646;stroke:#464646;stroke-linejoin:miter;\" x=\"471.32375\" xlink:href=\"#mb05ddd06bd\" y=\"218.958293\"/>\r\n     <use style=\"fill:#464646;stroke:#464646;stroke-linejoin:miter;\" x=\"471.32375\" xlink:href=\"#mb05ddd06bd\" y=\"218.951624\"/>\r\n     <use style=\"fill:#464646;stroke:#464646;stroke-linejoin:miter;\" x=\"471.32375\" xlink:href=\"#mb05ddd06bd\" y=\"226.433872\"/>\r\n     <use style=\"fill:#464646;stroke:#464646;stroke-linejoin:miter;\" x=\"471.32375\" xlink:href=\"#mb05ddd06bd\" y=\"237.343817\"/>\r\n     <use style=\"fill:#464646;stroke:#464646;stroke-linejoin:miter;\" x=\"471.32375\" xlink:href=\"#mb05ddd06bd\" y=\"234.663012\"/>\r\n     <use style=\"fill:#464646;stroke:#464646;stroke-linejoin:miter;\" x=\"471.32375\" xlink:href=\"#mb05ddd06bd\" y=\"241.84517\"/>\r\n     <use style=\"fill:#464646;stroke:#464646;stroke-linejoin:miter;\" x=\"471.32375\" xlink:href=\"#mb05ddd06bd\" y=\"237.797287\"/>\r\n    </g>\r\n   </g>\r\n   <g id=\"line2d_73\">\r\n    <path clip-path=\"url(#p0550144f5c)\" d=\"M 515.96375 383.561084 \r\nL 515.96375 407.801701 \r\n\" style=\"fill:none;stroke:#464646;stroke-linecap:square;stroke-width:1.5;\"/>\r\n   </g>\r\n   <g id=\"line2d_74\">\r\n    <path clip-path=\"url(#p0550144f5c)\" d=\"M 515.96375 365.555674 \r\nL 515.96375 338.880992 \r\n\" style=\"fill:none;stroke:#464646;stroke-linecap:square;stroke-width:1.5;\"/>\r\n   </g>\r\n   <g id=\"line2d_75\">\r\n    <path clip-path=\"url(#p0550144f5c)\" d=\"M 507.03575 407.801701 \r\nL 524.89175 407.801701 \r\n\" style=\"fill:none;stroke:#464646;stroke-linecap:square;stroke-width:1.5;\"/>\r\n   </g>\r\n   <g id=\"line2d_76\">\r\n    <path clip-path=\"url(#p0550144f5c)\" d=\"M 507.03575 338.880992 \r\nL 524.89175 338.880992 \r\n\" style=\"fill:none;stroke:#464646;stroke-linecap:square;stroke-width:1.5;\"/>\r\n   </g>\r\n   <g id=\"line2d_77\">\r\n    <g clip-path=\"url(#p0550144f5c)\">\r\n     <use style=\"fill:#464646;stroke:#464646;stroke-linejoin:miter;\" x=\"515.96375\" xlink:href=\"#mb05ddd06bd\" y=\"410.769259\"/>\r\n     <use style=\"fill:#464646;stroke:#464646;stroke-linejoin:miter;\" x=\"515.96375\" xlink:href=\"#mb05ddd06bd\" y=\"334.432989\"/>\r\n     <use style=\"fill:#464646;stroke:#464646;stroke-linejoin:miter;\" x=\"515.96375\" xlink:href=\"#mb05ddd06bd\" y=\"335.353266\"/>\r\n     <use style=\"fill:#464646;stroke:#464646;stroke-linejoin:miter;\" x=\"515.96375\" xlink:href=\"#mb05ddd06bd\" y=\"334.432989\"/>\r\n     <use style=\"fill:#464646;stroke:#464646;stroke-linejoin:miter;\" x=\"515.96375\" xlink:href=\"#mb05ddd06bd\" y=\"335.353266\"/>\r\n     <use style=\"fill:#464646;stroke:#464646;stroke-linejoin:miter;\" x=\"515.96375\" xlink:href=\"#mb05ddd06bd\" y=\"326.557289\"/>\r\n     <use style=\"fill:#464646;stroke:#464646;stroke-linejoin:miter;\" x=\"515.96375\" xlink:href=\"#mb05ddd06bd\" y=\"337.020433\"/>\r\n     <use style=\"fill:#464646;stroke:#464646;stroke-linejoin:miter;\" x=\"515.96375\" xlink:href=\"#mb05ddd06bd\" y=\"334.019532\"/>\r\n     <use style=\"fill:#464646;stroke:#464646;stroke-linejoin:miter;\" x=\"515.96375\" xlink:href=\"#mb05ddd06bd\" y=\"337.133801\"/>\r\n     <use style=\"fill:#464646;stroke:#464646;stroke-linejoin:miter;\" x=\"515.96375\" xlink:href=\"#mb05ddd06bd\" y=\"333.519381\"/>\r\n     <use style=\"fill:#464646;stroke:#464646;stroke-linejoin:miter;\" x=\"515.96375\" xlink:href=\"#mb05ddd06bd\" y=\"326.683994\"/>\r\n     <use style=\"fill:#464646;stroke:#464646;stroke-linejoin:miter;\" x=\"515.96375\" xlink:href=\"#mb05ddd06bd\" y=\"336.853716\"/>\r\n     <use style=\"fill:#464646;stroke:#464646;stroke-linejoin:miter;\" x=\"515.96375\" xlink:href=\"#mb05ddd06bd\" y=\"337.353867\"/>\r\n     <use style=\"fill:#464646;stroke:#464646;stroke-linejoin:miter;\" x=\"515.96375\" xlink:href=\"#mb05ddd06bd\" y=\"321.982581\"/>\r\n     <use style=\"fill:#464646;stroke:#464646;stroke-linejoin:miter;\" x=\"515.96375\" xlink:href=\"#mb05ddd06bd\" y=\"335.466633\"/>\r\n     <use style=\"fill:#464646;stroke:#464646;stroke-linejoin:miter;\" x=\"515.96375\" xlink:href=\"#mb05ddd06bd\" y=\"327.55759\"/>\r\n     <use style=\"fill:#464646;stroke:#464646;stroke-linejoin:miter;\" x=\"515.96375\" xlink:href=\"#mb05ddd06bd\" y=\"327.864349\"/>\r\n     <use style=\"fill:#464646;stroke:#464646;stroke-linejoin:miter;\" x=\"515.96375\" xlink:href=\"#mb05ddd06bd\" y=\"319.668553\"/>\r\n     <use style=\"fill:#464646;stroke:#464646;stroke-linejoin:miter;\" x=\"515.96375\" xlink:href=\"#mb05ddd06bd\" y=\"337.413885\"/>\r\n     <use style=\"fill:#464646;stroke:#464646;stroke-linejoin:miter;\" x=\"515.96375\" xlink:href=\"#mb05ddd06bd\" y=\"338.434191\"/>\r\n     <use style=\"fill:#464646;stroke:#464646;stroke-linejoin:miter;\" x=\"515.96375\" xlink:href=\"#mb05ddd06bd\" y=\"332.992556\"/>\r\n     <use style=\"fill:#464646;stroke:#464646;stroke-linejoin:miter;\" x=\"515.96375\" xlink:href=\"#mb05ddd06bd\" y=\"294.314268\"/>\r\n     <use style=\"fill:#464646;stroke:#464646;stroke-linejoin:miter;\" x=\"515.96375\" xlink:href=\"#mb05ddd06bd\" y=\"335.019832\"/>\r\n     <use style=\"fill:#464646;stroke:#464646;stroke-linejoin:miter;\" x=\"515.96375\" xlink:href=\"#mb05ddd06bd\" y=\"330.351763\"/>\r\n     <use style=\"fill:#464646;stroke:#464646;stroke-linejoin:miter;\" x=\"515.96375\" xlink:href=\"#mb05ddd06bd\" y=\"336.58697\"/>\r\n     <use style=\"fill:#464646;stroke:#464646;stroke-linejoin:miter;\" x=\"515.96375\" xlink:href=\"#mb05ddd06bd\" y=\"333.199285\"/>\r\n     <use style=\"fill:#464646;stroke:#464646;stroke-linejoin:miter;\" x=\"515.96375\" xlink:href=\"#mb05ddd06bd\" y=\"331.712172\"/>\r\n     <use style=\"fill:#464646;stroke:#464646;stroke-linejoin:miter;\" x=\"515.96375\" xlink:href=\"#mb05ddd06bd\" y=\"324.403309\"/>\r\n     <use style=\"fill:#464646;stroke:#464646;stroke-linejoin:miter;\" x=\"515.96375\" xlink:href=\"#mb05ddd06bd\" y=\"324.376634\"/>\r\n     <use style=\"fill:#464646;stroke:#464646;stroke-linejoin:miter;\" x=\"515.96375\" xlink:href=\"#mb05ddd06bd\" y=\"325.35026\"/>\r\n     <use style=\"fill:#464646;stroke:#464646;stroke-linejoin:miter;\" x=\"515.96375\" xlink:href=\"#mb05ddd06bd\" y=\"323.349659\"/>\r\n     <use style=\"fill:#464646;stroke:#464646;stroke-linejoin:miter;\" x=\"515.96375\" xlink:href=\"#mb05ddd06bd\" y=\"333.145936\"/>\r\n     <use style=\"fill:#464646;stroke:#464646;stroke-linejoin:miter;\" x=\"515.96375\" xlink:href=\"#mb05ddd06bd\" y=\"329.924968\"/>\r\n     <use style=\"fill:#464646;stroke:#464646;stroke-linejoin:miter;\" x=\"515.96375\" xlink:href=\"#mb05ddd06bd\" y=\"300.842896\"/>\r\n     <use style=\"fill:#464646;stroke:#464646;stroke-linejoin:miter;\" x=\"515.96375\" xlink:href=\"#mb05ddd06bd\" y=\"335.573332\"/>\r\n     <use style=\"fill:#464646;stroke:#464646;stroke-linejoin:miter;\" x=\"515.96375\" xlink:href=\"#mb05ddd06bd\" y=\"334.899796\"/>\r\n     <use style=\"fill:#464646;stroke:#464646;stroke-linejoin:miter;\" x=\"515.96375\" xlink:href=\"#mb05ddd06bd\" y=\"326.383904\"/>\r\n     <use style=\"fill:#464646;stroke:#464646;stroke-linejoin:miter;\" x=\"515.96375\" xlink:href=\"#mb05ddd06bd\" y=\"334.999826\"/>\r\n     <use style=\"fill:#464646;stroke:#464646;stroke-linejoin:miter;\" x=\"515.96375\" xlink:href=\"#mb05ddd06bd\" y=\"324.683393\"/>\r\n     <use style=\"fill:#464646;stroke:#464646;stroke-linejoin:miter;\" x=\"515.96375\" xlink:href=\"#mb05ddd06bd\" y=\"331.925569\"/>\r\n     <use style=\"fill:#464646;stroke:#464646;stroke-linejoin:miter;\" x=\"515.96375\" xlink:href=\"#mb05ddd06bd\" y=\"325.823736\"/>\r\n     <use style=\"fill:#464646;stroke:#464646;stroke-linejoin:miter;\" x=\"515.96375\" xlink:href=\"#mb05ddd06bd\" y=\"338.227463\"/>\r\n     <use style=\"fill:#464646;stroke:#464646;stroke-linejoin:miter;\" x=\"515.96375\" xlink:href=\"#mb05ddd06bd\" y=\"338.214125\"/>\r\n     <use style=\"fill:#464646;stroke:#464646;stroke-linejoin:miter;\" x=\"515.96375\" xlink:href=\"#mb05ddd06bd\" y=\"336.380241\"/>\r\n     <use style=\"fill:#464646;stroke:#464646;stroke-linejoin:miter;\" x=\"515.96375\" xlink:href=\"#mb05ddd06bd\" y=\"333.099255\"/>\r\n     <use style=\"fill:#464646;stroke:#464646;stroke-linejoin:miter;\" x=\"515.96375\" xlink:href=\"#mb05ddd06bd\" y=\"336.173512\"/>\r\n    </g>\r\n   </g>\r\n   <g id=\"line2d_78\">\r\n    <path clip-path=\"url(#p0550144f5c)\" d=\"M 560.60375 389.369496 \r\nL 560.60375 405.481003 \r\n\" style=\"fill:none;stroke:#464646;stroke-linecap:square;stroke-width:1.5;\"/>\r\n   </g>\r\n   <g id=\"line2d_79\">\r\n    <path clip-path=\"url(#p0550144f5c)\" d=\"M 560.60375 373.528069 \r\nL 560.60375 349.92431 \r\n\" style=\"fill:none;stroke:#464646;stroke-linecap:square;stroke-width:1.5;\"/>\r\n   </g>\r\n   <g id=\"line2d_80\">\r\n    <path clip-path=\"url(#p0550144f5c)\" d=\"M 551.67575 405.481003 \r\nL 569.53175 405.481003 \r\n\" style=\"fill:none;stroke:#464646;stroke-linecap:square;stroke-width:1.5;\"/>\r\n   </g>\r\n   <g id=\"line2d_81\">\r\n    <path clip-path=\"url(#p0550144f5c)\" d=\"M 551.67575 349.92431 \r\nL 569.53175 349.92431 \r\n\" style=\"fill:none;stroke:#464646;stroke-linecap:square;stroke-width:1.5;\"/>\r\n   </g>\r\n   <g id=\"line2d_82\">\r\n    <g clip-path=\"url(#p0550144f5c)\">\r\n     <use style=\"fill:#464646;stroke:#464646;stroke-linejoin:miter;\" x=\"560.60375\" xlink:href=\"#mb05ddd06bd\" y=\"348.984028\"/>\r\n     <use style=\"fill:#464646;stroke:#464646;stroke-linejoin:miter;\" x=\"560.60375\" xlink:href=\"#mb05ddd06bd\" y=\"343.475706\"/>\r\n     <use style=\"fill:#464646;stroke:#464646;stroke-linejoin:miter;\" x=\"560.60375\" xlink:href=\"#mb05ddd06bd\" y=\"342.328695\"/>\r\n     <use style=\"fill:#464646;stroke:#464646;stroke-linejoin:miter;\" x=\"560.60375\" xlink:href=\"#mb05ddd06bd\" y=\"348.690606\"/>\r\n     <use style=\"fill:#464646;stroke:#464646;stroke-linejoin:miter;\" x=\"560.60375\" xlink:href=\"#mb05ddd06bd\" y=\"348.897335\"/>\r\n     <use style=\"fill:#464646;stroke:#464646;stroke-linejoin:miter;\" x=\"560.60375\" xlink:href=\"#mb05ddd06bd\" y=\"348.177119\"/>\r\n     <use style=\"fill:#464646;stroke:#464646;stroke-linejoin:miter;\" x=\"560.60375\" xlink:href=\"#mb05ddd06bd\" y=\"349.244106\"/>\r\n     <use style=\"fill:#464646;stroke:#464646;stroke-linejoin:miter;\" x=\"560.60375\" xlink:href=\"#mb05ddd06bd\" y=\"339.967985\"/>\r\n     <use style=\"fill:#464646;stroke:#464646;stroke-linejoin:miter;\" x=\"560.60375\" xlink:href=\"#mb05ddd06bd\" y=\"349.02404\"/>\r\n     <use style=\"fill:#464646;stroke:#464646;stroke-linejoin:miter;\" x=\"560.60375\" xlink:href=\"#mb05ddd06bd\" y=\"349.410823\"/>\r\n     <use style=\"fill:#464646;stroke:#464646;stroke-linejoin:miter;\" x=\"560.60375\" xlink:href=\"#mb05ddd06bd\" y=\"348.590576\"/>\r\n     <use style=\"fill:#464646;stroke:#464646;stroke-linejoin:miter;\" x=\"560.60375\" xlink:href=\"#mb05ddd06bd\" y=\"348.077089\"/>\r\n     <use style=\"fill:#464646;stroke:#464646;stroke-linejoin:miter;\" x=\"560.60375\" xlink:href=\"#mb05ddd06bd\" y=\"347.690306\"/>\r\n    </g>\r\n   </g>\r\n   <g id=\"line2d_83\">\r\n    <path clip-path=\"url(#p0550144f5c)\" d=\"M 605.24375 410.302452 \r\nL 605.24375 418.031441 \r\n\" style=\"fill:none;stroke:#464646;stroke-linecap:square;stroke-width:1.5;\"/>\r\n   </g>\r\n   <g id=\"line2d_84\">\r\n    <path clip-path=\"url(#p0550144f5c)\" d=\"M 605.24375 398.965712 \r\nL 605.24375 386.855407 \r\n\" style=\"fill:none;stroke:#464646;stroke-linecap:square;stroke-width:1.5;\"/>\r\n   </g>\r\n   <g id=\"line2d_85\">\r\n    <path clip-path=\"url(#p0550144f5c)\" d=\"M 596.31575 418.031441 \r\nL 614.17175 418.031441 \r\n\" style=\"fill:none;stroke:#464646;stroke-linecap:square;stroke-width:1.5;\"/>\r\n   </g>\r\n   <g id=\"line2d_86\">\r\n    <path clip-path=\"url(#p0550144f5c)\" d=\"M 596.31575 386.855407 \r\nL 614.17175 386.855407 \r\n\" style=\"fill:none;stroke:#464646;stroke-linecap:square;stroke-width:1.5;\"/>\r\n   </g>\r\n   <g id=\"line2d_87\"/>\r\n   <g id=\"line2d_88\">\r\n    <path clip-path=\"url(#p0550144f5c)\" d=\"M 649.88375 409.698937 \r\nL 649.88375 416.711044 \r\n\" style=\"fill:none;stroke:#464646;stroke-linecap:square;stroke-width:1.5;\"/>\r\n   </g>\r\n   <g id=\"line2d_89\">\r\n    <path clip-path=\"url(#p0550144f5c)\" d=\"M 649.88375 400.139398 \r\nL 649.88375 386.03516 \r\n\" style=\"fill:none;stroke:#464646;stroke-linecap:square;stroke-width:1.5;\"/>\r\n   </g>\r\n   <g id=\"line2d_90\">\r\n    <path clip-path=\"url(#p0550144f5c)\" d=\"M 640.95575 416.711044 \r\nL 658.81175 416.711044 \r\n\" style=\"fill:none;stroke:#464646;stroke-linecap:square;stroke-width:1.5;\"/>\r\n   </g>\r\n   <g id=\"line2d_91\">\r\n    <path clip-path=\"url(#p0550144f5c)\" d=\"M 640.95575 386.03516 \r\nL 658.81175 386.03516 \r\n\" style=\"fill:none;stroke:#464646;stroke-linecap:square;stroke-width:1.5;\"/>\r\n   </g>\r\n   <g id=\"line2d_92\">\r\n    <g clip-path=\"url(#p0550144f5c)\">\r\n     <use style=\"fill:#464646;stroke:#464646;stroke-linejoin:miter;\" x=\"649.88375\" xlink:href=\"#mb05ddd06bd\" y=\"381.367091\"/>\r\n     <use style=\"fill:#464646;stroke:#464646;stroke-linejoin:miter;\" x=\"649.88375\" xlink:href=\"#mb05ddd06bd\" y=\"379.36649\"/>\r\n     <use style=\"fill:#464646;stroke:#464646;stroke-linejoin:miter;\" x=\"649.88375\" xlink:href=\"#mb05ddd06bd\" y=\"385.481661\"/>\r\n     <use style=\"fill:#464646;stroke:#464646;stroke-linejoin:miter;\" x=\"649.88375\" xlink:href=\"#mb05ddd06bd\" y=\"383.254325\"/>\r\n     <use style=\"fill:#464646;stroke:#464646;stroke-linejoin:miter;\" x=\"649.88375\" xlink:href=\"#mb05ddd06bd\" y=\"374.998511\"/>\r\n     <use style=\"fill:#464646;stroke:#464646;stroke-linejoin:miter;\" x=\"649.88375\" xlink:href=\"#mb05ddd06bd\" y=\"378.032756\"/>\r\n     <use style=\"fill:#464646;stroke:#464646;stroke-linejoin:miter;\" x=\"649.88375\" xlink:href=\"#mb05ddd06bd\" y=\"378.366189\"/>\r\n     <use style=\"fill:#464646;stroke:#464646;stroke-linejoin:miter;\" x=\"649.88375\" xlink:href=\"#mb05ddd06bd\" y=\"384.147927\"/>\r\n     <use style=\"fill:#464646;stroke:#464646;stroke-linejoin:miter;\" x=\"649.88375\" xlink:href=\"#mb05ddd06bd\" y=\"380.600194\"/>\r\n     <use style=\"fill:#464646;stroke:#464646;stroke-linejoin:miter;\" x=\"649.88375\" xlink:href=\"#mb05ddd06bd\" y=\"378.032756\"/>\r\n     <use style=\"fill:#464646;stroke:#464646;stroke-linejoin:miter;\" x=\"649.88375\" xlink:href=\"#mb05ddd06bd\" y=\"377.932726\"/>\r\n     <use style=\"fill:#464646;stroke:#464646;stroke-linejoin:miter;\" x=\"649.88375\" xlink:href=\"#mb05ddd06bd\" y=\"379.033057\"/>\r\n     <use style=\"fill:#464646;stroke:#464646;stroke-linejoin:miter;\" x=\"649.88375\" xlink:href=\"#mb05ddd06bd\" y=\"377.619298\"/>\r\n     <use style=\"fill:#464646;stroke:#464646;stroke-linejoin:miter;\" x=\"649.88375\" xlink:href=\"#mb05ddd06bd\" y=\"378.032756\"/>\r\n     <use style=\"fill:#464646;stroke:#464646;stroke-linejoin:miter;\" x=\"649.88375\" xlink:href=\"#mb05ddd06bd\" y=\"382.647476\"/>\r\n     <use style=\"fill:#464646;stroke:#464646;stroke-linejoin:miter;\" x=\"649.88375\" xlink:href=\"#mb05ddd06bd\" y=\"384.754776\"/>\r\n     <use style=\"fill:#464646;stroke:#464646;stroke-linejoin:miter;\" x=\"649.88375\" xlink:href=\"#mb05ddd06bd\" y=\"373.518066\"/>\r\n     <use style=\"fill:#464646;stroke:#464646;stroke-linejoin:miter;\" x=\"649.88375\" xlink:href=\"#mb05ddd06bd\" y=\"364.695415\"/>\r\n     <use style=\"fill:#464646;stroke:#464646;stroke-linejoin:miter;\" x=\"649.88375\" xlink:href=\"#mb05ddd06bd\" y=\"370.33711\"/>\r\n     <use style=\"fill:#464646;stroke:#464646;stroke-linejoin:miter;\" x=\"649.88375\" xlink:href=\"#mb05ddd06bd\" y=\"369.696918\"/>\r\n     <use style=\"fill:#464646;stroke:#464646;stroke-linejoin:miter;\" x=\"649.88375\" xlink:href=\"#mb05ddd06bd\" y=\"372.69782\"/>\r\n     <use style=\"fill:#464646;stroke:#464646;stroke-linejoin:miter;\" x=\"649.88375\" xlink:href=\"#mb05ddd06bd\" y=\"383.160963\"/>\r\n     <use style=\"fill:#464646;stroke:#464646;stroke-linejoin:miter;\" x=\"649.88375\" xlink:href=\"#mb05ddd06bd\" y=\"380.086706\"/>\r\n     <use style=\"fill:#464646;stroke:#464646;stroke-linejoin:miter;\" x=\"649.88375\" xlink:href=\"#mb05ddd06bd\" y=\"374.411668\"/>\r\n     <use style=\"fill:#464646;stroke:#464646;stroke-linejoin:miter;\" x=\"649.88375\" xlink:href=\"#mb05ddd06bd\" y=\"350.02434\"/>\r\n     <use style=\"fill:#464646;stroke:#464646;stroke-linejoin:miter;\" x=\"649.88375\" xlink:href=\"#mb05ddd06bd\" y=\"360.600852\"/>\r\n     <use style=\"fill:#464646;stroke:#464646;stroke-linejoin:miter;\" x=\"649.88375\" xlink:href=\"#mb05ddd06bd\" y=\"366.849396\"/>\r\n     <use style=\"fill:#464646;stroke:#464646;stroke-linejoin:miter;\" x=\"649.88375\" xlink:href=\"#mb05ddd06bd\" y=\"368.28316\"/>\r\n     <use style=\"fill:#464646;stroke:#464646;stroke-linejoin:miter;\" x=\"649.88375\" xlink:href=\"#mb05ddd06bd\" y=\"380.953634\"/>\r\n     <use style=\"fill:#464646;stroke:#464646;stroke-linejoin:miter;\" x=\"649.88375\" xlink:href=\"#mb05ddd06bd\" y=\"382.27403\"/>\r\n     <use style=\"fill:#464646;stroke:#464646;stroke-linejoin:miter;\" x=\"649.88375\" xlink:href=\"#mb05ddd06bd\" y=\"382.314042\"/>\r\n     <use style=\"fill:#464646;stroke:#464646;stroke-linejoin:miter;\" x=\"649.88375\" xlink:href=\"#mb05ddd06bd\" y=\"384.93483\"/>\r\n     <use style=\"fill:#464646;stroke:#464646;stroke-linejoin:miter;\" x=\"649.88375\" xlink:href=\"#mb05ddd06bd\" y=\"385.414974\"/>\r\n     <use style=\"fill:#464646;stroke:#464646;stroke-linejoin:miter;\" x=\"649.88375\" xlink:href=\"#mb05ddd06bd\" y=\"385.341619\"/>\r\n     <use style=\"fill:#464646;stroke:#464646;stroke-linejoin:miter;\" x=\"649.88375\" xlink:href=\"#mb05ddd06bd\" y=\"385.194908\"/>\r\n     <use style=\"fill:#464646;stroke:#464646;stroke-linejoin:miter;\" x=\"649.88375\" xlink:href=\"#mb05ddd06bd\" y=\"375.225246\"/>\r\n     <use style=\"fill:#464646;stroke:#464646;stroke-linejoin:miter;\" x=\"649.88375\" xlink:href=\"#mb05ddd06bd\" y=\"381.087007\"/>\r\n     <use style=\"fill:#464646;stroke:#464646;stroke-linejoin:miter;\" x=\"649.88375\" xlink:href=\"#mb05ddd06bd\" y=\"380.786917\"/>\r\n     <use style=\"fill:#464646;stroke:#464646;stroke-linejoin:miter;\" x=\"649.88375\" xlink:href=\"#mb05ddd06bd\" y=\"380.506833\"/>\r\n     <use style=\"fill:#464646;stroke:#464646;stroke-linejoin:miter;\" x=\"649.88375\" xlink:href=\"#mb05ddd06bd\" y=\"380.746905\"/>\r\n     <use style=\"fill:#464646;stroke:#464646;stroke-linejoin:miter;\" x=\"649.88375\" xlink:href=\"#mb05ddd06bd\" y=\"380.653543\"/>\r\n     <use style=\"fill:#464646;stroke:#464646;stroke-linejoin:miter;\" x=\"649.88375\" xlink:href=\"#mb05ddd06bd\" y=\"380.586857\"/>\r\n     <use style=\"fill:#464646;stroke:#464646;stroke-linejoin:miter;\" x=\"649.88375\" xlink:href=\"#mb05ddd06bd\" y=\"383.367692\"/>\r\n     <use style=\"fill:#464646;stroke:#464646;stroke-linejoin:miter;\" x=\"649.88375\" xlink:href=\"#mb05ddd06bd\" y=\"385.628372\"/>\r\n     <use style=\"fill:#464646;stroke:#464646;stroke-linejoin:miter;\" x=\"649.88375\" xlink:href=\"#mb05ddd06bd\" y=\"382.660813\"/>\r\n     <use style=\"fill:#464646;stroke:#464646;stroke-linejoin:miter;\" x=\"649.88375\" xlink:href=\"#mb05ddd06bd\" y=\"383.587758\"/>\r\n     <use style=\"fill:#464646;stroke:#464646;stroke-linejoin:miter;\" x=\"649.88375\" xlink:href=\"#mb05ddd06bd\" y=\"383.441048\"/>\r\n     <use style=\"fill:#464646;stroke:#464646;stroke-linejoin:miter;\" x=\"649.88375\" xlink:href=\"#mb05ddd06bd\" y=\"384.888149\"/>\r\n     <use style=\"fill:#464646;stroke:#464646;stroke-linejoin:miter;\" x=\"649.88375\" xlink:href=\"#mb05ddd06bd\" y=\"381.560483\"/>\r\n    </g>\r\n   </g>\r\n   <g id=\"line2d_93\">\r\n    <path clip-path=\"url(#p0550144f5c)\" d=\"M 694.52375 404.654088 \r\nL 694.52375 418.411555 \r\n\" style=\"fill:none;stroke:#464646;stroke-linecap:square;stroke-width:1.5;\"/>\r\n   </g>\r\n   <g id=\"line2d_94\">\r\n    <path clip-path=\"url(#p0550144f5c)\" d=\"M 694.52375 391.983614 \r\nL 694.52375 373.111277 \r\n\" style=\"fill:none;stroke:#464646;stroke-linecap:square;stroke-width:1.5;\"/>\r\n   </g>\r\n   <g id=\"line2d_95\">\r\n    <path clip-path=\"url(#p0550144f5c)\" d=\"M 685.59575 418.411555 \r\nL 703.45175 418.411555 \r\n\" style=\"fill:none;stroke:#464646;stroke-linecap:square;stroke-width:1.5;\"/>\r\n   </g>\r\n   <g id=\"line2d_96\">\r\n    <path clip-path=\"url(#p0550144f5c)\" d=\"M 685.59575 373.111277 \r\nL 703.45175 373.111277 \r\n\" style=\"fill:none;stroke:#464646;stroke-linecap:square;stroke-width:1.5;\"/>\r\n   </g>\r\n   <g id=\"line2d_97\">\r\n    <g clip-path=\"url(#p0550144f5c)\">\r\n     <use style=\"fill:#464646;stroke:#464646;stroke-linejoin:miter;\" x=\"694.52375\" xlink:href=\"#mb05ddd06bd\" y=\"372.517766\"/>\r\n     <use style=\"fill:#464646;stroke:#464646;stroke-linejoin:miter;\" x=\"694.52375\" xlink:href=\"#mb05ddd06bd\" y=\"368.916684\"/>\r\n     <use style=\"fill:#464646;stroke:#464646;stroke-linejoin:miter;\" x=\"694.52375\" xlink:href=\"#mb05ddd06bd\" y=\"371.424104\"/>\r\n     <use style=\"fill:#464646;stroke:#464646;stroke-linejoin:miter;\" x=\"694.52375\" xlink:href=\"#mb05ddd06bd\" y=\"339.687901\"/>\r\n     <use style=\"fill:#464646;stroke:#464646;stroke-linejoin:miter;\" x=\"694.52375\" xlink:href=\"#mb05ddd06bd\" y=\"372.44441\"/>\r\n     <use style=\"fill:#464646;stroke:#464646;stroke-linejoin:miter;\" x=\"694.52375\" xlink:href=\"#mb05ddd06bd\" y=\"341.175015\"/>\r\n     <use style=\"fill:#464646;stroke:#464646;stroke-linejoin:miter;\" x=\"694.52375\" xlink:href=\"#mb05ddd06bd\" y=\"325.530314\"/>\r\n     <use style=\"fill:#464646;stroke:#464646;stroke-linejoin:miter;\" x=\"694.52375\" xlink:href=\"#mb05ddd06bd\" y=\"367.776341\"/>\r\n     <use style=\"fill:#464646;stroke:#464646;stroke-linejoin:miter;\" x=\"694.52375\" xlink:href=\"#mb05ddd06bd\" y=\"366.5293\"/>\r\n     <use style=\"fill:#464646;stroke:#464646;stroke-linejoin:miter;\" x=\"694.52375\" xlink:href=\"#mb05ddd06bd\" y=\"360.180725\"/>\r\n     <use style=\"fill:#464646;stroke:#464646;stroke-linejoin:miter;\" x=\"694.52375\" xlink:href=\"#mb05ddd06bd\" y=\"359.073726\"/>\r\n     <use style=\"fill:#464646;stroke:#464646;stroke-linejoin:miter;\" x=\"694.52375\" xlink:href=\"#mb05ddd06bd\" y=\"357.359878\"/>\r\n     <use style=\"fill:#464646;stroke:#464646;stroke-linejoin:miter;\" x=\"694.52375\" xlink:href=\"#mb05ddd06bd\" y=\"371.937591\"/>\r\n     <use style=\"fill:#464646;stroke:#464646;stroke-linejoin:miter;\" x=\"694.52375\" xlink:href=\"#mb05ddd06bd\" y=\"370.030352\"/>\r\n     <use style=\"fill:#464646;stroke:#464646;stroke-linejoin:miter;\" x=\"694.52375\" xlink:href=\"#mb05ddd06bd\" y=\"371.997609\"/>\r\n     <use style=\"fill:#464646;stroke:#464646;stroke-linejoin:miter;\" x=\"694.52375\" xlink:href=\"#mb05ddd06bd\" y=\"372.631133\"/>\r\n     <use style=\"fill:#464646;stroke:#464646;stroke-linejoin:miter;\" x=\"694.52375\" xlink:href=\"#mb05ddd06bd\" y=\"367.036119\"/>\r\n     <use style=\"fill:#464646;stroke:#464646;stroke-linejoin:miter;\" x=\"694.52375\" xlink:href=\"#mb05ddd06bd\" y=\"364.582048\"/>\r\n     <use style=\"fill:#464646;stroke:#464646;stroke-linejoin:miter;\" x=\"694.52375\" xlink:href=\"#mb05ddd06bd\" y=\"370.263755\"/>\r\n     <use style=\"fill:#464646;stroke:#464646;stroke-linejoin:miter;\" x=\"694.52375\" xlink:href=\"#mb05ddd06bd\" y=\"360.260749\"/>\r\n     <use style=\"fill:#464646;stroke:#464646;stroke-linejoin:miter;\" x=\"694.52375\" xlink:href=\"#mb05ddd06bd\" y=\"366.055824\"/>\r\n     <use style=\"fill:#464646;stroke:#464646;stroke-linejoin:miter;\" x=\"694.52375\" xlink:href=\"#mb05ddd06bd\" y=\"370.030352\"/>\r\n     <use style=\"fill:#464646;stroke:#464646;stroke-linejoin:miter;\" x=\"694.52375\" xlink:href=\"#mb05ddd06bd\" y=\"369.610225\"/>\r\n     <use style=\"fill:#464646;stroke:#464646;stroke-linejoin:miter;\" x=\"694.52375\" xlink:href=\"#mb05ddd06bd\" y=\"365.695716\"/>\r\n     <use style=\"fill:#464646;stroke:#464646;stroke-linejoin:miter;\" x=\"694.52375\" xlink:href=\"#mb05ddd06bd\" y=\"371.030652\"/>\r\n     <use style=\"fill:#464646;stroke:#464646;stroke-linejoin:miter;\" x=\"694.52375\" xlink:href=\"#mb05ddd06bd\" y=\"371.650838\"/>\r\n     <use style=\"fill:#464646;stroke:#464646;stroke-linejoin:miter;\" x=\"694.52375\" xlink:href=\"#mb05ddd06bd\" y=\"368.696617\"/>\r\n     <use style=\"fill:#464646;stroke:#464646;stroke-linejoin:miter;\" x=\"694.52375\" xlink:href=\"#mb05ddd06bd\" y=\"370.950628\"/>\r\n     <use style=\"fill:#464646;stroke:#464646;stroke-linejoin:miter;\" x=\"694.52375\" xlink:href=\"#mb05ddd06bd\" y=\"370.250418\"/>\r\n     <use style=\"fill:#464646;stroke:#464646;stroke-linejoin:miter;\" x=\"694.52375\" xlink:href=\"#mb05ddd06bd\" y=\"372.124314\"/>\r\n     <use style=\"fill:#464646;stroke:#464646;stroke-linejoin:miter;\" x=\"694.52375\" xlink:href=\"#mb05ddd06bd\" y=\"372.64447\"/>\r\n     <use style=\"fill:#464646;stroke:#464646;stroke-linejoin:miter;\" x=\"694.52375\" xlink:href=\"#mb05ddd06bd\" y=\"371.464116\"/>\r\n     <use style=\"fill:#464646;stroke:#464646;stroke-linejoin:miter;\" x=\"694.52375\" xlink:href=\"#mb05ddd06bd\" y=\"363.908512\"/>\r\n     <use style=\"fill:#464646;stroke:#464646;stroke-linejoin:miter;\" x=\"694.52375\" xlink:href=\"#mb05ddd06bd\" y=\"341.575135\"/>\r\n     <use style=\"fill:#464646;stroke:#464646;stroke-linejoin:miter;\" x=\"694.52375\" xlink:href=\"#mb05ddd06bd\" y=\"371.624164\"/>\r\n     <use style=\"fill:#464646;stroke:#464646;stroke-linejoin:miter;\" x=\"694.52375\" xlink:href=\"#mb05ddd06bd\" y=\"371.070664\"/>\r\n     <use style=\"fill:#464646;stroke:#464646;stroke-linejoin:miter;\" x=\"694.52375\" xlink:href=\"#mb05ddd06bd\" y=\"369.583551\"/>\r\n     <use style=\"fill:#464646;stroke:#464646;stroke-linejoin:miter;\" x=\"694.52375\" xlink:href=\"#mb05ddd06bd\" y=\"362.841525\"/>\r\n     <use style=\"fill:#464646;stroke:#464646;stroke-linejoin:miter;\" x=\"694.52375\" xlink:href=\"#mb05ddd06bd\" y=\"372.951229\"/>\r\n     <use style=\"fill:#464646;stroke:#464646;stroke-linejoin:miter;\" x=\"694.52375\" xlink:href=\"#mb05ddd06bd\" y=\"372.084302\"/>\r\n     <use style=\"fill:#464646;stroke:#464646;stroke-linejoin:miter;\" x=\"694.52375\" xlink:href=\"#mb05ddd06bd\" y=\"368.489889\"/>\r\n     <use style=\"fill:#464646;stroke:#464646;stroke-linejoin:miter;\" x=\"694.52375\" xlink:href=\"#mb05ddd06bd\" y=\"371.724194\"/>\r\n     <use style=\"fill:#464646;stroke:#464646;stroke-linejoin:miter;\" x=\"694.52375\" xlink:href=\"#mb05ddd06bd\" y=\"358.140112\"/>\r\n     <use style=\"fill:#464646;stroke:#464646;stroke-linejoin:miter;\" x=\"694.52375\" xlink:href=\"#mb05ddd06bd\" y=\"366.696016\"/>\r\n     <use style=\"fill:#464646;stroke:#464646;stroke-linejoin:miter;\" x=\"694.52375\" xlink:href=\"#mb05ddd06bd\" y=\"369.316804\"/>\r\n    </g>\r\n   </g>\r\n   <g id=\"line2d_98\">\r\n    <path clip-path=\"url(#p0550144f5c)\" d=\"M 51.70775 370.030352 \r\nL 87.41975 370.030352 \r\n\" style=\"fill:none;stroke:#464646;stroke-linecap:square;stroke-width:1.5;\"/>\r\n   </g>\r\n   <g id=\"line2d_99\">\r\n    <path clip-path=\"url(#p0550144f5c)\" d=\"M 96.34775 394.88782 \r\nL 132.05975 394.88782 \r\n\" style=\"fill:none;stroke:#464646;stroke-linecap:square;stroke-width:1.5;\"/>\r\n   </g>\r\n   <g id=\"line2d_100\">\r\n    <path clip-path=\"url(#p0550144f5c)\" d=\"M 140.98775 386.328582 \r\nL 176.69975 386.328582 \r\n\" style=\"fill:none;stroke:#464646;stroke-linecap:square;stroke-width:1.5;\"/>\r\n   </g>\r\n   <g id=\"line2d_101\">\r\n    <path clip-path=\"url(#p0550144f5c)\" d=\"M 185.62775 420.045379 \r\nL 221.33975 420.045379 \r\n\" style=\"fill:none;stroke:#464646;stroke-linecap:square;stroke-width:1.5;\"/>\r\n   </g>\r\n   <g id=\"line2d_102\">\r\n    <path clip-path=\"url(#p0550144f5c)\" d=\"M 230.26775 346.523288 \r\nL 265.97975 346.523288 \r\n\" style=\"fill:none;stroke:#464646;stroke-linecap:square;stroke-width:1.5;\"/>\r\n   </g>\r\n   <g id=\"line2d_103\">\r\n    <path clip-path=\"url(#p0550144f5c)\" d=\"M 274.90775 310.879245 \r\nL 310.61975 310.879245 \r\n\" style=\"fill:none;stroke:#464646;stroke-linecap:square;stroke-width:1.5;\"/>\r\n   </g>\r\n   <g id=\"line2d_104\">\r\n    <path clip-path=\"url(#p0550144f5c)\" d=\"M 319.54775 364.695415 \r\nL 355.25975 364.695415 \r\n\" style=\"fill:none;stroke:#464646;stroke-linecap:square;stroke-width:1.5;\"/>\r\n   </g>\r\n   <g id=\"line2d_105\">\r\n    <path clip-path=\"url(#p0550144f5c)\" d=\"M 364.18775 415.527355 \r\nL 399.89975 415.527355 \r\n\" style=\"fill:none;stroke:#464646;stroke-linecap:square;stroke-width:1.5;\"/>\r\n   </g>\r\n   <g id=\"line2d_106\">\r\n    <path clip-path=\"url(#p0550144f5c)\" d=\"M 408.82775 408.975387 \r\nL 444.53975 408.975387 \r\n\" style=\"fill:none;stroke:#464646;stroke-linecap:square;stroke-width:1.5;\"/>\r\n   </g>\r\n   <g id=\"line2d_107\">\r\n    <path clip-path=\"url(#p0550144f5c)\" d=\"M 453.46775 314.527008 \r\nL 489.17975 314.527008 \r\n\" style=\"fill:none;stroke:#464646;stroke-linecap:square;stroke-width:1.5;\"/>\r\n   </g>\r\n   <g id=\"line2d_108\">\r\n    <path clip-path=\"url(#p0550144f5c)\" d=\"M 498.10775 374.478355 \r\nL 533.81975 374.478355 \r\n\" style=\"fill:none;stroke:#464646;stroke-linecap:square;stroke-width:1.5;\"/>\r\n   </g>\r\n   <g id=\"line2d_109\">\r\n    <path clip-path=\"url(#p0550144f5c)\" d=\"M 542.74775 382.367392 \r\nL 578.45975 382.367392 \r\n\" style=\"fill:none;stroke:#464646;stroke-linecap:square;stroke-width:1.5;\"/>\r\n   </g>\r\n   <g id=\"line2d_110\">\r\n    <path clip-path=\"url(#p0550144f5c)\" d=\"M 587.38775 403.106957 \r\nL 623.09975 403.106957 \r\n\" style=\"fill:none;stroke:#464646;stroke-linecap:square;stroke-width:1.5;\"/>\r\n   </g>\r\n   <g id=\"line2d_111\">\r\n    <path clip-path=\"url(#p0550144f5c)\" d=\"M 632.02775 405.567696 \r\nL 667.73975 405.567696 \r\n\" style=\"fill:none;stroke:#464646;stroke-linecap:square;stroke-width:1.5;\"/>\r\n   </g>\r\n   <g id=\"line2d_112\">\r\n    <path clip-path=\"url(#p0550144f5c)\" d=\"M 676.66775 398.745646 \r\nL 712.37975 398.745646 \r\n\" style=\"fill:none;stroke:#464646;stroke-linecap:square;stroke-width:1.5;\"/>\r\n   </g>\r\n   <g id=\"patch_18\">\r\n    <path d=\"M 47.24375 442.08 \r\nL 47.24375 7.2 \r\n\" style=\"fill:none;stroke:#000000;stroke-linecap:square;stroke-linejoin:miter;stroke-width:0.8;\"/>\r\n   </g>\r\n   <g id=\"patch_19\">\r\n    <path d=\"M 716.84375 442.08 \r\nL 716.84375 7.2 \r\n\" style=\"fill:none;stroke:#000000;stroke-linecap:square;stroke-linejoin:miter;stroke-width:0.8;\"/>\r\n   </g>\r\n   <g id=\"patch_20\">\r\n    <path d=\"M 47.24375 442.08 \r\nL 716.84375 442.08 \r\n\" style=\"fill:none;stroke:#000000;stroke-linecap:square;stroke-linejoin:miter;stroke-width:0.8;\"/>\r\n   </g>\r\n   <g id=\"patch_21\">\r\n    <path d=\"M 47.24375 7.2 \r\nL 716.84375 7.2 \r\n\" style=\"fill:none;stroke:#000000;stroke-linecap:square;stroke-linejoin:miter;stroke-width:0.8;\"/>\r\n   </g>\r\n  </g>\r\n </g>\r\n <defs>\r\n  <clipPath id=\"p0550144f5c\">\r\n   <rect height=\"434.88\" width=\"669.6\" x=\"47.24375\" y=\"7.2\"/>\r\n  </clipPath>\r\n </defs>\r\n</svg>\r\n",
      "image/png": "[encoded data removed]"
     },
     "metadata": {
      "needs_background": "light"
     }
    }
   ],
   "metadata": {
    "ExecuteTime": {
     "end_time": "2021-08-03T11:51:44.509550Z",
     "start_time": "2021-08-03T11:51:44.181053Z"
    }
   }
  },
  {
   "cell_type": "markdown",
   "source": [
    "It can be seen in the boxplot the there are ..."
   ],
   "metadata": {}
  },
  {
   "cell_type": "markdown",
   "source": [
    "## Research Question\n",
    "Come up with research questions to answer using the dataset.The research questions should arise from the exploratory data analysis.\n",
    "- The first research question should be answerable by performing statistical inference on means.\n",
    "- The second research question should be answerable by performing statistical inference on categorical data.\n",
    "- The research questions should be within the scope of the dataset.\n",
    "- For each research question, you must indicate its importance and significance to the community."
   ],
   "metadata": {}
  },
  {
   "cell_type": "markdown",
   "source": [
    "Null Hypothesis: `The prices increased overtime`  \r\n",
    "Alternative Hypothesis: `The prices is the same`"
   ],
   "metadata": {}
  },
  {
   "cell_type": "markdown",
   "source": [
    "## 1.) Is there a significant difference between the food prices of rural and urban areas? \r\n",
    "\r\n",
    "Pricing is one of the most important factors people look at before buying food. This is much more important in areas where the average amount of money buyers have to budget for food is lower than more developed cities/areas. With this research question, we want to see which areas in the rural and urban areas have higher/lower prices in every type of food in the records available. To do this, we need to condense every city that is considered as a rural or an urban city and combine their means to represent the urban or rural side.\r\n",
    "\r\n",
    "We will be binning these areas based on their city type. In order to group them together we researched the population density and the category of all the barangays of every area under the mkt_name field and checked if any source considered them to be urban or rural.\r\n",
    "\r\n",
    "\r\n",
    "The following data for these cities will be classified as \"Urban\": Manila, Davao City, Cebu City, La Trinidad, Puerto Princesa, Santa Cruz, Tuguegarao, Legazpi, Iloilo City and Zamboanga City.\r\n",
    "\r\n",
    "The following data for these cities will be under \"Rural\": Lingayen, Catarman, Shariff Aguak, Tubod, Koronadal, Palayan and Tandag.\r\n"
   ],
   "metadata": {}
  },
  {
   "cell_type": "markdown",
   "source": [
    "## 2.) Is there a difference in prices on the same products with different characteristics?\r\n",
    "\r\n",
    "Despite the availability of food almost everywhere, pricing is not the only factor consumers look at when buying commodities. For the case of rice, there exists multiple types of rice: black rice, red rice, white rice, brown rice, etc. and their preferences may vary. We formulated this research question to see which commodity differed in pricing based on their characteristics. \r\n",
    "\r\n",
    "To do this, we need to find which commodity posseses multiple characteristics, then we will separate these commodities to use for our hypothesis testing."
   ],
   "metadata": {}
  },
  {
   "cell_type": "markdown",
   "source": [
    "## Statistical Inference\n",
    "In this section of the notebook, please take note of the following:\n",
    "- If needed, you may perform preprocessing techniques to transform the data to the appropriate representation before performing statistical inference to answer the research question. This may include binning, log transformations, conversion to one-hot encoding, normalization, standardization, interpolation, truncation, and feature engineering. You may also need to check and prove if the data is from a normal distribution to perform some statistical inference techniques.\n",
    "- The techniques used to answer the research questionare limited to statistical inference methods discussed in class. \n",
    "- The technique that you will apply should be appropriate to answer the research question."
   ],
   "metadata": {}
  },
  {
   "cell_type": "markdown",
   "source": [
    "## 1.) Is there a significant difference between the food prices of rural and urban areas? "
   ],
   "metadata": {}
  },
  {
   "cell_type": "code",
   "execution_count": 30,
   "source": [
    "urban_cities = {'Manila', 'Davao City', 'Cebu City', 'La Trinidad', 'Puerto Princesa', 'Santa Cruz', 'Tuguegarao', 'Legazpi', 'Iloilo City', 'Zamboanga City'}\r\n",
    "rural_cities = {'Lingayen', 'Catarman', 'Shariff Aguak', 'Tubod', 'Koronadal', 'Palayan', 'Tandag'}\r\n",
    "\r\n",
    "urban_df = pd.DataFrame()\r\n",
    "rural_df = pd.DataFrame()\r\n",
    "\r\n",
    "for city in urban_cities:\r\n",
    "    df_holder = ph_df[ph_df['mkt_name']==city]\r\n",
    "    urban_df = urban_df.append(df_holder)\r\n",
    "\r\n",
    "for city in rural_cities:\r\n",
    "    df_holder = ph_df[ph_df['mkt_name']==city]\r\n",
    "    rural_df = rural_df.append(df_holder)\r\n",
    "\r\n",
    "urban_df_mean = urban_df.agg({\"mp_price\": [\"mean\", \"std\"]})\r\n",
    "rural_df_mean = rural_df.agg ({\"mp_price\": [\"mean\", \"std\"]})\r\n",
    "\r\n",
    "print(urban_df[\"cm_name\"].unique().tolist() )\r\n",
    "print(rural_df[\"cm_name\"].unique().tolist() )\r\n",
    "print (urban_df.size)\r\n",
    "print(rural_df.size)\r\n",
    "print(ph_df.size)"
   ],
   "outputs": [
    {
     "output_type": "stream",
     "name": "stdout",
     "text": [
      "['Rice', 'Sweet potatoes', 'Eggs', 'Garlic', 'Onions', 'Tomatoes', 'Groundnuts', 'Meat', 'Potatoes', 'Carrots', 'Cabbage', 'Beans', 'Fish', 'Maize flour']\n",
      "['Rice', 'Sweet potatoes', 'Eggs', 'Garlic', 'Onions', 'Tomatoes', 'Groundnuts', 'Meat', 'Potatoes', 'Carrots', 'Cabbage', 'Beans', 'Fish', 'Maize']\n",
      "228239\n",
      "136774\n",
      "365013\n"
     ]
    }
   ],
   "metadata": {}
  },
  {
   "cell_type": "markdown",
   "source": [
    "Null Hypothesis: `There is no difference between the average prices in urban areas and the average prices in rural areas.`  \r\n",
    "Alternative Hypothesis: `There is a difference between the average prices in urban areas and the average prices in rural areas.`\r\n",
    "\r\n",
    "To find our results, we need to perform a two tailed T-test on the unpaired observations because the number of samples for food prices in urban cities and rural cities are not equal.\r\n",
    "\r\n",
    "|   |Urban Cities   | Rural Cities  |  \r\n",
    "|---|---|---|\r\n",
    "|  Mean | 71.301756  | 71.388046  |  \r\n",
    "| Standard Deviation  |  60.593852 | 58.888960  |   \r\n",
    "|  Sample Size | 228239  | 136774  |  \r\n",
    "\r\n",
    "Hypothesis Testing\r\n",
    "\r\n",
    "$H_{0}$ : 𝜇 = 0\r\n",
    "\r\n",
    "$H_{A}$ : 𝜇 ≠ 0\r\n",
    "\r\n",
    "$$T-score = \\frac{(71.388-71.302)-0}{\\sqrt{\\frac{(60.594)^{2}}{228239}+\\frac{(58.889)^{2}}{136774}}}$$\r\n",
    "\r\n",
    "$$T-score = 0.422$$\r\n",
    "\r\n",
    "After computing for the p-value using the t-score of 0.422 and degrees of freedom at 365011, we calculated that the p value is 0.673025.\r\n",
    "\r\n",
    "This means that the p-value is not significant at all significance levels (0.01, 0.05, 0.1) which entails that we fail to reject the null hypothesis at all significance levels. Our conlucion for this T-test is that there is in fact no difference between the price in Urban cities and Rural cities."
   ],
   "metadata": {}
  },
  {
   "cell_type": "markdown",
   "source": [
    "## 2.) Is there a difference in prices on the same products with different characteristics?"
   ],
   "metadata": {}
  },
  {
   "cell_type": "code",
   "execution_count": 36,
   "source": [
    "food_df = ph_df[\"cm_name\"].unique().tolist()\r\n",
    "\r\n",
    "df_holder = []\r\n",
    "\r\n",
    "for food in food_df:\r\n",
    "    if (food == \"rice\" | food == \"meat\"):\r\n",
    "        \r\n",
    "    else: \r\n",
    "\r\n",
    "        if(len(ph_df.loc[ph_df[\"cm_name\"]==food][\"characteristics\"].unique().tolist()) > 1):\r\n",
    "            record_mean = ph_df[ph_df[\"cm_name\"]==food].groupby(\"characteristics\").agg({\"mp_price\": [\"mean\", \"std\"]})\r\n",
    "            df_holder.append(record_mean)\r\n",
    "\r\n",
    "print (df_holder)\r\n",
    "        "
   ],
   "outputs": [
    {
     "output_type": "stream",
     "name": "stdout",
     "text": [
      "[                   mp_price          \n",
      "                       mean       std\n",
      "characteristics                      \n",
      "milled, superior  30.640090  9.437837\n",
      "paddy             14.577440  2.026922\n",
      "regular, milled   29.979414  8.338641,                   mp_price           \n",
      "                      mean        std\n",
      "characteristics                      \n",
      "red              77.812066  21.241765\n",
      "white            70.157368  19.446176,                           mp_price           \n",
      "                              mean        std\n",
      "characteristics                              \n",
      "beef, chops with bones  192.675642  33.617726\n",
      "chicken, whole          136.816282  14.018666\n",
      "pork                    167.366943  39.801057,                   mp_price          \n",
      "                      mean       std\n",
      "characteristics                     \n",
      "white            22.565042  7.050490\n",
      "yellow           20.928437  6.295231,                   mp_price          \n",
      "                      mean       std\n",
      "characteristics                     \n",
      "white            12.454573  3.465861\n",
      "yellow           11.024832  2.782719]\n"
     ]
    }
   ],
   "metadata": {}
  },
  {
   "cell_type": "markdown",
   "source": [
    "## Insights and Conclusions\n",
    "Clearly  state  your  insights  and  conclusions  from  the  data  to  answer  each  research question you have defined. Make sure that all conclusions are backed up with statistical evidence."
   ],
   "metadata": {}
  },
  {
   "cell_type": "markdown",
   "source": [
    "Sources:\r\n",
    "\r\n",
    "1.) https://puertoprincesa.ph/?q=about-our-city/location-and-land-area\r\n",
    "\r\n",
    "2.) http://latrinidad.gov.ph/wp-content/uploads/2015/09/La-Trinidad-Socio-Economic-Profile-2015.pdf\r\n",
    "\r\n",
    "3.) https://www.philatlas.com/luzon/mimaropa/puerto-princesa.html\r\n"
   ],
   "metadata": {}
  }
 ],
 "metadata": {
  "interpreter": {
   "hash": "3e425f57de0e56b24665ad0a5d21ea0b5bd11c4dfd6c4687c51beadbc39e62ec"
  },
  "kernelspec": {
   "name": "python3",
   "display_name": "Python 3.8.8 64-bit ('base': conda)"
  },
  "language_info": {
   "codemirror_mode": {
    "name": "ipython",
    "version": 3
   },
   "file_extension": ".py",
   "mimetype": "text/x-python",
   "name": "python",
   "nbconvert_exporter": "python",
   "pygments_lexer": "ipython3",
   "version": "3.8.8"
  },
  "toc": {
   "base_numbering": 1,
   "nav_menu": {},
   "number_sections": true,
   "sideBar": true,
   "skip_h1_title": false,
   "title_cell": "Table of Contents",
   "title_sidebar": "Contents",
   "toc_cell": false,
   "toc_position": {
    "height": "calc(100% - 180px)",
    "left": "10px",
    "top": "150px",
    "width": "320px"
   },
   "toc_section_display": true,
   "toc_window_display": true
  }
 },
 "nbformat": 4,
 "nbformat_minor": 5
}