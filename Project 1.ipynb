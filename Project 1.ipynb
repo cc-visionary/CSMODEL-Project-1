{
 "cells": [
  {
   "cell_type": "code",
   "execution_count": 2,
   "id": "dying-midwest",
   "metadata": {
    "ExecuteTime": {
     "end_time": "2021-07-09T10:40:41.707064Z",
     "start_time": "2021-07-09T10:40:35.348900Z"
    }
   },
   "outputs": [],
   "source": [
    "import pandas as pd\n",
    "import numpy as np\n",
    "import matplotlib.pyplot as plt\n",
    "import seaborn as sns"
   ]
  },
  {
   "cell_type": "markdown",
   "id": "thirty-parish",
   "metadata": {},
   "source": [
    "## Dataset Representation\n",
    "### CSMODELT3AY2021In this section of the notebook, you must fulfill the following:\n",
    "- State a brief description of the dataset.\n",
    "- Provide  a  description  of  the  collection  process  executed  to  build  the  dataset. Discuss  the  implications  of  the  data  collection  method  on  the  generated conclusions and insights. Note that you may need to look at the relevant sources related to the dataset to be able to provide the necessary information for this part of the project.\n",
    "- Describe the structure of the dataset file. In the dataset file, what does each row and  column  represent?  How many observations  are  there  in  the  dataset? How many variables are there in the dataset? If thedataset is composed of different files  that  you  will  combine  in  the  succeeding  steps,  you  need  to  describe  the structure and the contents of each file.\n",
    "- Discuss the variables in each dataset file. What does each variable represent? In this section, all variables, even those which are not used for the study, should be described to the reader. The purpose of each variable in the dataset should be clear to the reader of the notebook without having to go through an external link."
   ]
  },
  {
   "cell_type": "markdown",
   "id": "boolean-labor",
   "metadata": {},
   "source": [
    "### Brief Description of the Dataset\n",
    "** insert here **"
   ]
  },
  {
   "cell_type": "markdown",
   "id": "cross-defense",
   "metadata": {},
   "source": [
    "### Collection Process\n",
    "** insert here **"
   ]
  },
  {
   "cell_type": "markdown",
   "id": "unlike-holmes",
   "metadata": {},
   "source": [
    "Source: https://www.kaggle.com/varpit94/worldwide-deaths-by-risk-factors"
   ]
  },
  {
   "cell_type": "code",
   "execution_count": 3,
   "id": "answering-diana",
   "metadata": {
    "ExecuteTime": {
     "end_time": "2021-07-09T10:40:41.800816Z",
     "start_time": "2021-07-09T10:40:41.709060Z"
    }
   },
   "outputs": [],
   "source": [
    "df = pd.read_csv('number-of-deaths-by-risk-factor.csv')"
   ]
  },
  {
   "cell_type": "code",
   "execution_count": 4,
   "id": "textile-shark",
   "metadata": {
    "ExecuteTime": {
     "end_time": "2021-07-09T10:40:41.895562Z",
     "start_time": "2021-07-09T10:40:41.807798Z"
    }
   },
   "outputs": [
    {
     "data": {
      "text/html": [
       "<div>\n",
       "<style scoped>\n",
       "    .dataframe tbody tr th:only-of-type {\n",
       "        vertical-align: middle;\n",
       "    }\n",
       "\n",
       "    .dataframe tbody tr th {\n",
       "        vertical-align: top;\n",
       "    }\n",
       "\n",
       "    .dataframe thead th {\n",
       "        text-align: right;\n",
       "    }\n",
       "</style>\n",
       "<table border=\"1\" class=\"dataframe\">\n",
       "  <thead>\n",
       "    <tr style=\"text-align: right;\">\n",
       "      <th></th>\n",
       "      <th>Entity</th>\n",
       "      <th>Year</th>\n",
       "      <th>Unsafe water source</th>\n",
       "      <th>Unsafe sanitation</th>\n",
       "      <th>No access to handwashing facility</th>\n",
       "      <th>Household air pollution from solid fuels</th>\n",
       "      <th>Non-exclusive breastfeeding</th>\n",
       "      <th>Discontinued breastfeeding</th>\n",
       "      <th>Child wasting</th>\n",
       "      <th>Child stunting</th>\n",
       "      <th>...</th>\n",
       "      <th>High systolic blood pressure</th>\n",
       "      <th>Smoking</th>\n",
       "      <th>Iron deficiency</th>\n",
       "      <th>Vitamin A deficiency</th>\n",
       "      <th>Low bone mineral density</th>\n",
       "      <th>Air pollution</th>\n",
       "      <th>Outdoor air pollution</th>\n",
       "      <th>Diet high in sodium</th>\n",
       "      <th>Diet low in whole grains</th>\n",
       "      <th>Diet low in nuts and seeds</th>\n",
       "    </tr>\n",
       "  </thead>\n",
       "  <tbody>\n",
       "    <tr>\n",
       "      <th>0</th>\n",
       "      <td>Afghanistan</td>\n",
       "      <td>1990</td>\n",
       "      <td>7554.049543</td>\n",
       "      <td>5887.747628</td>\n",
       "      <td>5412.314513</td>\n",
       "      <td>22388.49723</td>\n",
       "      <td>3221.138842</td>\n",
       "      <td>156.097553</td>\n",
       "      <td>22778.84925</td>\n",
       "      <td>10408.43885</td>\n",
       "      <td>...</td>\n",
       "      <td>28183.98335</td>\n",
       "      <td>6393.667372</td>\n",
       "      <td>726.431294</td>\n",
       "      <td>9344.131952</td>\n",
       "      <td>374.844056</td>\n",
       "      <td>26598.00673</td>\n",
       "      <td>4383.83</td>\n",
       "      <td>2737.197934</td>\n",
       "      <td>11381.37735</td>\n",
       "      <td>7299.867330</td>\n",
       "    </tr>\n",
       "    <tr>\n",
       "      <th>1</th>\n",
       "      <td>Afghanistan</td>\n",
       "      <td>1991</td>\n",
       "      <td>7359.676749</td>\n",
       "      <td>5732.770160</td>\n",
       "      <td>5287.891103</td>\n",
       "      <td>22128.75821</td>\n",
       "      <td>3150.559597</td>\n",
       "      <td>151.539851</td>\n",
       "      <td>22292.69111</td>\n",
       "      <td>10271.97643</td>\n",
       "      <td>...</td>\n",
       "      <td>28435.39751</td>\n",
       "      <td>6429.253320</td>\n",
       "      <td>739.245799</td>\n",
       "      <td>9330.182378</td>\n",
       "      <td>379.854237</td>\n",
       "      <td>26379.53222</td>\n",
       "      <td>4426.36</td>\n",
       "      <td>2741.184956</td>\n",
       "      <td>11487.83239</td>\n",
       "      <td>7386.764303</td>\n",
       "    </tr>\n",
       "    <tr>\n",
       "      <th>2</th>\n",
       "      <td>Afghanistan</td>\n",
       "      <td>1992</td>\n",
       "      <td>7650.437822</td>\n",
       "      <td>5954.804987</td>\n",
       "      <td>5506.657363</td>\n",
       "      <td>22873.76879</td>\n",
       "      <td>3331.349048</td>\n",
       "      <td>156.609194</td>\n",
       "      <td>23102.19794</td>\n",
       "      <td>10618.87978</td>\n",
       "      <td>...</td>\n",
       "      <td>29173.61120</td>\n",
       "      <td>6561.054957</td>\n",
       "      <td>873.485341</td>\n",
       "      <td>9769.844533</td>\n",
       "      <td>388.130434</td>\n",
       "      <td>27263.12791</td>\n",
       "      <td>4568.91</td>\n",
       "      <td>2798.560245</td>\n",
       "      <td>11866.23557</td>\n",
       "      <td>7640.628526</td>\n",
       "    </tr>\n",
       "    <tr>\n",
       "      <th>3</th>\n",
       "      <td>Afghanistan</td>\n",
       "      <td>1993</td>\n",
       "      <td>10270.731380</td>\n",
       "      <td>7986.736613</td>\n",
       "      <td>7104.620351</td>\n",
       "      <td>25599.75628</td>\n",
       "      <td>4477.006100</td>\n",
       "      <td>206.834451</td>\n",
       "      <td>27902.66996</td>\n",
       "      <td>12260.09384</td>\n",
       "      <td>...</td>\n",
       "      <td>30074.76091</td>\n",
       "      <td>6731.972560</td>\n",
       "      <td>1040.047422</td>\n",
       "      <td>11433.769490</td>\n",
       "      <td>405.577931</td>\n",
       "      <td>30495.56150</td>\n",
       "      <td>5080.29</td>\n",
       "      <td>2853.301679</td>\n",
       "      <td>12335.96168</td>\n",
       "      <td>7968.311853</td>\n",
       "    </tr>\n",
       "    <tr>\n",
       "      <th>4</th>\n",
       "      <td>Afghanistan</td>\n",
       "      <td>1994</td>\n",
       "      <td>11409.177110</td>\n",
       "      <td>8863.010065</td>\n",
       "      <td>8051.515953</td>\n",
       "      <td>28013.16720</td>\n",
       "      <td>5102.622054</td>\n",
       "      <td>233.930571</td>\n",
       "      <td>32929.00593</td>\n",
       "      <td>14197.94796</td>\n",
       "      <td>...</td>\n",
       "      <td>30809.49117</td>\n",
       "      <td>6889.328118</td>\n",
       "      <td>1101.764645</td>\n",
       "      <td>12936.955860</td>\n",
       "      <td>415.349195</td>\n",
       "      <td>33323.16140</td>\n",
       "      <td>5499.23</td>\n",
       "      <td>2880.025765</td>\n",
       "      <td>12672.95019</td>\n",
       "      <td>8244.368430</td>\n",
       "    </tr>\n",
       "  </tbody>\n",
       "</table>\n",
       "<p>5 rows × 31 columns</p>\n",
       "</div>"
      ],
      "text/plain": [
       "        Entity  Year  Unsafe water source  Unsafe sanitation  \\\n",
       "0  Afghanistan  1990          7554.049543        5887.747628   \n",
       "1  Afghanistan  1991          7359.676749        5732.770160   \n",
       "2  Afghanistan  1992          7650.437822        5954.804987   \n",
       "3  Afghanistan  1993         10270.731380        7986.736613   \n",
       "4  Afghanistan  1994         11409.177110        8863.010065   \n",
       "\n",
       "   No access to handwashing facility  \\\n",
       "0                        5412.314513   \n",
       "1                        5287.891103   \n",
       "2                        5506.657363   \n",
       "3                        7104.620351   \n",
       "4                        8051.515953   \n",
       "\n",
       "   Household air pollution from solid fuels  Non-exclusive breastfeeding  \\\n",
       "0                               22388.49723                  3221.138842   \n",
       "1                               22128.75821                  3150.559597   \n",
       "2                               22873.76879                  3331.349048   \n",
       "3                               25599.75628                  4477.006100   \n",
       "4                               28013.16720                  5102.622054   \n",
       "\n",
       "   Discontinued breastfeeding  Child wasting  Child stunting  ...  \\\n",
       "0                  156.097553    22778.84925     10408.43885  ...   \n",
       "1                  151.539851    22292.69111     10271.97643  ...   \n",
       "2                  156.609194    23102.19794     10618.87978  ...   \n",
       "3                  206.834451    27902.66996     12260.09384  ...   \n",
       "4                  233.930571    32929.00593     14197.94796  ...   \n",
       "\n",
       "   High systolic blood pressure      Smoking  Iron deficiency  \\\n",
       "0                   28183.98335  6393.667372       726.431294   \n",
       "1                   28435.39751  6429.253320       739.245799   \n",
       "2                   29173.61120  6561.054957       873.485341   \n",
       "3                   30074.76091  6731.972560      1040.047422   \n",
       "4                   30809.49117  6889.328118      1101.764645   \n",
       "\n",
       "   Vitamin A deficiency  Low bone mineral density  Air pollution  \\\n",
       "0           9344.131952                374.844056    26598.00673   \n",
       "1           9330.182378                379.854237    26379.53222   \n",
       "2           9769.844533                388.130434    27263.12791   \n",
       "3          11433.769490                405.577931    30495.56150   \n",
       "4          12936.955860                415.349195    33323.16140   \n",
       "\n",
       "   Outdoor air pollution  Diet high in sodium  Diet low in whole grains  \\\n",
       "0                4383.83          2737.197934               11381.37735   \n",
       "1                4426.36          2741.184956               11487.83239   \n",
       "2                4568.91          2798.560245               11866.23557   \n",
       "3                5080.29          2853.301679               12335.96168   \n",
       "4                5499.23          2880.025765               12672.95019   \n",
       "\n",
       "   Diet low in nuts and seeds  \n",
       "0                 7299.867330  \n",
       "1                 7386.764303  \n",
       "2                 7640.628526  \n",
       "3                 7968.311853  \n",
       "4                 8244.368430  \n",
       "\n",
       "[5 rows x 31 columns]"
      ]
     },
     "execution_count": 4,
     "metadata": {},
     "output_type": "execute_result"
    }
   ],
   "source": [
    "df.head()"
   ]
  },
  {
   "cell_type": "markdown",
   "id": "agricultural-estate",
   "metadata": {},
   "source": [
    "### Structure of the Dataset\n",
    "** insert here ** "
   ]
  },
  {
   "cell_type": "code",
   "execution_count": 6,
   "id": "downtown-arnold",
   "metadata": {
    "ExecuteTime": {
     "end_time": "2021-07-09T10:42:30.740171Z",
     "start_time": "2021-07-09T10:42:30.721219Z"
    }
   },
   "outputs": [
    {
     "data": {
      "text/plain": [
       "Index(['Entity', 'Year', 'Unsafe water source', 'Unsafe sanitation',\n",
       "       'No access to handwashing facility',\n",
       "       'Household air pollution from solid fuels',\n",
       "       'Non-exclusive breastfeeding', 'Discontinued breastfeeding',\n",
       "       'Child wasting', 'Child stunting', 'Low birth weight for gestation',\n",
       "       'Secondhand smoke', 'Alcohol use', 'Drug use', 'Diet low in fruits',\n",
       "       'Diet low in vegetables', 'Unsafe sex', 'Low physical activity',\n",
       "       'High fasting plasma glucose', 'High total cholesterol',\n",
       "       'High body-mass index', 'High systolic blood pressure', 'Smoking',\n",
       "       'Iron deficiency', 'Vitamin A deficiency', 'Low bone mineral density',\n",
       "       'Air pollution', 'Outdoor air pollution', 'Diet high in sodium',\n",
       "       'Diet low in whole grains', 'Diet low in nuts and seeds'],\n",
       "      dtype='object')"
      ]
     },
     "execution_count": 6,
     "metadata": {},
     "output_type": "execute_result"
    }
   ],
   "source": [
    "df.columns"
   ]
  },
  {
   "cell_type": "markdown",
   "id": "rural-clone",
   "metadata": {},
   "source": [
    "### Variables of the Dataset\n",
    "** insert here ** "
   ]
  },
  {
   "cell_type": "markdown",
   "id": "grand-importance",
   "metadata": {},
   "source": [
    "## Data Cleaning\n",
    "For each used variable, checkforthe following and, if needed, perform data cleaning:\n",
    "- There are multiple representations of the same categorical value\n",
    "- The datatype of the variable is incorrect.\n",
    "- Some values are set to default values of the variable.\n",
    "- There are missing data.\n",
    "- There are duplicate data.\n",
    "- The formatting of the values is inconsistent.  \n",
    "\n",
    "**Note**: No need to clean all variables. Clean only the variables utilized in the study."
   ]
  },
  {
   "cell_type": "code",
   "execution_count": null,
   "id": "roman-heather",
   "metadata": {},
   "outputs": [],
   "source": []
  },
  {
   "cell_type": "markdown",
   "id": "noted-ministry",
   "metadata": {},
   "source": [
    "## Exploratory Data Analysis\n",
    "In this section of the notebook, you must fulfill the following:\n",
    "- Identify 3 interesting exploratory data analysis questions.Properly state the questions in the notebook.\n",
    "- Answer the EDA questionsusing both:\n",
    "    - Numerical Summaries – measures of central tendency, measures of dispersion, and correlation\n",
    "    - Visualization – Appropriate  visualization should be used. Each visualization should be accompanied by a brief explanation.\n",
    "- To emphasize, both numerical summary and visualization should be present to answer each question. The whole process should be supported withverbose textual descriptions of your proceduresand findings."
   ]
  },
  {
   "cell_type": "code",
   "execution_count": null,
   "id": "uniform-trinity",
   "metadata": {},
   "outputs": [],
   "source": []
  },
  {
   "cell_type": "markdown",
   "id": "functioning-messenger",
   "metadata": {},
   "source": [
    "## Research Question\n",
    "Come up with research questions to answer using the dataset.The research questions should arise from the exploratory data analysis.\n",
    "- The first research question should be answerable by performing statistical inference on means.\n",
    "- The second research question should be answerable by performing statistical inference on categorical data.\n",
    "- The research questions should be within the scope of the dataset.\n",
    "- For each research question, you must indicate its importance and significance to the community."
   ]
  },
  {
   "cell_type": "code",
   "execution_count": null,
   "id": "characteristic-traveler",
   "metadata": {},
   "outputs": [],
   "source": []
  },
  {
   "cell_type": "markdown",
   "id": "formed-polish",
   "metadata": {},
   "source": [
    "## Statistical Inference\n",
    "In this section of the notebook, please take note of the following:\n",
    "- If needed, you may perform preprocessing techniques to transform the data to the appropriate representation before performing statistical inference to answer the research question. This may include binning, log transformations, conversion to one-hot encoding, normalization, standardization, interpolation, truncation, and feature engineering. You may also need to check and prove if the data is from a normal distribution to perform some statistical inference techniques.\n",
    "- The techniques used to answer the research questionare limited to statistical inference methods discussed in class. \n",
    "- The technique that you will apply should be appropriate to answer the research question."
   ]
  },
  {
   "cell_type": "code",
   "execution_count": null,
   "id": "clear-asian",
   "metadata": {},
   "outputs": [],
   "source": []
  },
  {
   "cell_type": "markdown",
   "id": "material-there",
   "metadata": {},
   "source": [
    "## Insights and Conclusions\n",
    "Clearly  state  your  insights  and  conclusions  from  the  data  to  answer  each  research question you have defined. Make sure that all conclusions are backed up with statistical evidence."
   ]
  },
  {
   "cell_type": "markdown",
   "id": "requested-paintball",
   "metadata": {},
   "source": []
  }
 ],
 "metadata": {
  "kernelspec": {
   "display_name": "Python 3",
   "language": "python",
   "name": "python3"
  },
  "language_info": {
   "codemirror_mode": {
    "name": "ipython",
    "version": 3
   },
   "file_extension": ".py",
   "mimetype": "text/x-python",
   "name": "python",
   "nbconvert_exporter": "python",
   "pygments_lexer": "ipython3",
   "version": "3.9.2"
  },
  "toc": {
   "base_numbering": 1,
   "nav_menu": {},
   "number_sections": true,
   "sideBar": true,
   "skip_h1_title": false,
   "title_cell": "Table of Contents",
   "title_sidebar": "Contents",
   "toc_cell": false,
   "toc_position": {},
   "toc_section_display": true,
   "toc_window_display": false
  }
 },
 "nbformat": 4,
 "nbformat_minor": 5
}
