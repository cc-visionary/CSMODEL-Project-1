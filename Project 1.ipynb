{
 "cells": [
  {
   "cell_type": "code",
   "execution_count": 1,
   "id": "dental-springfield",
   "metadata": {
    "ExecuteTime": {
     "end_time": "2021-08-09T03:43:07.585825Z",
     "start_time": "2021-08-09T03:43:06.142196Z"
    }
   },
   "outputs": [],
   "source": [
    "import pandas as pd\n",
    "import numpy as np\n",
    "import matplotlib.pyplot as plt\n",
    "import seaborn as sns\n",
    "import re\n",
    "import requests\n",
    "\n",
    "from scipy.stats import f_oneway"
   ]
  },
  {
   "cell_type": "markdown",
   "id": "raised-mercury",
   "metadata": {},
   "source": [
    "# Dataset Representation"
   ]
  },
  {
   "cell_type": "markdown",
   "id": "medium-reputation",
   "metadata": {},
   "source": [
    "## Brief Description of the Dataset\n",
    "The dataset contains 30 years (1990-2020) worth of data collected by the World Food Programme (WFP) from 99 different countries which contains the Global Commodity Prices. The data includes information on country, city, market, price of good in local currency, quantity of good, and month and year recorded."
   ]
  },
  {
   "cell_type": "markdown",
   "id": "empty-kelly",
   "metadata": {},
   "source": [
    "## Collection Process\n",
    "The data was collected by the World Food Program through the use of their own Vulnerability Analysis and Mapping (VAM) software which has the capability to provide mobile solutions for price data collection. Other sources for data collection they used were crowdsourcing and web-scraping.\n",
    "\n",
    "Source: https://www.kaggle.com/salehahmedrony/global-food-prices  "
   ]
  },
  {
   "cell_type": "code",
   "execution_count": 2,
   "id": "ignored-thong",
   "metadata": {
    "ExecuteTime": {
     "end_time": "2021-08-09T03:43:11.126185Z",
     "start_time": "2021-08-09T03:43:07.587824Z"
    }
   },
   "outputs": [],
   "source": [
    "df = pd.read_csv('wfp_commodity_prices_database.csv', low_memory=False)"
   ]
  },
  {
   "cell_type": "code",
   "execution_count": 3,
   "id": "polish-bishop",
   "metadata": {
    "ExecuteTime": {
     "end_time": "2021-08-09T03:43:11.171071Z",
     "start_time": "2021-08-09T03:43:11.129175Z"
    }
   },
   "outputs": [
    {
     "data": {
      "text/html": [
       "<div>\n",
       "<style scoped>\n",
       "    .dataframe tbody tr th:only-of-type {\n",
       "        vertical-align: middle;\n",
       "    }\n",
       "\n",
       "    .dataframe tbody tr th {\n",
       "        vertical-align: top;\n",
       "    }\n",
       "\n",
       "    .dataframe thead th {\n",
       "        text-align: right;\n",
       "    }\n",
       "</style>\n",
       "<table border=\"1\" class=\"dataframe\">\n",
       "  <thead>\n",
       "    <tr style=\"text-align: right;\">\n",
       "      <th></th>\n",
       "      <th>adm0_id</th>\n",
       "      <th>adm0_name</th>\n",
       "      <th>adm1_id</th>\n",
       "      <th>adm1_name</th>\n",
       "      <th>mkt_id</th>\n",
       "      <th>mkt_name</th>\n",
       "      <th>cm_id</th>\n",
       "      <th>cm_name</th>\n",
       "      <th>cur_id</th>\n",
       "      <th>cur_name</th>\n",
       "      <th>pt_id</th>\n",
       "      <th>pt_name</th>\n",
       "      <th>um_id</th>\n",
       "      <th>um_name</th>\n",
       "      <th>mp_month</th>\n",
       "      <th>mp_year</th>\n",
       "      <th>mp_price</th>\n",
       "      <th>mp_commoditysource</th>\n",
       "    </tr>\n",
       "  </thead>\n",
       "  <tbody>\n",
       "    <tr>\n",
       "      <th>0</th>\n",
       "      <td>1.0</td>\n",
       "      <td>Afghanistan</td>\n",
       "      <td>272</td>\n",
       "      <td>Badakhshan</td>\n",
       "      <td>266</td>\n",
       "      <td>Fayzabad</td>\n",
       "      <td>55</td>\n",
       "      <td>Bread - Retail</td>\n",
       "      <td>0.0</td>\n",
       "      <td>AFN</td>\n",
       "      <td>15</td>\n",
       "      <td>Retail</td>\n",
       "      <td>5</td>\n",
       "      <td>KG</td>\n",
       "      <td>1</td>\n",
       "      <td>2014</td>\n",
       "      <td>50.0</td>\n",
       "      <td>NaN</td>\n",
       "    </tr>\n",
       "    <tr>\n",
       "      <th>1</th>\n",
       "      <td>1.0</td>\n",
       "      <td>Afghanistan</td>\n",
       "      <td>272</td>\n",
       "      <td>Badakhshan</td>\n",
       "      <td>266</td>\n",
       "      <td>Fayzabad</td>\n",
       "      <td>55</td>\n",
       "      <td>Bread - Retail</td>\n",
       "      <td>0.0</td>\n",
       "      <td>AFN</td>\n",
       "      <td>15</td>\n",
       "      <td>Retail</td>\n",
       "      <td>5</td>\n",
       "      <td>KG</td>\n",
       "      <td>2</td>\n",
       "      <td>2014</td>\n",
       "      <td>50.0</td>\n",
       "      <td>NaN</td>\n",
       "    </tr>\n",
       "    <tr>\n",
       "      <th>2</th>\n",
       "      <td>1.0</td>\n",
       "      <td>Afghanistan</td>\n",
       "      <td>272</td>\n",
       "      <td>Badakhshan</td>\n",
       "      <td>266</td>\n",
       "      <td>Fayzabad</td>\n",
       "      <td>55</td>\n",
       "      <td>Bread - Retail</td>\n",
       "      <td>0.0</td>\n",
       "      <td>AFN</td>\n",
       "      <td>15</td>\n",
       "      <td>Retail</td>\n",
       "      <td>5</td>\n",
       "      <td>KG</td>\n",
       "      <td>3</td>\n",
       "      <td>2014</td>\n",
       "      <td>50.0</td>\n",
       "      <td>NaN</td>\n",
       "    </tr>\n",
       "    <tr>\n",
       "      <th>3</th>\n",
       "      <td>1.0</td>\n",
       "      <td>Afghanistan</td>\n",
       "      <td>272</td>\n",
       "      <td>Badakhshan</td>\n",
       "      <td>266</td>\n",
       "      <td>Fayzabad</td>\n",
       "      <td>55</td>\n",
       "      <td>Bread - Retail</td>\n",
       "      <td>0.0</td>\n",
       "      <td>AFN</td>\n",
       "      <td>15</td>\n",
       "      <td>Retail</td>\n",
       "      <td>5</td>\n",
       "      <td>KG</td>\n",
       "      <td>4</td>\n",
       "      <td>2014</td>\n",
       "      <td>50.0</td>\n",
       "      <td>NaN</td>\n",
       "    </tr>\n",
       "    <tr>\n",
       "      <th>4</th>\n",
       "      <td>1.0</td>\n",
       "      <td>Afghanistan</td>\n",
       "      <td>272</td>\n",
       "      <td>Badakhshan</td>\n",
       "      <td>266</td>\n",
       "      <td>Fayzabad</td>\n",
       "      <td>55</td>\n",
       "      <td>Bread - Retail</td>\n",
       "      <td>0.0</td>\n",
       "      <td>AFN</td>\n",
       "      <td>15</td>\n",
       "      <td>Retail</td>\n",
       "      <td>5</td>\n",
       "      <td>KG</td>\n",
       "      <td>5</td>\n",
       "      <td>2014</td>\n",
       "      <td>50.0</td>\n",
       "      <td>NaN</td>\n",
       "    </tr>\n",
       "  </tbody>\n",
       "</table>\n",
       "</div>"
      ],
      "text/plain": [
       "   adm0_id    adm0_name  adm1_id   adm1_name  mkt_id  mkt_name  cm_id  \\\n",
       "0      1.0  Afghanistan      272  Badakhshan     266  Fayzabad     55   \n",
       "1      1.0  Afghanistan      272  Badakhshan     266  Fayzabad     55   \n",
       "2      1.0  Afghanistan      272  Badakhshan     266  Fayzabad     55   \n",
       "3      1.0  Afghanistan      272  Badakhshan     266  Fayzabad     55   \n",
       "4      1.0  Afghanistan      272  Badakhshan     266  Fayzabad     55   \n",
       "\n",
       "          cm_name  cur_id cur_name  pt_id pt_name  um_id um_name  mp_month  \\\n",
       "0  Bread - Retail     0.0      AFN     15  Retail      5      KG         1   \n",
       "1  Bread - Retail     0.0      AFN     15  Retail      5      KG         2   \n",
       "2  Bread - Retail     0.0      AFN     15  Retail      5      KG         3   \n",
       "3  Bread - Retail     0.0      AFN     15  Retail      5      KG         4   \n",
       "4  Bread - Retail     0.0      AFN     15  Retail      5      KG         5   \n",
       "\n",
       "   mp_year  mp_price  mp_commoditysource  \n",
       "0     2014      50.0                 NaN  \n",
       "1     2014      50.0                 NaN  \n",
       "2     2014      50.0                 NaN  \n",
       "3     2014      50.0                 NaN  \n",
       "4     2014      50.0                 NaN  "
      ]
     },
     "execution_count": 3,
     "metadata": {},
     "output_type": "execute_result"
    }
   ],
   "source": [
    "df.head()"
   ]
  },
  {
   "cell_type": "markdown",
   "id": "literary-speaker",
   "metadata": {},
   "source": [
    "## Structure of the Dataset\n",
    "The dataset contains one spreadsheet detailing the history of commodity prices in different countries that dates as far back as 1992 (for some contries) up until 2020. Every column in the dataset pertains to the different variables in each record which contains but is not limited to: the name of the commodity being purchased, the year in which was it purchased, the amount that was purchased, the year that it was purchased, etc. Every row contains a record of a purchase in a specific country and on a specific year."
   ]
  },
  {
   "cell_type": "code",
   "execution_count": 4,
   "id": "bacterial-ratio",
   "metadata": {
    "ExecuteTime": {
     "end_time": "2021-08-09T03:43:11.187022Z",
     "start_time": "2021-08-09T03:43:11.175054Z"
    }
   },
   "outputs": [
    {
     "data": {
      "text/plain": [
       "Index(['adm0_id', 'adm0_name', 'adm1_id', 'adm1_name', 'mkt_id', 'mkt_name',\n",
       "       'cm_id', 'cm_name', 'cur_id', 'cur_name', 'pt_id', 'pt_name', 'um_id',\n",
       "       'um_name', 'mp_month', 'mp_year', 'mp_price', 'mp_commoditysource'],\n",
       "      dtype='object')"
      ]
     },
     "execution_count": 4,
     "metadata": {},
     "output_type": "execute_result"
    }
   ],
   "source": [
    "df.columns"
   ]
  },
  {
   "cell_type": "code",
   "execution_count": 5,
   "id": "basic-third",
   "metadata": {
    "ExecuteTime": {
     "end_time": "2021-08-09T03:43:11.721626Z",
     "start_time": "2021-08-09T03:43:11.190016Z"
    }
   },
   "outputs": [
    {
     "name": "stdout",
     "output_type": "stream",
     "text": [
      "<class 'pandas.core.frame.DataFrame'>\n",
      "RangeIndex: 1560551 entries, 0 to 1560550\n",
      "Data columns (total 18 columns):\n",
      " #   Column              Non-Null Count    Dtype  \n",
      "---  ------              --------------    -----  \n",
      " 0   adm0_id             1560551 non-null  float64\n",
      " 1   adm0_name           1560551 non-null  object \n",
      " 2   adm1_id             1560551 non-null  int64  \n",
      " 3   adm1_name           1089223 non-null  object \n",
      " 4   mkt_id              1560551 non-null  int64  \n",
      " 5   mkt_name            1560551 non-null  object \n",
      " 6   cm_id               1560551 non-null  int64  \n",
      " 7   cm_name             1560551 non-null  object \n",
      " 8   cur_id              1560551 non-null  float64\n",
      " 9   cur_name            1560551 non-null  object \n",
      " 10  pt_id               1560551 non-null  int64  \n",
      " 11  pt_name             1560551 non-null  object \n",
      " 12  um_id               1560551 non-null  int64  \n",
      " 13  um_name             1560551 non-null  object \n",
      " 14  mp_month            1560551 non-null  int64  \n",
      " 15  mp_year             1560551 non-null  int64  \n",
      " 16  mp_price            1560551 non-null  float64\n",
      " 17  mp_commoditysource  0 non-null        float64\n",
      "dtypes: float64(4), int64(7), object(7)\n",
      "memory usage: 214.3+ MB\n"
     ]
    }
   ],
   "source": [
    "df.info()"
   ]
  },
  {
   "cell_type": "markdown",
   "id": "circular-chick",
   "metadata": {},
   "source": [
    "## Variables of the Dataset\n",
    "There are 18 unique variables in the dataset with 1560551 entries.\n",
    "The variables in the dataset are as follows:\n",
    "\n",
    "| Column Name        | Full Name                          | Definition        |\n",
    "| ------------------ | ---------                          | ----------------- |\n",
    "| adm0_id            | country id                         | The numerical ID that pertains to the country. |\n",
    "| adm0_name          | country name                       | The name of the country. |\n",
    "| adm1_id            | locality id                        | A numeric code that identifies an area in a country. |\n",
    "| adm1_name          | locality name                      | A name of a town/city of a certain area ina  country. |\n",
    "| mkt_id             | market id                          | A numerical code that corresponds to the market name. |\n",
    "| mkt_name           | market name                        | The area/name of the market that the commodity was purchased in. |\n",
    "| cm_id              | commodity purchase id              | A numeric code that pertains to the purchased commodity. |\n",
    "| cm_name            | commodity purchased                | The name pertaining to the purchased commodity.  |\n",
    "| cur_id             | currency  id                       | A numeric code that pertains to the currency of the country. |\n",
    "| cur_name           | name of the currency               | The name of the currency used to purchase the commodity. |\n",
    "| pt_id              | market type id                     | The numerical code that pertains to the type of market the product was bought in. |\n",
    "| pt_name            | market type                        | The type of market the commodity was bought in. Can be one of these four market types: Retail, Wholesale, Producer or Farm Gate. |\n",
    "| um_id              | measurement id                     | The number of goods that was purhca |\n",
    "| um_name            | unit of goods measurement          | The unit of measurement used to measure the commodity. |\n",
    "| mp_month           | month recorded                     | A number pertaining to the month the commodity was bought. |\n",
    "| mp_year            | year recorded                      | The year in which the record was taken. |\n",
    "| mp_price           | price paid                         | The price (in the country's currency) paid for the commodity. |\n",
    "| mp_commoditysource | source supplying price information | The source of the commodity price. |"
   ]
  },
  {
   "cell_type": "markdown",
   "id": "accredited-interpretation",
   "metadata": {},
   "source": [
    "# Data Cleaning\n",
    "For each used variable, check for the following and, if needed, perform data cleaning:\n",
    "- There are multiple representations of the same categorical value\n",
    "- The datatype of the variable is incorrect.\n",
    "- Some values are set to default values of the variable.\n",
    "- There are missing data.\n",
    "- There are duplicate data.\n",
    "- The formatting of the values is inconsistent.  \n",
    "\n",
    "**Note**: No need to clean all variables. Clean only the variables utilized in the study."
   ]
  },
  {
   "cell_type": "markdown",
   "id": "enclosed-shame",
   "metadata": {},
   "source": [
    "## Filter the country to only Philippines"
   ]
  },
  {
   "cell_type": "code",
   "execution_count": 6,
   "id": "original-dairy",
   "metadata": {
    "ExecuteTime": {
     "end_time": "2021-08-09T03:43:11.860255Z",
     "start_time": "2021-08-09T03:43:11.723614Z"
    },
    "scrolled": true
   },
   "outputs": [
    {
     "data": {
      "text/html": [
       "<div>\n",
       "<style scoped>\n",
       "    .dataframe tbody tr th:only-of-type {\n",
       "        vertical-align: middle;\n",
       "    }\n",
       "\n",
       "    .dataframe tbody tr th {\n",
       "        vertical-align: top;\n",
       "    }\n",
       "\n",
       "    .dataframe thead th {\n",
       "        text-align: right;\n",
       "    }\n",
       "</style>\n",
       "<table border=\"1\" class=\"dataframe\">\n",
       "  <thead>\n",
       "    <tr style=\"text-align: right;\">\n",
       "      <th></th>\n",
       "      <th>index</th>\n",
       "      <th>adm0_id</th>\n",
       "      <th>adm0_name</th>\n",
       "      <th>adm1_id</th>\n",
       "      <th>adm1_name</th>\n",
       "      <th>mkt_id</th>\n",
       "      <th>mkt_name</th>\n",
       "      <th>cm_id</th>\n",
       "      <th>cm_name</th>\n",
       "      <th>cur_id</th>\n",
       "      <th>cur_name</th>\n",
       "      <th>pt_id</th>\n",
       "      <th>pt_name</th>\n",
       "      <th>um_id</th>\n",
       "      <th>um_name</th>\n",
       "      <th>mp_month</th>\n",
       "      <th>mp_year</th>\n",
       "      <th>mp_price</th>\n",
       "      <th>mp_commoditysource</th>\n",
       "    </tr>\n",
       "  </thead>\n",
       "  <tbody>\n",
       "    <tr>\n",
       "      <th>0</th>\n",
       "      <td>1042823</td>\n",
       "      <td>196.0</td>\n",
       "      <td>Philippines</td>\n",
       "      <td>2354</td>\n",
       "      <td>Cordillera Administrative region (CAR)</td>\n",
       "      <td>168</td>\n",
       "      <td>La Trinidad</td>\n",
       "      <td>80</td>\n",
       "      <td>Rice (regular, milled) - Wholesale</td>\n",
       "      <td>0.0</td>\n",
       "      <td>PHP</td>\n",
       "      <td>14</td>\n",
       "      <td>Wholesale</td>\n",
       "      <td>5</td>\n",
       "      <td>KG</td>\n",
       "      <td>4</td>\n",
       "      <td>2019</td>\n",
       "      <td>34.12</td>\n",
       "      <td>NaN</td>\n",
       "    </tr>\n",
       "    <tr>\n",
       "      <th>1</th>\n",
       "      <td>1042824</td>\n",
       "      <td>196.0</td>\n",
       "      <td>Philippines</td>\n",
       "      <td>2354</td>\n",
       "      <td>Cordillera Administrative region (CAR)</td>\n",
       "      <td>168</td>\n",
       "      <td>La Trinidad</td>\n",
       "      <td>80</td>\n",
       "      <td>Rice (regular, milled) - Retail</td>\n",
       "      <td>0.0</td>\n",
       "      <td>PHP</td>\n",
       "      <td>15</td>\n",
       "      <td>Retail</td>\n",
       "      <td>5</td>\n",
       "      <td>KG</td>\n",
       "      <td>1</td>\n",
       "      <td>2010</td>\n",
       "      <td>29.20</td>\n",
       "      <td>NaN</td>\n",
       "    </tr>\n",
       "    <tr>\n",
       "      <th>2</th>\n",
       "      <td>1042825</td>\n",
       "      <td>196.0</td>\n",
       "      <td>Philippines</td>\n",
       "      <td>2354</td>\n",
       "      <td>Cordillera Administrative region (CAR)</td>\n",
       "      <td>168</td>\n",
       "      <td>La Trinidad</td>\n",
       "      <td>80</td>\n",
       "      <td>Rice (regular, milled) - Retail</td>\n",
       "      <td>0.0</td>\n",
       "      <td>PHP</td>\n",
       "      <td>15</td>\n",
       "      <td>Retail</td>\n",
       "      <td>5</td>\n",
       "      <td>KG</td>\n",
       "      <td>2</td>\n",
       "      <td>2010</td>\n",
       "      <td>30.00</td>\n",
       "      <td>NaN</td>\n",
       "    </tr>\n",
       "    <tr>\n",
       "      <th>3</th>\n",
       "      <td>1042826</td>\n",
       "      <td>196.0</td>\n",
       "      <td>Philippines</td>\n",
       "      <td>2354</td>\n",
       "      <td>Cordillera Administrative region (CAR)</td>\n",
       "      <td>168</td>\n",
       "      <td>La Trinidad</td>\n",
       "      <td>80</td>\n",
       "      <td>Rice (regular, milled) - Retail</td>\n",
       "      <td>0.0</td>\n",
       "      <td>PHP</td>\n",
       "      <td>15</td>\n",
       "      <td>Retail</td>\n",
       "      <td>5</td>\n",
       "      <td>KG</td>\n",
       "      <td>3</td>\n",
       "      <td>2010</td>\n",
       "      <td>30.00</td>\n",
       "      <td>NaN</td>\n",
       "    </tr>\n",
       "    <tr>\n",
       "      <th>4</th>\n",
       "      <td>1042827</td>\n",
       "      <td>196.0</td>\n",
       "      <td>Philippines</td>\n",
       "      <td>2354</td>\n",
       "      <td>Cordillera Administrative region (CAR)</td>\n",
       "      <td>168</td>\n",
       "      <td>La Trinidad</td>\n",
       "      <td>80</td>\n",
       "      <td>Rice (regular, milled) - Retail</td>\n",
       "      <td>0.0</td>\n",
       "      <td>PHP</td>\n",
       "      <td>15</td>\n",
       "      <td>Retail</td>\n",
       "      <td>5</td>\n",
       "      <td>KG</td>\n",
       "      <td>4</td>\n",
       "      <td>2010</td>\n",
       "      <td>30.00</td>\n",
       "      <td>NaN</td>\n",
       "    </tr>\n",
       "  </tbody>\n",
       "</table>\n",
       "</div>"
      ],
      "text/plain": [
       "     index  adm0_id    adm0_name  adm1_id  \\\n",
       "0  1042823    196.0  Philippines     2354   \n",
       "1  1042824    196.0  Philippines     2354   \n",
       "2  1042825    196.0  Philippines     2354   \n",
       "3  1042826    196.0  Philippines     2354   \n",
       "4  1042827    196.0  Philippines     2354   \n",
       "\n",
       "                                adm1_name  mkt_id     mkt_name  cm_id  \\\n",
       "0  Cordillera Administrative region (CAR)     168  La Trinidad     80   \n",
       "1  Cordillera Administrative region (CAR)     168  La Trinidad     80   \n",
       "2  Cordillera Administrative region (CAR)     168  La Trinidad     80   \n",
       "3  Cordillera Administrative region (CAR)     168  La Trinidad     80   \n",
       "4  Cordillera Administrative region (CAR)     168  La Trinidad     80   \n",
       "\n",
       "                              cm_name  cur_id cur_name  pt_id    pt_name  \\\n",
       "0  Rice (regular, milled) - Wholesale     0.0      PHP     14  Wholesale   \n",
       "1     Rice (regular, milled) - Retail     0.0      PHP     15     Retail   \n",
       "2     Rice (regular, milled) - Retail     0.0      PHP     15     Retail   \n",
       "3     Rice (regular, milled) - Retail     0.0      PHP     15     Retail   \n",
       "4     Rice (regular, milled) - Retail     0.0      PHP     15     Retail   \n",
       "\n",
       "   um_id um_name  mp_month  mp_year  mp_price  mp_commoditysource  \n",
       "0      5      KG         4     2019     34.12                 NaN  \n",
       "1      5      KG         1     2010     29.20                 NaN  \n",
       "2      5      KG         2     2010     30.00                 NaN  \n",
       "3      5      KG         3     2010     30.00                 NaN  \n",
       "4      5      KG         4     2010     30.00                 NaN  "
      ]
     },
     "execution_count": 6,
     "metadata": {},
     "output_type": "execute_result"
    }
   ],
   "source": [
    "ph_df = df[df['adm0_name'] == 'Philippines'].reset_index()\n",
    "ph_df.head()"
   ]
  },
  {
   "cell_type": "markdown",
   "id": "virtual-parallel",
   "metadata": {},
   "source": [
    "## Dropping id columns which will not be used in the dataset"
   ]
  },
  {
   "cell_type": "code",
   "execution_count": 7,
   "id": "listed-liechtenstein",
   "metadata": {
    "ExecuteTime": {
     "end_time": "2021-08-09T03:43:11.876212Z",
     "start_time": "2021-08-09T03:43:11.863214Z"
    },
    "scrolled": true
   },
   "outputs": [],
   "source": [
    "id_columns = ['index', 'adm0_id', 'adm1_id', 'mkt_id', 'cm_id', 'cur_id', 'pt_id', 'um_id']\n",
    "ph_df = ph_df.drop(id_columns, axis=1)"
   ]
  },
  {
   "cell_type": "markdown",
   "id": "earlier-providence",
   "metadata": {},
   "source": [
    "## Check each column if their values are valid"
   ]
  },
  {
   "cell_type": "markdown",
   "id": "backed-going",
   "metadata": {},
   "source": [
    "### Country Name"
   ]
  },
  {
   "cell_type": "code",
   "execution_count": 8,
   "id": "electoral-africa",
   "metadata": {
    "ExecuteTime": {
     "end_time": "2021-08-09T03:43:11.908093Z",
     "start_time": "2021-08-09T03:43:11.879171Z"
    },
    "scrolled": true
   },
   "outputs": [
    {
     "data": {
      "text/plain": [
       "array(['Philippines'], dtype=object)"
      ]
     },
     "execution_count": 8,
     "metadata": {},
     "output_type": "execute_result"
    }
   ],
   "source": [
    "ph_df['adm0_name'].unique()"
   ]
  },
  {
   "cell_type": "markdown",
   "id": "logical-dominican",
   "metadata": {},
   "source": [
    "### Locality Name"
   ]
  },
  {
   "cell_type": "code",
   "execution_count": 9,
   "id": "charitable-subsection",
   "metadata": {
    "ExecuteTime": {
     "end_time": "2021-08-09T03:43:11.924084Z",
     "start_time": "2021-08-09T03:43:11.912083Z"
    },
    "scrolled": true
   },
   "outputs": [
    {
     "data": {
      "text/plain": [
       "array(['Cordillera Administrative region (CAR)',\n",
       "       'National Capital region (NCR)', 'Region I (Ilocos region)',\n",
       "       'Region II (Cagayan Valley)', 'Region V (Bicol region)',\n",
       "       'Region VI (Western Visayas)', 'Region VII (Central Visayas)',\n",
       "       'Region VIII (Eastern Visayas)', 'Region XIII (Caraga)',\n",
       "       'Autonomous region in Muslim Mindanao (ARMM)',\n",
       "       'Region IX (Zamboanga Peninsula)', 'Region X (Northern Mindanao)',\n",
       "       'Region XI (Davao Region)', 'Region XII (Soccsksargen)',\n",
       "       'Region III (Central Luzon)', 'Region IV-A (Calabarzon)',\n",
       "       'Region IV (Southern Tagalog)'], dtype=object)"
      ]
     },
     "execution_count": 9,
     "metadata": {},
     "output_type": "execute_result"
    }
   ],
   "source": [
    "ph_df['adm1_name'].unique()"
   ]
  },
  {
   "cell_type": "markdown",
   "id": "looking-rochester",
   "metadata": {},
   "source": [
    "### Market Name"
   ]
  },
  {
   "cell_type": "code",
   "execution_count": 10,
   "id": "latest-welsh",
   "metadata": {
    "ExecuteTime": {
     "end_time": "2021-08-09T03:43:11.940008Z",
     "start_time": "2021-08-09T03:43:11.928043Z"
    }
   },
   "outputs": [
    {
     "data": {
      "text/plain": [
       "array(['La Trinidad', 'Manila', 'Lingayen', 'Tuguegarao', 'Legazpi',\n",
       "       'Iloilo City', 'Cebu City', 'Catarman', 'Tandag', 'Shariff Aguak',\n",
       "       'Zamboanga City', 'Tubod', 'Davao City', 'Koronadal', 'Palayan',\n",
       "       'Santa Cruz', 'Puerto Princesa'], dtype=object)"
      ]
     },
     "execution_count": 10,
     "metadata": {},
     "output_type": "execute_result"
    }
   ],
   "source": [
    "ph_df['mkt_name'].unique()"
   ]
  },
  {
   "cell_type": "markdown",
   "id": "vanilla-metabolism",
   "metadata": {},
   "source": [
    "### Market Type"
   ]
  },
  {
   "cell_type": "code",
   "execution_count": 11,
   "id": "pretty-technology",
   "metadata": {
    "ExecuteTime": {
     "end_time": "2021-08-09T03:43:11.955185Z",
     "start_time": "2021-08-09T03:43:11.943000Z"
    }
   },
   "outputs": [
    {
     "data": {
      "text/plain": [
       "array(['Wholesale', 'Retail', 'Farm Gate'], dtype=object)"
      ]
     },
     "execution_count": 11,
     "metadata": {},
     "output_type": "execute_result"
    }
   ],
   "source": [
    "ph_df['pt_name'].unique()"
   ]
  },
  {
   "cell_type": "markdown",
   "id": "dedicated-bunny",
   "metadata": {},
   "source": [
    "### Month"
   ]
  },
  {
   "cell_type": "code",
   "execution_count": 12,
   "id": "beautiful-purchase",
   "metadata": {
    "ExecuteTime": {
     "end_time": "2021-08-09T03:43:11.971142Z",
     "start_time": "2021-08-09T03:43:11.957182Z"
    }
   },
   "outputs": [
    {
     "data": {
      "text/plain": [
       "array([ 4,  1,  2,  3,  5,  6,  7,  8,  9, 10, 11, 12], dtype=int64)"
      ]
     },
     "execution_count": 12,
     "metadata": {},
     "output_type": "execute_result"
    }
   ],
   "source": [
    "ph_df['mp_month'].unique()"
   ]
  },
  {
   "cell_type": "markdown",
   "id": "cross-optics",
   "metadata": {},
   "source": [
    "### Year"
   ]
  },
  {
   "cell_type": "code",
   "execution_count": 13,
   "id": "informal-italian",
   "metadata": {
    "ExecuteTime": {
     "end_time": "2021-08-09T03:43:11.987099Z",
     "start_time": "2021-08-09T03:43:11.973137Z"
    }
   },
   "outputs": [
    {
     "data": {
      "text/plain": [
       "array([2019, 2010, 2012, 2013, 2014, 2015, 2016, 2017, 2018, 2008, 2009,\n",
       "       2011, 2000, 2001, 2002, 2003, 2004, 2005, 2006, 2007, 2020],\n",
       "      dtype=int64)"
      ]
     },
     "execution_count": 13,
     "metadata": {},
     "output_type": "execute_result"
    }
   ],
   "source": [
    "ph_df['mp_year'].unique()"
   ]
  },
  {
   "cell_type": "markdown",
   "id": "prescribed-climate",
   "metadata": {},
   "source": [
    "### Currency Name"
   ]
  },
  {
   "cell_type": "code",
   "execution_count": 14,
   "id": "cordless-valuation",
   "metadata": {
    "ExecuteTime": {
     "end_time": "2021-08-09T03:43:12.003056Z",
     "start_time": "2021-08-09T03:43:11.989094Z"
    }
   },
   "outputs": [
    {
     "data": {
      "text/plain": [
       "array(['PHP'], dtype=object)"
      ]
     },
     "execution_count": 14,
     "metadata": {},
     "output_type": "execute_result"
    }
   ],
   "source": [
    "ph_df['cur_name'].unique()"
   ]
  },
  {
   "cell_type": "markdown",
   "id": "severe-there",
   "metadata": {},
   "source": [
    "### Commodity Name"
   ]
  },
  {
   "cell_type": "code",
   "execution_count": 15,
   "id": "surgical-planner",
   "metadata": {
    "ExecuteTime": {
     "end_time": "2021-08-09T03:43:12.018018Z",
     "start_time": "2021-08-09T03:43:12.005051Z"
    },
    "scrolled": true
   },
   "outputs": [
    {
     "data": {
      "text/plain": [
       "array(['Rice (regular, milled) - Wholesale',\n",
       "       'Rice (regular, milled) - Retail', 'Sweet potatoes - Retail',\n",
       "       'Eggs - Retail', 'Garlic - Retail', 'Onions (red) - Retail',\n",
       "       'Onions (white) - Retail', 'Tomatoes - Wholesale',\n",
       "       'Tomatoes - Retail', 'Groundnuts (unshelled) - Retail',\n",
       "       'Meat (beef, chops with bones) - Retail',\n",
       "       'Meat (chicken, whole) - Retail', 'Meat (pork) - Retail',\n",
       "       'Potatoes (Irish) - Retail', 'Carrots - Wholesale',\n",
       "       'Carrots - Retail', 'Cabbage - Wholesale', 'Cabbage - Retail',\n",
       "       'Beans (mung) - Retail', 'Fish (fresh) - Retail',\n",
       "       'Sweet potatoes - Wholesale', 'Eggs - Wholesale',\n",
       "       'Fish (fresh) - Wholesale', 'Maize flour (yellow) - Retail',\n",
       "       'Rice (milled, superior) - Wholesale',\n",
       "       'Rice (milled, superior) - Retail', 'Rice (paddy) - Farm Gate',\n",
       "       'Maize flour (white) - Wholesale', 'Maize flour (white) - Retail',\n",
       "       'Maize flour (yellow) - Wholesale', 'Maize (white) - Wholesale',\n",
       "       'Maize (yellow) - Wholesale'], dtype=object)"
      ]
     },
     "execution_count": 15,
     "metadata": {},
     "output_type": "execute_result"
    }
   ],
   "source": [
    "ph_df['cm_name'].unique()"
   ]
  },
  {
   "cell_type": "markdown",
   "id": "prescribed-advantage",
   "metadata": {
    "ExecuteTime": {
     "end_time": "2021-07-22T03:55:46.532331Z",
     "start_time": "2021-07-22T03:55:46.515377Z"
    }
   },
   "source": [
    "after seeing that the format is `Commodity Name (Characteristics) - Market Type`, we can seperate the characteristics into a seperate column and remove the Market Type value (in the cm_name column) since it already exists in another column"
   ]
  },
  {
   "cell_type": "code",
   "execution_count": 16,
   "id": "handled-mason",
   "metadata": {
    "ExecuteTime": {
     "end_time": "2021-08-09T03:43:12.127725Z",
     "start_time": "2021-08-09T03:43:12.021010Z"
    }
   },
   "outputs": [],
   "source": [
    "def clean_cm_name(val):\n",
    "    return val.split(' - ')[0].split('(')[0].strip()\n",
    "    \n",
    "def get_characteristics(val):\n",
    "    try:\n",
    "        return re.search(r'\\((.*?)\\)', val.split(' - ')[0]).group(1)\n",
    "    except:\n",
    "        return None\n",
    "ph_df['characteristics'] = ph_df['cm_name'].apply(lambda x: get_characteristics(x))\n",
    "ph_df['cm_name'] = ph_df['cm_name'].apply(lambda x : clean_cm_name(x))"
   ]
  },
  {
   "cell_type": "code",
   "execution_count": 17,
   "id": "starting-detroit",
   "metadata": {
    "ExecuteTime": {
     "end_time": "2021-08-09T03:43:12.142687Z",
     "start_time": "2021-08-09T03:43:12.131717Z"
    },
    "scrolled": true
   },
   "outputs": [
    {
     "data": {
      "text/plain": [
       "array(['regular, milled', None, 'red', 'white', 'unshelled',\n",
       "       'beef, chops with bones', 'chicken, whole', 'pork', 'Irish',\n",
       "       'mung', 'fresh', 'yellow', 'milled, superior', 'paddy'],\n",
       "      dtype=object)"
      ]
     },
     "execution_count": 17,
     "metadata": {},
     "output_type": "execute_result"
    }
   ],
   "source": [
    "ph_df['characteristics'].unique()"
   ]
  },
  {
   "cell_type": "code",
   "execution_count": 18,
   "id": "federal-anatomy",
   "metadata": {
    "ExecuteTime": {
     "end_time": "2021-08-09T03:43:12.188588Z",
     "start_time": "2021-08-09T03:43:12.145677Z"
    }
   },
   "outputs": [
    {
     "data": {
      "text/plain": [
       "array(['Rice', 'Sweet potatoes', 'Eggs', 'Garlic', 'Onions', 'Tomatoes',\n",
       "       'Groundnuts', 'Meat', 'Potatoes', 'Carrots', 'Cabbage', 'Beans',\n",
       "       'Fish', 'Maize flour', 'Maize'], dtype=object)"
      ]
     },
     "execution_count": 18,
     "metadata": {},
     "output_type": "execute_result"
    }
   ],
   "source": [
    "ph_df['cm_name'].unique()"
   ]
  },
  {
   "cell_type": "markdown",
   "id": "hawaiian-nowhere",
   "metadata": {},
   "source": [
    "`Maize` and `Maize flour` are the same so we have to replace it to `Maize`"
   ]
  },
  {
   "cell_type": "code",
   "execution_count": 19,
   "id": "received-conspiracy",
   "metadata": {
    "ExecuteTime": {
     "end_time": "2021-08-09T03:43:12.220476Z",
     "start_time": "2021-08-09T03:43:12.192551Z"
    }
   },
   "outputs": [],
   "source": [
    "ph_df['cm_name'] = ph_df['cm_name'].replace({'Maize flour': 'Maize'})"
   ]
  },
  {
   "cell_type": "code",
   "execution_count": 20,
   "id": "precise-savings",
   "metadata": {
    "ExecuteTime": {
     "end_time": "2021-08-09T03:43:12.236466Z",
     "start_time": "2021-08-09T03:43:12.223469Z"
    }
   },
   "outputs": [
    {
     "data": {
      "text/plain": [
       "array(['Rice', 'Sweet potatoes', 'Eggs', 'Garlic', 'Onions', 'Tomatoes',\n",
       "       'Groundnuts', 'Meat', 'Potatoes', 'Carrots', 'Cabbage', 'Beans',\n",
       "       'Fish', 'Maize'], dtype=object)"
      ]
     },
     "execution_count": 20,
     "metadata": {},
     "output_type": "execute_result"
    }
   ],
   "source": [
    "np.array(ph_df['cm_name'].unique())"
   ]
  },
  {
   "cell_type": "markdown",
   "id": "deadly-lambda",
   "metadata": {},
   "source": [
    "### Unit Name"
   ]
  },
  {
   "cell_type": "code",
   "execution_count": 21,
   "id": "nearby-measurement",
   "metadata": {
    "ExecuteTime": {
     "end_time": "2021-08-09T03:43:12.252391Z",
     "start_time": "2021-08-09T03:43:12.239426Z"
    }
   },
   "outputs": [
    {
     "data": {
      "text/plain": [
       "array(['KG', 'Unit'], dtype=object)"
      ]
     },
     "execution_count": 21,
     "metadata": {},
     "output_type": "execute_result"
    }
   ],
   "source": [
    "ph_df['um_name'].unique()"
   ]
  },
  {
   "cell_type": "markdown",
   "id": "cordless-garage",
   "metadata": {},
   "source": [
    "## Handle columns with missing values"
   ]
  },
  {
   "cell_type": "code",
   "execution_count": 22,
   "id": "solar-substitute",
   "metadata": {
    "ExecuteTime": {
     "end_time": "2021-08-09T03:43:12.284307Z",
     "start_time": "2021-08-09T03:43:12.255383Z"
    }
   },
   "outputs": [
    {
     "data": {
      "text/plain": [
       "['mp_commoditysource', 'characteristics']"
      ]
     },
     "execution_count": 22,
     "metadata": {},
     "output_type": "execute_result"
    }
   ],
   "source": [
    "missingVars = ph_df.columns[ph_df.isnull().any()].tolist()\n",
    "missingVars"
   ]
  },
  {
   "cell_type": "code",
   "execution_count": 23,
   "id": "chief-journalism",
   "metadata": {
    "ExecuteTime": {
     "end_time": "2021-08-09T03:43:12.315223Z",
     "start_time": "2021-08-09T03:43:12.287297Z"
    }
   },
   "outputs": [
    {
     "data": {
      "text/plain": [
       "adm0_name                 0\n",
       "adm1_name                 0\n",
       "mkt_name                  0\n",
       "cm_name                   0\n",
       "cur_name                  0\n",
       "pt_name                   0\n",
       "um_name                   0\n",
       "mp_month                  0\n",
       "mp_year                   0\n",
       "mp_price                  0\n",
       "mp_commoditysource    33183\n",
       "characteristics       10243\n",
       "dtype: int64"
      ]
     },
     "execution_count": 23,
     "metadata": {},
     "output_type": "execute_result"
    }
   ],
   "source": [
    "ph_df.isnull().sum()"
   ]
  },
  {
   "cell_type": "markdown",
   "id": "refined-myrtle",
   "metadata": {},
   "source": [
    "It can be seen that all values in mp_commoditysource is null so it will be dropped"
   ]
  },
  {
   "cell_type": "code",
   "execution_count": 24,
   "id": "adjacent-apple",
   "metadata": {
    "ExecuteTime": {
     "end_time": "2021-08-09T03:43:12.346142Z",
     "start_time": "2021-08-09T03:43:12.317216Z"
    }
   },
   "outputs": [],
   "source": [
    "ph_df = ph_df.drop('mp_commoditysource', axis=1)"
   ]
  },
  {
   "cell_type": "markdown",
   "id": "promising-exhibition",
   "metadata": {},
   "source": [
    "## Set the correct datatype per column"
   ]
  },
  {
   "cell_type": "code",
   "execution_count": 25,
   "id": "broke-canada",
   "metadata": {
    "ExecuteTime": {
     "end_time": "2021-08-09T03:43:12.362154Z",
     "start_time": "2021-08-09T03:43:12.349132Z"
    }
   },
   "outputs": [
    {
     "data": {
      "text/plain": [
       "adm0_name           object\n",
       "adm1_name           object\n",
       "mkt_name            object\n",
       "cm_name             object\n",
       "cur_name            object\n",
       "pt_name             object\n",
       "um_name             object\n",
       "mp_month             int64\n",
       "mp_year              int64\n",
       "mp_price           float64\n",
       "characteristics     object\n",
       "dtype: object"
      ]
     },
     "execution_count": 25,
     "metadata": {},
     "output_type": "execute_result"
    }
   ],
   "source": [
    "ph_df.dtypes"
   ]
  },
  {
   "cell_type": "markdown",
   "id": "coastal-scale",
   "metadata": {},
   "source": [
    "# Exploratory Data Analysis\n",
    "In this section of the notebook, you must fulfill the following:\n",
    "- Identify 3 interesting exploratory data analysis questions.Properly state the questions in the notebook.\n",
    "- Answer the EDA questionsusing both:\n",
    "    - Numerical Summaries – measures of central tendency, measures of dispersion, and correlation\n",
    "    - Visualization – Appropriate  visualization should be used. Each visualization should be accompanied by a brief explanation.\n",
    "- To emphasize, both numerical summary and visualization should be present to answer each question. The whole process should be supported withverbose textual descriptions of your proceduresand findings."
   ]
  },
  {
   "cell_type": "markdown",
   "id": "spoken-religion",
   "metadata": {},
   "source": [
    "## 1) What is the measure of central tendency?"
   ]
  },
  {
   "cell_type": "code",
   "execution_count": 27,
   "id": "weird-article",
   "metadata": {
    "ExecuteTime": {
     "end_time": "2021-08-09T03:43:12.408034Z",
     "start_time": "2021-08-09T03:43:12.399055Z"
    }
   },
   "outputs": [
    {
     "data": {
      "text/plain": [
       "mean      71.334089\n",
       "median    47.080000\n",
       "Name: mp_price, dtype: float64"
      ]
     },
     "execution_count": 27,
     "metadata": {},
     "output_type": "execute_result"
    }
   ],
   "source": [
    "ph_df_mean_median_mode = ph_df['mp_price'].agg(['mean', 'median'])\n",
    "ph_df_mean_median_mode"
   ]
  },
  {
   "cell_type": "markdown",
   "id": "robust-immune",
   "metadata": {
    "ExecuteTime": {
     "end_time": "2021-08-03T11:14:49.439669Z",
     "start_time": "2021-08-03T11:14:49.397106Z"
    }
   },
   "source": [
    "It can be seen that the price has a population mean of **71.33** while the population median is **47.08**"
   ]
  },
  {
   "cell_type": "markdown",
   "id": "confidential-correction",
   "metadata": {},
   "source": [
    "## 2) What is the measure of dispersion?"
   ]
  },
  {
   "cell_type": "code",
   "execution_count": 28,
   "id": "operating-joshua",
   "metadata": {
    "ExecuteTime": {
     "end_time": "2021-08-09T03:43:12.438947Z",
     "start_time": "2021-08-09T03:43:12.412021Z"
    }
   },
   "outputs": [
    {
     "name": "stdout",
     "output_type": "stream",
     "text": [
      "Range: 592.84\n",
      "Interquartile Range: 73.75\n"
     ]
    },
    {
     "data": {
      "text/plain": [
       "std      59.959815\n",
       "var    3595.179441\n",
       "Name: mp_price, dtype: float64"
      ]
     },
     "execution_count": 28,
     "metadata": {},
     "output_type": "execute_result"
    }
   ],
   "source": [
    "max_price, min_price = (ph_df['mp_price'].max(), ph_df['mp_price'].min())\n",
    "q3, q1 = np.percentile(ph_df['mp_price'], [75, 25])\n",
    "ph_df_var_std = ph_df['mp_price'].agg({'var', 'std'})\n",
    "print('Range: %.2f' % (max_price - min_price))\n",
    "print('Interquartile Range: %.2f' % (q3 - q1))\n",
    "ph_df_var_std"
   ]
  },
  {
   "cell_type": "markdown",
   "id": "harmful-breast",
   "metadata": {},
   "source": [
    "It can be seen that the range is **592.84** which is significantly bigger than the interquartile range **73.75**. Then the variance is **3595.18** while the std is **59.96**"
   ]
  },
  {
   "cell_type": "markdown",
   "id": "devoted-party",
   "metadata": {},
   "source": [
    "## 3) What does the distribution look like?"
   ]
  },
  {
   "cell_type": "markdown",
   "id": "foster-brother",
   "metadata": {},
   "source": [
    "### Histogram of the Prices"
   ]
  },
  {
   "cell_type": "code",
   "execution_count": 29,
   "id": "earned-clarity",
   "metadata": {
    "ExecuteTime": {
     "end_time": "2021-08-09T03:43:12.780069Z",
     "start_time": "2021-08-09T03:43:12.441943Z"
    }
   },
   "outputs": [
    {
     "data": {
      "text/plain": [
       "<AxesSubplot:xlabel='mp_price', ylabel='Count'>"
      ]
     },
     "execution_count": 29,
     "metadata": {},
     "output_type": "execute_result"
    },
    {
     "data": {
      "image/png": "[encoded data removed]",
      "text/plain": [
       "<Figure size 576x288 with 1 Axes>"
      ]
     },
     "metadata": {
      "needs_background": "light"
     },
     "output_type": "display_data"
    }
   ],
   "source": [
    "plt.figure(figsize=(8, 4))\n",
    "sns.histplot(data=ph_df, x='mp_price', bins=50)"
   ]
  },
  {
   "cell_type": "markdown",
   "id": "incorporate-estonia",
   "metadata": {},
   "source": [
    "It can be seen in the histogram, the distribution is positively-skewed"
   ]
  },
  {
   "cell_type": "markdown",
   "id": "legislative-massage",
   "metadata": {},
   "source": [
    "### Boxplot of each Food"
   ]
  },
  {
   "cell_type": "code",
   "execution_count": 30,
   "id": "perfect-express",
   "metadata": {
    "ExecuteTime": {
     "end_time": "2021-08-09T03:43:13.203961Z",
     "start_time": "2021-08-09T03:43:12.783028Z"
    }
   },
   "outputs": [
    {
     "data": {
      "text/plain": [
       "(array([ 0,  1,  2,  3,  4,  5,  6,  7,  8,  9, 10, 11, 12, 13]),\n",
       " [Text(0, 0, 'Beans'),\n",
       "  Text(1, 0, 'Cabbage'),\n",
       "  Text(2, 0, 'Carrots'),\n",
       "  Text(3, 0, 'Eggs'),\n",
       "  Text(4, 0, 'Fish'),\n",
       "  Text(5, 0, 'Garlic'),\n",
       "  Text(6, 0, 'Groundnuts'),\n",
       "  Text(7, 0, 'Maize'),\n",
       "  Text(8, 0, 'Meat'),\n",
       "  Text(9, 0, 'Onions'),\n",
       "  Text(10, 0, 'Potatoes'),\n",
       "  Text(11, 0, 'Rice'),\n",
       "  Text(12, 0, 'Sweet potatoes'),\n",
       "  Text(13, 0, 'Tomatoes')])"
      ]
     },
     "execution_count": 30,
     "metadata": {},
     "output_type": "execute_result"
    },
    {
     "data": {
      "image/png": "[encoded data removed]",
      "text/plain": [
       "<Figure size 864x576 with 1 Axes>"
      ]
     },
     "metadata": {
      "needs_background": "light"
     },
     "output_type": "display_data"
    }
   ],
   "source": [
    "plt.figure(figsize=(12, 8))\n",
    "sns.boxplot(data=ph_df, x='cm_name', y='mp_price')\n",
    "plt.xticks(rotation=45)"
   ]
  },
  {
   "cell_type": "markdown",
   "id": "aware-position",
   "metadata": {},
   "source": [
    "It can be seen in the boxplot the there are a lot of outliers for the prices of most foods except for maize and rice."
   ]
  },
  {
   "cell_type": "markdown",
   "id": "assigned-discharge",
   "metadata": {},
   "source": [
    "# Research Question\n",
    "Come up with research questions to answer using the dataset.The research questions should arise from the exploratory data analysis.\n",
    "- The first research question should be answerable by performing statistical inference on means.\n",
    "- The second research question should be answerable by performing statistical inference on categorical data.\n",
    "- The research questions should be within the scope of the dataset.\n",
    "- For each research question, you must indicate its importance and significance to the community."
   ]
  },
  {
   "cell_type": "markdown",
   "id": "fundamental-cathedral",
   "metadata": {},
   "source": [
    "## 1) Is there a significant difference between the food prices of rural and urban areas? \n",
    "\n",
    "Pricing is one of the most important factors people look at before buying food. This is much more important in areas where the average amount of money buyers have to budget for food is lower than more developed cities/areas. With this research question, we want to see which areas in the rural and urban areas have higher/lower prices in every type of food in the records available. To do this, we need to condense every city that is considered as a rural or an urban city and combine their means to represent the urban or rural side.\n",
    "\n",
    "We will be binning these areas based on their city type. In order to group them together we researched the population density and the category of all the barangays of every area under the mkt_name field and checked if any source considered them to be urban or rural.\n",
    "\n",
    "\n",
    "The following data for these cities will be classified as \"Urban\": Manila, Davao City, Cebu City, La Trinidad, Puerto Princesa, Santa Cruz, Tuguegarao, Legazpi, Iloilo City and Zamboanga City.\n",
    "\n",
    "The following data for these cities will be under \"Rural\": Lingayen, Catarman, Shariff Aguak, Tubod, Koronadal, Palayan and Tandag.\n"
   ]
  },
  {
   "cell_type": "markdown",
   "id": "sweet-humanity",
   "metadata": {},
   "source": [
    "## 2) Is there a difference in prices on the same products with different characteristics?\n",
    "\n",
    "Despite the availability of food almost everywhere, pricing is not the only factor consumers look at when buying commodities. For the case of rice, there exists multiple types of rice: black rice, red rice, white rice, brown rice, etc. and their preferences may vary. We formulated this research question to see which commodity differed in pricing based on their characteristics. \n",
    "\n",
    "To do this, we need to find which commodity posseses multiple characteristics, then we will separate these commodities to use for our hypothesis testing."
   ]
  },
  {
   "cell_type": "markdown",
   "id": "absent-salem",
   "metadata": {},
   "source": [
    "# Statistical Inference\n",
    "In this section of the notebook, please take note of the following:\n",
    "- If needed, you may perform preprocessing techniques to transform the data to the appropriate representation before performing statistical inference to answer the research question. This may include binning, log transformations, conversion to one-hot encoding, normalization, standardization, interpolation, truncation, and feature engineering. You may also need to check and prove if the data is from a normal distribution to perform some statistical inference techniques.\n",
    "- The techniques used to answer the research questionare limited to statistical inference methods discussed in class. \n",
    "- The technique that you will apply should be appropriate to answer the research question."
   ]
  },
  {
   "cell_type": "markdown",
   "id": "crude-ethics",
   "metadata": {},
   "source": [
    "## 1.) Is there a significant difference between the food prices of rural and urban areas? "
   ]
  },
  {
   "cell_type": "code",
   "execution_count": 31,
   "id": "prescribed-architecture",
   "metadata": {
    "ExecuteTime": {
     "end_time": "2021-08-09T03:43:13.251807Z",
     "start_time": "2021-08-09T03:43:13.205902Z"
    }
   },
   "outputs": [
    {
     "name": "stdout",
     "output_type": "stream",
     "text": [
      "['Rice', 'Sweet potatoes', 'Eggs', 'Garlic', 'Onions', 'Tomatoes', 'Groundnuts', 'Meat', 'Potatoes', 'Carrots', 'Cabbage', 'Beans', 'Fish', 'Maize']\n",
      "['Rice', 'Sweet potatoes', 'Eggs', 'Garlic', 'Onions', 'Tomatoes', 'Groundnuts', 'Meat', 'Potatoes', 'Carrots', 'Cabbage', 'Beans', 'Fish', 'Maize']\n",
      "228239\n",
      "136774\n",
      "365013\n"
     ]
    }
   ],
   "source": [
    "urban_cities = ['Manila', 'Davao City', 'Cebu City', 'La Trinidad', 'Puerto Princesa', 'Santa Cruz', 'Tuguegarao', 'Legazpi', 'Iloilo City', 'Zamboanga City']\n",
    "rural_cities = ['Lingayen', 'Catarman', 'Shariff Aguak', 'Tubod', 'Koronadal', 'Palayan', 'Tandag']\n",
    "\n",
    "urban_df = ph_df[ph_df['mkt_name'].apply(lambda x: x in urban_cities)]\n",
    "rural_df = ph_df[ph_df['mkt_name'].apply(lambda x: x in rural_cities)]\n",
    "\n",
    "print(urban_df[\"cm_name\"].unique().tolist() )\n",
    "print(rural_df[\"cm_name\"].unique().tolist() )\n",
    "\n",
    "urban_df_mean = urban_df.agg({\"mp_price\": [\"mean\", \"std\"]})\n",
    "rural_df_mean = rural_df.agg ({\"mp_price\": [\"mean\", \"std\"]})\n",
    "\n",
    "print (urban_df.size)\n",
    "print(rural_df.size)\n",
    "print(ph_df.size)"
   ]
  },
  {
   "cell_type": "markdown",
   "id": "herbal-angle",
   "metadata": {},
   "source": [
    "### T-Test\n",
    "\n",
    "$H_{0}$ : 𝜇 = 0\n",
    "\n",
    "$H_{A}$ : 𝜇 ≠ 0\n",
    "\n",
    "Null Hypothesis: `There is no difference between the average prices in urban areas and the average prices in rural areas.`  \n",
    "Alternative Hypothesis: `There is a difference between the average prices in urban areas and the average prices in rural areas.`\n",
    "\n",
    "To find our results, we need to perform a two tailed T-test on the unpaired observations because the number of samples for food prices in urban cities and rural cities are not equal.\n",
    "\n",
    "|   |Urban Cities   | Rural Cities  |  \n",
    "|---|---|---|\n",
    "|  Mean | 71.301756  | 71.388046  |  \n",
    "| Standard Deviation  |  60.593852 | 58.888960  |   \n",
    "|  Sample Size | 228239  | 136774  |  \n",
    "\n",
    "\n",
    "$$T-score = \\frac{(71.388-71.302)-0}{\\sqrt{\\frac{(60.594)^{2}}{228239}+\\frac{(58.889)^{2}}{136774}}}$$\n",
    "\n",
    "$$T-score = 0.422$$\n",
    "\n",
    "After computing for the p-value using the t-score of 0.422 and degrees of freedom at 365011, we calculated that the p value is 0.673025.\n",
    "\n",
    "This means that the p-value is not significant at all significance levels (0.01, 0.05, 0.1) which entails that we fail to reject the null hypothesis at all significance levels. Our conlucion for this T-test is that there is in fact no difference between the price in Urban cities and Rural cities."
   ]
  },
  {
   "cell_type": "markdown",
   "id": "agreed-viewer",
   "metadata": {},
   "source": [
    "## 2.) Is there a difference in prices on the same products with different characteristics?"
   ]
  },
  {
   "cell_type": "code",
   "execution_count": 32,
   "id": "simple-bulletin",
   "metadata": {
    "ExecuteTime": {
     "end_time": "2021-08-09T03:43:13.314606Z",
     "start_time": "2021-08-09T03:43:13.253769Z"
    }
   },
   "outputs": [
    {
     "name": "stdout",
     "output_type": "stream",
     "text": [
      "F-score for rice:  1048.8758452238424\n",
      "P-value for rice:  0.0\n",
      "F-score for meat:  1269.2279121629424\n",
      "P-value for meat:  0.0\n"
     ]
    }
   ],
   "source": [
    "food_names = ph_df[\"cm_name\"].unique().tolist()\n",
    "\n",
    "df_holder = []\n",
    "rice_prices = []\n",
    "meat_prices = []\n",
    "\n",
    "for food in food_names:\n",
    "    if (food == \"Rice\"):\n",
    "        rice_chars = ph_df.loc[ph_df[\"cm_name\"]==food][\"characteristics\"].unique().tolist()\n",
    "        for char in rice_chars:\n",
    "            char_df = ph_df[ph_df[\"characteristics\"] == char]\n",
    "            rice_prices.append(char_df['mp_price'].tolist())\n",
    "    elif (food == \"Meat\"): \n",
    "        meat_chars = ph_df.loc[ph_df[\"cm_name\"]==food][\"characteristics\"].unique().tolist()\n",
    "        for char in meat_chars:\n",
    "            char_df = ph_df[ph_df[\"characteristics\"] == char]\n",
    "            meat_prices.append(char_df['mp_price'].tolist())\n",
    "    else: \n",
    "        \n",
    "        if(len(ph_df.loc[ph_df[\"cm_name\"]==food][\"characteristics\"].unique().tolist()) > 1):\n",
    "            #print (food)\n",
    "            record_mean = ph_df[ph_df[\"cm_name\"]==food].groupby(\"characteristics\").agg({\"mp_price\": [\"mean\", \"std\", \"size\"]})\n",
    "            df_holder.append(record_mean)\n",
    "\n",
    "F_rice, p_rice = f_oneway(rice_prices[0], rice_prices[1], rice_prices[2])\n",
    "print ('F-score for rice: ', F_rice)\n",
    "print (\"P-value for rice: \" , p_rice)\n",
    "F_meat, p_meat = f_oneway(meat_prices[0], meat_prices[1], meat_prices[2])\n",
    "print (\"F-score for meat: \", F_meat)\n",
    "print (\"P-value for meat: \", p_meat)\n",
    "\n",
    "#print (df_holder)\n",
    "#print (rice_chars)\n",
    "#print (meat_chars)\n",
    "        "
   ]
  },
  {
   "cell_type": "markdown",
   "id": "subtle-india",
   "metadata": {},
   "source": [
    "### ANOVA Testing\n",
    "\n",
    "Null Hypothesis: `There is no difference between the average prices of different types of rice.`  \n",
    "Alternative Hypothesis: `There is a difference between the average prices of different types of rice.`\n",
    "\n",
    "$H_{0}$ : $\\mu_{p}$ = $\\mu_{rm}$ = $\\mu_{ms}$\n",
    "\n",
    "$H_{A}$ : At least one of the means vary\n",
    "\n",
    "Null Hypothesis: `There is no difference between the average prices of different types of meats.`  \n",
    "Alternative Hypothesis: `There is a difference between the average prices of different types of meats.`\n",
    "\n",
    "$H_{0}$ : $\\mu_{b}$ = $\\mu_{c}$ = $\\mu_{p}$\n",
    "\n",
    "$H_{A}$ : At least one of the means vary\n",
    "\n",
    "\n",
    "\n",
    "For meats and rice, which have more than 2 characteristics, we had to perform a one-way Anova test which we did on code using scipy's f_oneway function. It revealed that on both tests, we recieved a large F-score and a p-value of 0.0.\n",
    "\n",
    "For the price of rice, the F-score was computed to be 1048.88 and the p-value is 0.0.\n",
    "For the price of meats, the F-score was computed to be 1269.23 and the p-value is 0.0.\n",
    "\n",
    "This means that on all significance levels, the p-value of 0.0 is not significant and therefore we reject the null hypothesis. This entails that there is at least one group of characteristics on both meats and rice that deviates from the other groups.\n",
    "\n",
    "<br><br>\n",
    "\n",
    "### T-Test\n",
    "\n",
    "To find our results for the foods with only 2 characteristics, we need to perform a two tailed T-test on the unpaired observations because the number of samples for the food prices are not equal. The following tables are the data for the mean and standard dev for the remaining food that will be compared.\n",
    "\n",
    "<br>\n",
    "\n",
    "$H_{0}$ : 𝜇 = 0\n",
    "\n",
    "$H_{A}$ : 𝜇 ≠ 0\n",
    "\n",
    "Null Hypothesis: `There is no difference between the average prices of red and white Onions.`  \n",
    "Alternative Hypothesis: `There is a difference between the average prices of red and white Onions.`\n",
    "\n",
    "|   |Red Onions   | White Onions  |  \n",
    "|---|---|---|\n",
    "|  Mean | 77.812066  | 70.157368  |  \n",
    "| Standard Deviation  |  21.241765 | 19.446176  |   \n",
    "|  Sample Size | 1801  | 1379  |  \n",
    "\n",
    " <br>\n",
    "\n",
    " $$T-score = \\frac{(77.812066-70.157368)-0}{\\sqrt{\\frac{(21.241765)^{2}}{1801}+\\frac{(19.446176)^{2}}{1379}}}$$\n",
    "\n",
    "$$T-score = 10.56$$\n",
    "\n",
    "<br>\n",
    "\n",
    "After computing for the p-value using the t-score of 10.56 and degrees of freedom at 3178, we calculated that the p value is 0.00001.\n",
    "\n",
    "This means that the p-value is significant at all significance levels (0.01, 0.05, 0.1) which entails that we reject the null hypothesis at all significance levels. Our conlucion for this T-test is that there is a difference between the price of Red and White Onions.\n",
    "\n",
    "<br>\n",
    "\n",
    "$H_{0}$ : 𝜇 = 0\n",
    "\n",
    "$H_{A}$ : 𝜇 ≠ 0\n",
    "\n",
    "Null Hypothesis: `There is no difference between the average prices of white and yellow Maize flour.`  \n",
    "Alternative Hypothesis: `There is a difference between the average prices of white and yellow Maize flour.`\n",
    "\n",
    "\n",
    "|   |White Maize Flour   | Yellow Maize Flour  |  \n",
    "|---|---|---|\n",
    "|  Mean | 22.565042  | 20.928437  |  \n",
    "| Standard Deviation  |  7.050490 | 6.295231 |   \n",
    "|  Sample Size | 946  | 691  |  \n",
    "\n",
    " <br>\n",
    "\n",
    "  $$T-score = \\frac{(22.565042-20.928437)-0}{\\sqrt{\\frac{(7.050490)^{2}}{946}+\\frac{(6.295231)^{2}}{691}}}$$\n",
    "\n",
    "  $$T-score = 4.95$$\n",
    "\n",
    "<br>\n",
    "\n",
    "After computing for the p-value using the t-score of 4.95 and degrees of freedom at 1635, we calculated that the p value is 0.00001.\n",
    "\n",
    "This means that the p-value is significant at all significance levels (0.01, 0.05, 0.1) which entails that we reject the null hypothesis at all significance levels. Our conlucion for this T-test is that there is a difference between the prices of white and yellow Maize Flour.\n",
    "\n",
    "<br>\n",
    "\n",
    "$H_{0}$ : 𝜇 = 0\n",
    "\n",
    "$H_{A}$ : 𝜇 ≠ 0\n",
    "\n",
    "Null Hypothesis: `There is no difference between the average prices of white and yellow Maize.`  \n",
    "Alternative Hypothesis: `There is a difference between the average prices of white and yellow Maize.`\n",
    "\n",
    "\n",
    "|   |White Maize   | Yellow Maize  |  \n",
    "|---|---|---|\n",
    "|  Mean | 12.454573  | 11.024832  |  \n",
    "| Standard Deviation  |  3.465861 | 2.782719 |   \n",
    "|  Sample Size | 234  | 238  |  \n",
    "\n",
    "<br>\n",
    "\n",
    "$$T-score = \\frac{(12.454573-11.024832)-0}{\\sqrt{\\frac{(3.465861)^{2}}{234}+\\frac{(2.782719)^{2}}{238}}}$$\n",
    "\n",
    "$$T-score = 4.94$$\n",
    "\n",
    "<br>\n",
    "\n",
    "After computing for the p-value using the t-score of 4.94 and degrees of freedom at 470, we calculated that the p value is 0.00001.\n",
    "\n",
    "This means that the p-value is significant at all significance levels (0.01, 0.05, 0.1) which entails that we reject the null hypothesis at all significance levels. Our conlucion for this T-test is that there is a difference between the prices of white and yellow Maize.\n",
    "\n",
    "\n",
    "\n",
    "\n",
    "\n",
    "\n",
    "\n",
    "\n",
    "\n",
    "\n"
   ]
  },
  {
   "cell_type": "markdown",
   "id": "prime-comment",
   "metadata": {},
   "source": [
    "# Insights and Conclusions\n",
    "Clearly  state  your  insights  and  conclusions  from  the  data  to  answer  each  research question you have defined. Make sure that all conclusions are backed up with statistical evidence."
   ]
  },
  {
   "cell_type": "markdown",
   "id": "remarkable-nigeria",
   "metadata": {},
   "source": [
    "# Sources:\n",
    "\n",
    "1.) https://puertoprincesa.ph/?q=about-our-city/location-and-land-area\n",
    "\n",
    "2.) http://latrinidad.gov.ph/wp-content/uploads/2015/09/La-Trinidad-Socio-Economic-Profile-2015.pdf\n",
    "\n",
    "3.) https://www.philatlas.com/luzon/mimaropa/puerto-princesa.html\n",
    "\n",
    "4.) https://www.kaggle.com/salehahmedrony/global-food-prices  \n",
    "\n",
    "5.) https://data.humdata.org/dataset/wfp-food-prices/resource/12d7c8e3-eff9-4db0-93b7-726825c4fe9a?view_id=e376992d-0263-454c-acfc-e44fe3ca4bb6"
   ]
  },
  {
   "cell_type": "code",
   "execution_count": null,
   "id": "protecting-kuwait",
   "metadata": {},
   "outputs": [],
   "source": []
  }
 ],
 "metadata": {
  "interpreter": {
   "hash": "3e425f57de0e56b24665ad0a5d21ea0b5bd11c4dfd6c4687c51beadbc39e62ec"
  },
  "kernelspec": {
   "display_name": "Python 3",
   "language": "python",
   "name": "python3"
  },
  "language_info": {
   "codemirror_mode": {
    "name": "ipython",
    "version": 3
   },
   "file_extension": ".py",
   "mimetype": "text/x-python",
   "name": "python",
   "nbconvert_exporter": "python",
   "pygments_lexer": "ipython3",
   "version": "3.9.2"
  },
  "toc": {
   "base_numbering": 1,
   "nav_menu": {},
   "number_sections": true,
   "sideBar": true,
   "skip_h1_title": false,
   "title_cell": "Table of Contents",
   "title_sidebar": "Contents",
   "toc_cell": false,
   "toc_position": {
    "height": "calc(100% - 180px)",
    "left": "10px",
    "top": "150px",
    "width": "320px"
   },
   "toc_section_display": true,
   "toc_window_display": true
  }
 },
 "nbformat": 4,
 "nbformat_minor": 5
}
