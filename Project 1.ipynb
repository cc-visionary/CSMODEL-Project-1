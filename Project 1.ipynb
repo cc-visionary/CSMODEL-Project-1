{
 "cells": [
  {
   "cell_type": "code",
   "execution_count": 1,
   "id": "dying-midwest",
   "metadata": {
    "ExecuteTime": {
     "end_time": "2021-07-13T11:45:20.206097Z",
     "start_time": "2021-07-13T11:45:09.928944Z"
    }
   },
   "outputs": [],
   "source": [
    "import pandas as pd\n",
    "import numpy as np\n",
    "import matplotlib.pyplot as plt\n",
    "import seaborn as sns"
   ]
  },
  {
   "cell_type": "markdown",
   "id": "thirty-parish",
   "metadata": {},
   "source": [
    "## Dataset Representation\n",
    "### CSMODELT3AY2021In this section of the notebook, you must fulfill the following:\n",
    "- State a brief description of the dataset.\n",
    "- Provide  a  description  of  the  collection  process  executed  to  build  the  dataset. Discuss  the  implications  of  the  data  collection  method  on  the  generated conclusions and insights. Note that you may need to look at the relevant sources related to the dataset to be able to provide the necessary information for this part of the project.\n",
    "- Describe the structure of the dataset file. In the dataset file, what does each row and  column  represent?  How many observations  are  there  in  the  dataset? How many variables are there in the dataset? If thedataset is composed of different files  that  you  will  combine  in  the  succeeding  steps,  you  need  to  describe  the structure and the contents of each file.\n",
    "- Discuss the variables in each dataset file. What does each variable represent? In this section, all variables, even those which are not used for the study, should be described to the reader. The purpose of each variable in the dataset should be clear to the reader of the notebook without having to go through an external link."
   ]
  },
  {
   "cell_type": "markdown",
   "id": "boolean-labor",
   "metadata": {},
   "source": [
    "### Brief Description of the Dataset\n",
    "The dataset contains 30 years (1990-2020) worth of data collected by the World Food Programme (WFP) from 99 different countries which contains the Global Food Prices. The data includes information on country, city, market, price of good in local currency, quantity of good, and month and year recorded."
   ]
  },
  {
   "cell_type": "markdown",
   "id": "cross-defense",
   "metadata": {},
   "source": [
    "### Collection Process\n",
    "** insert here **"
   ]
  },
  {
   "cell_type": "markdown",
   "id": "unlike-holmes",
   "metadata": {},
   "source": [
    "Source: https://www.kaggle.com/salehahmedrony/global-food-prices"
   ]
  },
  {
   "cell_type": "code",
   "execution_count": 2,
   "id": "answering-diana",
   "metadata": {
    "ExecuteTime": {
     "end_time": "2021-07-13T11:46:48.031191Z",
     "start_time": "2021-07-13T11:46:43.953728Z"
    }
   },
   "outputs": [
    {
     "name": "stderr",
     "output_type": "stream",
     "text": [
      "c:\\users\\chris\\appdata\\local\\programs\\python\\python39\\lib\\site-packages\\IPython\\core\\interactiveshell.py:3165: DtypeWarning: Columns (3) have mixed types.Specify dtype option on import or set low_memory=False.\n",
      "  has_raised = await self.run_ast_nodes(code_ast.body, cell_name,\n"
     ]
    }
   ],
   "source": [
    "df = pd.read_csv('wfp_food_prices_database.csv')"
   ]
  },
  {
   "cell_type": "code",
   "execution_count": 3,
   "id": "textile-shark",
   "metadata": {
    "ExecuteTime": {
     "end_time": "2021-07-13T11:46:48.140928Z",
     "start_time": "2021-07-13T11:46:48.033202Z"
    }
   },
   "outputs": [
    {
     "data": {
      "text/html": [
       "<div>\n",
       "<style scoped>\n",
       "    .dataframe tbody tr th:only-of-type {\n",
       "        vertical-align: middle;\n",
       "    }\n",
       "\n",
       "    .dataframe tbody tr th {\n",
       "        vertical-align: top;\n",
       "    }\n",
       "\n",
       "    .dataframe thead th {\n",
       "        text-align: right;\n",
       "    }\n",
       "</style>\n",
       "<table border=\"1\" class=\"dataframe\">\n",
       "  <thead>\n",
       "    <tr style=\"text-align: right;\">\n",
       "      <th></th>\n",
       "      <th>adm0_id</th>\n",
       "      <th>adm0_name</th>\n",
       "      <th>adm1_id</th>\n",
       "      <th>adm1_name</th>\n",
       "      <th>mkt_id</th>\n",
       "      <th>mkt_name</th>\n",
       "      <th>cm_id</th>\n",
       "      <th>cm_name</th>\n",
       "      <th>cur_id</th>\n",
       "      <th>cur_name</th>\n",
       "      <th>pt_id</th>\n",
       "      <th>pt_name</th>\n",
       "      <th>um_id</th>\n",
       "      <th>um_name</th>\n",
       "      <th>mp_month</th>\n",
       "      <th>mp_year</th>\n",
       "      <th>mp_price</th>\n",
       "      <th>mp_commoditysource</th>\n",
       "    </tr>\n",
       "  </thead>\n",
       "  <tbody>\n",
       "    <tr>\n",
       "      <th>0</th>\n",
       "      <td>1.0</td>\n",
       "      <td>Afghanistan</td>\n",
       "      <td>272</td>\n",
       "      <td>Badakhshan</td>\n",
       "      <td>266</td>\n",
       "      <td>Fayzabad</td>\n",
       "      <td>55</td>\n",
       "      <td>Bread - Retail</td>\n",
       "      <td>0.0</td>\n",
       "      <td>AFN</td>\n",
       "      <td>15</td>\n",
       "      <td>Retail</td>\n",
       "      <td>5</td>\n",
       "      <td>KG</td>\n",
       "      <td>1</td>\n",
       "      <td>2014</td>\n",
       "      <td>50.0</td>\n",
       "      <td>NaN</td>\n",
       "    </tr>\n",
       "    <tr>\n",
       "      <th>1</th>\n",
       "      <td>1.0</td>\n",
       "      <td>Afghanistan</td>\n",
       "      <td>272</td>\n",
       "      <td>Badakhshan</td>\n",
       "      <td>266</td>\n",
       "      <td>Fayzabad</td>\n",
       "      <td>55</td>\n",
       "      <td>Bread - Retail</td>\n",
       "      <td>0.0</td>\n",
       "      <td>AFN</td>\n",
       "      <td>15</td>\n",
       "      <td>Retail</td>\n",
       "      <td>5</td>\n",
       "      <td>KG</td>\n",
       "      <td>2</td>\n",
       "      <td>2014</td>\n",
       "      <td>50.0</td>\n",
       "      <td>NaN</td>\n",
       "    </tr>\n",
       "    <tr>\n",
       "      <th>2</th>\n",
       "      <td>1.0</td>\n",
       "      <td>Afghanistan</td>\n",
       "      <td>272</td>\n",
       "      <td>Badakhshan</td>\n",
       "      <td>266</td>\n",
       "      <td>Fayzabad</td>\n",
       "      <td>55</td>\n",
       "      <td>Bread - Retail</td>\n",
       "      <td>0.0</td>\n",
       "      <td>AFN</td>\n",
       "      <td>15</td>\n",
       "      <td>Retail</td>\n",
       "      <td>5</td>\n",
       "      <td>KG</td>\n",
       "      <td>3</td>\n",
       "      <td>2014</td>\n",
       "      <td>50.0</td>\n",
       "      <td>NaN</td>\n",
       "    </tr>\n",
       "    <tr>\n",
       "      <th>3</th>\n",
       "      <td>1.0</td>\n",
       "      <td>Afghanistan</td>\n",
       "      <td>272</td>\n",
       "      <td>Badakhshan</td>\n",
       "      <td>266</td>\n",
       "      <td>Fayzabad</td>\n",
       "      <td>55</td>\n",
       "      <td>Bread - Retail</td>\n",
       "      <td>0.0</td>\n",
       "      <td>AFN</td>\n",
       "      <td>15</td>\n",
       "      <td>Retail</td>\n",
       "      <td>5</td>\n",
       "      <td>KG</td>\n",
       "      <td>4</td>\n",
       "      <td>2014</td>\n",
       "      <td>50.0</td>\n",
       "      <td>NaN</td>\n",
       "    </tr>\n",
       "    <tr>\n",
       "      <th>4</th>\n",
       "      <td>1.0</td>\n",
       "      <td>Afghanistan</td>\n",
       "      <td>272</td>\n",
       "      <td>Badakhshan</td>\n",
       "      <td>266</td>\n",
       "      <td>Fayzabad</td>\n",
       "      <td>55</td>\n",
       "      <td>Bread - Retail</td>\n",
       "      <td>0.0</td>\n",
       "      <td>AFN</td>\n",
       "      <td>15</td>\n",
       "      <td>Retail</td>\n",
       "      <td>5</td>\n",
       "      <td>KG</td>\n",
       "      <td>5</td>\n",
       "      <td>2014</td>\n",
       "      <td>50.0</td>\n",
       "      <td>NaN</td>\n",
       "    </tr>\n",
       "  </tbody>\n",
       "</table>\n",
       "</div>"
      ],
      "text/plain": [
       "   adm0_id    adm0_name  adm1_id   adm1_name  mkt_id  mkt_name  cm_id  \\\n",
       "0      1.0  Afghanistan      272  Badakhshan     266  Fayzabad     55   \n",
       "1      1.0  Afghanistan      272  Badakhshan     266  Fayzabad     55   \n",
       "2      1.0  Afghanistan      272  Badakhshan     266  Fayzabad     55   \n",
       "3      1.0  Afghanistan      272  Badakhshan     266  Fayzabad     55   \n",
       "4      1.0  Afghanistan      272  Badakhshan     266  Fayzabad     55   \n",
       "\n",
       "          cm_name  cur_id cur_name  pt_id pt_name  um_id um_name  mp_month  \\\n",
       "0  Bread - Retail     0.0      AFN     15  Retail      5      KG         1   \n",
       "1  Bread - Retail     0.0      AFN     15  Retail      5      KG         2   \n",
       "2  Bread - Retail     0.0      AFN     15  Retail      5      KG         3   \n",
       "3  Bread - Retail     0.0      AFN     15  Retail      5      KG         4   \n",
       "4  Bread - Retail     0.0      AFN     15  Retail      5      KG         5   \n",
       "\n",
       "   mp_year  mp_price  mp_commoditysource  \n",
       "0     2014      50.0                 NaN  \n",
       "1     2014      50.0                 NaN  \n",
       "2     2014      50.0                 NaN  \n",
       "3     2014      50.0                 NaN  \n",
       "4     2014      50.0                 NaN  "
      ]
     },
     "execution_count": 3,
     "metadata": {},
     "output_type": "execute_result"
    }
   ],
   "source": [
    "df.head()"
   ]
  },
  {
   "cell_type": "markdown",
   "id": "agricultural-estate",
   "metadata": {},
   "source": [
    "### Structure of the Dataset\n",
    "** insert here **"
   ]
  },
  {
   "cell_type": "code",
   "execution_count": 4,
   "id": "downtown-arnold",
   "metadata": {
    "ExecuteTime": {
     "end_time": "2021-07-13T11:46:57.536827Z",
     "start_time": "2021-07-13T11:46:57.526853Z"
    }
   },
   "outputs": [
    {
     "data": {
      "text/plain": [
       "Index(['adm0_id', 'adm0_name', 'adm1_id', 'adm1_name', 'mkt_id', 'mkt_name',\n",
       "       'cm_id', 'cm_name', 'cur_id', 'cur_name', 'pt_id', 'pt_name', 'um_id',\n",
       "       'um_name', 'mp_month', 'mp_year', 'mp_price', 'mp_commoditysource'],\n",
       "      dtype='object')"
      ]
     },
     "execution_count": 4,
     "metadata": {},
     "output_type": "execute_result"
    }
   ],
   "source": [
    "df.columns"
   ]
  },
  {
   "cell_type": "code",
   "execution_count": 8,
   "id": "efd3118c",
   "metadata": {
    "ExecuteTime": {
     "end_time": "2021-07-13T11:47:57.982354Z",
     "start_time": "2021-07-13T11:47:57.521807Z"
    }
   },
   "outputs": [
    {
     "name": "stdout",
     "output_type": "stream",
     "text": [
      "<class 'pandas.core.frame.DataFrame'>\n",
      "RangeIndex: 1560551 entries, 0 to 1560550\n",
      "Data columns (total 18 columns):\n",
      " #   Column              Non-Null Count    Dtype  \n",
      "---  ------              --------------    -----  \n",
      " 0   adm0_id             1560551 non-null  float64\n",
      " 1   adm0_name           1560551 non-null  object \n",
      " 2   adm1_id             1560551 non-null  int64  \n",
      " 3   adm1_name           1089223 non-null  object \n",
      " 4   mkt_id              1560551 non-null  int64  \n",
      " 5   mkt_name            1560551 non-null  object \n",
      " 6   cm_id               1560551 non-null  int64  \n",
      " 7   cm_name             1560551 non-null  object \n",
      " 8   cur_id              1560551 non-null  float64\n",
      " 9   cur_name            1560551 non-null  object \n",
      " 10  pt_id               1560551 non-null  int64  \n",
      " 11  pt_name             1560551 non-null  object \n",
      " 12  um_id               1560551 non-null  int64  \n",
      " 13  um_name             1560551 non-null  object \n",
      " 14  mp_month            1560551 non-null  int64  \n",
      " 15  mp_year             1560551 non-null  int64  \n",
      " 16  mp_price            1560551 non-null  float64\n",
      " 17  mp_commoditysource  0 non-null        float64\n",
      "dtypes: float64(4), int64(7), object(7)\n",
      "memory usage: 214.3+ MB\n"
     ]
    }
   ],
   "source": [
    "df.info()"
   ]
  },
  {
   "cell_type": "markdown",
   "id": "rural-clone",
   "metadata": {},
   "source": [
    "### Variables of the Dataset\n",
    "There are 18 unique variables in the dataset with 1560551 entries.\n",
    "The variables in the dataset are as follows:\n",
    "\n",
    "| Column Name        | Full Name                          | Definition        |\n",
    "| ------------------ | ---------                          | ----------------- |\n",
    "| adm0_id            | country id                         | ** insert here ** |\n",
    "| adm0_name          | country name                       | ** insert here ** |\n",
    "| adm1_id            | locality id                        | ** insert here ** |\n",
    "| adm1_name          | locality name                      | ** insert here ** |\n",
    "| mkt_id             | market id                          | ** insert here ** |\n",
    "| mkt_name           | market name                        | ** insert here ** |\n",
    "| cm_id              | commodity purchase id              | ** insert here ** |\n",
    "| cm_name            | commodity purchased                | ** insert here ** |\n",
    "| cur_id             | currency  id                       | ** insert here ** |\n",
    "| cur_name           | name of the currency               | ** insert here ** |\n",
    "| pt_id              | market type id                     | ** insert here ** |\n",
    "| pt_name            | market type                        | ** insert here ** |\n",
    "| um_id              | measurement id                     | ** insert here ** |\n",
    "| um_name            | unit of goods measurement          | ** insert here ** |\n",
    "| mp_month           | month recorded                     | ** insert here ** |\n",
    "| mp_year            | year recorded                      | ** insert here ** |\n",
    "| mp_price           | price paid                         | ** insert here ** |\n",
    "| mp_commoditysource | source supplying price information | ** insert here ** |"
   ]
  },
  {
   "cell_type": "markdown",
   "id": "grand-importance",
   "metadata": {},
   "source": [
    "## Data Cleaning\n",
    "For each used variable, check for the following and, if needed, perform data cleaning:\n",
    "- There are multiple representations of the same categorical value\n",
    "- The datatype of the variable is incorrect.\n",
    "- Some values are set to default values of the variable.\n",
    "- There are missing data.\n",
    "- There are duplicate data.\n",
    "- The formatting of the values is inconsistent.  \n",
    "\n",
    "**Note**: No need to clean all variables. Clean only the variables utilized in the study.\n",
    "\n",
    "**TODO**: \n",
    "- [ ] Remove the ID columns (since those are not needed)\n",
    "- [ ] Check for null values"
   ]
  },
  {
   "cell_type": "code",
   "execution_count": 55,
   "id": "roman-heather",
   "metadata": {},
   "outputs": [],
   "source": [
    "missingVars = df.columns[df.isnull().any()].tolist()"
   ]
  },
  {
   "cell_type": "code",
   "execution_count": 56,
   "id": "61f129f1",
   "metadata": {},
   "outputs": [
    {
     "data": {
      "text/plain": [
       "3751    False\n",
       "Name: Outdoor air pollution, dtype: bool"
      ]
     },
     "execution_count": 56,
     "metadata": {},
     "output_type": "execute_result"
    }
   ],
   "source": [
    "df.loc [df['High total cholesterol'].isnull(),'High total cholesterol'] == \"None\"\n",
    "df.loc [df['Outdoor air pollution'].isnull(),'Outdoor air pollution'] == \"None\""
   ]
  },
  {
   "cell_type": "code",
   "execution_count": 57,
   "id": "30bf8efb",
   "metadata": {},
   "outputs": [
    {
     "data": {
      "text/plain": [
       "(0,)"
      ]
     },
     "execution_count": 57,
     "metadata": {},
     "output_type": "execute_result"
    }
   ],
   "source": [
    "df.loc [df['High total cholesterol'] == \"None\", 'High total cholesterol'].shape"
   ]
  },
  {
   "cell_type": "markdown",
   "id": "noted-ministry",
   "metadata": {},
   "source": [
    "## Exploratory Data Analysis\n",
    "In this section of the notebook, you must fulfill the following:\n",
    "- Identify 3 interesting exploratory data analysis questions.Properly state the questions in the notebook.\n",
    "- Answer the EDA questionsusing both:\n",
    "    - Numerical Summaries – measures of central tendency, measures of dispersion, and correlation\n",
    "    - Visualization – Appropriate  visualization should be used. Each visualization should be accompanied by a brief explanation.\n",
    "- To emphasize, both numerical summary and visualization should be present to answer each question. The whole process should be supported withverbose textual descriptions of your proceduresand findings."
   ]
  },
  {
   "cell_type": "code",
   "execution_count": null,
   "id": "uniform-trinity",
   "metadata": {},
   "outputs": [],
   "source": []
  },
  {
   "cell_type": "markdown",
   "id": "functioning-messenger",
   "metadata": {},
   "source": [
    "## Research Question\n",
    "Come up with research questions to answer using the dataset.The research questions should arise from the exploratory data analysis.\n",
    "- The first research question should be answerable by performing statistical inference on means.\n",
    "- The second research question should be answerable by performing statistical inference on categorical data.\n",
    "- The research questions should be within the scope of the dataset.\n",
    "- For each research question, you must indicate its importance and significance to the community."
   ]
  },
  {
   "cell_type": "code",
   "execution_count": null,
   "id": "characteristic-traveler",
   "metadata": {},
   "outputs": [],
   "source": []
  },
  {
   "cell_type": "markdown",
   "id": "formed-polish",
   "metadata": {},
   "source": [
    "## Statistical Inference\n",
    "In this section of the notebook, please take note of the following:\n",
    "- If needed, you may perform preprocessing techniques to transform the data to the appropriate representation before performing statistical inference to answer the research question. This may include binning, log transformations, conversion to one-hot encoding, normalization, standardization, interpolation, truncation, and feature engineering. You may also need to check and prove if the data is from a normal distribution to perform some statistical inference techniques.\n",
    "- The techniques used to answer the research questionare limited to statistical inference methods discussed in class. \n",
    "- The technique that you will apply should be appropriate to answer the research question."
   ]
  },
  {
   "cell_type": "code",
   "execution_count": null,
   "id": "clear-asian",
   "metadata": {},
   "outputs": [],
   "source": []
  },
  {
   "cell_type": "markdown",
   "id": "material-there",
   "metadata": {},
   "source": [
    "## Insights and Conclusions\n",
    "Clearly  state  your  insights  and  conclusions  from  the  data  to  answer  each  research question you have defined. Make sure that all conclusions are backed up with statistical evidence."
   ]
  },
  {
   "cell_type": "markdown",
   "id": "requested-paintball",
   "metadata": {},
   "source": []
  }
 ],
 "metadata": {
  "kernelspec": {
   "display_name": "Python 3",
   "language": "python",
   "name": "python3"
  },
  "language_info": {
   "codemirror_mode": {
    "name": "ipython",
    "version": 3
   },
   "file_extension": ".py",
   "mimetype": "text/x-python",
   "name": "python",
   "nbconvert_exporter": "python",
   "pygments_lexer": "ipython3",
   "version": "3.9.2"
  },
  "toc": {
   "base_numbering": 1,
   "nav_menu": {},
   "number_sections": true,
   "sideBar": true,
   "skip_h1_title": false,
   "title_cell": "Table of Contents",
   "title_sidebar": "Contents",
   "toc_cell": false,
   "toc_position": {},
   "toc_section_display": true,
   "toc_window_display": false
  }
 },
 "nbformat": 4,
 "nbformat_minor": 5
}
